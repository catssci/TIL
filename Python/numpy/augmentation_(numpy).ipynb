{
  "nbformat": 4,
  "nbformat_minor": 0,
  "metadata": {
    "colab": {
      "name": "augmentation (Numpy).ipynb",
      "provenance": [],
      "authorship_tag": "ABX9TyM+EofBcwsASy8AREqa+iSg",
      "include_colab_link": true
    },
    "kernelspec": {
      "name": "python3",
      "display_name": "Python 3"
    },
    "language_info": {
      "name": "python"
    }
  },
  "cells": [
    {
      "cell_type": "markdown",
      "metadata": {
        "id": "view-in-github",
        "colab_type": "text"
      },
      "source": [
        "<a href=\"https://colab.research.google.com/github/catssci/TIL/blob/main/Python/numpy/augmentation_(numpy).ipynb\" target=\"_parent\"><img src=\"https://colab.research.google.com/assets/colab-badge.svg\" alt=\"Open In Colab\"/></a>"
      ]
    },
    {
      "cell_type": "code",
      "execution_count": 1,
      "metadata": {
        "id": "i7lSzXSO1Tsp"
      },
      "outputs": [],
      "source": [
        "import numpy as np"
      ]
    },
    {
      "cell_type": "code",
      "source": [
        "array = np.arange(30)\n",
        "array = array.reshape(5, -1)"
      ],
      "metadata": {
        "id": "u_SnQ4Y_1Y2M"
      },
      "execution_count": 9,
      "outputs": []
    },
    {
      "cell_type": "code",
      "source": [
        "print(\"------ 원본 data -----\")\n",
        "print(array)"
      ],
      "metadata": {
        "colab": {
          "base_uri": "https://localhost:8080/"
        },
        "id": "JmKFuuWX1d0A",
        "outputId": "11ddd6c7-18bb-4ba8-a1e1-d7583c20394f"
      },
      "execution_count": 12,
      "outputs": [
        {
          "output_type": "stream",
          "name": "stdout",
          "text": [
            "------ 원본 data -----\n",
            "[[ 0  1  2  3  4  5]\n",
            " [ 6  7  8  9 10 11]\n",
            " [12 13 14 15 16 17]\n",
            " [18 19 20 21 22 23]\n",
            " [24 25 26 27 28 29]]\n"
          ]
        }
      ]
    },
    {
      "cell_type": "markdown",
      "source": [
        "## 01. numpy.rot90"
      ],
      "metadata": {
        "id": "uyhrVGrw1syS"
      }
    },
    {
      "cell_type": "code",
      "source": [
        "array90 = np.rot90(array, 1)\n",
        "array180 = np.rot90(array, 2)\n",
        "array270 = np.rot90(array, 3)"
      ],
      "metadata": {
        "id": "nY-lozH72D-h"
      },
      "execution_count": 15,
      "outputs": []
    },
    {
      "cell_type": "code",
      "source": [
        "print(\"왼쪽으로 90도 회전\")\n",
        "print(array90)"
      ],
      "metadata": {
        "colab": {
          "base_uri": "https://localhost:8080/"
        },
        "id": "215vcTBG2MxI",
        "outputId": "cf7fde25-2e07-4731-e831-12668e26f641"
      },
      "execution_count": 14,
      "outputs": [
        {
          "output_type": "stream",
          "name": "stdout",
          "text": [
            "[[ 5 11 17 23 29]\n",
            " [ 4 10 16 22 28]\n",
            " [ 3  9 15 21 27]\n",
            " [ 2  8 14 20 26]\n",
            " [ 1  7 13 19 25]\n",
            " [ 0  6 12 18 24]]\n"
          ]
        }
      ]
    },
    {
      "cell_type": "code",
      "source": [
        "print(\"왼쪽으로 180도 회전\")\n",
        "print(array180)"
      ],
      "metadata": {
        "colab": {
          "base_uri": "https://localhost:8080/"
        },
        "id": "Md8nMtVY2N5W",
        "outputId": "0c34ac46-7650-4304-8338-b048caad1280"
      },
      "execution_count": 16,
      "outputs": [
        {
          "output_type": "stream",
          "name": "stdout",
          "text": [
            "왼쪽으로 180도 회전\n",
            "[[29 28 27 26 25 24]\n",
            " [23 22 21 20 19 18]\n",
            " [17 16 15 14 13 12]\n",
            " [11 10  9  8  7  6]\n",
            " [ 5  4  3  2  1  0]]\n"
          ]
        }
      ]
    },
    {
      "cell_type": "code",
      "source": [
        "print(\"왼쪽으로 270도 회전\")\n",
        "print(array270)"
      ],
      "metadata": {
        "colab": {
          "base_uri": "https://localhost:8080/"
        },
        "id": "mbmD8k_l2bNn",
        "outputId": "915e8379-4999-44ae-e665-c2268e6b345f"
      },
      "execution_count": 18,
      "outputs": [
        {
          "output_type": "stream",
          "name": "stdout",
          "text": [
            "왼쪽으로 270도 회전\n",
            "[[24 18 12  6  0]\n",
            " [25 19 13  7  1]\n",
            " [26 20 14  8  2]\n",
            " [27 21 15  9  3]\n",
            " [28 22 16 10  4]\n",
            " [29 23 17 11  5]]\n"
          ]
        }
      ]
    },
    {
      "cell_type": "markdown",
      "source": [
        "## 02. numpy.roll"
      ],
      "metadata": {
        "id": "Se71BE752ck3"
      }
    },
    {
      "cell_type": "code",
      "source": [
        "array_shift_right = np.roll(array, 1, axis=1)\n",
        "array_shift_left = np.roll(array, -1, axis=1)\n",
        "\n",
        "array_shift_up = np.roll(array, -1, axis=0)\n",
        "array_shift_down = np.roll(array, 1, axis=0)\n",
        "\n",
        "array_shift = np.roll(array, 1)\n",
        "\n",
        "array_shift_right_and_down = np.roll(array, (2, 1), axis=(1, 0))"
      ],
      "metadata": {
        "id": "dofb7U012lXq"
      },
      "execution_count": 39,
      "outputs": []
    },
    {
      "cell_type": "code",
      "source": [
        "print(\"우측으로 1 만큼 shift\")\n",
        "print(array_shift_right)"
      ],
      "metadata": {
        "colab": {
          "base_uri": "https://localhost:8080/"
        },
        "id": "HZlApEMr2wse",
        "outputId": "19916f0c-8c32-4684-eabd-f9da25f4f04b"
      },
      "execution_count": 29,
      "outputs": [
        {
          "output_type": "stream",
          "name": "stdout",
          "text": [
            "우측으로 1 만큼 shift\n",
            "[[ 5  0  1  2  3  4]\n",
            " [11  6  7  8  9 10]\n",
            " [17 12 13 14 15 16]\n",
            " [23 18 19 20 21 22]\n",
            " [29 24 25 26 27 28]]\n"
          ]
        }
      ]
    },
    {
      "cell_type": "code",
      "source": [
        "print(\"좌측으로 1 만큼 shift\")\n",
        "print(array_shift_left)"
      ],
      "metadata": {
        "colab": {
          "base_uri": "https://localhost:8080/"
        },
        "id": "YcLkxKHj2yTu",
        "outputId": "2feb1eae-fb34-4c11-df4e-8972d6ea8d5c"
      },
      "execution_count": 30,
      "outputs": [
        {
          "output_type": "stream",
          "name": "stdout",
          "text": [
            "좌측으로 1 만큼 shift\n",
            "[[ 1  2  3  4  5  0]\n",
            " [ 7  8  9 10 11  6]\n",
            " [13 14 15 16 17 12]\n",
            " [19 20 21 22 23 18]\n",
            " [25 26 27 28 29 24]]\n"
          ]
        }
      ]
    },
    {
      "cell_type": "code",
      "source": [
        "print(\"위로 1 만큼 shift\")\n",
        "print(array_shift_up)"
      ],
      "metadata": {
        "colab": {
          "base_uri": "https://localhost:8080/"
        },
        "id": "Qq7xQKIn3Baw",
        "outputId": "0aaca544-3b3a-462f-f713-cc10c17653c7"
      },
      "execution_count": 31,
      "outputs": [
        {
          "output_type": "stream",
          "name": "stdout",
          "text": [
            "위로 1 만큼 shift\n",
            "[[ 6  7  8  9 10 11]\n",
            " [12 13 14 15 16 17]\n",
            " [18 19 20 21 22 23]\n",
            " [24 25 26 27 28 29]\n",
            " [ 0  1  2  3  4  5]]\n"
          ]
        }
      ]
    },
    {
      "cell_type": "code",
      "source": [
        "print(\"아래로 1 만큼 shift\")\n",
        "print(array_shift_down)"
      ],
      "metadata": {
        "colab": {
          "base_uri": "https://localhost:8080/"
        },
        "id": "Ja8e1fbx3Kbs",
        "outputId": "46d8da3d-479a-4303-ad29-ae779287c5b7"
      },
      "execution_count": 32,
      "outputs": [
        {
          "output_type": "stream",
          "name": "stdout",
          "text": [
            "아래로 1 만큼 shift\n",
            "[[24 25 26 27 28 29]\n",
            " [ 0  1  2  3  4  5]\n",
            " [ 6  7  8  9 10 11]\n",
            " [12 13 14 15 16 17]\n",
            " [18 19 20 21 22 23]]\n"
          ]
        }
      ]
    },
    {
      "cell_type": "code",
      "source": [
        "print(\"원소 단위로 shift\")\n",
        "print(array_shift)"
      ],
      "metadata": {
        "colab": {
          "base_uri": "https://localhost:8080/"
        },
        "id": "CIcq5m_Q3SaQ",
        "outputId": "da4762e2-633d-425f-f9de-9d4603724866"
      },
      "execution_count": 37,
      "outputs": [
        {
          "output_type": "stream",
          "name": "stdout",
          "text": [
            "원소 단위로 shift\n",
            "[[29  0  1  2  3  4]\n",
            " [ 5  6  7  8  9 10]\n",
            " [11 12 13 14 15 16]\n",
            " [17 18 19 20 21 22]\n",
            " [23 24 25 26 27 28]]\n"
          ]
        }
      ]
    },
    {
      "cell_type": "code",
      "source": [
        "print(\"우측으로 2 shift, 아래로 1 shift\")\n",
        "print(array_shift_right_and_down)"
      ],
      "metadata": {
        "colab": {
          "base_uri": "https://localhost:8080/"
        },
        "id": "M0FzgZx63fzS",
        "outputId": "4e890e1a-ca27-47d0-fa9f-c56c4a18555f"
      },
      "execution_count": 40,
      "outputs": [
        {
          "output_type": "stream",
          "name": "stdout",
          "text": [
            "우측으로 2 shift, 아래로 1 shift\n",
            "[[28 29 24 25 26 27]\n",
            " [ 4  5  0  1  2  3]\n",
            " [10 11  6  7  8  9]\n",
            " [16 17 12 13 14 15]\n",
            " [22 23 18 19 20 21]]\n"
          ]
        }
      ]
    },
    {
      "cell_type": "markdown",
      "source": [
        "## 03. numpy.flip"
      ],
      "metadata": {
        "id": "JzBq3J8m3yvQ"
      }
    },
    {
      "cell_type": "code",
      "source": [
        "array_vertically = np.flip(array, 0)\n",
        "array_horizontally = np.flip(array, 1)\n",
        "\n",
        "array_vertic_horizon = np.flip(array, (0, 1))"
      ],
      "metadata": {
        "id": "xlNcCZ0G4sV8"
      },
      "execution_count": 56,
      "outputs": []
    },
    {
      "cell_type": "code",
      "source": [
        "print(\"vertical flip\")\n",
        "print(array_vertically)\n",
        "print(\"\\n\\n = numpy.flipud\")\n",
        "print(np.flipud(array))"
      ],
      "metadata": {
        "colab": {
          "base_uri": "https://localhost:8080/"
        },
        "id": "7N1-xPX44b7_",
        "outputId": "0969d0ed-cb86-427e-996c-ade894189b47"
      },
      "execution_count": 50,
      "outputs": [
        {
          "output_type": "stream",
          "name": "stdout",
          "text": [
            "vertical flip\n",
            "[[24 25 26 27 28 29]\n",
            " [18 19 20 21 22 23]\n",
            " [12 13 14 15 16 17]\n",
            " [ 6  7  8  9 10 11]\n",
            " [ 0  1  2  3  4  5]]\n",
            "\n",
            "\n",
            " = numpy.flipud\n",
            "[[24 25 26 27 28 29]\n",
            " [18 19 20 21 22 23]\n",
            " [12 13 14 15 16 17]\n",
            " [ 6  7  8  9 10 11]\n",
            " [ 0  1  2  3  4  5]]\n"
          ]
        }
      ]
    },
    {
      "cell_type": "code",
      "source": [
        "print(\"horizontally flip\")\n",
        "print(array_horizontally)\n",
        "print(\"\\n\\n = numpy.fliplr\")\n",
        "print(np.fliplr(array))"
      ],
      "metadata": {
        "colab": {
          "base_uri": "https://localhost:8080/"
        },
        "id": "9CWa-wBF4eB-",
        "outputId": "b0e8ac9e-7125-4c55-c8bf-6af623681034"
      },
      "execution_count": 51,
      "outputs": [
        {
          "output_type": "stream",
          "name": "stdout",
          "text": [
            "horizontally flip\n",
            "[[ 5  4  3  2  1  0]\n",
            " [11 10  9  8  7  6]\n",
            " [17 16 15 14 13 12]\n",
            " [23 22 21 20 19 18]\n",
            " [29 28 27 26 25 24]]\n",
            "\n",
            "\n",
            " = numpy.fliplr\n",
            "[[ 5  4  3  2  1  0]\n",
            " [11 10  9  8  7  6]\n",
            " [17 16 15 14 13 12]\n",
            " [23 22 21 20 19 18]\n",
            " [29 28 27 26 25 24]]\n"
          ]
        }
      ]
    },
    {
      "cell_type": "code",
      "source": [
        "print(\"vertically and horizontally flip\")\n",
        "print(array_vertic_horizon)"
      ],
      "metadata": {
        "colab": {
          "base_uri": "https://localhost:8080/"
        },
        "id": "qc317FcS6H5j",
        "outputId": "51f70878-b74a-431b-f75a-8118bb3aee4b"
      },
      "execution_count": 57,
      "outputs": [
        {
          "output_type": "stream",
          "name": "stdout",
          "text": [
            "vertically and horizontally flip\n",
            "[[29 28 27 26 25 24]\n",
            " [23 22 21 20 19 18]\n",
            " [17 16 15 14 13 12]\n",
            " [11 10  9  8  7  6]\n",
            " [ 5  4  3  2  1  0]]\n"
          ]
        }
      ]
    },
    {
      "cell_type": "markdown",
      "source": [
        "## Summay"
      ],
      "metadata": {
        "id": "eDm5bMtt6UPc"
      }
    },
    {
      "cell_type": "markdown",
      "source": [
        "- roll, flip은 numpy array의 shape를 변화하지 않는다.\n",
        "- rot90은 numpy array의 shape를 변화 가능"
      ],
      "metadata": {
        "id": "NUR62UBn6eWX"
      }
    },
    {
      "cell_type": "code",
      "source": [
        "array.T"
      ],
      "metadata": {
        "colab": {
          "base_uri": "https://localhost:8080/"
        },
        "id": "ufOjiDqz7O5Y",
        "outputId": "1dbca314-497e-40db-a915-df6d480b7893"
      },
      "execution_count": 59,
      "outputs": [
        {
          "output_type": "execute_result",
          "data": {
            "text/plain": [
              "array([[ 0,  6, 12, 18, 24],\n",
              "       [ 1,  7, 13, 19, 25],\n",
              "       [ 2,  8, 14, 20, 26],\n",
              "       [ 3,  9, 15, 21, 27],\n",
              "       [ 4, 10, 16, 22, 28],\n",
              "       [ 5, 11, 17, 23, 29]])"
            ]
          },
          "metadata": {},
          "execution_count": 59
        }
      ]
    },
    {
      "cell_type": "code",
      "source": [
        "print(array.shape)\n",
        "print(array.T.shape)"
      ],
      "metadata": {
        "colab": {
          "base_uri": "https://localhost:8080/"
        },
        "id": "BruzTor_7QKY",
        "outputId": "7be98268-1fd4-4d16-8143-c0adc2f883c3"
      },
      "execution_count": 60,
      "outputs": [
        {
          "output_type": "stream",
          "name": "stdout",
          "text": [
            "(5, 6)\n",
            "(6, 5)\n"
          ]
        }
      ]
    }
  ]
}