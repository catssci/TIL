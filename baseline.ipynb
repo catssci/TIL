{
 "cells": [
  {
   "cell_type": "markdown",
   "id": "969c597f",
   "metadata": {
    "papermill": {
     "duration": 0.026147,
     "end_time": "2022-02-07T14:35:12.593761",
     "exception": false,
     "start_time": "2022-02-07T14:35:12.567614",
     "status": "completed"
    },
    "tags": []
   },
   "source": [
    "Reference: https://www.kaggle.com/utcarshagrawal/ubiquant-exploration-baseline-w-shap/notebook"
   ]
  },
  {
   "cell_type": "code",
   "execution_count": 1,
   "id": "533f622c",
   "metadata": {
    "execution": {
     "iopub.execute_input": "2022-02-07T14:35:12.654230Z",
     "iopub.status.busy": "2022-02-07T14:35:12.648897Z",
     "iopub.status.idle": "2022-02-07T14:35:24.723401Z",
     "shell.execute_reply": "2022-02-07T14:35:24.722681Z",
     "shell.execute_reply.started": "2022-02-07T13:16:50.494091Z"
    },
    "papermill": {
     "duration": 12.102894,
     "end_time": "2022-02-07T14:35:24.723597",
     "exception": false,
     "start_time": "2022-02-07T14:35:12.620703",
     "status": "completed"
    },
    "tags": []
   },
   "outputs": [
    {
     "name": "stdout",
     "output_type": "stream",
     "text": [
      "\u001b[33mWARNING: Running pip as the 'root' user can result in broken permissions and conflicting behaviour with the system package manager. It is recommended to use a virtual environment instead: https://pip.pypa.io/warnings/venv\u001b[0m\r\n"
     ]
    }
   ],
   "source": [
    "# matplotlib cyberpunk style\n",
    "\n",
    "!pip -q --disable-pip-version-check install mplcyberpunk"
   ]
  },
  {
   "cell_type": "markdown",
   "id": "96187cd8",
   "metadata": {
    "papermill": {
     "duration": 0.027108,
     "end_time": "2022-02-07T14:35:24.776479",
     "exception": false,
     "start_time": "2022-02-07T14:35:24.749371",
     "status": "completed"
    },
    "tags": []
   },
   "source": [
    "# Importing Libraries"
   ]
  },
  {
   "cell_type": "code",
   "execution_count": 2,
   "id": "0544da11",
   "metadata": {
    "execution": {
     "iopub.execute_input": "2022-02-07T14:35:24.837104Z",
     "iopub.status.busy": "2022-02-07T14:35:24.836039Z",
     "iopub.status.idle": "2022-02-07T14:35:26.521909Z",
     "shell.execute_reply": "2022-02-07T14:35:26.521288Z",
     "shell.execute_reply.started": "2022-02-07T13:19:35.015254Z"
    },
    "papermill": {
     "duration": 1.72045,
     "end_time": "2022-02-07T14:35:26.522062",
     "exception": false,
     "start_time": "2022-02-07T14:35:24.801612",
     "status": "completed"
    },
    "tags": []
   },
   "outputs": [],
   "source": [
    "import os\n",
    "import gc\n",
    "import numpy as np\n",
    "import pandas as pd\n",
    "\n",
    "# 그래프 그리기\n",
    "import matplotlib.pyplot as plt\n",
    "%matplotlib inline\n",
    "import seaborn as sns\n",
    "import mplcyberpunk\n",
    "plt.style.use('cyberpunk')\n",
    "\n",
    "import warnings\n",
    "warnings.filterwarnings('ignore')"
   ]
  },
  {
   "cell_type": "markdown",
   "id": "dc19fc57",
   "metadata": {
    "papermill": {
     "duration": 0.025364,
     "end_time": "2022-02-07T14:35:26.573509",
     "exception": false,
     "start_time": "2022-02-07T14:35:26.548145",
     "status": "completed"
    },
    "tags": []
   },
   "source": [
    "# Reading the data"
   ]
  },
  {
   "cell_type": "code",
   "execution_count": 3,
   "id": "276352b9",
   "metadata": {
    "execution": {
     "iopub.execute_input": "2022-02-07T14:35:26.630889Z",
     "iopub.status.busy": "2022-02-07T14:35:26.629873Z",
     "iopub.status.idle": "2022-02-07T14:36:08.811308Z",
     "shell.execute_reply": "2022-02-07T14:36:08.812035Z",
     "shell.execute_reply.started": "2022-02-07T13:20:59.155489Z"
    },
    "papermill": {
     "duration": 42.214039,
     "end_time": "2022-02-07T14:36:08.812421",
     "exception": false,
     "start_time": "2022-02-07T14:35:26.598382",
     "status": "completed"
    },
    "tags": []
   },
   "outputs": [
    {
     "name": "stdout",
     "output_type": "stream",
     "text": [
      "CPU times: user 12.4 s, sys: 23.6 s, total: 36 s\n",
      "Wall time: 42.1 s\n"
     ]
    }
   ],
   "source": [
    "%%time\n",
    "df = pd.read_parquet('../input/ubiquant-parquet/train_low_mem.parquet')"
   ]
  },
  {
   "cell_type": "markdown",
   "id": "ff545a6a",
   "metadata": {
    "papermill": {
     "duration": 0.024909,
     "end_time": "2022-02-07T14:36:08.862815",
     "exception": false,
     "start_time": "2022-02-07T14:36:08.837906",
     "status": "completed"
    },
    "tags": []
   },
   "source": [
    "### parquet vs csv\n",
    "- parquet이란?\n",
    ">하둡에서 컬럼방식으로 저장한 포맷\n",
    "- 장점\n",
    "> 저장 크기가 작다.  \n",
    "> 저장, 로드 시간 작다.  \n",
    "> 칼럼별 dtype을 다시 지정해줄 필요 X  \n",
    "- parquet >> csv\n",
    "- Q.그럼 pickle과는??"
   ]
  },
  {
   "cell_type": "code",
   "execution_count": 4,
   "id": "f8192f5a",
   "metadata": {
    "execution": {
     "iopub.execute_input": "2022-02-07T14:36:08.923093Z",
     "iopub.status.busy": "2022-02-07T14:36:08.922299Z",
     "iopub.status.idle": "2022-02-07T14:36:08.969522Z",
     "shell.execute_reply": "2022-02-07T14:36:08.970055Z",
     "shell.execute_reply.started": "2022-02-07T13:31:54.824354Z"
    },
    "papermill": {
     "duration": 0.077496,
     "end_time": "2022-02-07T14:36:08.970228",
     "exception": false,
     "start_time": "2022-02-07T14:36:08.892732",
     "status": "completed"
    },
    "tags": []
   },
   "outputs": [
    {
     "data": {
      "text/html": [
       "<div>\n",
       "<style scoped>\n",
       "    .dataframe tbody tr th:only-of-type {\n",
       "        vertical-align: middle;\n",
       "    }\n",
       "\n",
       "    .dataframe tbody tr th {\n",
       "        vertical-align: top;\n",
       "    }\n",
       "\n",
       "    .dataframe thead th {\n",
       "        text-align: right;\n",
       "    }\n",
       "</style>\n",
       "<table border=\"1\" class=\"dataframe\">\n",
       "  <thead>\n",
       "    <tr style=\"text-align: right;\">\n",
       "      <th></th>\n",
       "      <th>row_id</th>\n",
       "      <th>time_id</th>\n",
       "      <th>investment_id</th>\n",
       "      <th>target</th>\n",
       "      <th>f_0</th>\n",
       "      <th>f_1</th>\n",
       "      <th>f_2</th>\n",
       "      <th>f_3</th>\n",
       "      <th>f_4</th>\n",
       "      <th>f_5</th>\n",
       "      <th>...</th>\n",
       "      <th>f_290</th>\n",
       "      <th>f_291</th>\n",
       "      <th>f_292</th>\n",
       "      <th>f_293</th>\n",
       "      <th>f_294</th>\n",
       "      <th>f_295</th>\n",
       "      <th>f_296</th>\n",
       "      <th>f_297</th>\n",
       "      <th>f_298</th>\n",
       "      <th>f_299</th>\n",
       "    </tr>\n",
       "  </thead>\n",
       "  <tbody>\n",
       "    <tr>\n",
       "      <th>0</th>\n",
       "      <td>0_1</td>\n",
       "      <td>0</td>\n",
       "      <td>1</td>\n",
       "      <td>-0.300875</td>\n",
       "      <td>0.932573</td>\n",
       "      <td>0.113691</td>\n",
       "      <td>-0.402206</td>\n",
       "      <td>0.378386</td>\n",
       "      <td>-0.203938</td>\n",
       "      <td>-0.413469</td>\n",
       "      <td>...</td>\n",
       "      <td>0.366028</td>\n",
       "      <td>-1.095620</td>\n",
       "      <td>0.200075</td>\n",
       "      <td>0.819155</td>\n",
       "      <td>0.941183</td>\n",
       "      <td>-0.086764</td>\n",
       "      <td>-1.087009</td>\n",
       "      <td>-1.044826</td>\n",
       "      <td>-0.287605</td>\n",
       "      <td>0.321566</td>\n",
       "    </tr>\n",
       "    <tr>\n",
       "      <th>1</th>\n",
       "      <td>0_2</td>\n",
       "      <td>0</td>\n",
       "      <td>2</td>\n",
       "      <td>-0.231040</td>\n",
       "      <td>0.810802</td>\n",
       "      <td>-0.514115</td>\n",
       "      <td>0.742368</td>\n",
       "      <td>-0.616673</td>\n",
       "      <td>-0.194255</td>\n",
       "      <td>1.771210</td>\n",
       "      <td>...</td>\n",
       "      <td>-0.154193</td>\n",
       "      <td>0.912726</td>\n",
       "      <td>-0.734579</td>\n",
       "      <td>0.819155</td>\n",
       "      <td>0.941183</td>\n",
       "      <td>-0.387617</td>\n",
       "      <td>-1.087009</td>\n",
       "      <td>-0.929529</td>\n",
       "      <td>-0.974060</td>\n",
       "      <td>-0.343624</td>\n",
       "    </tr>\n",
       "    <tr>\n",
       "      <th>2</th>\n",
       "      <td>0_6</td>\n",
       "      <td>0</td>\n",
       "      <td>6</td>\n",
       "      <td>0.568807</td>\n",
       "      <td>0.393974</td>\n",
       "      <td>0.615937</td>\n",
       "      <td>0.567806</td>\n",
       "      <td>-0.607963</td>\n",
       "      <td>0.068883</td>\n",
       "      <td>-1.083155</td>\n",
       "      <td>...</td>\n",
       "      <td>-0.138020</td>\n",
       "      <td>0.912726</td>\n",
       "      <td>-0.551904</td>\n",
       "      <td>-1.220772</td>\n",
       "      <td>-1.060166</td>\n",
       "      <td>-0.219097</td>\n",
       "      <td>-1.087009</td>\n",
       "      <td>-0.612428</td>\n",
       "      <td>-0.113944</td>\n",
       "      <td>0.243608</td>\n",
       "    </tr>\n",
       "    <tr>\n",
       "      <th>3</th>\n",
       "      <td>0_7</td>\n",
       "      <td>0</td>\n",
       "      <td>7</td>\n",
       "      <td>-1.064780</td>\n",
       "      <td>-2.343535</td>\n",
       "      <td>-0.011870</td>\n",
       "      <td>1.874606</td>\n",
       "      <td>-0.606346</td>\n",
       "      <td>-0.586827</td>\n",
       "      <td>-0.815737</td>\n",
       "      <td>...</td>\n",
       "      <td>0.382201</td>\n",
       "      <td>0.912726</td>\n",
       "      <td>-0.266359</td>\n",
       "      <td>-1.220772</td>\n",
       "      <td>0.941183</td>\n",
       "      <td>-0.609113</td>\n",
       "      <td>0.104928</td>\n",
       "      <td>-0.783423</td>\n",
       "      <td>1.151730</td>\n",
       "      <td>-0.773309</td>\n",
       "    </tr>\n",
       "    <tr>\n",
       "      <th>4</th>\n",
       "      <td>0_8</td>\n",
       "      <td>0</td>\n",
       "      <td>8</td>\n",
       "      <td>-0.531940</td>\n",
       "      <td>0.842057</td>\n",
       "      <td>-0.262993</td>\n",
       "      <td>2.330030</td>\n",
       "      <td>-0.583422</td>\n",
       "      <td>-0.618392</td>\n",
       "      <td>-0.742814</td>\n",
       "      <td>...</td>\n",
       "      <td>-0.170365</td>\n",
       "      <td>0.912726</td>\n",
       "      <td>-0.741355</td>\n",
       "      <td>-1.220772</td>\n",
       "      <td>0.941183</td>\n",
       "      <td>-0.588445</td>\n",
       "      <td>0.104928</td>\n",
       "      <td>0.753279</td>\n",
       "      <td>1.345611</td>\n",
       "      <td>-0.737624</td>\n",
       "    </tr>\n",
       "  </tbody>\n",
       "</table>\n",
       "<p>5 rows × 304 columns</p>\n",
       "</div>"
      ],
      "text/plain": [
       "  row_id  time_id  investment_id    target       f_0       f_1       f_2  \\\n",
       "0    0_1        0              1 -0.300875  0.932573  0.113691 -0.402206   \n",
       "1    0_2        0              2 -0.231040  0.810802 -0.514115  0.742368   \n",
       "2    0_6        0              6  0.568807  0.393974  0.615937  0.567806   \n",
       "3    0_7        0              7 -1.064780 -2.343535 -0.011870  1.874606   \n",
       "4    0_8        0              8 -0.531940  0.842057 -0.262993  2.330030   \n",
       "\n",
       "        f_3       f_4       f_5  ...     f_290     f_291     f_292     f_293  \\\n",
       "0  0.378386 -0.203938 -0.413469  ...  0.366028 -1.095620  0.200075  0.819155   \n",
       "1 -0.616673 -0.194255  1.771210  ... -0.154193  0.912726 -0.734579  0.819155   \n",
       "2 -0.607963  0.068883 -1.083155  ... -0.138020  0.912726 -0.551904 -1.220772   \n",
       "3 -0.606346 -0.586827 -0.815737  ...  0.382201  0.912726 -0.266359 -1.220772   \n",
       "4 -0.583422 -0.618392 -0.742814  ... -0.170365  0.912726 -0.741355 -1.220772   \n",
       "\n",
       "      f_294     f_295     f_296     f_297     f_298     f_299  \n",
       "0  0.941183 -0.086764 -1.087009 -1.044826 -0.287605  0.321566  \n",
       "1  0.941183 -0.387617 -1.087009 -0.929529 -0.974060 -0.343624  \n",
       "2 -1.060166 -0.219097 -1.087009 -0.612428 -0.113944  0.243608  \n",
       "3  0.941183 -0.609113  0.104928 -0.783423  1.151730 -0.773309  \n",
       "4  0.941183 -0.588445  0.104928  0.753279  1.345611 -0.737624  \n",
       "\n",
       "[5 rows x 304 columns]"
      ]
     },
     "execution_count": 4,
     "metadata": {},
     "output_type": "execute_result"
    }
   ],
   "source": [
    "df.head()"
   ]
  },
  {
   "cell_type": "code",
   "execution_count": 5,
   "id": "afea1225",
   "metadata": {
    "execution": {
     "iopub.execute_input": "2022-02-07T14:36:09.042814Z",
     "iopub.status.busy": "2022-02-07T14:36:09.042058Z",
     "iopub.status.idle": "2022-02-07T14:36:09.067106Z",
     "shell.execute_reply": "2022-02-07T14:36:09.066536Z",
     "shell.execute_reply.started": "2022-02-07T13:32:25.373456Z"
    },
    "papermill": {
     "duration": 0.070313,
     "end_time": "2022-02-07T14:36:09.067251",
     "exception": false,
     "start_time": "2022-02-07T14:36:08.996938",
     "status": "completed"
    },
    "tags": []
   },
   "outputs": [
    {
     "name": "stdout",
     "output_type": "stream",
     "text": [
      "<class 'pandas.core.frame.DataFrame'>\n",
      "RangeIndex: 3141410 entries, 0 to 3141409\n",
      "Columns: 304 entries, row_id to f_299\n",
      "dtypes: float32(301), object(1), uint16(2)\n",
      "memory usage: 3.6+ GB\n"
     ]
    }
   ],
   "source": [
    "df.info()"
   ]
  },
  {
   "cell_type": "markdown",
   "id": "552066b2",
   "metadata": {
    "papermill": {
     "duration": 0.026057,
     "end_time": "2022-02-07T14:36:09.121446",
     "exception": false,
     "start_time": "2022-02-07T14:36:09.095389",
     "status": "completed"
    },
    "tags": []
   },
   "source": [
    "# EDA"
   ]
  },
  {
   "cell_type": "markdown",
   "id": "3e2b1667",
   "metadata": {
    "papermill": {
     "duration": 0.026163,
     "end_time": "2022-02-07T14:36:09.173968",
     "exception": false,
     "start_time": "2022-02-07T14:36:09.147805",
     "status": "completed"
    },
    "tags": []
   },
   "source": [
    "### Investment_id Distribution\n",
    "> First of all we will look at the count of samples in each investment id"
   ]
  },
  {
   "cell_type": "code",
   "execution_count": 6,
   "id": "c66baea6",
   "metadata": {
    "execution": {
     "iopub.execute_input": "2022-02-07T14:36:09.237434Z",
     "iopub.status.busy": "2022-02-07T14:36:09.236067Z",
     "iopub.status.idle": "2022-02-07T14:36:10.221811Z",
     "shell.execute_reply": "2022-02-07T14:36:10.221230Z",
     "shell.execute_reply.started": "2022-02-07T13:58:28.753316Z"
    },
    "papermill": {
     "duration": 1.021125,
     "end_time": "2022-02-07T14:36:10.221961",
     "exception": false,
     "start_time": "2022-02-07T14:36:09.200836",
     "status": "completed"
    },
    "tags": []
   },
   "outputs": [
    {
     "name": "stdout",
     "output_type": "stream",
     "text": [
      "Number of unique investments - 3579\n",
      "Investment id with least number of sample - 1415, Count - 2\n",
      "Investment id with maximum number of sample - 2140, Count - 1211\n"
     ]
    },
    {
     "data": {
      "image/png": "[encoded data removed]",
      "text/plain": [
       "<Figure size 1296x504 with 1 Axes>"
      ]
     },
     "metadata": {},
     "output_type": "display_data"
    }
   ],
   "source": [
    "# 단순 investment 분포 정도를 그래프로 본다.\n",
    "\n",
    "plt.figure(figsize = (18, 7))\n",
    "\n",
    "# investment_id count df\n",
    "df_temp = df.groupby('investment_id')['row_id'].count().reset_index()\n",
    "sns.histplot(x = df_temp['investment_id'], bins = 50)\n",
    "plt.xlabel('Investment_id')\n",
    "plt.ylabel('Count')\n",
    "plt.title('Investment_id Distribution')\n",
    "\n",
    "least_id = int(df_temp[df_temp['row_id'] == df_temp['row_id'].describe()['min']]['investment_id'])\n",
    "max_id = int(df_temp[df_temp['row_id'] == df_temp['row_id'].describe()['max']]['investment_id'])\n",
    "\n",
    "print(f\"Number of unique investments - {len(df_temp)}\")\n",
    "print(f\"Investment id with least number of sample - {least_id}, Count - {int(df_temp['row_id'].describe()['min'])}\")\n",
    "print(f\"Investment id with maximum number of sample - {max_id}, Count - {int(df_temp['row_id'].describe()['max'])}\")\n",
    "\n",
    "plt.show()"
   ]
  },
  {
   "cell_type": "code",
   "execution_count": 7,
   "id": "fbafa807",
   "metadata": {
    "execution": {
     "iopub.execute_input": "2022-02-07T14:36:10.293246Z",
     "iopub.status.busy": "2022-02-07T14:36:10.292558Z",
     "iopub.status.idle": "2022-02-07T14:36:10.296513Z",
     "shell.execute_reply": "2022-02-07T14:36:10.295701Z",
     "shell.execute_reply.started": "2022-02-07T13:51:53.549995Z"
    },
    "papermill": {
     "duration": 0.041928,
     "end_time": "2022-02-07T14:36:10.296690",
     "exception": false,
     "start_time": "2022-02-07T14:36:10.254762",
     "status": "completed"
    },
    "tags": []
   },
   "outputs": [
    {
     "data": {
      "text/html": [
       "<div>\n",
       "<style scoped>\n",
       "    .dataframe tbody tr th:only-of-type {\n",
       "        vertical-align: middle;\n",
       "    }\n",
       "\n",
       "    .dataframe tbody tr th {\n",
       "        vertical-align: top;\n",
       "    }\n",
       "\n",
       "    .dataframe thead th {\n",
       "        text-align: right;\n",
       "    }\n",
       "</style>\n",
       "<table border=\"1\" class=\"dataframe\">\n",
       "  <thead>\n",
       "    <tr style=\"text-align: right;\">\n",
       "      <th></th>\n",
       "      <th>investment_id</th>\n",
       "      <th>row_id</th>\n",
       "    </tr>\n",
       "  </thead>\n",
       "  <tbody>\n",
       "    <tr>\n",
       "      <th>0</th>\n",
       "      <td>0</td>\n",
       "      <td>461</td>\n",
       "    </tr>\n",
       "    <tr>\n",
       "      <th>1</th>\n",
       "      <td>1</td>\n",
       "      <td>1108</td>\n",
       "    </tr>\n",
       "    <tr>\n",
       "      <th>2</th>\n",
       "      <td>2</td>\n",
       "      <td>1003</td>\n",
       "    </tr>\n",
       "    <tr>\n",
       "      <th>3</th>\n",
       "      <td>3</td>\n",
       "      <td>1076</td>\n",
       "    </tr>\n",
       "    <tr>\n",
       "      <th>4</th>\n",
       "      <td>4</td>\n",
       "      <td>316</td>\n",
       "    </tr>\n",
       "  </tbody>\n",
       "</table>\n",
       "</div>"
      ],
      "text/plain": [
       "   investment_id  row_id\n",
       "0              0     461\n",
       "1              1    1108\n",
       "2              2    1003\n",
       "3              3    1076\n",
       "4              4     316"
      ]
     },
     "execution_count": 7,
     "metadata": {},
     "output_type": "execute_result"
    }
   ],
   "source": [
    "df_temp.head()"
   ]
  },
  {
   "cell_type": "code",
   "execution_count": 8,
   "id": "48e754f3",
   "metadata": {
    "execution": {
     "iopub.execute_input": "2022-02-07T14:36:10.359127Z",
     "iopub.status.busy": "2022-02-07T14:36:10.358434Z",
     "iopub.status.idle": "2022-02-07T14:36:11.401553Z",
     "shell.execute_reply": "2022-02-07T14:36:11.402028Z",
     "shell.execute_reply.started": "2022-02-07T14:23:21.183992Z"
    },
    "papermill": {
     "duration": 1.076045,
     "end_time": "2022-02-07T14:36:11.402207",
     "exception": false,
     "start_time": "2022-02-07T14:36:10.326162",
     "status": "completed"
    },
    "tags": []
   },
   "outputs": [
    {
     "data": {
      "image/png": "[encoded data removed]",
      "text/plain": [
       "<Figure size 1296x504 with 1 Axes>"
      ]
     },
     "metadata": {},
     "output_type": "display_data"
    }
   ],
   "source": [
    "# investment id의 count 분포를 histogram으로 표현\n",
    "# 개별 count는 df_temp로 기록함\n",
    "# histogram으로 개별 count 경향 보다는 뭉쳐서 나타낸다.\n",
    "\n",
    "plt.figure(figsize = (18, 7))\n",
    "sns.histplot(x = df['investment_id'])\n",
    "plt.xlabel('Investment_id')\n",
    "plt.ylabel('Count')\n",
    "plt.title('Sample count of Investment_id Distribution')\n",
    "plt.show()"
   ]
  },
  {
   "cell_type": "markdown",
   "id": "937bcd19",
   "metadata": {
    "papermill": {
     "duration": 0.029656,
     "end_time": "2022-02-07T14:36:11.461067",
     "exception": false,
     "start_time": "2022-02-07T14:36:11.431411",
     "status": "completed"
    },
    "tags": []
   },
   "source": [
    "- print 에서 따옴표는 조심해야 한다. 작은 따옴표(') 대신 큰 따옴표(\") 사용을 습관화하자"
   ]
  },
  {
   "cell_type": "markdown",
   "id": "f062d1cc",
   "metadata": {
    "papermill": {
     "duration": 0.028787,
     "end_time": "2022-02-07T14:36:11.519883",
     "exception": false,
     "start_time": "2022-02-07T14:36:11.491096",
     "status": "completed"
    },
    "tags": []
   },
   "source": [
    "### Time_id Distribution\n",
    "> Now let us look at the count of samples in each time id"
   ]
  },
  {
   "cell_type": "code",
   "execution_count": 9,
   "id": "85f980a0",
   "metadata": {
    "execution": {
     "iopub.execute_input": "2022-02-07T14:36:11.582160Z",
     "iopub.status.busy": "2022-02-07T14:36:11.581474Z",
     "iopub.status.idle": "2022-02-07T14:36:11.913652Z",
     "shell.execute_reply": "2022-02-07T14:36:11.914183Z"
    },
    "papermill": {
     "duration": 0.364426,
     "end_time": "2022-02-07T14:36:11.914378",
     "exception": false,
     "start_time": "2022-02-07T14:36:11.549952",
     "status": "completed"
    },
    "tags": []
   },
   "outputs": [
    {
     "data": {
      "image/png": "[encoded data removed]",
      "text/plain": [
       "<Figure size 1224x720 with 2 Axes>"
      ]
     },
     "metadata": {},
     "output_type": "display_data"
    }
   ],
   "source": [
    "fig, ax = plt.subplots(2, 1, figsize = (17, 10))\n",
    "\n",
    "df_temp = df.iloc[:, 0:3]\n",
    "df_temp2 = df_temp"
   ]
  },
  {
   "cell_type": "code",
   "execution_count": null,
   "id": "d07547e9",
   "metadata": {
    "papermill": {
     "duration": 0.030304,
     "end_time": "2022-02-07T14:36:11.975643",
     "exception": false,
     "start_time": "2022-02-07T14:36:11.945339",
     "status": "completed"
    },
    "tags": []
   },
   "outputs": [],
   "source": []
  },
  {
   "cell_type": "code",
   "execution_count": null,
   "id": "ed187a3a",
   "metadata": {
    "papermill": {
     "duration": 0.033045,
     "end_time": "2022-02-07T14:36:12.039911",
     "exception": false,
     "start_time": "2022-02-07T14:36:12.006866",
     "status": "completed"
    },
    "tags": []
   },
   "outputs": [],
   "source": []
  },
  {
   "cell_type": "code",
   "execution_count": null,
   "id": "0e993818",
   "metadata": {
    "papermill": {
     "duration": 0.030388,
     "end_time": "2022-02-07T14:36:12.101564",
     "exception": false,
     "start_time": "2022-02-07T14:36:12.071176",
     "status": "completed"
    },
    "tags": []
   },
   "outputs": [],
   "source": []
  },
  {
   "cell_type": "code",
   "execution_count": null,
   "id": "f825d374",
   "metadata": {
    "papermill": {
     "duration": 0.029602,
     "end_time": "2022-02-07T14:36:12.161991",
     "exception": false,
     "start_time": "2022-02-07T14:36:12.132389",
     "status": "completed"
    },
    "tags": []
   },
   "outputs": [],
   "source": []
  },
  {
   "cell_type": "code",
   "execution_count": null,
   "id": "75a4b16f",
   "metadata": {
    "papermill": {
     "duration": 0.02997,
     "end_time": "2022-02-07T14:36:12.221898",
     "exception": false,
     "start_time": "2022-02-07T14:36:12.191928",
     "status": "completed"
    },
    "tags": []
   },
   "outputs": [],
   "source": []
  },
  {
   "cell_type": "code",
   "execution_count": null,
   "id": "3e646ff9",
   "metadata": {
    "papermill": {
     "duration": 0.030845,
     "end_time": "2022-02-07T14:36:12.282949",
     "exception": false,
     "start_time": "2022-02-07T14:36:12.252104",
     "status": "completed"
    },
    "tags": []
   },
   "outputs": [],
   "source": []
  },
  {
   "cell_type": "code",
   "execution_count": null,
   "id": "e570d21d",
   "metadata": {
    "papermill": {
     "duration": 0.030802,
     "end_time": "2022-02-07T14:36:12.344690",
     "exception": false,
     "start_time": "2022-02-07T14:36:12.313888",
     "status": "completed"
    },
    "tags": []
   },
   "outputs": [],
   "source": []
  },
  {
   "cell_type": "code",
   "execution_count": null,
   "id": "2bdd9cb5",
   "metadata": {
    "papermill": {
     "duration": 0.03027,
     "end_time": "2022-02-07T14:36:12.405967",
     "exception": false,
     "start_time": "2022-02-07T14:36:12.375697",
     "status": "completed"
    },
    "tags": []
   },
   "outputs": [],
   "source": []
  },
  {
   "cell_type": "code",
   "execution_count": null,
   "id": "8f51df77",
   "metadata": {
    "papermill": {
     "duration": 0.030376,
     "end_time": "2022-02-07T14:36:12.468096",
     "exception": false,
     "start_time": "2022-02-07T14:36:12.437720",
     "status": "completed"
    },
    "tags": []
   },
   "outputs": [],
   "source": []
  },
  {
   "cell_type": "code",
   "execution_count": null,
   "id": "59a5fae0",
   "metadata": {
    "papermill": {
     "duration": 0.030905,
     "end_time": "2022-02-07T14:36:12.530833",
     "exception": false,
     "start_time": "2022-02-07T14:36:12.499928",
     "status": "completed"
    },
    "tags": []
   },
   "outputs": [],
   "source": []
  },
  {
   "cell_type": "code",
   "execution_count": null,
   "id": "a3a34881",
   "metadata": {
    "papermill": {
     "duration": 0.029529,
     "end_time": "2022-02-07T14:36:12.590947",
     "exception": false,
     "start_time": "2022-02-07T14:36:12.561418",
     "status": "completed"
    },
    "tags": []
   },
   "outputs": [],
   "source": []
  },
  {
   "cell_type": "code",
   "execution_count": null,
   "id": "fcafe4da",
   "metadata": {
    "papermill": {
     "duration": 0.031337,
     "end_time": "2022-02-07T14:36:12.652726",
     "exception": false,
     "start_time": "2022-02-07T14:36:12.621389",
     "status": "completed"
    },
    "tags": []
   },
   "outputs": [],
   "source": []
  },
  {
   "cell_type": "code",
   "execution_count": null,
   "id": "873b4e62",
   "metadata": {
    "papermill": {
     "duration": 0.030857,
     "end_time": "2022-02-07T14:36:12.713834",
     "exception": false,
     "start_time": "2022-02-07T14:36:12.682977",
     "status": "completed"
    },
    "tags": []
   },
   "outputs": [],
   "source": []
  },
  {
   "cell_type": "code",
   "execution_count": null,
   "id": "8c6dc0ba",
   "metadata": {
    "papermill": {
     "duration": 0.030892,
     "end_time": "2022-02-07T14:36:12.774888",
     "exception": false,
     "start_time": "2022-02-07T14:36:12.743996",
     "status": "completed"
    },
    "tags": []
   },
   "outputs": [],
   "source": []
  },
  {
   "cell_type": "code",
   "execution_count": null,
   "id": "521ee6d8",
   "metadata": {
    "papermill": {
     "duration": 0.030636,
     "end_time": "2022-02-07T14:36:12.836350",
     "exception": false,
     "start_time": "2022-02-07T14:36:12.805714",
     "status": "completed"
    },
    "tags": []
   },
   "outputs": [],
   "source": []
  },
  {
   "cell_type": "code",
   "execution_count": null,
   "id": "4aa4f050",
   "metadata": {
    "papermill": {
     "duration": 0.030221,
     "end_time": "2022-02-07T14:36:12.897797",
     "exception": false,
     "start_time": "2022-02-07T14:36:12.867576",
     "status": "completed"
    },
    "tags": []
   },
   "outputs": [],
   "source": []
  },
  {
   "cell_type": "code",
   "execution_count": null,
   "id": "f5e959e9",
   "metadata": {
    "papermill": {
     "duration": 0.030184,
     "end_time": "2022-02-07T14:36:12.959478",
     "exception": false,
     "start_time": "2022-02-07T14:36:12.929294",
     "status": "completed"
    },
    "tags": []
   },
   "outputs": [],
   "source": []
  },
  {
   "cell_type": "code",
   "execution_count": null,
   "id": "c0730ceb",
   "metadata": {
    "papermill": {
     "duration": 0.029794,
     "end_time": "2022-02-07T14:36:13.019239",
     "exception": false,
     "start_time": "2022-02-07T14:36:12.989445",
     "status": "completed"
    },
    "tags": []
   },
   "outputs": [],
   "source": []
  },
  {
   "cell_type": "code",
   "execution_count": null,
   "id": "f0afacbf",
   "metadata": {
    "papermill": {
     "duration": 0.029593,
     "end_time": "2022-02-07T14:36:13.079006",
     "exception": false,
     "start_time": "2022-02-07T14:36:13.049413",
     "status": "completed"
    },
    "tags": []
   },
   "outputs": [],
   "source": []
  },
  {
   "cell_type": "code",
   "execution_count": null,
   "id": "5cfda73b",
   "metadata": {
    "papermill": {
     "duration": 0.030276,
     "end_time": "2022-02-07T14:36:13.139212",
     "exception": false,
     "start_time": "2022-02-07T14:36:13.108936",
     "status": "completed"
    },
    "tags": []
   },
   "outputs": [],
   "source": []
  },
  {
   "cell_type": "code",
   "execution_count": null,
   "id": "53ab00fb",
   "metadata": {
    "papermill": {
     "duration": 0.031259,
     "end_time": "2022-02-07T14:36:13.200492",
     "exception": false,
     "start_time": "2022-02-07T14:36:13.169233",
     "status": "completed"
    },
    "tags": []
   },
   "outputs": [],
   "source": []
  }
 ],
 "metadata": {
  "kernelspec": {
   "display_name": "Python 3",
   "language": "python",
   "name": "python3"
  },
  "language_info": {
   "codemirror_mode": {
    "name": "ipython",
    "version": 3
   },
   "file_extension": ".py",
   "mimetype": "text/x-python",
   "name": "python",
   "nbconvert_exporter": "python",
   "pygments_lexer": "ipython3",
   "version": "3.7.12"
  },
  "papermill": {
   "default_parameters": {},
   "duration": 73.531728,
   "end_time": "2022-02-07T14:36:14.646718",
   "environment_variables": {},
   "exception": null,
   "input_path": "__notebook__.ipynb",
   "output_path": "__notebook__.ipynb",
   "parameters": {},
   "start_time": "2022-02-07T14:35:01.114990",
   "version": "2.3.3"
  }
 },
 "nbformat": 4,
 "nbformat_minor": 5
}
