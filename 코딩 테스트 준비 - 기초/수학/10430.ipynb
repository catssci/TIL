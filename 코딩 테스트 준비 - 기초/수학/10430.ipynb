{
  "nbformat": 4,
  "nbformat_minor": 0,
  "metadata": {
    "colab": {
      "name": "10430.ipynb",
      "provenance": [],
      "authorship_tag": "ABX9TyPfdhs399yE1g04S6cLPajW",
      "include_colab_link": true
    },
    "kernelspec": {
      "name": "python3",
      "display_name": "Python 3"
    },
    "language_info": {
      "name": "python"
    }
  },
  "cells": [
    {
      "cell_type": "markdown",
      "metadata": {
        "id": "view-in-github",
        "colab_type": "text"
      },
      "source": [
        "<a href=\"https://colab.research.google.com/github/catssci/TIL/blob/main/%EC%BD%94%EB%94%A9%20%ED%85%8C%EC%8A%A4%ED%8A%B8%20%EC%A4%80%EB%B9%84%20-%20%EA%B8%B0%EC%B4%88/%EC%88%98%ED%95%99/10430.ipynb\" target=\"_parent\"><img src=\"https://colab.research.google.com/assets/colab-badge.svg\" alt=\"Open In Colab\"/></a>"
      ]
    },
    {
      "cell_type": "code",
      "execution_count": 1,
      "metadata": {
        "colab": {
          "base_uri": "https://localhost:8080/"
        },
        "id": "V--Q6P24LC-K",
        "outputId": "4eeff718-0883-449d-dbb7-35614bfe1d5d"
      },
      "outputs": [
        {
          "output_type": "stream",
          "name": "stdout",
          "text": [
            "5 8 4\n",
            "1\n",
            "1\n",
            "0\n",
            "0\n"
          ]
        }
      ],
      "source": [
        "a, b, c = map(int, input().split())\n",
        "\n",
        "print((a + b) % c)\n",
        "print((a + b) % c)\n",
        "print((a * b) % c)\n",
        "print((a * b) % c)"
      ]
    }
  ]
}