{
  "nbformat": 4,
  "nbformat_minor": 0,
  "metadata": {
    "colab": {
      "name": "DP_Study.ipynb",
      "provenance": [],
      "authorship_tag": "ABX9TyPvhazLb+KyoYOwPs6U7PLj",
      "include_colab_link": true
    },
    "kernelspec": {
      "name": "python3",
      "display_name": "Python 3"
    },
    "language_info": {
      "name": "python"
    }
  },
  "cells": [
    {
      "cell_type": "markdown",
      "metadata": {
        "id": "view-in-github",
        "colab_type": "text"
      },
      "source": [
        "<a href=\"https://colab.research.google.com/github/catssci/TIL/blob/main/CodingTest/DP_Study.ipynb\" target=\"_parent\"><img src=\"https://colab.research.google.com/assets/colab-badge.svg\" alt=\"Open In Colab\"/></a>"
      ]
    },
    {
      "cell_type": "markdown",
      "source": [
        "## 31. 금광"
      ],
      "metadata": {
        "id": "svNSLM8W-bsT"
      }
    },
    {
      "cell_type": "code",
      "source": [
        "T = int(input())\n",
        "\n",
        "for _ in range(T):\n",
        "  n, m = map(int, input().split())\n",
        "  gold_list = list(map(int, input().split()))\n",
        "\n",
        "  gold = []\n",
        "  idx = 0\n",
        "  for i in range(n):\n",
        "    gold.append(gold_list[idx: idx + m])\n",
        "    idx += m\n",
        "\n",
        "  # if n == 1:\n",
        "\n",
        "\n",
        "\n",
        "  # 왼쪽부터 오른쪽으로 이동\n",
        "  for j in range(1, m):\n",
        "    for i in range(n):\n",
        "      # 맨 위쪽\n",
        "      if i == 0:\n",
        "        gold[i][j] = max(gold[i][j-1], gold[i+1][j - 1]) + gold[i][j]\n",
        "      # 맨 아래쪽\n",
        "      elif i == n-1:\n",
        "        gold[i][j] = max(gold[i - 1][j - 1], gold[i][j - 1]) + gold[i][j]\n",
        "      else:\n",
        "        gold[i][j] = max(gold[i - 1][j - 1], gold[i][j - 1], gold[i + 1][j - 1]) + gold[i][j]\n",
        "\n",
        "  M = 0\n",
        "  for i in range(n):\n",
        "    if M < gold[i][m - 1]:\n",
        "      M = gold[i][m - 1]\n",
        "  print(M)"
      ],
      "metadata": {
        "colab": {
          "base_uri": "https://localhost:8080/"
        },
        "id": "K_ihJZ5_-g09",
        "outputId": "2416882a-416d-4a97-f478-a14a02285112"
      },
      "execution_count": 1,
      "outputs": [
        {
          "output_type": "stream",
          "name": "stdout",
          "text": [
            "1\n",
            "3 4\n",
            "1 3 3 2 2 1 4 1 0 6 4 7\n",
            "19\n"
          ]
        }
      ]
    },
    {
      "cell_type": "code",
      "source": [
        "T = int(input())\n",
        "\n",
        "for _ in range(T):\n",
        "  n, m = map(int, input().split())\n",
        "  gold_list = list(map(int, input().split()))\n",
        "\n",
        "  gold = []\n",
        "  idx = 0\n",
        "  for i in range(n):\n",
        "    gold.append(gold_list[idx: idx + m])\n",
        "    idx += m\n",
        "\n",
        "  # n == 1인 경우 예외 처리 할 필요 없음\n",
        "  # 왼쪽부터 오른쪽으로 이동\n",
        "  for j in range(1, m):\n",
        "    for i in range(n):\n",
        "      # 위쪽에서 오는 경우\n",
        "      if i == 0:\n",
        "        left_up = 0\n",
        "      else:\n",
        "        left_up = gold[i - 1][j - 1]\n",
        "      \n",
        "      # 아래에서 오는 경우\n",
        "      if i == n - 1:\n",
        "        left_down = 0\n",
        "      else:\n",
        "        left_down = gold[i + 1][j - 1]\n",
        "      \n",
        "      # 왼쪽에서 오는 경우\n",
        "      left = gold[i][j - 1]\n",
        "      gold[i][j] = max(left_up, left, left_down) + gold[i][j]\n",
        "\n",
        "  ans = 0\n",
        "  for i in range(n):\n",
        "    ans = max(ans, gold[i][m - 1])\n",
        "\n",
        "  print(ans)"
      ],
      "metadata": {
        "colab": {
          "base_uri": "https://localhost:8080/"
        },
        "id": "JzqMQj4SBThp",
        "outputId": "0046d83a-0904-4863-ac12-58fc3613bd35"
      },
      "execution_count": 4,
      "outputs": [
        {
          "output_type": "stream",
          "name": "stdout",
          "text": [
            "1\n",
            "1 5\n",
            "1 3 3 2 2\n",
            "11\n"
          ]
        }
      ]
    },
    {
      "cell_type": "markdown",
      "source": [
        "## 32. 정수 삼각형"
      ],
      "metadata": {
        "id": "u0QxAAr3Bptj"
      }
    },
    {
      "cell_type": "code",
      "source": [
        "n = int(input())\n",
        "\n",
        "data = []\n",
        "for _ in range(n):\n",
        "  data.append(list(map(int, input().split())))\n",
        "\n",
        "for i in range(1, n):\n",
        "  for j in range(i+1):\n",
        "    if j == 0:\n",
        "      up_left = 0\n",
        "    else:\n",
        "      up_left = data[i-1][j-1]\n",
        "\n",
        "    if j == i:\n",
        "      up_right = 0\n",
        "    else:\n",
        "      up_right = data[i-1][j]\n",
        "    \n",
        "    data[i][j] = max(up_left, up_right) + data[i][j]\n",
        "\n",
        "print(max(data[n-1]))"
      ],
      "metadata": {
        "colab": {
          "base_uri": "https://localhost:8080/"
        },
        "id": "o8qqAn2yDgNs",
        "outputId": "8011b55c-079a-4b0c-8f6e-2b25a56aa999"
      },
      "execution_count": 14,
      "outputs": [
        {
          "output_type": "stream",
          "name": "stdout",
          "text": [
            "5\n",
            "7\n",
            "3 8\n",
            "8 1 0\n",
            "2 7 4 4\n",
            "4 5 2 6 5\n",
            "30\n"
          ]
        }
      ]
    },
    {
      "cell_type": "markdown",
      "source": [
        "## 33. 퇴사"
      ],
      "metadata": {
        "id": "Pm3KTJwIGQYi"
      }
    },
    {
      "cell_type": "code",
      "source": [
        "'''\n",
        "  dp[i] : i번째 날부터 마지막 날까지 낼 수 있는 최대 이익\n",
        "'''\n",
        "\n",
        "n = int(input())\n",
        "t = []             # 각 상담이 완료하는 데 걸리는 시간\n",
        "p = []             # 각 상담을 완료했을 대 받을 수 있는 금액\n",
        "dp = [0] * (n + 1) # 다이나믹 프로그래밍을 위한 1차원 dp table 초기화\n",
        "max_value = 0\n",
        "\n",
        "for _ in range(n):\n",
        "  x, y = list(map(int, input().split()))\n",
        "  t.append(x)\n",
        "  p.append(y)\n",
        "\n",
        "# 리스트를 뒤에서부터 거꾸로 확인\n",
        "for i in range(n - 1, -1, -1):\n",
        "  time = t[i] + i\n",
        "\n",
        "  # 상담이 기간 안에 끝나는 경우\n",
        "  if time <= n:\n",
        "    # 점화식에 맞게, 현재까지의 최고 이익 계산\n",
        "    dp[i] = max(p[i] + dp[time], max_value)\n",
        "    max_value = dp[i]\n",
        "  # 상담이 기간을 벗어나는 경우\n",
        "  else:\n",
        "    dp[i] = max_value\n",
        "\n",
        "print(max_value)"
      ],
      "metadata": {
        "colab": {
          "base_uri": "https://localhost:8080/"
        },
        "id": "EzVzt6sQGgp6",
        "outputId": "8af51c39-928a-4fcb-a15e-8dfd6c35c873"
      },
      "execution_count": 12,
      "outputs": [
        {
          "output_type": "stream",
          "name": "stdout",
          "text": [
            "7\n",
            "3 10\n",
            "5 20\n",
            "1 10\n",
            "1 20\n",
            "2 15\n",
            "4 40\n",
            "2 200\n",
            "45\n"
          ]
        }
      ]
    },
    {
      "cell_type": "markdown",
      "source": [
        "## 34. 병사 배치하기"
      ],
      "metadata": {
        "id": "xMgp4eSi3fGe"
      }
    },
    {
      "cell_type": "code",
      "source": [
        "\"\"\"\n",
        "  가장 긴 증가하는 부분 수열 문제\n",
        "  \"LIS : Longest Increasing Subsequence\"\n",
        "\"\"\"\n",
        "n = int(input())\n",
        "\n",
        "# 순서를 뒤집어 \"가장 긴 증가하는 부분 수열\" 문제로 변환\n",
        "data = list(map(int, input().split()))\n",
        "data.reverse()\n",
        "\n",
        "dp = [1] * n\n",
        "\n",
        "# LIS\n",
        "for i in range(1, n):\n",
        "  for j in range(0, i):\n",
        "    if data[j] < data[i]:\n",
        "      dp[i] = max(dp[i], dp[j] + 1)\n",
        "\n",
        "print(n - max(dp))"
      ],
      "metadata": {
        "colab": {
          "base_uri": "https://localhost:8080/"
        },
        "id": "8XyJgc-r3gnp",
        "outputId": "0234d4fd-9834-4a8e-d027-c1a5d0ec72bf"
      },
      "execution_count": 14,
      "outputs": [
        {
          "output_type": "stream",
          "name": "stdout",
          "text": [
            "7\n",
            "15 11 4 8 5 2 4\n",
            "2\n"
          ]
        }
      ]
    },
    {
      "cell_type": "markdown",
      "source": [
        "## 35. 못생긴 수"
      ],
      "metadata": {
        "id": "SSrgSJ4q4CPQ"
      }
    },
    {
      "cell_type": "code",
      "source": [
        "n = int(input())\n",
        "\n",
        "ugly = [0] * n\n",
        "ugly[0] = 1\n",
        "i2 = i3 = i5 = 0\n",
        "next2, next3, next5 = 2, 3, 5\n",
        "\n",
        "for l in range(1, n):\n",
        "  ugly[l] = min(next2, next3, next5)\n",
        "\n",
        "  if ugly[l] == next2:\n",
        "    i2 += 1\n",
        "    next2 = ugly[i2] * 2\n",
        "  if ugly[l] == next3:\n",
        "    i3 += 1\n",
        "    next3 = ugly[i3] * 3\n",
        "  if ugly[l] == next5:\n",
        "    i5 += 1\n",
        "    next5 = ugly[i5] * 5\n",
        "\n",
        "print(ugly[n - 1])"
      ],
      "metadata": {
        "colab": {
          "base_uri": "https://localhost:8080/"
        },
        "id": "LdWQBguH4Cq4",
        "outputId": "67c5f876-c2a7-4ac4-aaaa-bd51e3952064"
      },
      "execution_count": 17,
      "outputs": [
        {
          "output_type": "stream",
          "name": "stdout",
          "text": [
            "10\n",
            "12\n"
          ]
        }
      ]
    },
    {
      "cell_type": "markdown",
      "source": [
        "## 36. 편집 거리"
      ],
      "metadata": {
        "id": "4xTT9RqAIey-"
      }
    },
    {
      "cell_type": "code",
      "source": [
        "a = input()\n",
        "b = input()\n",
        "\n"
      ],
      "metadata": {
        "id": "Ok-HNDbBLBxZ"
      },
      "execution_count": null,
      "outputs": []
    }
  ]
}