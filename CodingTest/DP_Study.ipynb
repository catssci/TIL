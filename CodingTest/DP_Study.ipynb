{
  "nbformat": 4,
  "nbformat_minor": 0,
  "metadata": {
    "colab": {
      "name": "DP_Study.ipynb",
      "provenance": [],
      "authorship_tag": "ABX9TyMGQeCyunaUDZiM6ZAWQGhH",
      "include_colab_link": true
    },
    "kernelspec": {
      "name": "python3",
      "display_name": "Python 3"
    },
    "language_info": {
      "name": "python"
    }
  },
  "cells": [
    {
      "cell_type": "markdown",
      "metadata": {
        "id": "view-in-github",
        "colab_type": "text"
      },
      "source": [
        "<a href=\"https://colab.research.google.com/github/catssci/TIL/blob/main/CodingTest/DP_Study.ipynb\" target=\"_parent\"><img src=\"https://colab.research.google.com/assets/colab-badge.svg\" alt=\"Open In Colab\"/></a>"
      ]
    },
    {
      "cell_type": "markdown",
      "source": [
        "## 31. 금광"
      ],
      "metadata": {
        "id": "svNSLM8W-bsT"
      }
    },
    {
      "cell_type": "code",
      "source": [
        "T = int(input())\n",
        "\n",
        "for _ in range(T):\n",
        "  n, m = map(int, input().split())\n",
        "  gold_list = list(map(int, input().split()))\n",
        "\n",
        "  gold = []\n",
        "  idx = 0\n",
        "  for i in range(n):\n",
        "    gold.append(gold_list[idx: idx + m])\n",
        "    idx += m\n",
        "\n",
        "  # if n == 1:\n",
        "\n",
        "\n",
        "\n",
        "  # 왼쪽부터 오른쪽으로 이동\n",
        "  for j in range(1, m):\n",
        "    for i in range(n):\n",
        "      # 맨 위쪽\n",
        "      if i == 0:\n",
        "        gold[i][j] = max(gold[i][j-1], gold[i+1][j - 1]) + gold[i][j]\n",
        "      # 맨 아래쪽\n",
        "      elif i == n-1:\n",
        "        gold[i][j] = max(gold[i - 1][j - 1], gold[i][j - 1]) + gold[i][j]\n",
        "      else:\n",
        "        gold[i][j] = max(gold[i - 1][j - 1], gold[i][j - 1], gold[i + 1][j - 1]) + gold[i][j]\n",
        "\n",
        "  M = 0\n",
        "  for i in range(n):\n",
        "    if M < gold[i][m - 1]:\n",
        "      M = gold[i][m - 1]\n",
        "  print(M)"
      ],
      "metadata": {
        "colab": {
          "base_uri": "https://localhost:8080/"
        },
        "id": "K_ihJZ5_-g09",
        "outputId": "2416882a-416d-4a97-f478-a14a02285112"
      },
      "execution_count": 1,
      "outputs": [
        {
          "output_type": "stream",
          "name": "stdout",
          "text": [
            "1\n",
            "3 4\n",
            "1 3 3 2 2 1 4 1 0 6 4 7\n",
            "19\n"
          ]
        }
      ]
    },
    {
      "cell_type": "code",
      "source": [
        "T = int(input())\n",
        "\n",
        "for _ in range(T):\n",
        "  n, m = map(int, input().split())\n",
        "  gold_list = list(map(int, input().split()))\n",
        "\n",
        "  gold = []\n",
        "  idx = 0\n",
        "  for i in range(n):\n",
        "    gold.append(gold_list[idx: idx + m])\n",
        "    idx += m\n",
        "\n",
        "  # n == 1인 경우 예외 처리 할 필요 없음\n",
        "  # 왼쪽부터 오른쪽으로 이동\n",
        "  for j in range(1, m):\n",
        "    for i in range(n):\n",
        "      # 위쪽에서 오는 경우\n",
        "      if i == 0:\n",
        "        left_up = 0\n",
        "      else:\n",
        "        left_up = gold[i - 1][j - 1]\n",
        "      \n",
        "      # 아래에서 오는 경우\n",
        "      if i == n - 1:\n",
        "        left_down = 0\n",
        "      else:\n",
        "        left_down = gold[i + 1][j - 1]\n",
        "      \n",
        "      # 왼쪽에서 오는 경우\n",
        "      left = gold[i][j - 1]\n",
        "      gold[i][j] = max(left_up, left, left_down) + gold[i][j]\n",
        "\n",
        "  ans = 0\n",
        "  for i in range(n):\n",
        "    ans = max(ans, gold[i][m - 1])\n",
        "\n",
        "  print(ans)"
      ],
      "metadata": {
        "colab": {
          "base_uri": "https://localhost:8080/"
        },
        "id": "JzqMQj4SBThp",
        "outputId": "0046d83a-0904-4863-ac12-58fc3613bd35"
      },
      "execution_count": 4,
      "outputs": [
        {
          "output_type": "stream",
          "name": "stdout",
          "text": [
            "1\n",
            "1 5\n",
            "1 3 3 2 2\n",
            "11\n"
          ]
        }
      ]
    },
    {
      "cell_type": "markdown",
      "source": [
        "## 32. 정수 삼각형"
      ],
      "metadata": {
        "id": "u0QxAAr3Bptj"
      }
    },
    {
      "cell_type": "code",
      "source": [
        "n = int(input())\n",
        "\n",
        "data = []\n",
        "for _ in range(n):\n",
        "  data.append(list(map(int, input().split())))\n",
        "\n",
        "for i in range(1, n):\n",
        "  for j in range(i+1):\n",
        "    if j == 0:\n",
        "      up_left = 0\n",
        "    else:\n",
        "      up_left = data[i-1][j-1]\n",
        "\n",
        "    if j == i:\n",
        "      up_right = 0\n",
        "    else:\n",
        "      up_right = data[i-1][j]\n",
        "    \n",
        "    data[i][j] = max(up_left, up_right) + data[i][j]\n",
        "\n",
        "print(max(data[n-1]))"
      ],
      "metadata": {
        "colab": {
          "base_uri": "https://localhost:8080/"
        },
        "id": "o8qqAn2yDgNs",
        "outputId": "8011b55c-079a-4b0c-8f6e-2b25a56aa999"
      },
      "execution_count": 14,
      "outputs": [
        {
          "output_type": "stream",
          "name": "stdout",
          "text": [
            "5\n",
            "7\n",
            "3 8\n",
            "8 1 0\n",
            "2 7 4 4\n",
            "4 5 2 6 5\n",
            "30\n"
          ]
        }
      ]
    },
    {
      "cell_type": "markdown",
      "source": [
        "## 33. 퇴사"
      ],
      "metadata": {
        "id": "Pm3KTJwIGQYi"
      }
    },
    {
      "cell_type": "code",
      "source": [
        ""
      ],
      "metadata": {
        "id": "EzVzt6sQGgp6"
      },
      "execution_count": null,
      "outputs": []
    }
  ]
}