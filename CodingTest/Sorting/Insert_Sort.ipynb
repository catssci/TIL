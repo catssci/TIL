{
  "nbformat": 4,
  "nbformat_minor": 0,
  "metadata": {
    "colab": {
      "name": "Insert Sort.ipynb",
      "provenance": [],
      "collapsed_sections": [],
      "authorship_tag": "ABX9TyO84fUIA/gHhFhEnkKNHlEd",
      "include_colab_link": true
    },
    "kernelspec": {
      "name": "python3",
      "display_name": "Python 3"
    },
    "language_info": {
      "name": "python"
    }
  },
  "cells": [
    {
      "cell_type": "markdown",
      "metadata": {
        "id": "view-in-github",
        "colab_type": "text"
      },
      "source": [
        "<a href=\"https://colab.research.google.com/github/catssci/TIL/blob/main/CodingTest/Sorting/Insert_Sort.ipynb\" target=\"_parent\"><img src=\"https://colab.research.google.com/assets/colab-badge.svg\" alt=\"Open In Colab\"/></a>"
      ]
    },
    {
      "cell_type": "markdown",
      "source": [
        "# 삽입 정렬"
      ],
      "metadata": {
        "id": "Gn9focczTonm"
      }
    },
    {
      "cell_type": "code",
      "source": [
        "import copy"
      ],
      "metadata": {
        "id": "JnlyZk0FTw31"
      },
      "execution_count": 1,
      "outputs": []
    },
    {
      "cell_type": "code",
      "source": [
        "data1 = [4, 6, 23, 3, 1, 6, 8, 9, 5, 2]\n",
        "data2 = [4, 5, 3, 6, 7, 8, 1, 2, 3, 5, 3]\n",
        "data3 = [2, 3, 1, 3, 1]"
      ],
      "metadata": {
        "id": "Tuw8DJ0QT1_b"
      },
      "execution_count": 2,
      "outputs": []
    },
    {
      "cell_type": "code",
      "source": [
        "# 오름차순으로 선택 정렬\n",
        "def insert_sort(data):\n",
        "  sort_data = copy.deepcopy(data)\n",
        "  for i in range(1, len(sort_data)):\n",
        "    key = sort_data[i]\n",
        "    for j in range(i - 1, -1, -1):\n",
        "      if sort_data[j] > key:\n",
        "        sort_data[j + 1], sort_data[j] = sort_data[j], sort_data[j + 1]\n",
        "  return sort_data"
      ],
      "metadata": {
        "id": "t0sCz02ZT3Ez"
      },
      "execution_count": 41,
      "outputs": []
    },
    {
      "cell_type": "code",
      "source": [
        "print(f\"sorting before: {data1}\")\n",
        "print(f\"sorting after : {insert_sort(data1)}\\n\")\n",
        "print(f\"sorting before: {data2}\")\n",
        "print(f\"sorting after : {insert_sort(data2)}\\n\")\n",
        "print(f\"sorting before: {data3}\")\n",
        "print(f\"sorting after : {insert_sort(data3)}\")"
      ],
      "metadata": {
        "colab": {
          "base_uri": "https://localhost:8080/"
        },
        "id": "qH5YHhvaUxBg",
        "outputId": "aa70f417-6e35-47a4-cc4c-b35c8db0cf40"
      },
      "execution_count": 42,
      "outputs": [
        {
          "output_type": "stream",
          "name": "stdout",
          "text": [
            "sorting before: [4, 6, 23, 3, 1, 6, 8, 9, 5, 2]\n",
            "sorting after : [1, 2, 3, 4, 5, 6, 6, 8, 9, 23]\n",
            "\n",
            "sorting before: [4, 5, 3, 6, 7, 8, 1, 2, 3, 5, 3]\n",
            "sorting after : [1, 2, 3, 3, 3, 4, 5, 5, 6, 7, 8]\n",
            "\n",
            "sorting before: [2, 3, 1, 3, 1]\n",
            "sorting after : [1, 1, 2, 3, 3]\n"
          ]
        }
      ]
    },
    {
      "cell_type": "code",
      "source": [
        "# 안정 정렬 check\n",
        "def insert_sort_stable(data):\n",
        "  sort_data = copy.deepcopy(data)\n",
        "  index = list(range(len(data)))\n",
        "  for i in range(1, len(sort_data)):\n",
        "    key = sort_data[i]\n",
        "    for j in range(i - 1, -1, -1):\n",
        "      if sort_data[j] > key:\n",
        "        sort_data[j + 1], sort_data[j] = sort_data[j], sort_data[j + 1]\n",
        "        index[j + 1], index[j] = index[j], index[j + 1]\n",
        "  return sort_data, index"
      ],
      "metadata": {
        "id": "69UQ4mV5Uzci"
      },
      "execution_count": 43,
      "outputs": []
    },
    {
      "cell_type": "code",
      "source": [
        "print(f\"sorting before: {data1}\")\n",
        "sort_data, index = insert_sort_stable(data1)\n",
        "print(f\"sorting after : {sort_data}\")\n",
        "print(f\"sorting index : {index}\\n\")\n",
        "\n",
        "print(f\"sorting before: {data2}\")\n",
        "sort_data, index = insert_sort_stable(data2)\n",
        "print(f\"sorting after : {sort_data}\")\n",
        "print(f\"sorting index : {index}\\n\")\n",
        "\n",
        "# 안정 정렬\n",
        "print(f\"sorting before: {data3}\")\n",
        "sort_data, index = insert_sort_stable(data3)\n",
        "print(f\"sorting after : {sort_data}\")\n",
        "print(f\"sorting index : {index}\\n\")"
      ],
      "metadata": {
        "colab": {
          "base_uri": "https://localhost:8080/"
        },
        "id": "kesQP1eUVF3X",
        "outputId": "9ecbe37f-8a0a-42f1-fe26-4dc89ca26cb4"
      },
      "execution_count": 44,
      "outputs": [
        {
          "output_type": "stream",
          "name": "stdout",
          "text": [
            "sorting before: [4, 6, 23, 3, 1, 6, 8, 9, 5, 2]\n",
            "sorting after : [1, 2, 3, 4, 5, 6, 6, 8, 9, 23]\n",
            "sorting index : [4, 9, 3, 0, 8, 1, 5, 6, 7, 2]\n",
            "\n",
            "sorting before: [4, 5, 3, 6, 7, 8, 1, 2, 3, 5, 3]\n",
            "sorting after : [1, 2, 3, 3, 3, 4, 5, 5, 6, 7, 8]\n",
            "sorting index : [6, 7, 2, 8, 10, 0, 1, 9, 3, 4, 5]\n",
            "\n",
            "sorting before: [2, 3, 1, 3, 1]\n",
            "sorting after : [1, 1, 2, 3, 3]\n",
            "sorting index : [2, 4, 0, 1, 3]\n",
            "\n"
          ]
        }
      ]
    }
  ]
}