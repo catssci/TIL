{
  "nbformat": 4,
  "nbformat_minor": 0,
  "metadata": {
    "colab": {
      "name": "Merge Sort.ipynb",
      "provenance": [],
      "collapsed_sections": [],
      "authorship_tag": "ABX9TyPtHAo7dbPe5iBVyJ5m/hsz",
      "include_colab_link": true
    },
    "kernelspec": {
      "name": "python3",
      "display_name": "Python 3"
    },
    "language_info": {
      "name": "python"
    }
  },
  "cells": [
    {
      "cell_type": "markdown",
      "metadata": {
        "id": "view-in-github",
        "colab_type": "text"
      },
      "source": [
        "<a href=\"https://colab.research.google.com/github/catssci/TIL/blob/main/CodingTest/Sorting/Merge_Sort.ipynb\" target=\"_parent\"><img src=\"https://colab.research.google.com/assets/colab-badge.svg\" alt=\"Open In Colab\"/></a>"
      ]
    },
    {
      "cell_type": "markdown",
      "source": [
        "# 병합 정렬"
      ],
      "metadata": {
        "id": "4BJ-4_4wBX2b"
      }
    },
    {
      "cell_type": "code",
      "execution_count": 1,
      "metadata": {
        "id": "dVYEI5MHBO4s"
      },
      "outputs": [],
      "source": [
        "import copy"
      ]
    },
    {
      "cell_type": "code",
      "source": [
        "data1 = [4, 6, 23, 3, 1, 6, 8, 9, 5, 2]\n",
        "data2 = [4, 5, 3, 6, 7, 8, 1, 2, 3, 5, 3]\n",
        "data3 = [2, 3, 1, 3, 1]"
      ],
      "metadata": {
        "id": "hhC00_nLBXdV"
      },
      "execution_count": 2,
      "outputs": []
    },
    {
      "cell_type": "code",
      "source": [
        "# 오름차순으로 선택 정렬\n",
        "def merge_sort(data):\n",
        "  sort_data = copy.deepcopy(data)\n",
        "  if len(sort_data) < 2:\n",
        "    return sort_data\n",
        "  \n",
        "  mid = len(sort_data) // 2\n",
        "  left_sort = merge_sort(sort_data[:mid])\n",
        "  right_sort = merge_sort(sort_data[mid:])\n",
        "\n",
        "  merged_arr = []\n",
        "  L = R = 0\n",
        "  while L < len(left_sort) and R < len(right_sort):\n",
        "    if left_sort[L] <= right_sort[R]:               # 안정 정렬을 하기 위해, 순서 유지\n",
        "      merged_arr.append(left_sort[L])\n",
        "      L += 1\n",
        "    else:\n",
        "      merged_arr.append(right_sort[R])\n",
        "      R += 1\n",
        "  merged_arr += left_sort[L:]\n",
        "  merged_arr += right_sort[R:]\n",
        "  return merged_arr"
      ],
      "metadata": {
        "id": "WGizL3tDBbC6"
      },
      "execution_count": 3,
      "outputs": []
    },
    {
      "cell_type": "code",
      "source": [
        "print(f\"sorting before: {data1}\")\n",
        "print(f\"sorting after : {merge_sort(data1)}\\n\")\n",
        "print(f\"sorting before: {data2}\")\n",
        "print(f\"sorting after : {merge_sort(data2)}\\n\")\n",
        "print(f\"sorting before: {data3}\")\n",
        "print(f\"sorting after : {merge_sort(data3)}\")"
      ],
      "metadata": {
        "colab": {
          "base_uri": "https://localhost:8080/"
        },
        "id": "90u_AO4RCsu-",
        "outputId": "8c39b0cb-dfd7-4aa1-e969-30d8c8a10ca6"
      },
      "execution_count": 4,
      "outputs": [
        {
          "output_type": "stream",
          "name": "stdout",
          "text": [
            "sorting before: [4, 6, 23, 3, 1, 6, 8, 9, 5, 2]\n",
            "sorting after : [1, 2, 3, 4, 5, 6, 6, 8, 9, 23]\n",
            "\n",
            "sorting before: [4, 5, 3, 6, 7, 8, 1, 2, 3, 5, 3]\n",
            "sorting after : [1, 2, 3, 3, 3, 4, 5, 5, 6, 7, 8]\n",
            "\n",
            "sorting before: [2, 3, 1, 3, 1]\n",
            "sorting after : [1, 1, 2, 3, 3]\n"
          ]
        }
      ]
    },
    {
      "cell_type": "code",
      "source": [
        "# 안정 정렬 check\n",
        "def merge_sort_stable(data, index):\n",
        "  sort_data = copy.deepcopy(data)\n",
        "  if len(sort_data) < 2:\n",
        "    return sort_data, index\n",
        "  \n",
        "  mid = len(sort_data) // 2\n",
        "  left_sort, left_index = merge_sort_stable(sort_data[:mid], index[:mid])\n",
        "  right_sort, right_index = merge_sort_stable(sort_data[mid:], index[mid:])\n",
        "\n",
        "  merged_arr, merged_idx = [], []\n",
        "  L = R = 0\n",
        "  while L < len(left_sort) and R < len(right_sort):\n",
        "    if left_sort[L] <= right_sort[R]:              # 안정 정렬을 하기 위해, 순서 유지\n",
        "      merged_arr.append(left_sort[L])\n",
        "      merged_idx.append(left_index[L])\n",
        "      L += 1\n",
        "    else:\n",
        "      merged_arr.append(right_sort[R])\n",
        "      merged_idx.append(right_index[R])\n",
        "      R += 1\n",
        "  merged_arr += left_sort[L:]\n",
        "  merged_arr += right_sort[R:]\n",
        "  merged_idx += left_index[L:]\n",
        "  merged_idx += right_index[R:]\n",
        "  return merged_arr, merged_idx"
      ],
      "metadata": {
        "id": "R9lvdOsCCwaH"
      },
      "execution_count": 14,
      "outputs": []
    },
    {
      "cell_type": "code",
      "source": [
        "print(f\"sorting before: {data1}\")\n",
        "sort_data, index = merge_sort_stable(data1, list(range(len(data1))))\n",
        "print(f\"sorting after : {sort_data}\")\n",
        "print(f\"sorting index : {index}\\n\")\n",
        "\n",
        "print(f\"sorting before: {data2}\")\n",
        "sort_data, index = merge_sort_stable(data2, list(range(len(data2))))\n",
        "print(f\"sorting after : {sort_data}\")\n",
        "print(f\"sorting index : {index}\\n\")\n",
        "\n",
        "# 안정 정렬\n",
        "print(f\"sorting before: {data3}\")\n",
        "sort_data, index = merge_sort_stable(data3, list(range(len(data3))))\n",
        "print(f\"sorting after : {sort_data}\")\n",
        "print(f\"sorting index : {index}\\n\")"
      ],
      "metadata": {
        "colab": {
          "base_uri": "https://localhost:8080/"
        },
        "id": "ts53DlCODy-n",
        "outputId": "badc0402-5d86-4c16-e15d-bc976065db7d"
      },
      "execution_count": 15,
      "outputs": [
        {
          "output_type": "stream",
          "name": "stdout",
          "text": [
            "sorting before: [4, 6, 23, 3, 1, 6, 8, 9, 5, 2]\n",
            "sorting after : [1, 2, 3, 4, 5, 6, 6, 8, 9, 23]\n",
            "sorting index : [4, 9, 3, 0, 8, 1, 5, 6, 7, 2]\n",
            "\n",
            "sorting before: [4, 5, 3, 6, 7, 8, 1, 2, 3, 5, 3]\n",
            "sorting after : [1, 2, 3, 3, 3, 4, 5, 5, 6, 7, 8]\n",
            "sorting index : [6, 7, 2, 8, 10, 0, 1, 9, 3, 4, 5]\n",
            "\n",
            "sorting before: [2, 3, 1, 3, 1]\n",
            "sorting after : [1, 1, 2, 3, 3]\n",
            "sorting index : [2, 4, 0, 1, 3]\n",
            "\n"
          ]
        }
      ]
    }
  ]
}