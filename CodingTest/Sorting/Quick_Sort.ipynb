{
  "nbformat": 4,
  "nbformat_minor": 0,
  "metadata": {
    "colab": {
      "name": "Quick Sort.ipynb",
      "provenance": [],
      "collapsed_sections": [],
      "authorship_tag": "ABX9TyMz0SzAs4VUenxBpPwErwuf",
      "include_colab_link": true
    },
    "kernelspec": {
      "name": "python3",
      "display_name": "Python 3"
    },
    "language_info": {
      "name": "python"
    }
  },
  "cells": [
    {
      "cell_type": "markdown",
      "metadata": {
        "id": "view-in-github",
        "colab_type": "text"
      },
      "source": [
        "<a href=\"https://colab.research.google.com/github/catssci/TIL/blob/main/CodingTest/Sorting/Quick_Sort.ipynb\" target=\"_parent\"><img src=\"https://colab.research.google.com/assets/colab-badge.svg\" alt=\"Open In Colab\"/></a>"
      ]
    },
    {
      "cell_type": "markdown",
      "source": [
        "# 퀵 정렬"
      ],
      "metadata": {
        "id": "JJwHAnuWaCQ-"
      }
    },
    {
      "cell_type": "code",
      "source": [
        "import copy"
      ],
      "metadata": {
        "id": "CQVNSrPYaL9B"
      },
      "execution_count": 1,
      "outputs": []
    },
    {
      "cell_type": "code",
      "source": [
        "data1 = [4, 6, 23, 3, 1, 6, 8, 9, 5, 2]\n",
        "data2 = [4, 5, 3, 6, 7, 8, 1, 2, 3, 5, 3]\n",
        "data3 = [2, 3, 1, 3, 1]"
      ],
      "metadata": {
        "id": "zxaPNWjdaNLG"
      },
      "execution_count": 2,
      "outputs": []
    },
    {
      "cell_type": "code",
      "source": [
        "# 오름차순으로 선택 정렬\n",
        "def quick_sort(data):\n",
        "  sort_data = copy.deepcopy(data)\n",
        "  if len(sort_data) <= 1:\n",
        "    return sort_data\n",
        "  \n",
        "  pivot = sort_data[len(sort_data) // 2]\n",
        "  lesser_arr, equal_arr, greater_arr = [], [], []\n",
        "  for num in sort_data:\n",
        "    if num < pivot:\n",
        "      lesser_arr.append(num)\n",
        "    elif num > pivot:\n",
        "      greater_arr.append(num)\n",
        "    else:\n",
        "      equal_arr.append(num)\n",
        "  return quick_sort(lesser_arr) + equal_arr + quick_sort(greater_arr)"
      ],
      "metadata": {
        "id": "k0yDVRyTaOIS"
      },
      "execution_count": 5,
      "outputs": []
    },
    {
      "cell_type": "code",
      "source": [
        "print(f\"sorting before: {data1}\")\n",
        "print(f\"sorting after : {quick_sort(data1)}\\n\")\n",
        "print(f\"sorting before: {data2}\")\n",
        "print(f\"sorting after : {quick_sort(data2)}\\n\")\n",
        "print(f\"sorting before: {data3}\")\n",
        "print(f\"sorting after : {quick_sort(data3)}\")"
      ],
      "metadata": {
        "colab": {
          "base_uri": "https://localhost:8080/"
        },
        "id": "p0a8aJwnaPBU",
        "outputId": "592ed441-0e0e-42c6-bbb5-1db772dbfac4"
      },
      "execution_count": 6,
      "outputs": [
        {
          "output_type": "stream",
          "name": "stdout",
          "text": [
            "sorting before: [4, 6, 23, 3, 1, 6, 8, 9, 5, 2]\n",
            "sorting after : [1, 2, 3, 4, 5, 6, 6, 8, 9, 23]\n",
            "\n",
            "sorting before: [4, 5, 3, 6, 7, 8, 1, 2, 3, 5, 3]\n",
            "sorting after : [1, 2, 3, 3, 3, 4, 5, 5, 6, 7, 8]\n",
            "\n",
            "sorting before: [2, 3, 1, 3, 1]\n",
            "sorting after : [1, 1, 2, 3, 3]\n"
          ]
        }
      ]
    },
    {
      "cell_type": "code",
      "source": [
        "def quick_sort_unstable(data, index):\n",
        "  sort_data = copy.deepcopy(data)\n",
        "  if len(sort_data) <= 1:\n",
        "    return sort_data, index\n",
        "  \n",
        "  pivot = sort_data[len(sort_data) // 2]\n",
        "  lesser_arr, equal_arr, greater_arr = [], [], []\n",
        "  lesser_idx, equal_idx, greater_idx = [], [], []\n",
        "  for num, idx in zip(sort_data, index):\n",
        "    if num < pivot:\n",
        "      lesser_arr.append(num)\n",
        "      lesser_idx.append(idx)\n",
        "    elif num > pivot:\n",
        "      greater_arr.append(num)\n",
        "      greater_idx.append(idx)\n",
        "    else:\n",
        "      equal_arr.append(num)\n",
        "      equal_idx.append(idx)\n",
        "\n",
        "  arr1, idx1 = quick_sort_unstable(lesser_arr, lesser_idx)\n",
        "  arr2, idx2 = quick_sort_unstable(greater_arr, greater_idx)\n",
        "  return arr1 + equal_arr + arr2, idx1 + equal_idx + idx2"
      ],
      "metadata": {
        "id": "5QSmxiqpb2rt"
      },
      "execution_count": 9,
      "outputs": []
    },
    {
      "cell_type": "code",
      "source": [
        "print(f\"sorting before: {data1}\")\n",
        "sort_data, index = quick_sort_unstable(data1, list(range(len(data1))))\n",
        "print(f\"sorting after : {sort_data}\")\n",
        "print(f\"sorting index : {index}\\n\")\n",
        "\n",
        "print(f\"sorting before: {data2}\")\n",
        "sort_data, index = quick_sort_unstable(data2, list(range(len(data2))))\n",
        "print(f\"sorting after : {sort_data}\")\n",
        "print(f\"sorting index : {index}\\n\")\n",
        "\n",
        "# 불안정 정렬\n",
        "print(f\"sorting before: {data3}\")\n",
        "sort_data, index = quick_sort_unstable(data3, list(range(len(data3))))\n",
        "print(f\"sorting after : {sort_data}\")\n",
        "print(f\"sorting index : {index}\\n\")"
      ],
      "metadata": {
        "colab": {
          "base_uri": "https://localhost:8080/"
        },
        "id": "NkLSDirMc4rr",
        "outputId": "890a213a-628a-4922-d5b5-9c3c7d4c486b"
      },
      "execution_count": 10,
      "outputs": [
        {
          "output_type": "stream",
          "name": "stdout",
          "text": [
            "sorting before: [4, 6, 23, 3, 1, 6, 8, 9, 5, 2]\n",
            "sorting after : [1, 2, 3, 4, 5, 6, 6, 8, 9, 23]\n",
            "sorting index : [4, 9, 3, 0, 8, 1, 5, 6, 7, 2]\n",
            "\n",
            "sorting before: [4, 5, 3, 6, 7, 8, 1, 2, 3, 5, 3]\n",
            "sorting after : [1, 2, 3, 3, 3, 4, 5, 5, 6, 7, 8]\n",
            "sorting index : [6, 7, 2, 8, 10, 0, 1, 9, 3, 4, 5]\n",
            "\n",
            "sorting before: [2, 3, 1, 3, 1]\n",
            "sorting after : [1, 1, 2, 3, 3]\n",
            "sorting index : [2, 4, 0, 1, 3]\n",
            "\n"
          ]
        }
      ]
    }
  ]
}