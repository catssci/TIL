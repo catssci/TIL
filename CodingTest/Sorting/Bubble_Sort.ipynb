{
  "nbformat": 4,
  "nbformat_minor": 0,
  "metadata": {
    "colab": {
      "name": "Bubble Sort.ipynb",
      "provenance": [],
      "collapsed_sections": [],
      "authorship_tag": "ABX9TyPh9GD8hccFf2yuMysd6hlD",
      "include_colab_link": true
    },
    "kernelspec": {
      "name": "python3",
      "display_name": "Python 3"
    },
    "language_info": {
      "name": "python"
    }
  },
  "cells": [
    {
      "cell_type": "markdown",
      "metadata": {
        "id": "view-in-github",
        "colab_type": "text"
      },
      "source": [
        "<a href=\"https://colab.research.google.com/github/catssci/TIL/blob/main/CodingTest/Sorting/Bubble_Sort.ipynb\" target=\"_parent\"><img src=\"https://colab.research.google.com/assets/colab-badge.svg\" alt=\"Open In Colab\"/></a>"
      ]
    },
    {
      "cell_type": "markdown",
      "source": [
        "# 거품 정렬"
      ],
      "metadata": {
        "id": "SZFQe3xSwQZo"
      }
    },
    {
      "cell_type": "code",
      "source": [
        "import copy"
      ],
      "metadata": {
        "id": "IoHx2JSpwmMp"
      },
      "execution_count": 1,
      "outputs": []
    },
    {
      "cell_type": "code",
      "source": [
        "data1 = [4, 6, 23, 3, 1, 6, 8, 9, 5, 2]\n",
        "data2 = [4, 5, 3, 6, 7, 8, 1, 2, 3, 5, 3]\n",
        "data3 = [2, 3, 1, 3, 1]"
      ],
      "metadata": {
        "id": "y4oIzYChwncO"
      },
      "execution_count": 2,
      "outputs": []
    },
    {
      "cell_type": "code",
      "source": [
        "# 오름차순으로 선택 정렬\n",
        "def bubble_sort(data):\n",
        "  sort_data = copy.deepcopy(data)\n",
        "  for i in range(len(sort_data) - 1, 0, -1):\n",
        "    for j in range(i):\n",
        "      if sort_data[j] > sort_data[j + 1]:\n",
        "        sort_data[j], sort_data[j + 1] = sort_data[j + 1], sort_data[j]\n",
        "  return sort_data"
      ],
      "metadata": {
        "id": "WHRPtesKwoT2"
      },
      "execution_count": 17,
      "outputs": []
    },
    {
      "cell_type": "code",
      "source": [
        "print(f\"sorting before: {data1}\")\n",
        "print(f\"sorting after : {bubble_sort(data1)}\\n\")\n",
        "print(f\"sorting before: {data2}\")\n",
        "print(f\"sorting after : {bubble_sort(data2)}\\n\")\n",
        "print(f\"sorting before: {data3}\")\n",
        "print(f\"sorting after : {bubble_sort(data3)}\")"
      ],
      "metadata": {
        "colab": {
          "base_uri": "https://localhost:8080/"
        },
        "id": "8aCoBjiJxglL",
        "outputId": "762b8446-86e7-47e7-df3e-5bfd175a80bc"
      },
      "execution_count": 18,
      "outputs": [
        {
          "output_type": "stream",
          "name": "stdout",
          "text": [
            "sorting before: [4, 6, 23, 3, 1, 6, 8, 9, 5, 2]\n",
            "sorting after : [1, 2, 3, 4, 5, 6, 6, 8, 9, 23]\n",
            "\n",
            "sorting before: [4, 5, 3, 6, 7, 8, 1, 2, 3, 5, 3]\n",
            "sorting after : [1, 2, 3, 3, 3, 4, 5, 5, 6, 7, 8]\n",
            "\n",
            "sorting before: [2, 3, 1, 3, 1]\n",
            "sorting after : [1, 1, 2, 3, 3]\n"
          ]
        }
      ]
    },
    {
      "cell_type": "code",
      "source": [
        "# 안정 정렬 check\n",
        "def bubble_sort_stable(data):\n",
        "  sort_data = copy.deepcopy(data)\n",
        "  index = list(range(len(sort_data)))\n",
        "  for i in range(len(sort_data) - 1, 0, -1):\n",
        "    for j in range(i):\n",
        "      if sort_data[j] > sort_data[j + 1]:\n",
        "        sort_data[j], sort_data[j + 1] = sort_data[j + 1], sort_data[j]\n",
        "        index[j], index[j + 1] = index[j + 1], index[j]\n",
        "  return sort_data, index"
      ],
      "metadata": {
        "id": "Y7FxmO8fxiGw"
      },
      "execution_count": 20,
      "outputs": []
    },
    {
      "cell_type": "code",
      "source": [
        "print(f\"sorting before: {data1}\")\n",
        "sort_data, index = bubble_sort_stable(data1)\n",
        "print(f\"sorting after : {sort_data}\")\n",
        "print(f\"sorting index : {index}\\n\")\n",
        "\n",
        "print(f\"sorting before: {data2}\")\n",
        "sort_data, index = bubble_sort_stable(data2)\n",
        "print(f\"sorting after : {sort_data}\")\n",
        "print(f\"sorting index : {index}\\n\")\n",
        "\n",
        "# 안정 정렬\n",
        "print(f\"sorting before: {data3}\")\n",
        "sort_data, index = bubble_sort_stable(data3)\n",
        "print(f\"sorting after : {sort_data}\")\n",
        "print(f\"sorting index : {index}\\n\")"
      ],
      "metadata": {
        "colab": {
          "base_uri": "https://localhost:8080/"
        },
        "id": "egEI5RR-y00A",
        "outputId": "05bb8dd5-785e-48ff-e004-100993c319be"
      },
      "execution_count": 21,
      "outputs": [
        {
          "output_type": "stream",
          "name": "stdout",
          "text": [
            "sorting before: [4, 6, 23, 3, 1, 6, 8, 9, 5, 2]\n",
            "sorting after : [1, 2, 3, 4, 5, 6, 6, 8, 9, 23]\n",
            "sorting index : [4, 9, 3, 0, 8, 1, 5, 6, 7, 2]\n",
            "\n",
            "sorting before: [4, 5, 3, 6, 7, 8, 1, 2, 3, 5, 3]\n",
            "sorting after : [1, 2, 3, 3, 3, 4, 5, 5, 6, 7, 8]\n",
            "sorting index : [6, 7, 2, 8, 10, 0, 1, 9, 3, 4, 5]\n",
            "\n",
            "sorting before: [2, 3, 1, 3, 1]\n",
            "sorting after : [1, 1, 2, 3, 3]\n",
            "sorting index : [2, 4, 0, 1, 3]\n",
            "\n"
          ]
        }
      ]
    }
  ]
}