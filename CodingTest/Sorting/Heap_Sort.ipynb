{
  "nbformat": 4,
  "nbformat_minor": 0,
  "metadata": {
    "colab": {
      "name": "Heap Sort.ipynb",
      "provenance": [],
      "collapsed_sections": [],
      "authorship_tag": "ABX9TyMLuID4T+/4taYnWxtO5cv0",
      "include_colab_link": true
    },
    "kernelspec": {
      "name": "python3",
      "display_name": "Python 3"
    },
    "language_info": {
      "name": "python"
    }
  },
  "cells": [
    {
      "cell_type": "markdown",
      "metadata": {
        "id": "view-in-github",
        "colab_type": "text"
      },
      "source": [
        "<a href=\"https://colab.research.google.com/github/catssci/TIL/blob/main/CodingTest/Sorting/Heap_Sort.ipynb\" target=\"_parent\"><img src=\"https://colab.research.google.com/assets/colab-badge.svg\" alt=\"Open In Colab\"/></a>"
      ]
    },
    {
      "cell_type": "markdown",
      "source": [
        "# 힙 정렬"
      ],
      "metadata": {
        "id": "-0ZxaOjuiVso"
      }
    },
    {
      "cell_type": "code",
      "source": [
        "import copy"
      ],
      "metadata": {
        "id": "VjGGW7AfihnO"
      },
      "execution_count": 1,
      "outputs": []
    },
    {
      "cell_type": "code",
      "source": [
        "data1 = [4, 6, 23, 3, 1, 6, 8, 9, 5, 2]\n",
        "data2 = [4, 5, 3, 6, 7, 8, 1, 2, 3, 5, 3]\n",
        "data3 = [2, 3, 1, 3, 1]"
      ],
      "metadata": {
        "id": "qmNRrwQMi8ia"
      },
      "execution_count": 17,
      "outputs": []
    },
    {
      "cell_type": "code",
      "source": [
        "def heapify(arr, n, i):\n",
        "  largest = i\n",
        "  l = 2 * i + 1\n",
        "  r = 2 * i + 2\n",
        "\n",
        "  if l < n and arr[i] < arr[l]:\n",
        "    largest = l\n",
        "\n",
        "  if r < n and arr[largest] < arr[r]:\n",
        "    largest = r\n",
        "\n",
        "  if largest != i:\n",
        "    arr[i], arr[largest] = arr[largest], arr[i]\n",
        "    heapify(arr, n, largest)"
      ],
      "metadata": {
        "id": "3z33KzF8i9jA"
      },
      "execution_count": 13,
      "outputs": []
    },
    {
      "cell_type": "code",
      "source": [
        "def heap_sort(arr):\n",
        "  sort_data = copy.deepcopy(arr)\n",
        "  n = len(sort_data)\n",
        "\n",
        "  # Build max heap\n",
        "  for i in range(n//2, -1, -1):\n",
        "    heapify(sort_data, n, i)\n",
        "\n",
        "  for i in range(n-1, 0, -1):\n",
        "    # Swap\n",
        "    sort_data[i], sort_data[0] = sort_data[0], sort_data[i]\n",
        "\n",
        "    # Heapify root element\n",
        "    heapify(sort_data, i, 0)\n",
        "  \n",
        "  return sort_data"
      ],
      "metadata": {
        "id": "PJ_iBnuQjs9Z"
      },
      "execution_count": 24,
      "outputs": []
    },
    {
      "cell_type": "code",
      "source": [
        "print(f\"sorting before: {data1}\")\n",
        "print(f\"sorting after : {heap_sort(data1)}\\n\")\n",
        "print(f\"sorting before: {data2}\")\n",
        "print(f\"sorting after : {heap_sort(data2)}\\n\")\n",
        "print(f\"sorting before: {data3}\")\n",
        "print(f\"sorting after : {heap_sort(data3)}\")"
      ],
      "metadata": {
        "colab": {
          "base_uri": "https://localhost:8080/"
        },
        "id": "l6MVicrlk_aR",
        "outputId": "86aebadc-1d71-46fd-e629-e852691f1cb2"
      },
      "execution_count": 25,
      "outputs": [
        {
          "output_type": "stream",
          "name": "stdout",
          "text": [
            "sorting before: [4, 6, 23, 3, 1, 6, 8, 9, 5, 2]\n",
            "sorting after : [1, 2, 3, 4, 5, 6, 6, 8, 9, 23]\n",
            "\n",
            "sorting before: [4, 5, 3, 6, 7, 8, 1, 2, 3, 5, 3]\n",
            "sorting after : [1, 2, 3, 3, 3, 4, 5, 5, 6, 7, 8]\n",
            "\n",
            "sorting before: [2, 3, 1, 3, 1]\n",
            "sorting after : [1, 1, 2, 3, 3]\n"
          ]
        }
      ]
    },
    {
      "cell_type": "code",
      "source": [
        "def heapify_unstable(arr, n, i, index):\n",
        "  largest = i\n",
        "  l = 2 * i + 1\n",
        "  r = 2 * i + 2\n",
        "\n",
        "  if l < n and arr[i] < arr[l]:\n",
        "    largest = l\n",
        "\n",
        "  if r < n and arr[largest] < arr[r]:\n",
        "    largest = r\n",
        "\n",
        "  if largest != i:\n",
        "    arr[i], arr[largest] = arr[largest], arr[i]\n",
        "    index[i], index[largest] = index[largest], index[i]\n",
        "    heapify_unstable(arr, n, largest, index)"
      ],
      "metadata": {
        "id": "Rq2wqMeYl71Q"
      },
      "execution_count": 32,
      "outputs": []
    },
    {
      "cell_type": "code",
      "source": [
        "def heap_sort_unstable(data):\n",
        "  sort_data = copy.deepcopy(data)\n",
        "  index = list(range(len(sort_data)))\n",
        "  n = len(sort_data)\n",
        "\n",
        "  # Build max heap\n",
        "  for i in range(n//2, -1, -1):\n",
        "    heapify_unstable(sort_data, n, i, index)\n",
        "\n",
        "  for i in range(n-1, 0, -1):\n",
        "    # Swap\n",
        "    sort_data[i], sort_data[0] = sort_data[0], sort_data[i]\n",
        "    index[i], index[0] = index[0], index[i]\n",
        "\n",
        "    # Heapify root element\n",
        "    heapify_unstable(sort_data, i, 0, index)\n",
        "  \n",
        "  return sort_data, index"
      ],
      "metadata": {
        "id": "1ZBZcUirldYZ"
      },
      "execution_count": 33,
      "outputs": []
    },
    {
      "cell_type": "code",
      "source": [
        "print(f\"sorting before: {data1}\")\n",
        "sort_data, index = heap_sort_unstable(data1)\n",
        "print(f\"sorting after : {sort_data}\")\n",
        "print(f\"sorting index : {index}\\n\")\n",
        "\n",
        "print(f\"sorting before: {data2}\")\n",
        "sort_data, index = heap_sort_unstable(data2)\n",
        "print(f\"sorting after : {sort_data}\")\n",
        "print(f\"sorting index : {index}\\n\")\n",
        "\n",
        "# 불안정 정렬\n",
        "print(f\"sorting before: {data3}\")\n",
        "sort_data, index = heap_sort_unstable(data3)\n",
        "print(f\"sorting after : {sort_data}\")\n",
        "print(f\"sorting index : {index}\\n\")"
      ],
      "metadata": {
        "colab": {
          "base_uri": "https://localhost:8080/"
        },
        "id": "RZFiETDRlo4s",
        "outputId": "6f54f4d7-c106-4c81-f549-a31994cd077b"
      },
      "execution_count": 34,
      "outputs": [
        {
          "output_type": "stream",
          "name": "stdout",
          "text": [
            "sorting before: [4, 6, 23, 3, 1, 6, 8, 9, 5, 2]\n",
            "sorting after : [1, 2, 3, 4, 5, 6, 6, 8, 9, 23]\n",
            "sorting index : [4, 9, 3, 0, 8, 5, 1, 6, 7, 2]\n",
            "\n",
            "sorting before: [4, 5, 3, 6, 7, 8, 1, 2, 3, 5, 3]\n",
            "sorting after : [1, 2, 3, 3, 3, 4, 5, 5, 6, 7, 8]\n",
            "sorting index : [6, 7, 2, 8, 10, 0, 1, 9, 3, 4, 5]\n",
            "\n",
            "sorting before: [2, 3, 1, 3, 1]\n",
            "sorting after : [1, 1, 2, 3, 3]\n",
            "sorting index : [4, 2, 0, 3, 1]\n",
            "\n"
          ]
        }
      ]
    }
  ]
}