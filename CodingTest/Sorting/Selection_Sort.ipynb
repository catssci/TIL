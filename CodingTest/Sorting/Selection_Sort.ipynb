{
  "nbformat": 4,
  "nbformat_minor": 0,
  "metadata": {
    "colab": {
      "name": "Selection Sort.ipynb",
      "provenance": [],
      "collapsed_sections": [],
      "authorship_tag": "ABX9TyNJ1XXmaHL5tcaeWqUSlmp6",
      "include_colab_link": true
    },
    "kernelspec": {
      "name": "python3",
      "display_name": "Python 3"
    },
    "language_info": {
      "name": "python"
    }
  },
  "cells": [
    {
      "cell_type": "markdown",
      "metadata": {
        "id": "view-in-github",
        "colab_type": "text"
      },
      "source": [
        "<a href=\"https://colab.research.google.com/github/catssci/TIL/blob/main/CodingTest/Sorting/Selection_Sort.ipynb\" target=\"_parent\"><img src=\"https://colab.research.google.com/assets/colab-badge.svg\" alt=\"Open In Colab\"/></a>"
      ]
    },
    {
      "cell_type": "markdown",
      "source": [
        "# 선택 정렬"
      ],
      "metadata": {
        "id": "Zg6oISsPsRZF"
      }
    },
    {
      "cell_type": "code",
      "source": [
        "import copy"
      ],
      "metadata": {
        "id": "Rgpu7OpEymSZ"
      },
      "execution_count": 47,
      "outputs": []
    },
    {
      "cell_type": "code",
      "execution_count": 13,
      "metadata": {
        "id": "dfPngNCfsBE0"
      },
      "outputs": [],
      "source": [
        "data1 = [4, 6, 23, 3, 1, 6, 8, 9, 5, 2]\n",
        "data2 = [4, 5, 3, 6, 7, 8, 1, 2, 3, 5, 3]\n",
        "data3 = [2, 3, 1, 3, 1]"
      ]
    },
    {
      "cell_type": "code",
      "source": [
        "# 오름차순으로 선택 정렬\n",
        "def selection_sort(data):\n",
        "  sort_data = copy.deepcopy(data)\n",
        "  for i in range(len(sort_data) - 1):\n",
        "    min_idx = i\n",
        "    for j in range(i + 1, len(sort_data)):\n",
        "      if sort_data[j] < sort_data[min_idx]:\n",
        "        min_idx = j\n",
        "    sort_data[i], sort_data[min_idx] = sort_data[min_idx], sort_data[i]\n",
        "  return sort_data"
      ],
      "metadata": {
        "id": "lR1MFca_sP78"
      },
      "execution_count": 48,
      "outputs": []
    },
    {
      "cell_type": "code",
      "source": [
        "print(f\"sorting before: {data1}\")\n",
        "print(f\"sorting after : {selection_sort(data1)}\\n\")\n",
        "print(f\"sorting before: {data2}\")\n",
        "print(f\"sorting after : {selection_sort(data2)}\\n\")\n",
        "print(f\"sorting before: {data3}\")\n",
        "print(f\"sorting after : {selection_sort(data3)}\")"
      ],
      "metadata": {
        "colab": {
          "base_uri": "https://localhost:8080/"
        },
        "id": "c33JLEJ9tHrK",
        "outputId": "28f3eec7-8dff-4e30-8906-ed06da8f439d"
      },
      "execution_count": 50,
      "outputs": [
        {
          "output_type": "stream",
          "name": "stdout",
          "text": [
            "sorting before: [4, 6, 23, 3, 1, 6, 8, 9, 5, 2]\n",
            "sorting after : [1, 2, 3, 4, 5, 6, 6, 8, 9, 23]\n",
            "\n",
            "sorting before: [4, 5, 3, 6, 7, 8, 1, 2, 3, 5, 3]\n",
            "sorting after : [1, 2, 3, 3, 3, 4, 5, 5, 6, 7, 8]\n",
            "\n",
            "sorting before: [2, 3, 1, 3, 1]\n",
            "sorting after : [1, 1, 2, 3, 3]\n"
          ]
        }
      ]
    },
    {
      "cell_type": "code",
      "source": [
        "# 불안정 정렬 check\n",
        "def selection_sort_unstable(data):\n",
        "  sort_data = copy.deepcopy(data)\n",
        "  index = list(range(len(sort_data)))\n",
        "  for i in range(len(sort_data) - 1):\n",
        "    min_idx = i\n",
        "    for j in range(i + 1, len(sort_data)):\n",
        "      if sort_data[j] < sort_data[min_idx]:\n",
        "        min_idx = j\n",
        "    sort_data[i], sort_data[min_idx] = sort_data[min_idx], sort_data[i]\n",
        "    index[i], index[min_idx] = index[min_idx], index[i]\n",
        "  return sort_data, index"
      ],
      "metadata": {
        "id": "Bqhm8HSWtKNS"
      },
      "execution_count": 54,
      "outputs": []
    },
    {
      "cell_type": "code",
      "source": [
        "print(f\"sorting before: {data1}\")\n",
        "sort_data, index = selection_sort_unstable(data1)\n",
        "print(f\"sorting after : {sort_data}\")\n",
        "print(f\"sorting index : {index}\\n\")\n",
        "\n",
        "print(f\"sorting before: {data2}\")\n",
        "sort_data, index = selection_sort_unstable(data2)\n",
        "print(f\"sorting after : {sort_data}\")\n",
        "print(f\"sorting index : {index}\\n\")\n",
        "\n",
        "# 불안정 정렬\n",
        "print(f\"sorting before: {data3}\")\n",
        "sort_data, index = selection_sort_unstable(data3)\n",
        "print(f\"sorting after : {sort_data}\")\n",
        "print(f\"sorting index : {index}\\n\")"
      ],
      "metadata": {
        "colab": {
          "base_uri": "https://localhost:8080/"
        },
        "id": "SxErXajpuivw",
        "outputId": "7cf00aa2-96f0-4a36-95fd-adffb91e47e2"
      },
      "execution_count": 56,
      "outputs": [
        {
          "output_type": "stream",
          "name": "stdout",
          "text": [
            "sorting before: [4, 6, 23, 3, 1, 6, 8, 9, 5, 2]\n",
            "sorting after : [1, 2, 3, 4, 5, 6, 6, 8, 9, 23]\n",
            "sorting index : [4, 9, 3, 0, 8, 5, 1, 6, 7, 2]\n",
            "\n",
            "sorting before: [4, 5, 3, 6, 7, 8, 1, 2, 3, 5, 3]\n",
            "sorting after : [1, 2, 3, 3, 3, 4, 5, 5, 6, 7, 8]\n",
            "sorting index : [6, 7, 2, 8, 10, 0, 1, 9, 3, 4, 5]\n",
            "\n",
            "sorting before: [2, 3, 1, 3, 1]\n",
            "sorting after : [1, 1, 2, 3, 3]\n",
            "sorting index : [2, 4, 0, 3, 1]\n",
            "\n"
          ]
        }
      ]
    }
  ]
}