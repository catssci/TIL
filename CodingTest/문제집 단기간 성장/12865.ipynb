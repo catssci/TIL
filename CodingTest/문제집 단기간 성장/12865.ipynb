{
  "nbformat": 4,
  "nbformat_minor": 0,
  "metadata": {
    "colab": {
      "name": "12865.ipynb",
      "provenance": [],
      "collapsed_sections": [],
      "authorship_tag": "ABX9TyOAdrbd2kr/jt+9TNVLbN2f",
      "include_colab_link": true
    },
    "kernelspec": {
      "name": "python3",
      "display_name": "Python 3"
    },
    "language_info": {
      "name": "python"
    }
  },
  "cells": [
    {
      "cell_type": "markdown",
      "metadata": {
        "id": "view-in-github",
        "colab_type": "text"
      },
      "source": [
        "<a href=\"https://colab.research.google.com/github/catssci/TIL/blob/main/CodingTest/%EB%AC%B8%EC%A0%9C%EC%A7%91%3A%20%EB%8B%A8%EA%B8%B0%EA%B0%84%20%EC%84%B1%EC%9E%A5/12865.ipynb\" target=\"_parent\"><img src=\"https://colab.research.google.com/assets/colab-badge.svg\" alt=\"Open In Colab\"/></a>"
      ]
    },
    {
      "cell_type": "markdown",
      "source": [
        "## 평범한 배낭"
      ],
      "metadata": {
        "id": "vZf0tweOkY0I"
      }
    },
    {
      "cell_type": "markdown",
      "source": [
        "- https://www.acmicpc.net/problem/12865"
      ],
      "metadata": {
        "id": "7nQIT2PXkOtP"
      }
    },
    {
      "cell_type": "markdown",
      "source": [
        "참고 사이트\n",
        "- https://hongcoding.tistory.com/50\n",
        "- https://chanhuiseok.github.io/posts/improve-6/"
      ],
      "metadata": {
        "id": "2sYxkfOPkWbs"
      }
    },
    {
      "cell_type": "code",
      "source": [
        "n, k = map(int, input().split())\n",
        "\n",
        "dp = [[0] * (k + 1) for _ in range(n+ 1)]\n",
        "\n",
        "for i in range(1, n + 1):\n",
        "    w, v = map(int, input().split())\n",
        "    for j in range(1, k + 1):        \n",
        "        if j < w:\n",
        "            dp[i][j] = dp[i - 1][j]\n",
        "        else:\n",
        "            dp[i][j] = max(dp[i - 1][j], dp[i - 1][j - w] + v)\n",
        "            \n",
        "print(dp[n][k])"
      ],
      "metadata": {
        "colab": {
          "base_uri": "https://localhost:8080/"
        },
        "id": "cmqPXIqPki2g",
        "outputId": "1c504cb2-efab-4867-8453-bbf33b2fb50b"
      },
      "execution_count": 2,
      "outputs": [
        {
          "output_type": "stream",
          "name": "stdout",
          "text": [
            "4 7\n",
            "6 13\n",
            "4 8\n",
            "3 6\n",
            "5 12\n",
            "14\n"
          ]
        }
      ]
    }
  ]
}
