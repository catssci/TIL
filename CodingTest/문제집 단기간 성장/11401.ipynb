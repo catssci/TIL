{
  "nbformat": 4,
  "nbformat_minor": 0,
  "metadata": {
    "colab": {
      "name": "11401.ipynb",
      "provenance": [],
      "authorship_tag": "ABX9TyP133x9fyj1mG7LcEAPQwm0",
      "include_colab_link": true
    },
    "kernelspec": {
      "name": "python3",
      "display_name": "Python 3"
    },
    "language_info": {
      "name": "python"
    }
  },
  "cells": [
    {
      "cell_type": "markdown",
      "metadata": {
        "id": "view-in-github",
        "colab_type": "text"
      },
      "source": [
        "<a href=\"https://colab.research.google.com/github/catssci/TIL/blob/main/CodingTest/%EB%AC%B8%EC%A0%9C%EC%A7%91%20%EB%8B%A8%EA%B8%B0%EA%B0%84%20%EC%84%B1%EC%9E%A5/11401.ipynb\" target=\"_parent\"><img src=\"https://colab.research.google.com/assets/colab-badge.svg\" alt=\"Open In Colab\"/></a>"
      ]
    },
    {
      "cell_type": "code",
      "execution_count": 25,
      "metadata": {
        "colab": {
          "base_uri": "https://localhost:8080/"
        },
        "id": "tjVQ9tG5DN60",
        "outputId": "05ad5aeb-2cff-4879-b5a3-b85e311df2cf"
      },
      "outputs": [
        {
          "output_type": "stream",
          "name": "stdout",
          "text": [
            "5 2\n",
            "10\n"
          ]
        }
      ],
      "source": [
        "# 페르마의 소정리\n",
        "# 분할 정복을 통한 제곱 계산\n",
        "def power(a, b):\n",
        "    if b == 0:\n",
        "        return 1\n",
        "    if b % 2 == 1: # b가 홀수 일때\n",
        "        return (power(a, b // 2) ** 2 * a) % 1000000007\n",
        "    else:          # b가 짝수 일때\n",
        "        return (power(a, b // 2) ** 2) % 1000000007\n",
        "\n",
        "def factorial(N):\n",
        "    n = 1\n",
        "    for i in range(2, N+1):\n",
        "        n = (n * i) % p\n",
        "    return n\n",
        "\n",
        "p = 1000000007\n",
        "N, K = map(int, input().split())\n",
        "\n",
        "# nCk = A / B\n",
        "A = factorial(N)\n",
        "B = (factorial(N - K) * factorial(K)) % p\n",
        "\n",
        "# 페르마의 소정리가 사용 (B가 )\n",
        "# a^p % p = a\n",
        "# a^(p - 2) % p = a^(-1)\n",
        "print(A * power(B, p - 2) % p)"
      ]
    }
  ]
}