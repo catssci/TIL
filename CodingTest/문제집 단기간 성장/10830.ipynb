{
  "nbformat": 4,
  "nbformat_minor": 0,
  "metadata": {
    "colab": {
      "name": "10830.ipynb",
      "provenance": [],
      "authorship_tag": "ABX9TyMnj6OZ31nulD7R7NIZTJS3",
      "include_colab_link": true
    },
    "kernelspec": {
      "name": "python3",
      "display_name": "Python 3"
    },
    "language_info": {
      "name": "python"
    }
  },
  "cells": [
    {
      "cell_type": "markdown",
      "metadata": {
        "id": "view-in-github",
        "colab_type": "text"
      },
      "source": [
        "<a href=\"https://colab.research.google.com/github/catssci/TIL/blob/main/CodingTest/%EB%AC%B8%EC%A0%9C%EC%A7%91%20%EB%8B%A8%EA%B8%B0%EA%B0%84%20%EC%84%B1%EC%9E%A5/10830.ipynb\" target=\"_parent\"><img src=\"https://colab.research.google.com/assets/colab-badge.svg\" alt=\"Open In Colab\"/></a>"
      ]
    },
    {
      "cell_type": "code",
      "execution_count": 15,
      "metadata": {
        "colab": {
          "base_uri": "https://localhost:8080/"
        },
        "id": "Gi5BUhNt4Zwv",
        "outputId": "51ea97a7-54a4-4fd7-9191-e2097c54ab85"
      },
      "outputs": [
        {
          "output_type": "stream",
          "name": "stdout",
          "text": [
            "2 5\n",
            "1 2\n",
            "3 4\n",
            "69 558\n",
            "337 406\n"
          ]
        }
      ],
      "source": [
        "import sys\n",
        "\n",
        "# 분할 정복 (power matrix)\n",
        "def power(A, N):\n",
        "    if N == 1:\n",
        "        for row in range(len(A)):\n",
        "            for col in range(len(A)):\n",
        "                A[row][col] = A[row][col] % 1000\n",
        "        return A\n",
        "    \n",
        "    temp = power(A, N // 2)\n",
        "    if N % 2 == 1:\n",
        "        return mul(mul(temp, temp), A)\n",
        "    else:\n",
        "        return mul(temp, temp)\n",
        "    \n",
        "def mul(A, B):\n",
        "    n = len(A)\n",
        "    Z = [[0]*n for _ in range(n)]\n",
        "    \n",
        "    for row in range(n):\n",
        "        for col in range(n):\n",
        "            e = 0\n",
        "            for i in range(n):\n",
        "                e += A[row][i] * B[i][col]\n",
        "            Z[row][col] = e % 1000\n",
        "\n",
        "    return Z\n",
        "\n",
        "N, B = map(int, sys.stdin.readline().split())\n",
        "A = []\n",
        "for _ in range(N):\n",
        "    A.append(list(map(int, sys.stdin.readline().split())))\n",
        "    \n",
        "result = power(A, B)\n",
        "for r in result:\n",
        "    print(*r)"
      ]
    }
  ]
}