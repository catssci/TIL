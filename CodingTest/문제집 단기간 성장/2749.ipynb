{
  "nbformat": 4,
  "nbformat_minor": 0,
  "metadata": {
    "colab": {
      "name": "2749.ipynb",
      "provenance": [],
      "collapsed_sections": [],
      "authorship_tag": "ABX9TyMbLUp+8lupf8K0+1N5COWX",
      "include_colab_link": true
    },
    "kernelspec": {
      "name": "python3",
      "display_name": "Python 3"
    },
    "language_info": {
      "name": "python"
    }
  },
  "cells": [
    {
      "cell_type": "markdown",
      "metadata": {
        "id": "view-in-github",
        "colab_type": "text"
      },
      "source": [
        "<a href=\"https://colab.research.google.com/github/catssci/TIL/blob/main/CodingTest/%EB%AC%B8%EC%A0%9C%EC%A7%91%20%EB%8B%A8%EA%B8%B0%EA%B0%84%20%EC%84%B1%EC%9E%A5/2749.ipynb\" target=\"_parent\"><img src=\"https://colab.research.google.com/assets/colab-badge.svg\" alt=\"Open In Colab\"/></a>"
      ]
    },
    {
      "cell_type": "code",
      "execution_count": 7,
      "metadata": {
        "colab": {
          "base_uri": "https://localhost:8080/"
        },
        "id": "eHxlXiN0X4m0",
        "outputId": "be67afe3-35ed-4061-ac5e-e636286de076"
      },
      "outputs": [
        {
          "output_type": "stream",
          "name": "stdout",
          "text": [
            "1002030\n",
            "968040\n"
          ]
        }
      ],
      "source": [
        "# 피사노 주기: 피보나치 수를 k로 나눈 나머지는 항상 주기를 가진다.\n",
        "# 주기의 길이가 p라고 할때,\n",
        "# n번째 피보나치 수를 m으로 나눈 나머지는 n%p번째 피보나치 수를 m을 나눈 나머지와 같다.\n",
        "# fibo[n] % m == fibo[n % p] % m\n",
        "# IF m = 10^k 이고, k > 2 라면 ->> 주기 p는 15 × 10^(k-1) 이다.\n",
        "n = int(input())\n",
        "m = 1000000\n",
        "fibo = [0, 1]\n",
        "p = 15 * m // 10\n",
        "\n",
        "for i in range(2,p):\n",
        "    fibo.append(fibo[i - 1] + fibo[i - 2])\n",
        "    fibo[i] %= m\n",
        "\n",
        "print(fibo[n%p])"
      ]
    }
  ]
}