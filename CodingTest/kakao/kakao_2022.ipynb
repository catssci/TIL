{
  "nbformat": 4,
  "nbformat_minor": 0,
  "metadata": {
    "colab": {
      "name": "kakao 2022.ipynb",
      "provenance": [],
      "collapsed_sections": [],
      "authorship_tag": "ABX9TyPxZwLRmRI81sqxHSdwuoFw",
      "include_colab_link": true
    },
    "kernelspec": {
      "name": "python3",
      "display_name": "Python 3"
    },
    "language_info": {
      "name": "python"
    }
  },
  "cells": [
    {
      "cell_type": "markdown",
      "metadata": {
        "id": "view-in-github",
        "colab_type": "text"
      },
      "source": [
        "<a href=\"https://colab.research.google.com/github/catssci/TIL/blob/main/CodingTest/kakao/kakao_2022.ipynb\" target=\"_parent\"><img src=\"https://colab.research.google.com/assets/colab-badge.svg\" alt=\"Open In Colab\"/></a>"
      ]
    },
    {
      "cell_type": "markdown",
      "source": [
        "[2022 카카오 신입 공채 1차 온라인 코딩테스트](https://tech.kakao.com/2022/01/14/2022-kakao-recruitment-round-1/)"
      ],
      "metadata": {
        "id": "CKe8VxC-EgyR"
      }
    },
    {
      "cell_type": "markdown",
      "source": [
        "# 01. 신고 결과 받기"
      ],
      "metadata": {
        "id": "SrOZbULsEnyi"
      }
    },
    {
      "cell_type": "code",
      "source": [
        "def solution(id_list, report, k):\n",
        "    dic1 = {x: [] for x in id_list}\n",
        "    dic2 = {x: 0 for x in id_list}\n",
        "    for s in report:\n",
        "        a, b = s.split()\n",
        "        if b not in dic1[a]:\n",
        "            dic1[a].append(b)\n",
        "            dic2[b] += 1\n",
        "    \n",
        "    answer = []\n",
        "    for x in id_list:\n",
        "        temps = dic1[x]\n",
        "        ans = 0\n",
        "        for temp in temps:\n",
        "            if dic2[temp] >= k:\n",
        "                ans += 1\n",
        "        answer.append(ans)\n",
        "    return answer"
      ],
      "metadata": {
        "id": "MDZArHhKErZK"
      },
      "execution_count": null,
      "outputs": []
    },
    {
      "cell_type": "code",
      "source": [
        "id_lists = [[\"muzi\", \"frodo\", \"apeach\", \"neo\"], [\"con\", \"ryan\"]]\n",
        "reports = [[\"muzi frodo\",\"apeach frodo\",\"frodo neo\",\"muzi neo\",\"apeach muzi\"], [\"ryan con\", \"ryan con\", \"ryan con\", \"ryan con\"]]\n",
        "ks = [2, 3]"
      ],
      "metadata": {
        "id": "iNkI3j1AEtBA"
      },
      "execution_count": null,
      "outputs": []
    },
    {
      "cell_type": "code",
      "source": [
        "for id_list, report, k in zip(id_lists, reports, ks):\n",
        "  print(solution(id_list, report, k))"
      ],
      "metadata": {
        "colab": {
          "base_uri": "https://localhost:8080/"
        },
        "id": "Did4-5nSE4iv",
        "outputId": "51004bec-a482-4e0e-9fcf-2b82c1beffe0"
      },
      "execution_count": null,
      "outputs": [
        {
          "output_type": "stream",
          "name": "stdout",
          "text": [
            "[2, 1, 1, 0]\n",
            "[0, 0]\n"
          ]
        }
      ]
    },
    {
      "cell_type": "markdown",
      "source": [
        "- Python convert list to dictionary keys\n",
        "  > {x: [] for x in id_list}"
      ],
      "metadata": {
        "id": "GZKVZkZFRyin"
      }
    },
    {
      "cell_type": "markdown",
      "source": [
        "# 02. k 진수에서 소수의 개수 구하기"
      ],
      "metadata": {
        "id": "9y4FSUSfSefn"
      }
    },
    {
      "cell_type": "code",
      "source": [
        "import math\n",
        "\n",
        "def solution(n, k):\n",
        "    # k진법으로 변환\n",
        "    new_n = trans(n, k)\n",
        "    \n",
        "    pos = new_n.split('0')\n",
        "    answer = 0\n",
        "    for p in pos:\n",
        "        if p != '' and is_prime_number(int(p)):\n",
        "            answer += 1\n",
        "    return answer\n",
        "\n",
        "def trans(n, k):\n",
        "    rev_base = ''\n",
        "\n",
        "    while n > 0:\n",
        "        n, mod = divmod(n, k)\n",
        "        rev_base += str(mod)\n",
        "\n",
        "    return rev_base[::-1]\n",
        "\n",
        "def is_prime_number(x):\n",
        "    if x == 1:\n",
        "        return False\n",
        "    for i in range(2, int(math.sqrt(x)) + 1):\n",
        "        if x % i == 0:\n",
        "            return False\n",
        "    return True"
      ],
      "metadata": {
        "id": "b5yTrZD9VG4U"
      },
      "execution_count": 1,
      "outputs": []
    },
    {
      "cell_type": "code",
      "source": [
        "ns = [437674, 110011]\n",
        "ks = [3, 10]"
      ],
      "metadata": {
        "id": "bUk_W0cdVH0z"
      },
      "execution_count": 2,
      "outputs": []
    },
    {
      "cell_type": "code",
      "source": [
        "for n, k in zip(ns, ks):\n",
        "  print(solution(n, k))"
      ],
      "metadata": {
        "colab": {
          "base_uri": "https://localhost:8080/"
        },
        "id": "wyQVWiRKVP3A",
        "outputId": "406641e8-05f0-48e6-c796-723626d1808c"
      },
      "execution_count": 3,
      "outputs": [
        {
          "output_type": "stream",
          "name": "stdout",
          "text": [
            "3\n",
            "2\n"
          ]
        }
      ]
    }
  ]
}