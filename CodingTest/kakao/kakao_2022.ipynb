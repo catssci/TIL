{
  "nbformat": 4,
  "nbformat_minor": 0,
  "metadata": {
    "colab": {
      "name": "kakao 2022.ipynb",
      "provenance": [],
      "collapsed_sections": [],
      "authorship_tag": "ABX9TyNRbs4hwK8cFL4kKXnq9O7+",
      "include_colab_link": true
    },
    "kernelspec": {
      "name": "python3",
      "display_name": "Python 3"
    },
    "language_info": {
      "name": "python"
    }
  },
  "cells": [
    {
      "cell_type": "markdown",
      "metadata": {
        "id": "view-in-github",
        "colab_type": "text"
      },
      "source": [
        "<a href=\"https://colab.research.google.com/github/catssci/TIL/blob/main/CodingTest/kakao/kakao_2022.ipynb\" target=\"_parent\"><img src=\"https://colab.research.google.com/assets/colab-badge.svg\" alt=\"Open In Colab\"/></a>"
      ]
    },
    {
      "cell_type": "markdown",
      "source": [
        "[2022 카카오 신입 공채 1차 온라인 코딩테스트](https://tech.kakao.com/2022/01/14/2022-kakao-recruitment-round-1/)"
      ],
      "metadata": {
        "id": "CKe8VxC-EgyR"
      }
    },
    {
      "cell_type": "markdown",
      "source": [
        "# 01. 신고 결과 받기"
      ],
      "metadata": {
        "id": "SrOZbULsEnyi"
      }
    },
    {
      "cell_type": "code",
      "source": [
        "def solution(id_list, report, k):\n",
        "    dic1 = {x: [] for x in id_list}\n",
        "    dic2 = {x: 0 for x in id_list}\n",
        "    for s in report:\n",
        "        a, b = s.split()\n",
        "        if b not in dic1[a]:\n",
        "            dic1[a].append(b)\n",
        "            dic2[b] += 1\n",
        "    \n",
        "    answer = []\n",
        "    for x in id_list:\n",
        "        temps = dic1[x]\n",
        "        ans = 0\n",
        "        for temp in temps:\n",
        "            if dic2[temp] >= k:\n",
        "                ans += 1\n",
        "        answer.append(ans)\n",
        "    return answer"
      ],
      "metadata": {
        "id": "MDZArHhKErZK"
      },
      "execution_count": null,
      "outputs": []
    },
    {
      "cell_type": "code",
      "source": [
        "id_lists = [[\"muzi\", \"frodo\", \"apeach\", \"neo\"], [\"con\", \"ryan\"]]\n",
        "reports = [[\"muzi frodo\",\"apeach frodo\",\"frodo neo\",\"muzi neo\",\"apeach muzi\"], [\"ryan con\", \"ryan con\", \"ryan con\", \"ryan con\"]]\n",
        "ks = [2, 3]"
      ],
      "metadata": {
        "id": "iNkI3j1AEtBA"
      },
      "execution_count": null,
      "outputs": []
    },
    {
      "cell_type": "code",
      "source": [
        "for id_list, report, k in zip(id_lists, reports, ks):\n",
        "  print(solution(id_list, report, k))"
      ],
      "metadata": {
        "colab": {
          "base_uri": "https://localhost:8080/"
        },
        "id": "Did4-5nSE4iv",
        "outputId": "51004bec-a482-4e0e-9fcf-2b82c1beffe0"
      },
      "execution_count": null,
      "outputs": [
        {
          "output_type": "stream",
          "name": "stdout",
          "text": [
            "[2, 1, 1, 0]\n",
            "[0, 0]\n"
          ]
        }
      ]
    },
    {
      "cell_type": "markdown",
      "source": [
        "- Python convert list to dictionary keys\n",
        "  > {x: [] for x in id_list}"
      ],
      "metadata": {
        "id": "GZKVZkZFRyin"
      }
    },
    {
      "cell_type": "markdown",
      "source": [
        "# 02. k 진수에서 소수의 개수 구하기"
      ],
      "metadata": {
        "id": "9y4FSUSfSefn"
      }
    },
    {
      "cell_type": "code",
      "source": [
        "import math\n",
        "\n",
        "def solution(n, k):\n",
        "    # k진법으로 변환\n",
        "    new_n = trans(n, k)\n",
        "    \n",
        "    pos = new_n.split('0')\n",
        "    answer = 0\n",
        "    for p in pos:\n",
        "        if p != '' and is_prime_number(int(p)):\n",
        "            answer += 1\n",
        "    return answer\n",
        "\n",
        "def trans(n, k):\n",
        "    rev_base = ''\n",
        "\n",
        "    while n > 0:\n",
        "        n, mod = divmod(n, k)\n",
        "        rev_base += str(mod)\n",
        "\n",
        "    return rev_base[::-1]\n",
        "\n",
        "def is_prime_number(x):\n",
        "    if x == 1:\n",
        "        return False\n",
        "    for i in range(2, int(math.sqrt(x)) + 1):\n",
        "        if x % i == 0:\n",
        "            return False\n",
        "    return True"
      ],
      "metadata": {
        "id": "b5yTrZD9VG4U"
      },
      "execution_count": null,
      "outputs": []
    },
    {
      "cell_type": "code",
      "source": [
        "ns = [437674, 110011]\n",
        "ks = [3, 10]"
      ],
      "metadata": {
        "id": "bUk_W0cdVH0z"
      },
      "execution_count": null,
      "outputs": []
    },
    {
      "cell_type": "code",
      "source": [
        "for n, k in zip(ns, ks):\n",
        "  print(solution(n, k))"
      ],
      "metadata": {
        "colab": {
          "base_uri": "https://localhost:8080/"
        },
        "id": "wyQVWiRKVP3A",
        "outputId": "406641e8-05f0-48e6-c796-723626d1808c"
      },
      "execution_count": null,
      "outputs": [
        {
          "output_type": "stream",
          "name": "stdout",
          "text": [
            "3\n",
            "2\n"
          ]
        }
      ]
    },
    {
      "cell_type": "markdown",
      "source": [
        "# 03. 주차 요금 계산"
      ],
      "metadata": {
        "id": "xZsiN4ETQAw3"
      }
    },
    {
      "cell_type": "code",
      "source": [
        "import math\n",
        "\n",
        "def solution(fees, records):\n",
        "    dic = {}\n",
        "    for record in records:\n",
        "        time, num, info = record.split()\n",
        "        if num in dic.keys():\n",
        "            dic[num].append([time, info])\n",
        "        else:\n",
        "            dic[num] = [[time, info]]\n",
        "    \n",
        "    times = {}\n",
        "    for key in dic.keys():\n",
        "        # 입출차 모두 된 상태\n",
        "        time = 0\n",
        "        if len(dic[key]) % 2 == 0:\n",
        "            for t1, t2 in zip(dic[key][::2], dic[key][1::2]):\n",
        "                hour1, min1 = t1[0].split(':')\n",
        "                hour2, min2 = t2[0].split(':')\n",
        "                min1 = int(hour1) * 60 + int(min1)\n",
        "                min2 = int(hour2) * 60 + int(min2)\n",
        "                time += min2 - min1\n",
        "        else:\n",
        "            for t1, t2 in zip(dic[key][::2], dic[key][1::2]):\n",
        "                hour1, min1 = t1[0].split(':')\n",
        "                hour2, min2 = t2[0].split(':')\n",
        "                min1 = int(hour1) * 60 + int(min1)\n",
        "                min2 = int(hour2) * 60 + int(min2)\n",
        "                time += min2 - min1\n",
        "            temp_hour, temp_min = dic[key][-1][0].split(':')\n",
        "            last_hour, last_min = 23, 59\n",
        "            min1 = int(temp_hour) * 60 + int(temp_min)\n",
        "            min2 = int(last_hour) * 60 + int(last_min)\n",
        "            time += min2 - min1\n",
        "        times[key] = time\n",
        "    \n",
        "    sorted_dict = sorted(times.items())\n",
        "    \n",
        "    answer = []\n",
        "    for key, value in sorted_dict:\n",
        "        ans = fees[1]\n",
        "        if value > fees[0]:\n",
        "            ans += math.ceil((value - fees[0]) / fees[-2]) * fees[-1]\n",
        "        answer.append(ans)\n",
        "    return answer"
      ],
      "metadata": {
        "id": "wnlcSBPSQC5B"
      },
      "execution_count": null,
      "outputs": []
    },
    {
      "cell_type": "code",
      "source": [
        "feess = [[180, 5000, 10, 600], [120, 0, 60, 591], [1, 461, 1, 10]]\n",
        "recordss = [[\"05:34 5961 IN\", \"06:00 0000 IN\", \"06:34 0000 OUT\", \"07:59 5961 OUT\", \"07:59 0148 IN\", \"18:59 0000 IN\", \"19:09 0148 OUT\", \"22:59 5961 IN\", \"23:00 5961 OUT\"], \n",
        "           [\"16:00 3961 IN\",\"16:00 0202 IN\",\"18:00 3961 OUT\",\"18:00 0202 OUT\",\"23:58 3961 IN\"],\n",
        "           [\"00:00 1234 IN\"]]"
      ],
      "metadata": {
        "id": "vt7h90ufQHTG"
      },
      "execution_count": null,
      "outputs": []
    },
    {
      "cell_type": "code",
      "source": [
        "for fees, records in zip(feess, recordss):\n",
        "  print(solution(fees, records))"
      ],
      "metadata": {
        "colab": {
          "base_uri": "https://localhost:8080/"
        },
        "id": "Dpcn3yl7Qcbb",
        "outputId": "72c1bb57-2981-4852-d19e-fa1905ff43ee"
      },
      "execution_count": null,
      "outputs": [
        {
          "output_type": "stream",
          "name": "stdout",
          "text": [
            "[14600, 34400, 5000]\n",
            "[0, 591]\n",
            "[14841]\n"
          ]
        }
      ]
    },
    {
      "cell_type": "markdown",
      "source": [
        "# 04. 양궁대회"
      ],
      "metadata": {
        "id": "sEpPWg34jGGC"
      }
    },
    {
      "cell_type": "code",
      "source": [
        "# https://kjhoon0330.tistory.com/entry/%ED%94%84%EB%A1%9C%EA%B7%B8%EB%9E%98%EB%A8%B8%EC%8A%A4-%EC%96%91%EA%B6%81%EB%8C%80%ED%9A%8C-Python\n",
        "\n",
        "import copy\n",
        "\n",
        "MAX_SCORE_DIFF = 0\n",
        "answers = []\n",
        "\n",
        "# 라이언과 어피치의 점수 차이를 계산하는 함수\n",
        "def calcScoreDiff(info, myshots):\n",
        "    enemyScore, myScore = 0, 0\n",
        "    for i in range(11):\n",
        "        if (info[i], myshots[i]) == (0, 0):\n",
        "            continue\n",
        "        # 어피치가 점수를 얻는 경우\n",
        "        if info[i] >= myshots[i]:\n",
        "            enemyScore += (10 - i)\n",
        "        # 라이언이 점수를 얻는 경우\n",
        "        else:\n",
        "            myScore += (10 - i)\n",
        "    return myScore - enemyScore\n",
        "\n",
        "def dfs(info, myshots, n, i):\n",
        "    global MAX_SCORE_DIFF, answers\n",
        "    if i == 11:\n",
        "        if n != 0:\n",
        "            myshots[10] = n\n",
        "        scoreDiff = calcScoreDiff(info, myshots)\n",
        "        if scoreDiff <= 0:\n",
        "            return \n",
        "        result = copy.deepcopy(myshots)\n",
        "        if scoreDiff > MAX_SCORE_DIFF:\n",
        "            MAX_SCORE_DIFF = scoreDiff\n",
        "            answers = [result]\n",
        "            return\n",
        "        if scoreDiff == MAX_SCORE_DIFF:\n",
        "            answers.append(result)\n",
        "        return\n",
        "    \n",
        "    # 점수를 얻는 경우\n",
        "    if info[i] < n:\n",
        "        myshots.append(info[i] + 1)\n",
        "        dfs(info, myshots, n - info[i] - 1, i + 1)\n",
        "        myshots.pop()\n",
        "        \n",
        "    # 점수를 얻지 못하는 경우\n",
        "    myshots.append(0)\n",
        "    dfs(info, myshots, n, i + 1)\n",
        "    myshots.pop()\n",
        "\n",
        "def solution(n, info):\n",
        "    global MAX_SCORE_DIFF, answers\n",
        "    dfs(info, [], n, 0)\n",
        "    if answers == []:\n",
        "        return [-1]\n",
        "    answers.sort(key = lambda x: x[::-1], reverse = True)\n",
        "    return answers[0]"
      ],
      "metadata": {
        "id": "-HYp_GEwnT8_"
      },
      "execution_count": 3,
      "outputs": []
    },
    {
      "cell_type": "code",
      "source": [
        "ns = [5, 1, 9, 10]\n",
        "infos = [[2,1,1,1,0,0,0,0,0,0,0], [1,0,0,0,0,0,0,0,0,0,0], [0,0,1,2,0,1,1,1,1,1,1], [0,0,0,0,0,0,0,0,3,4,3]]"
      ],
      "metadata": {
        "id": "gNrqoDZKnVRC"
      },
      "execution_count": 4,
      "outputs": []
    },
    {
      "cell_type": "code",
      "source": [
        "for n, info in zip(ns, infos):\n",
        "  print(solution(n, info))"
      ],
      "metadata": {
        "colab": {
          "base_uri": "https://localhost:8080/"
        },
        "id": "5kFpO2YknifA",
        "outputId": "413c89a5-9e52-4c19-ed3f-a25056e9c605"
      },
      "execution_count": 5,
      "outputs": [
        {
          "output_type": "stream",
          "name": "stdout",
          "text": [
            "[0, 2, 2, 0, 1, 0, 0, 0, 0, 0, 0]\n",
            "[0, 2, 2, 0, 1, 0, 0, 0, 0, 0, 0]\n",
            "[1, 1, 2, 0, 1, 2, 2, 0, 0, 0, 0]\n",
            "[1, 1, 1, 1, 1, 1, 1, 1, 0, 0, 2]\n"
          ]
        }
      ]
    },
    {
      "cell_type": "code",
      "source": [
        ""
      ],
      "metadata": {
        "id": "7HJvvFz7r4cf"
      },
      "execution_count": null,
      "outputs": []
    }
  ]
}