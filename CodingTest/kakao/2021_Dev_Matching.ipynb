{
  "nbformat": 4,
  "nbformat_minor": 0,
  "metadata": {
    "colab": {
      "name": "2021 Dev Matching.ipynb",
      "provenance": [],
      "collapsed_sections": [],
      "authorship_tag": "ABX9TyM5XerkaxyoW73uSIqx8QGC",
      "include_colab_link": true
    },
    "kernelspec": {
      "name": "python3",
      "display_name": "Python 3"
    },
    "language_info": {
      "name": "python"
    }
  },
  "cells": [
    {
      "cell_type": "markdown",
      "metadata": {
        "id": "view-in-github",
        "colab_type": "text"
      },
      "source": [
        "<a href=\"https://colab.research.google.com/github/catssci/TIL/blob/main/CodingTest/kakao/2021_Dev_Matching.ipynb\" target=\"_parent\"><img src=\"https://colab.research.google.com/assets/colab-badge.svg\" alt=\"Open In Colab\"/></a>"
      ]
    },
    {
      "cell_type": "markdown",
      "source": [
        "- [2021 Dev-Matching: 웹 백엔드 개발자(하반기)](https://programmers.co.kr/learn/challenges)"
      ],
      "metadata": {
        "id": "RLTGOdoPhOwv"
      }
    },
    {
      "cell_type": "markdown",
      "source": [
        "# 01. 로또의 최고 순위와 최저 순위"
      ],
      "metadata": {
        "id": "ZOYCIWRThXQR"
      }
    },
    {
      "cell_type": "code",
      "source": [
        "def solution(lottos, win_nums):    \n",
        "    min_ans = 0\n",
        "    max_ans = 0\n",
        "    for temp in lottos:\n",
        "        if temp in win_nums:\n",
        "            max_ans += 1\n",
        "            min_ans += 1\n",
        "        elif temp == 0:\n",
        "            max_ans += 1\n",
        "    answer = [6, 6, 5, 4, 3, 2, 1]\n",
        "    return [answer[max_ans], answer[min_ans]]"
      ],
      "metadata": {
        "id": "ppJPaPWThbaD"
      },
      "execution_count": null,
      "outputs": []
    },
    {
      "cell_type": "code",
      "source": [
        "lottos = [[44, 1, 0, 0, 31, 25], [0, 0, 0, 0, 0, 0], [45, 4, 35, 20, 3, 9]]\n",
        "win_nums = [[31, 10, 45, 1, 6, 19], [38, 19, 20, 40, 15, 25], [20, 9, 3, 45, 4, 35]]"
      ],
      "metadata": {
        "id": "dgnTykXojBfM"
      },
      "execution_count": null,
      "outputs": []
    },
    {
      "cell_type": "code",
      "source": [
        "for lotto, win_num in zip(lottos, win_nums):\n",
        "  print(solution(lotto, win_num))"
      ],
      "metadata": {
        "colab": {
          "base_uri": "https://localhost:8080/"
        },
        "id": "INIOEBJdjMsR",
        "outputId": "423c6ca6-4d7a-4bc7-cf92-5f19bbfdc339"
      },
      "execution_count": null,
      "outputs": [
        {
          "output_type": "stream",
          "name": "stdout",
          "text": [
            "[3, 5]\n",
            "[1, 6]\n",
            "[1, 1]\n"
          ]
        }
      ]
    },
    {
      "cell_type": "markdown",
      "source": [
        "# 02. 행렬 테두리 회전하기"
      ],
      "metadata": {
        "id": "s-5gu1HJrAcS"
      }
    },
    {
      "cell_type": "code",
      "source": [
        "def solution(rows, columns, queries):\n",
        "    # 행렬 만들기\n",
        "    table = []\n",
        "    for r in range(rows):\n",
        "        table.append([a for a in range(r*columns+1, (r+1)*columns+1)])\n",
        "    \n",
        "    answer = []\n",
        "    for query in queries:\n",
        "        query = [x-1 for x in query]      # Python 인덱스에 맞춰주기 위해\n",
        "        tmp = table[query[0]][query[1]]   # 왼쪽 위 값 저장, 시작점\n",
        "        small = tmp\n",
        "        \n",
        "        # left, y1 고정\n",
        "        for i in range(query[0]+1, query[2]+1):\n",
        "            table[i-1][query[1]] = table[i][query[1]]\n",
        "            small = min(small, table[i][query[1]])\n",
        "        # bottom, x2 고정\n",
        "        for i in range(query[1]+1, query[3]+1):\n",
        "            table[query[2]][i-1] = table[query[2]][i]\n",
        "            small = min(small, table[query[2]][i])\n",
        "        # right, y2 고정\n",
        "        for i in range(query[2]-1, query[0]-1, -1):\n",
        "            table[i+1][query[3]] = table[i][query[3]]\n",
        "            small = min(small, table[i][query[3]])\n",
        "        # top, x1 고정\n",
        "        for i in range(query[3]-1, query[1]-1, -1):\n",
        "            table[query[0]][i+1] = table[query[0]][i]\n",
        "            small = min(small, table[query[0]][i])\n",
        "        table[query[0]][query[1]+1] = tmp\n",
        "        \n",
        "        answer.append(small)\n",
        "    \n",
        "    return answer\n",
        "        \n",
        "    "
      ],
      "metadata": {
        "id": "Xz3VArN4rBl9"
      },
      "execution_count": 1,
      "outputs": []
    },
    {
      "cell_type": "code",
      "source": [
        "rows = [6, 3, 100]\n",
        "columns = [6, 3, 97]\n",
        "queries\t= [[[2,2,5,4],[3,3,6,6],[5,1,6,3]], [[1,1,2,2],[1,2,2,3],[2,1,3,2],[2,2,3,3]], [[1,1,100,97]]]"
      ],
      "metadata": {
        "id": "q1oKtTylwN7i"
      },
      "execution_count": 2,
      "outputs": []
    },
    {
      "cell_type": "code",
      "source": [
        "for row, column, querie in zip(rows, columns, queries):\n",
        "  print(solution(row, column, querie))"
      ],
      "metadata": {
        "colab": {
          "base_uri": "https://localhost:8080/"
        },
        "id": "z3jKNQcbwcVq",
        "outputId": "41f0f77c-b1d7-4814-ac55-7ea6b7dad12f"
      },
      "execution_count": 3,
      "outputs": [
        {
          "output_type": "stream",
          "name": "stdout",
          "text": [
            "[8, 10, 25]\n",
            "[1, 1, 5, 3]\n",
            "[1]\n"
          ]
        }
      ]
    },
    {
      "cell_type": "code",
      "source": [
        ""
      ],
      "metadata": {
        "id": "08kfgTe7wkwq"
      },
      "execution_count": null,
      "outputs": []
    }
  ]
}