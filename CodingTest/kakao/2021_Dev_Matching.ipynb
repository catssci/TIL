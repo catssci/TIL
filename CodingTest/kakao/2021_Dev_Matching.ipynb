{
  "nbformat": 4,
  "nbformat_minor": 0,
  "metadata": {
    "colab": {
      "name": "2021 Dev Matching.ipynb",
      "provenance": [],
      "collapsed_sections": [],
      "authorship_tag": "ABX9TyObXeoXALeL5FGt5c4Iybw9",
      "include_colab_link": true
    },
    "kernelspec": {
      "name": "python3",
      "display_name": "Python 3"
    },
    "language_info": {
      "name": "python"
    }
  },
  "cells": [
    {
      "cell_type": "markdown",
      "metadata": {
        "id": "view-in-github",
        "colab_type": "text"
      },
      "source": [
        "<a href=\"https://colab.research.google.com/github/catssci/TIL/blob/main/CodingTest/kakao/2021_Dev_Matching.ipynb\" target=\"_parent\"><img src=\"https://colab.research.google.com/assets/colab-badge.svg\" alt=\"Open In Colab\"/></a>"
      ]
    },
    {
      "cell_type": "markdown",
      "source": [
        "- [2021 Dev-Matching: 웹 백엔드 개발자(하반기)](https://programmers.co.kr/learn/challenges)"
      ],
      "metadata": {
        "id": "RLTGOdoPhOwv"
      }
    },
    {
      "cell_type": "markdown",
      "source": [
        "# 01. 로또의 최고 순위와 최저 순위"
      ],
      "metadata": {
        "id": "ZOYCIWRThXQR"
      }
    },
    {
      "cell_type": "code",
      "source": [
        "def solution(lottos, win_nums):    \n",
        "    min_ans = 0\n",
        "    max_ans = 0\n",
        "    for temp in lottos:\n",
        "        if temp in win_nums:\n",
        "            max_ans += 1\n",
        "            min_ans += 1\n",
        "        elif temp == 0:\n",
        "            max_ans += 1\n",
        "    answer = [6, 6, 5, 4, 3, 2, 1]\n",
        "    return [answer[max_ans], answer[min_ans]]"
      ],
      "metadata": {
        "id": "ppJPaPWThbaD"
      },
      "execution_count": 1,
      "outputs": []
    },
    {
      "cell_type": "code",
      "source": [
        "lottos = [[44, 1, 0, 0, 31, 25], [0, 0, 0, 0, 0, 0], [45, 4, 35, 20, 3, 9]]\n",
        "win_nums = [[31, 10, 45, 1, 6, 19], [38, 19, 20, 40, 15, 25], [20, 9, 3, 45, 4, 35]]"
      ],
      "metadata": {
        "id": "dgnTykXojBfM"
      },
      "execution_count": 2,
      "outputs": []
    },
    {
      "cell_type": "code",
      "source": [
        "for lotto, win_num in zip(lottos, win_nums):\n",
        "  print(solution(lotto, win_num))"
      ],
      "metadata": {
        "colab": {
          "base_uri": "https://localhost:8080/"
        },
        "id": "INIOEBJdjMsR",
        "outputId": "423c6ca6-4d7a-4bc7-cf92-5f19bbfdc339"
      },
      "execution_count": 3,
      "outputs": [
        {
          "output_type": "stream",
          "name": "stdout",
          "text": [
            "[3, 5]\n",
            "[1, 6]\n",
            "[1, 1]\n"
          ]
        }
      ]
    }
  ]
}