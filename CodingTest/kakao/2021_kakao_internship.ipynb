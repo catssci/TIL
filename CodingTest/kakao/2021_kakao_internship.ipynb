{
  "nbformat": 4,
  "nbformat_minor": 0,
  "metadata": {
    "colab": {
      "name": "2021 kakao internship.ipynb",
      "provenance": [],
      "collapsed_sections": [],
      "authorship_tag": "ABX9TyMKORQm0yF85psDgeORuS/g",
      "include_colab_link": true
    },
    "kernelspec": {
      "name": "python3",
      "display_name": "Python 3"
    },
    "language_info": {
      "name": "python"
    }
  },
  "cells": [
    {
      "cell_type": "markdown",
      "metadata": {
        "id": "view-in-github",
        "colab_type": "text"
      },
      "source": [
        "<a href=\"https://colab.research.google.com/github/catssci/TIL/blob/main/CodingTest/kakao/2021_kakao_internship.ipynb\" target=\"_parent\"><img src=\"https://colab.research.google.com/assets/colab-badge.svg\" alt=\"Open In Colab\"/></a>"
      ]
    },
    {
      "cell_type": "markdown",
      "source": [
        "- https://programmers.co.kr/learn/challenges"
      ],
      "metadata": {
        "id": "bqvUwda4bK54"
      }
    },
    {
      "cell_type": "markdown",
      "source": [
        "# 숫자 문자열과 영단어"
      ],
      "metadata": {
        "id": "iY2C5LWkbX3Z"
      }
    },
    {
      "cell_type": "code",
      "source": [
        "def solution(s):\n",
        "    dic = {\"zero\": \"0\", \"one\": \"1\", \"two\": \"2\", \"three\": \"3\", \"four\": \"4\",\n",
        "           \"five\": \"5\", \"six\": \"6\", \"seven\": \"7\", \"eight\": \"8\", \"nine\": \"9\"}\n",
        "    answer = \"\"\n",
        "    temp = \"\"\n",
        "    for t in s:\n",
        "        # 숫자 일때\n",
        "        if t.isdigit():\n",
        "            answer += t\n",
        "        else:\n",
        "            temp += t\n",
        "            if temp in dic:\n",
        "                answer += dic[temp]\n",
        "                temp = \"\"\n",
        "    return int(answer)"
      ],
      "metadata": {
        "id": "gk_zE64PbkY6"
      },
      "execution_count": 5,
      "outputs": []
    },
    {
      "cell_type": "code",
      "source": [
        "string = [\"one4seveneight\", \"23four5six7\", \"2three45sixseven\", \"123\"]"
      ],
      "metadata": {
        "id": "JAnVO5wRbahU"
      },
      "execution_count": 6,
      "outputs": []
    },
    {
      "cell_type": "code",
      "source": [
        "for s in string:\n",
        "  print(solution(s))"
      ],
      "metadata": {
        "colab": {
          "base_uri": "https://localhost:8080/"
        },
        "id": "Ol1pXaxybj_s",
        "outputId": "f18ca3b8-6749-40ca-aa9f-1dc6c9904855"
      },
      "execution_count": 7,
      "outputs": [
        {
          "output_type": "stream",
          "name": "stdout",
          "text": [
            "1478\n",
            "234567\n",
            "234567\n",
            "123\n"
          ]
        }
      ]
    }
  ]
}