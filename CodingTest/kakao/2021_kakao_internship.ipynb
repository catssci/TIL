{
  "nbformat": 4,
  "nbformat_minor": 0,
  "metadata": {
    "colab": {
      "name": "2021 kakao internship.ipynb",
      "provenance": [],
      "collapsed_sections": [],
      "authorship_tag": "ABX9TyM880n7QLRKJ1dpEM0FY7dn",
      "include_colab_link": true
    },
    "kernelspec": {
      "name": "python3",
      "display_name": "Python 3"
    },
    "language_info": {
      "name": "python"
    }
  },
  "cells": [
    {
      "cell_type": "markdown",
      "metadata": {
        "id": "view-in-github",
        "colab_type": "text"
      },
      "source": [
        "<a href=\"https://colab.research.google.com/github/catssci/TIL/blob/main/CodingTest/kakao/2021_kakao_internship.ipynb\" target=\"_parent\"><img src=\"https://colab.research.google.com/assets/colab-badge.svg\" alt=\"Open In Colab\"/></a>"
      ]
    },
    {
      "cell_type": "markdown",
      "source": [
        "- https://programmers.co.kr/learn/challenges"
      ],
      "metadata": {
        "id": "bqvUwda4bK54"
      }
    },
    {
      "cell_type": "markdown",
      "source": [
        "# 숫자 문자열과 영단어"
      ],
      "metadata": {
        "id": "iY2C5LWkbX3Z"
      }
    },
    {
      "cell_type": "code",
      "source": [
        "def solution(s):\n",
        "    dic = {\"zero\": \"0\", \"one\": \"1\", \"two\": \"2\", \"three\": \"3\", \"four\": \"4\",\n",
        "           \"five\": \"5\", \"six\": \"6\", \"seven\": \"7\", \"eight\": \"8\", \"nine\": \"9\"}\n",
        "    answer = \"\"\n",
        "    temp = \"\"\n",
        "    for t in s:\n",
        "        # 숫자 일때\n",
        "        if t.isdigit():\n",
        "            answer += t\n",
        "        else:\n",
        "            temp += t\n",
        "            if temp in dic:\n",
        "                answer += dic[temp]\n",
        "                temp = \"\"\n",
        "    return int(answer)"
      ],
      "metadata": {
        "id": "gk_zE64PbkY6"
      },
      "execution_count": null,
      "outputs": []
    },
    {
      "cell_type": "code",
      "source": [
        "string = [\"one4seveneight\", \"23four5six7\", \"2three45sixseven\", \"123\"]"
      ],
      "metadata": {
        "id": "JAnVO5wRbahU"
      },
      "execution_count": null,
      "outputs": []
    },
    {
      "cell_type": "code",
      "source": [
        "for s in string:\n",
        "  print(solution(s))"
      ],
      "metadata": {
        "colab": {
          "base_uri": "https://localhost:8080/"
        },
        "id": "Ol1pXaxybj_s",
        "outputId": "f18ca3b8-6749-40ca-aa9f-1dc6c9904855"
      },
      "execution_count": null,
      "outputs": [
        {
          "output_type": "stream",
          "name": "stdout",
          "text": [
            "1478\n",
            "234567\n",
            "234567\n",
            "123\n"
          ]
        }
      ]
    },
    {
      "cell_type": "markdown",
      "source": [
        "# 02. 거리두기 확인하기"
      ],
      "metadata": {
        "id": "drg2DZEFXcgK"
      }
    },
    {
      "cell_type": "code",
      "source": [
        "from collections import deque\n",
        "\n",
        "def bfs(place):\n",
        "    start = []\n",
        "    \n",
        "    for i in range(5):                        # P 좌표 구하기\n",
        "        for j in range(5):\n",
        "            if place[i][j] == 'P':\n",
        "                start.append([i, j])\n",
        "    \n",
        "    for s in start:\n",
        "        queue = deque([s])                    # 큐에 초기값\n",
        "        visited = [[0]*5 for i in range(5)]   # 방문 처리 리스트\n",
        "        distance = [[0]*5 for i in range(5)]  # 경로 길이 리스트\n",
        "        visited[s[0]][s[1]] = 1\n",
        "        \n",
        "        while queue:\n",
        "            x, y = queue.popleft()\n",
        "        \n",
        "            dx = [-1, 1, 0, 0]  # 좌우\n",
        "            dy = [0, 0, -1, 1]  # 상하\n",
        "\n",
        "            for i in range(4):\n",
        "                nx = x + dx[i]\n",
        "                ny = y + dy[i]\n",
        "\n",
        "                if 0<=nx<5 and 0<=ny<5 and visited[nx][ny] == 0:\n",
        "                    \n",
        "                    if place[nx][ny] == 'O':\n",
        "                        queue.append([nx, ny])\n",
        "                        visited[nx][ny] = 1\n",
        "                        distance[nx][ny] = distance[x][y] + 1\n",
        "                    \n",
        "                    if place[nx][ny] == 'P' and distance[x][y] <= 1: # 두 점 사이의 거리가 2이하이고, 두 점 사이에 X가 없는 경우\n",
        "                        return 0\n",
        "    return 1\n",
        "\n",
        "\n",
        "def solution(places):\n",
        "    answer = []\n",
        "    \n",
        "    for place in places:\n",
        "        answer.append(bfs(place))\n",
        "    \n",
        "    return answer"
      ],
      "metadata": {
        "id": "L-eOsNjHXejn"
      },
      "execution_count": 9,
      "outputs": []
    },
    {
      "cell_type": "code",
      "source": [
        "places = [[\"POOOP\", \"OXXOX\", \"OPXPX\", \"OOXOX\", \"POXXP\"], [\"POOPX\", \"OXPXP\", \"PXXXO\", \"OXXXO\", \"OOOPP\"], [\"PXOPX\", \"OXOXP\", \"OXPOX\", \"OXXOP\", \"PXPOX\"], [\"OOOXX\", \"XOOOX\", \"OOOXX\", \"OXOOX\", \"OOOOO\"], [\"PXPXP\", \"XPXPX\", \"PXPXP\", \"XPXPX\", \"PXPXP\"]]"
      ],
      "metadata": {
        "id": "0jl6Pt9FdSNX"
      },
      "execution_count": 10,
      "outputs": []
    },
    {
      "cell_type": "code",
      "source": [
        "print(solution(places))"
      ],
      "metadata": {
        "colab": {
          "base_uri": "https://localhost:8080/"
        },
        "id": "l2iNx83CdWDb",
        "outputId": "ba9d7baf-3950-4dba-a6a0-9e8344575e66"
      },
      "execution_count": 11,
      "outputs": [
        {
          "output_type": "stream",
          "name": "stdout",
          "text": [
            "[1, 0, 1, 1, 1]\n"
          ]
        }
      ]
    },
    {
      "cell_type": "code",
      "source": [
        ""
      ],
      "metadata": {
        "id": "BudRIx0mhCou"
      },
      "execution_count": null,
      "outputs": []
    }
  ]
}