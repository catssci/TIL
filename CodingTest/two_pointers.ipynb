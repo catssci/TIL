{
  "nbformat": 4,
  "nbformat_minor": 0,
  "metadata": {
    "colab": {
      "name": "two_pointers.ipynb",
      "provenance": [],
      "authorship_tag": "ABX9TyOLDywtjJO0SqPronXVi0Fc",
      "include_colab_link": true
    },
    "kernelspec": {
      "name": "python3",
      "display_name": "Python 3"
    },
    "language_info": {
      "name": "python"
    }
  },
  "cells": [
    {
      "cell_type": "markdown",
      "metadata": {
        "id": "view-in-github",
        "colab_type": "text"
      },
      "source": [
        "<a href=\"https://colab.research.google.com/github/catssci/TIL/blob/main/CodingTest/two_pointers.ipynb\" target=\"_parent\"><img src=\"https://colab.research.google.com/assets/colab-badge.svg\" alt=\"Open In Colab\"/></a>"
      ]
    },
    {
      "cell_type": "markdown",
      "source": [
        "## 특정한 합을 가지는 부분 연속 수열 찾기"
      ],
      "metadata": {
        "id": "L77XX7pfT3Mt"
      }
    },
    {
      "cell_type": "code",
      "source": [
        "data = list(map(int, input().split()))\n",
        "n = len(data)\n",
        "m = int(input())\n",
        "\n",
        "count = 0\n",
        "interval_sum = 0\n",
        "end = 0\n",
        "\n",
        "for start in range(n):\n",
        "  while interval_sum < m and end < n:\n",
        "    interval_sum += data[end]\n",
        "    end += 1\n",
        "  \n",
        "  if interval_sum == m:\n",
        "    count += 1\n",
        "\n",
        "  interval_sum -= data[start]\n",
        "\n",
        "print(count)"
      ],
      "metadata": {
        "colab": {
          "base_uri": "https://localhost:8080/"
        },
        "id": "FauGksJfUDlB",
        "outputId": "4f6c8a6b-c344-474e-a11f-0e6bb795a1ca"
      },
      "execution_count": 2,
      "outputs": [
        {
          "output_type": "stream",
          "name": "stdout",
          "text": [
            "1 2 3 2 5\n",
            "5\n",
            "3\n"
          ]
        }
      ]
    },
    {
      "cell_type": "markdown",
      "source": [
        "## 정렬되어 있는 두 리스트의 합집합"
      ],
      "metadata": {
        "id": "YXEE8FIrUuMa"
      }
    },
    {
      "cell_type": "code",
      "source": [
        "list1 = list(map(int, input().split()))\n",
        "list2 = list(map(int, input().split()))\n",
        "\n",
        "s1 = 0\n",
        "s2 = 0\n",
        "\n",
        "n, m = len(list1), len(list2)\n",
        "\n",
        "result = [0] * (n + m)\n",
        "i, j, k = 0, 0, 0\n",
        "\n",
        "while i < n or j < m:\n",
        "  if j >= m or (i < n and list1[i] <= list2[j]):\n",
        "    result[k] = list1[i]\n",
        "    i += 1\n",
        "  else:\n",
        "    result[k] = list2[j]\n",
        "    j += 1\n",
        "  k += 1\n",
        "\n",
        "for i in result:\n",
        "  print(i, end = ' ')"
      ],
      "metadata": {
        "colab": {
          "base_uri": "https://localhost:8080/"
        },
        "id": "OeOODcDfU4aJ",
        "outputId": "7696d46c-e464-4416-feab-318944452215"
      },
      "execution_count": 3,
      "outputs": [
        {
          "output_type": "stream",
          "name": "stdout",
          "text": [
            "1 3 5\n",
            "2 4 6 8\n",
            "1 2 3 4 5 6 8 "
          ]
        }
      ]
    }
  ]
}