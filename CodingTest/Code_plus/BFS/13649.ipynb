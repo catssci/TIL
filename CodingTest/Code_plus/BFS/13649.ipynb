{
  "nbformat": 4,
  "nbformat_minor": 0,
  "metadata": {
    "colab": {
      "name": "13649.ipynb",
      "provenance": [],
      "collapsed_sections": [],
      "authorship_tag": "ABX9TyPWGWcRlPVVASOYhe9dj3CD",
      "include_colab_link": true
    },
    "kernelspec": {
      "name": "python3",
      "display_name": "Python 3"
    },
    "language_info": {
      "name": "python"
    }
  },
  "cells": [
    {
      "cell_type": "markdown",
      "metadata": {
        "id": "view-in-github",
        "colab_type": "text"
      },
      "source": [
        "<a href=\"https://colab.research.google.com/github/catssci/TIL/blob/main/CodingTest/Code_plus/BFS/13649.ipynb\" target=\"_parent\"><img src=\"https://colab.research.google.com/assets/colab-badge.svg\" alt=\"Open In Colab\"/></a>"
      ]
    },
    {
      "cell_type": "code",
      "execution_count": 14,
      "metadata": {
        "colab": {
          "base_uri": "https://localhost:8080/"
        },
        "id": "hGtWtQg9oY0U",
        "outputId": "b1d23772-603c-4df3-95d9-8f397017b050"
      },
      "outputs": [
        {
          "output_type": "stream",
          "name": "stdout",
          "text": [
            "5 17\n",
            "2\n"
          ]
        }
      ],
      "source": [
        "from collections import deque\n",
        "\n",
        "n, k = map(int, input().split())\n",
        "\n",
        "arr = [-1] * 100001\n",
        "\n",
        "q = deque([n])\n",
        "arr[n] = 0\n",
        "while q:\n",
        "    t = q.popleft()\n",
        "    if t == k:\n",
        "        print(arr[k])\n",
        "        break\n",
        "        \n",
        "    if 0 <= t-1 < 100001 and arr[t-1] == -1:\n",
        "        arr[t-1] = arr[t] + 1\n",
        "        q.append(t-1)\n",
        "    if 0 < t*2 < 100001 and arr[t*2] == -1:\n",
        "        arr[t*2] = arr[t]\n",
        "        q.appendleft(t*2) # 2*s 가 다른 연산보다 더 높은 우선순위를 가지기 위함 \n",
        "    if 0 <= t+1 < 100001 and arr[t+1] == -1:\n",
        "        arr[t+1] = arr[t] + 1 \n",
        "        q.append(t+1)"
      ]
    }
  ]
}