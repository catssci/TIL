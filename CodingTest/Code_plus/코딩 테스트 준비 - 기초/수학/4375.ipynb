{
  "nbformat": 4,
  "nbformat_minor": 0,
  "metadata": {
    "colab": {
      "name": "4375.ipynb",
      "provenance": [],
      "collapsed_sections": [],
      "authorship_tag": "ABX9TyN0ep61vlxHYVanT4Ru8Xpz",
      "include_colab_link": true
    },
    "kernelspec": {
      "name": "python3",
      "display_name": "Python 3"
    },
    "language_info": {
      "name": "python"
    }
  },
  "cells": [
    {
      "cell_type": "markdown",
      "metadata": {
        "id": "view-in-github",
        "colab_type": "text"
      },
      "source": [
        "<a href=\"https://colab.research.google.com/github/catssci/TIL/blob/main/CodingTest/Code_plus/%EC%BD%94%EB%94%A9%20%ED%85%8C%EC%8A%A4%ED%8A%B8%20%EC%A4%80%EB%B9%84%20-%20%EA%B8%B0%EC%B4%88/%EC%88%98%ED%95%99/4375.ipynb\" target=\"_parent\"><img src=\"https://colab.research.google.com/assets/colab-badge.svg\" alt=\"Open In Colab\"/></a>"
      ]
    },
    {
      "cell_type": "code",
      "execution_count": 11,
      "metadata": {
        "colab": {
          "base_uri": "https://localhost:8080/"
        },
        "id": "FAiNhkB_OiCN",
        "outputId": "e2915d09-05ea-4988-d245-a01df7641982"
      },
      "outputs": [
        {
          "name": "stdout",
          "output_type": "stream",
          "text": [
            "3\n",
            "3\n",
            "7\n",
            "6\n",
            "9901\n",
            "12\n",
            "\n"
          ]
        }
      ],
      "source": [
        "while True:\n",
        "    try:\n",
        "        n = input()\n",
        "        l = len(n)\n",
        "        n = int(n)\n",
        "    except:\n",
        "        break\n",
        "        \n",
        "    while True:\n",
        "        temp = '1' * l\n",
        "        if int(temp) % n == 0:\n",
        "            print(l)\n",
        "            break\n",
        "        l += 1"
      ]
    }
  ]
}