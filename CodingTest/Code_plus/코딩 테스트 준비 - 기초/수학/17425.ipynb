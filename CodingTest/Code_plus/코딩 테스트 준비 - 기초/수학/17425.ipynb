{
  "nbformat": 4,
  "nbformat_minor": 0,
  "metadata": {
    "colab": {
      "name": "17425.ipynb",
      "provenance": [],
      "collapsed_sections": [],
      "authorship_tag": "ABX9TyPv9iFDvO/0gONLXVtGdtqz",
      "include_colab_link": true
    },
    "kernelspec": {
      "name": "python3",
      "display_name": "Python 3"
    },
    "language_info": {
      "name": "python"
    }
  },
  "cells": [
    {
      "cell_type": "markdown",
      "metadata": {
        "id": "view-in-github",
        "colab_type": "text"
      },
      "source": [
        "<a href=\"https://colab.research.google.com/github/catssci/TIL/blob/main/CodingTest/Code_plus/%EC%BD%94%EB%94%A9%20%ED%85%8C%EC%8A%A4%ED%8A%B8%20%EC%A4%80%EB%B9%84%20-%20%EA%B8%B0%EC%B4%88/%EC%88%98%ED%95%99/17425.ipynb\" target=\"_parent\"><img src=\"https://colab.research.google.com/assets/colab-badge.svg\" alt=\"Open In Colab\"/></a>"
      ]
    },
    {
      "cell_type": "code",
      "execution_count": 3,
      "metadata": {
        "colab": {
          "base_uri": "https://localhost:8080/"
        },
        "id": "LuIk65iviYyz",
        "outputId": "929d562d-7a4a-44e0-950f-ba9ae06e0d19"
      },
      "outputs": [
        {
          "output_type": "stream",
          "name": "stdout",
          "text": [
            "5\n",
            "1\n",
            "2\n",
            "10\n",
            "70\n",
            "10000\n",
            "1\n",
            "4\n",
            "87\n",
            "4065\n",
            "82256014\n",
            "\n"
          ]
        }
      ],
      "source": [
        "# 최대값 설정\n",
        "MAX=1000000\n",
        "\n",
        "# DP 1로 초기화\n",
        "dp = [1]*(MAX+1)\n",
        "\n",
        "# S: 값 누적 리스트\n",
        "s = [0]*(MAX+1)\n",
        "\n",
        "for i in range(2, MAX+1):\n",
        "    j = 1\n",
        "    while i * j <= MAX:\n",
        "    \t# i의 배수에 값 추가\n",
        "        dp[i * j] += i\n",
        "        j += 1\n",
        "\n",
        "for i in range(1, MAX + 1):\n",
        "\t# 누적 값 계산\n",
        "    s[i] = s[i - 1] + dp[i]\n",
        "\n",
        "t = int(input())\n",
        "ans=[]\n",
        "for _ in range(t):\n",
        "    n = int(input())\n",
        "    ans.append(s[n])\n",
        "print('\\n'.join(map(str, ans))+'\\n')"
      ]
    }
  ]
}