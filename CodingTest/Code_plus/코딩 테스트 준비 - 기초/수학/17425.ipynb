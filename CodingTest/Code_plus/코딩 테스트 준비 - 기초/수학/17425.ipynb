{
  "nbformat": 4,
  "nbformat_minor": 0,
  "metadata": {
    "colab": {
      "name": "17425.ipynb",
      "provenance": [],
      "collapsed_sections": [],
      "authorship_tag": "ABX9TyMIhwe+j1PmH1zzbnC1TdLy",
      "include_colab_link": true
    },
    "kernelspec": {
      "name": "python3",
      "display_name": "Python 3"
    },
    "language_info": {
      "name": "python"
    }
  },
  "cells": [
    {
      "cell_type": "markdown",
      "metadata": {
        "id": "view-in-github",
        "colab_type": "text"
      },
      "source": [
        "<a href=\"https://colab.research.google.com/github/catssci/TIL/blob/main/CodingTest/Code_plus/%EC%BD%94%EB%94%A9%20%ED%85%8C%EC%8A%A4%ED%8A%B8%20%EC%A4%80%EB%B9%84%20-%20%EA%B8%B0%EC%B4%88/%EC%88%98%ED%95%99/17425.ipynb\" target=\"_parent\"><img src=\"https://colab.research.google.com/assets/colab-badge.svg\" alt=\"Open In Colab\"/></a>"
      ]
    },
    {
      "cell_type": "code",
      "execution_count": 1,
      "metadata": {
        "colab": {
          "base_uri": "https://localhost:8080/"
        },
        "id": "LuIk65iviYyz",
        "outputId": "3bba5d6a-8d16-4258-9565-e1b1a2896234"
      },
      "outputs": [
        {
          "output_type": "stream",
          "name": "stdout",
          "text": [
            "5\n",
            "1\n",
            "1\n",
            "2\n",
            "3\n",
            "10\n",
            "70\n",
            "70\n",
            "3455\n",
            "10000\n",
            "81560552\n"
          ]
        }
      ],
      "source": [
        "t = int(input())\n",
        "arr = [0] * 1000001\n",
        "end = 0\n",
        "\n",
        "for _ in range(t):\n",
        "    n = int(input())\n",
        "    \n",
        "    ans = arr[min(end, n)]\n",
        "    s = min(end + 1, n + 1)\n",
        "    for i in range(s, n + 1):\n",
        "        ans += i * (n // i)\n",
        "        if arr[i] == 0:\n",
        "            arr[i] = ans\n",
        "            end += 1\n",
        "    print(ans)"
      ]
    }
  ]
}