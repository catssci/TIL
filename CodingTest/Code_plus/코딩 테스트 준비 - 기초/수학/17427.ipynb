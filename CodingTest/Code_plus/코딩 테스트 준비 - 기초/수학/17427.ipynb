{
  "nbformat": 4,
  "nbformat_minor": 0,
  "metadata": {
    "colab": {
      "name": "17427.ipynb",
      "provenance": [],
      "collapsed_sections": [],
      "authorship_tag": "ABX9TyOCXO1lmLVupElVDACqn7LT",
      "include_colab_link": true
    },
    "kernelspec": {
      "name": "python3",
      "display_name": "Python 3"
    },
    "language_info": {
      "name": "python"
    }
  },
  "cells": [
    {
      "cell_type": "markdown",
      "metadata": {
        "id": "view-in-github",
        "colab_type": "text"
      },
      "source": [
        "<a href=\"https://colab.research.google.com/github/catssci/TIL/blob/main/CodingTest/Code_plus/%EC%BD%94%EB%94%A9%20%ED%85%8C%EC%8A%A4%ED%8A%B8%20%EC%A4%80%EB%B9%84%20-%20%EA%B8%B0%EC%B4%88/%EC%88%98%ED%95%99/17427.ipynb\" target=\"_parent\"><img src=\"https://colab.research.google.com/assets/colab-badge.svg\" alt=\"Open In Colab\"/></a>"
      ]
    },
    {
      "cell_type": "code",
      "execution_count": 1,
      "metadata": {
        "colab": {
          "base_uri": "https://localhost:8080/"
        },
        "id": "m5cvZ2FKWm4b",
        "outputId": "3b4e6834-e7bb-4ad1-a587-80f23e735fa8"
      },
      "outputs": [
        {
          "output_type": "stream",
          "name": "stdout",
          "text": [
            "10000\n",
            "82256014\n"
          ]
        }
      ],
      "source": [
        "n = int(input())\n",
        "ans = 0\n",
        "for i in range(1, n + 1):\n",
        "    ans += i * (n // i)\n",
        "print(ans)"
      ]
    }
  ]
}