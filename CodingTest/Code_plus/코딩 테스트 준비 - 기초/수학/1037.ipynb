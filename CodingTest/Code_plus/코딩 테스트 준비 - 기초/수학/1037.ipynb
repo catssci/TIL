{
  "nbformat": 4,
  "nbformat_minor": 0,
  "metadata": {
    "colab": {
      "name": "1037.ipynb",
      "provenance": [],
      "collapsed_sections": [],
      "authorship_tag": "ABX9TyPi8IVMMFKV+tBjCgRrn7Sh",
      "include_colab_link": true
    },
    "kernelspec": {
      "name": "python3",
      "display_name": "Python 3"
    },
    "language_info": {
      "name": "python"
    }
  },
  "cells": [
    {
      "cell_type": "markdown",
      "metadata": {
        "id": "view-in-github",
        "colab_type": "text"
      },
      "source": [
        "<a href=\"https://colab.research.google.com/github/catssci/TIL/blob/main/CodingTest/Code_plus/%EC%BD%94%EB%94%A9%20%ED%85%8C%EC%8A%A4%ED%8A%B8%20%EC%A4%80%EB%B9%84%20-%20%EA%B8%B0%EC%B4%88/%EC%88%98%ED%95%99/1037.ipynb\" target=\"_parent\"><img src=\"https://colab.research.google.com/assets/colab-badge.svg\" alt=\"Open In Colab\"/></a>"
      ]
    },
    {
      "cell_type": "code",
      "source": [
        "n = int(input())\n",
        "arr = list(map(int, input().split()))\n",
        "arr.sort()\n",
        "\n",
        "print(arr[0] * arr[-1])"
      ],
      "metadata": {
        "colab": {
          "base_uri": "https://localhost:8080/"
        },
        "id": "mJGty5ofSYe3",
        "outputId": "ce7e55fb-fb17-40c2-f70f-9e2e3006a8fa"
      },
      "execution_count": 5,
      "outputs": [
        {
          "output_type": "stream",
          "name": "stdout",
          "text": [
            "14\n",
            "14 26456 2 28 13228 3307 7 23149 8 6614 46298 56 4 92596\n",
            "185192\n"
          ]
        }
      ]
    },
    {
      "cell_type": "code",
      "execution_count": 4,
      "metadata": {
        "colab": {
          "base_uri": "https://localhost:8080/"
        },
        "id": "kCXSKEt6Rz2C",
        "outputId": "53396925-8318-4b1a-a4fe-ce5a01511b71"
      },
      "outputs": [
        {
          "output_type": "stream",
          "name": "stdout",
          "text": [
            "14\n",
            "14 26456 2 28 13228 3307 7 23149 8 6614 46298 56 4 92596\n",
            "185192\n"
          ]
        }
      ],
      "source": [
        "n = int(input())\n",
        "arr = list(map(int, input().split()))\n",
        "\n",
        "print(min(arr) * max(arr))"
      ]
    }
  ]
}