{
  "nbformat": 4,
  "nbformat_minor": 0,
  "metadata": {
    "colab": {
      "name": "Untitled0.ipynb",
      "provenance": [],
      "authorship_tag": "ABX9TyOL4b7Rpy3eNnr+4bSCd1u0",
      "include_colab_link": true
    },
    "kernelspec": {
      "name": "python3",
      "display_name": "Python 3"
    },
    "language_info": {
      "name": "python"
    }
  },
  "cells": [
    {
      "cell_type": "markdown",
      "metadata": {
        "id": "view-in-github",
        "colab_type": "text"
      },
      "source": [
        "<a href=\"https://colab.research.google.com/github/catssci/TIL/blob/main/CodingTest/Code_plus/%EC%BD%94%EB%94%A9%20%ED%85%8C%EC%8A%A4%ED%8A%B8%20%EC%A4%80%EB%B9%84%20-%20%EA%B8%B0%EC%B4%88/%EC%88%98%ED%95%99/6588.ipynb\" target=\"_parent\"><img src=\"https://colab.research.google.com/assets/colab-badge.svg\" alt=\"Open In Colab\"/></a>"
      ]
    },
    {
      "cell_type": "code",
      "execution_count": 3,
      "metadata": {
        "colab": {
          "base_uri": "https://localhost:8080/"
        },
        "id": "AMc7K61DdOml",
        "outputId": "ad95e314-7b0a-4898-a1f6-2d0c207c0813"
      },
      "outputs": [
        {
          "name": "stdout",
          "output_type": "stream",
          "text": [
            "8\n",
            "8 = 3 + 5\n",
            "20\n",
            "20 = 3 + 17\n",
            "42\n",
            "42 = 5 + 37\n",
            "0\n"
          ]
        }
      ],
      "source": [
        "MAX = 1000001\n",
        "\n",
        "is_prime = [True] * MAX\n",
        "is_prime[0] = False\n",
        "is_prime[1] = False\n",
        "\n",
        "for p in range(2, MAX):\n",
        "    if is_prime[p] == True:\n",
        "        x = 2\n",
        "        while p * x < MAX:\n",
        "            is_prime[p * x] = False\n",
        "            x += 1\n",
        "\n",
        "while True:\n",
        "    x = int(input())\n",
        "    if x == 0:\n",
        "        break\n",
        "    \n",
        "    for i in range(3, MAX, 2):\n",
        "        if is_prime[i] and is_prime[x - i]:\n",
        "            print(x, \"=\", i, \"+\", x - i)\n",
        "            break"
      ]
    }
  ]
}