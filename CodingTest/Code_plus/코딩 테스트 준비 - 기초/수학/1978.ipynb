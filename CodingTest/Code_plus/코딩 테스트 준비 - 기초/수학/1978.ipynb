{
  "nbformat": 4,
  "nbformat_minor": 0,
  "metadata": {
    "colab": {
      "name": "1978.ipynb",
      "provenance": [],
      "collapsed_sections": [],
      "authorship_tag": "ABX9TyOtBDsa65fENZUSOGDPz6tu",
      "include_colab_link": true
    },
    "kernelspec": {
      "name": "python3",
      "display_name": "Python 3"
    },
    "language_info": {
      "name": "python"
    }
  },
  "cells": [
    {
      "cell_type": "markdown",
      "metadata": {
        "id": "view-in-github",
        "colab_type": "text"
      },
      "source": [
        "<a href=\"https://colab.research.google.com/github/catssci/TIL/blob/main/CodingTest/Code_plus/%EC%BD%94%EB%94%A9%20%ED%85%8C%EC%8A%A4%ED%8A%B8%20%EC%A4%80%EB%B9%84%20-%20%EA%B8%B0%EC%B4%88/%EC%88%98%ED%95%99/1978.ipynb\" target=\"_parent\"><img src=\"https://colab.research.google.com/assets/colab-badge.svg\" alt=\"Open In Colab\"/></a>"
      ]
    },
    {
      "cell_type": "code",
      "execution_count": 1,
      "metadata": {
        "colab": {
          "base_uri": "https://localhost:8080/"
        },
        "id": "SMbG9WrsXd3V",
        "outputId": "2cd093e0-5fb1-4e0f-f011-52cc0c2a85a0"
      },
      "outputs": [
        {
          "output_type": "stream",
          "name": "stdout",
          "text": [
            "4\n",
            "1 3 5 7\n",
            "3\n"
          ]
        }
      ],
      "source": [
        "n = int(input())\n",
        "data = list(map(int, input().split()))\n",
        "\n",
        "prime = [2, 3, 5]\n",
        "for i in range(6, 1001):\n",
        "    is_prime = False\n",
        "    for j in prime:\n",
        "        if i % j == 0:\n",
        "            is_prime = False\n",
        "            break\n",
        "        is_prime = True\n",
        "    if is_prime:\n",
        "        prime.append(i)\n",
        "\n",
        "ans = 0\n",
        "for d in data:\n",
        "    if d in prime:\n",
        "        ans += 1\n",
        "print(ans)"
      ]
    }
  ]
}