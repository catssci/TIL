{
  "nbformat": 4,
  "nbformat_minor": 0,
  "metadata": {
    "colab": {
      "name": "1929.ipynb",
      "provenance": [],
      "authorship_tag": "ABX9TyPDKyIpqiBiK8HCyK6qGa7Q",
      "include_colab_link": true
    },
    "kernelspec": {
      "name": "python3",
      "display_name": "Python 3"
    },
    "language_info": {
      "name": "python"
    }
  },
  "cells": [
    {
      "cell_type": "markdown",
      "metadata": {
        "id": "view-in-github",
        "colab_type": "text"
      },
      "source": [
        "<a href=\"https://colab.research.google.com/github/catssci/TIL/blob/main/CodingTest/Code_plus/%EC%BD%94%EB%94%A9%20%ED%85%8C%EC%8A%A4%ED%8A%B8%20%EC%A4%80%EB%B9%84%20-%20%EA%B8%B0%EC%B4%88/%EC%88%98%ED%95%99/1929.ipynb\" target=\"_parent\"><img src=\"https://colab.research.google.com/assets/colab-badge.svg\" alt=\"Open In Colab\"/></a>"
      ]
    },
    {
      "cell_type": "code",
      "execution_count": 4,
      "metadata": {
        "colab": {
          "base_uri": "https://localhost:8080/"
        },
        "id": "d4dkJGnXZXV3",
        "outputId": "325e72d8-c124-44c6-9b4c-f72fbe02f626"
      },
      "outputs": [
        {
          "output_type": "stream",
          "name": "stdout",
          "text": [
            "3 16\n",
            "3\n",
            "5\n",
            "7\n",
            "11\n",
            "13\n"
          ]
        }
      ],
      "source": [
        "MAX = 1000001\n",
        "\n",
        "is_prime = [True] * MAX\n",
        "is_prime[0] = False\n",
        "is_prime[1] = False\n",
        "\n",
        "for p in range(2, MAX):\n",
        "    if is_prime[p] == True:\n",
        "        x = 2\n",
        "        while p * x < MAX:\n",
        "            is_prime[p * x] = False\n",
        "            x += 1\n",
        "\n",
        "s, e = map(int, input().split())\n",
        "\n",
        "for i in range(s, e + 1):\n",
        "    if is_prime[i] == True:\n",
        "        print(i)"
      ]
    }
  ]
}