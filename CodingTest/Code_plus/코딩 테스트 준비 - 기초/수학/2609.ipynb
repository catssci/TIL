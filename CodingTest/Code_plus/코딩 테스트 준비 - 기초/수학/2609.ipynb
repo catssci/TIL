{
  "nbformat": 4,
  "nbformat_minor": 0,
  "metadata": {
    "colab": {
      "name": "2609.ipynb",
      "provenance": [],
      "authorship_tag": "ABX9TyMqSVLUpNR0Vz2cOGuUKNmV",
      "include_colab_link": true
    },
    "kernelspec": {
      "name": "python3",
      "display_name": "Python 3"
    },
    "language_info": {
      "name": "python"
    }
  },
  "cells": [
    {
      "cell_type": "markdown",
      "metadata": {
        "id": "view-in-github",
        "colab_type": "text"
      },
      "source": [
        "<a href=\"https://colab.research.google.com/github/catssci/TIL/blob/main/CodingTest/Code_plus/%EC%BD%94%EB%94%A9%20%ED%85%8C%EC%8A%A4%ED%8A%B8%20%EC%A4%80%EB%B9%84%20-%20%EA%B8%B0%EC%B4%88/%EC%88%98%ED%95%99/2609.ipynb\" target=\"_parent\"><img src=\"https://colab.research.google.com/assets/colab-badge.svg\" alt=\"Open In Colab\"/></a>"
      ]
    },
    {
      "cell_type": "code",
      "execution_count": 2,
      "metadata": {
        "colab": {
          "base_uri": "https://localhost:8080/"
        },
        "id": "XtCClzRCWx9b",
        "outputId": "6fd819cc-a40a-4130-8bc1-0774f5c5b6aa"
      },
      "outputs": [
        {
          "output_type": "stream",
          "name": "stdout",
          "text": [
            "234 645\n",
            "3\n",
            "50310\n"
          ]
        }
      ],
      "source": [
        "a, b = map(int, input().split())\n",
        "\n",
        "# 유클리드 호제법\n",
        "def gcd(n, m):\n",
        "    mod = m % n\n",
        "    if mod != 0:\n",
        "        m, n = n, mod\n",
        "        return gcd(n, m)\n",
        "    else:\n",
        "        return n\n",
        "\n",
        "print(gcd(a, b))\n",
        "print(int(b * a / gcd(a, b)))"
      ]
    }
  ]
}