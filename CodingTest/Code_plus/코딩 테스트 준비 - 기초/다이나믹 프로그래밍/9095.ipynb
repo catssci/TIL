{
  "nbformat": 4,
  "nbformat_minor": 0,
  "metadata": {
    "colab": {
      "name": "9095.ipynb",
      "provenance": [],
      "collapsed_sections": [],
      "authorship_tag": "ABX9TyNs7ez33O8JZg/OZiwhlhSB",
      "include_colab_link": true
    },
    "kernelspec": {
      "name": "python3",
      "display_name": "Python 3"
    },
    "language_info": {
      "name": "python"
    }
  },
  "cells": [
    {
      "cell_type": "markdown",
      "metadata": {
        "id": "view-in-github",
        "colab_type": "text"
      },
      "source": [
        "<a href=\"https://colab.research.google.com/github/catssci/TIL/blob/main/CodingTest/Code_plus/%EC%BD%94%EB%94%A9%20%ED%85%8C%EC%8A%A4%ED%8A%B8%20%EC%A4%80%EB%B9%84%20-%20%EA%B8%B0%EC%B4%88/%EB%8B%A4%EC%9D%B4%EB%82%98%EB%AF%B9%20%ED%94%84%EB%A1%9C%EA%B7%B8%EB%9E%98%EB%B0%8D/9095.ipynb\" target=\"_parent\"><img src=\"https://colab.research.google.com/assets/colab-badge.svg\" alt=\"Open In Colab\"/></a>"
      ]
    },
    {
      "cell_type": "code",
      "execution_count": 1,
      "metadata": {
        "colab": {
          "base_uri": "https://localhost:8080/"
        },
        "id": "pnpJ8AhDRT8M",
        "outputId": "aea2fc70-4597-451a-e2dd-6de82df89a55"
      },
      "outputs": [
        {
          "output_type": "stream",
          "name": "stdout",
          "text": [
            "3\n",
            "4\n",
            "7\n",
            "7\n",
            "44\n",
            "10\n",
            "274\n"
          ]
        }
      ],
      "source": [
        "MAX = 12\n",
        "\n",
        "T = int(input())\n",
        "array = [0] * MAX\n",
        "array[1] = 1\n",
        "array[2] = 2\n",
        "array[3] = 4\n",
        "\n",
        "for _ in range(T):\n",
        "    n = int(input())\n",
        "    if array[n] == 0:\n",
        "        for i in range(4, n + 1):\n",
        "            array[i] = array[i - 1] + array[i - 2] + array[i - 3]\n",
        "    print(array[n])"
      ]
    }
  ]
}