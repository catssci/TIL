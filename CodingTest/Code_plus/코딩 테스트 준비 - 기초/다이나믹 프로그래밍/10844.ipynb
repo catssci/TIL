{
  "nbformat": 4,
  "nbformat_minor": 0,
  "metadata": {
    "colab": {
      "name": "10844.ipynb",
      "provenance": [],
      "collapsed_sections": [],
      "authorship_tag": "ABX9TyO7VLyNBqWebXyFShp+zqfn",
      "include_colab_link": true
    },
    "kernelspec": {
      "name": "python3",
      "display_name": "Python 3"
    },
    "language_info": {
      "name": "python"
    }
  },
  "cells": [
    {
      "cell_type": "markdown",
      "metadata": {
        "id": "view-in-github",
        "colab_type": "text"
      },
      "source": [
        "<a href=\"https://colab.research.google.com/github/catssci/TIL/blob/main/CodingTest/Code_plus/%EC%BD%94%EB%94%A9%20%ED%85%8C%EC%8A%A4%ED%8A%B8%20%EC%A4%80%EB%B9%84%20-%20%EA%B8%B0%EC%B4%88/%EB%8B%A4%EC%9D%B4%EB%82%98%EB%AF%B9%20%ED%94%84%EB%A1%9C%EA%B7%B8%EB%9E%98%EB%B0%8D/10844.ipynb\" target=\"_parent\"><img src=\"https://colab.research.google.com/assets/colab-badge.svg\" alt=\"Open In Colab\"/></a>"
      ]
    },
    {
      "cell_type": "code",
      "execution_count": 1,
      "metadata": {
        "colab": {
          "base_uri": "https://localhost:8080/"
        },
        "id": "bys6MpyHjqPJ",
        "outputId": "063516b9-46a8-453d-82f3-2742fc711e99"
      },
      "outputs": [
        {
          "output_type": "stream",
          "name": "stdout",
          "text": [
            "10\n",
            "2986\n"
          ]
        }
      ],
      "source": [
        "n = int(input())\n",
        "dp = [[0 for i in range(10)] for j in range(101)]\n",
        "\n",
        "for i in range(1, 10):\n",
        "    dp[1][i] = 1\n",
        "    \n",
        "for i in range(2, n + 1):\n",
        "    for j in range(10):\n",
        "        if j == 0:\n",
        "            dp[i][j] = dp[i - 1][1]\n",
        "        elif j == 9:\n",
        "            dp[i][j] = dp[i - 1][8]\n",
        "        else:\n",
        "            dp[i][j] = dp[i - 1][j - 1] + dp[i - 1][j + 1]\n",
        "            \n",
        "print(sum(dp[n]) % 1000000000)"
      ]
    }
  ]
}