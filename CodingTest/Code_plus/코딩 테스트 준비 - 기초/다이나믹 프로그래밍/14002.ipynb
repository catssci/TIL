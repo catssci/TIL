{
  "nbformat": 4,
  "nbformat_minor": 0,
  "metadata": {
    "colab": {
      "name": "14002.ipynb",
      "provenance": [],
      "collapsed_sections": [],
      "authorship_tag": "ABX9TyPOLwHnR/SCdMWu/Onz1NGl",
      "include_colab_link": true
    },
    "kernelspec": {
      "name": "python3",
      "display_name": "Python 3"
    },
    "language_info": {
      "name": "python"
    }
  },
  "cells": [
    {
      "cell_type": "markdown",
      "metadata": {
        "id": "view-in-github",
        "colab_type": "text"
      },
      "source": [
        "<a href=\"https://colab.research.google.com/github/catssci/TIL/blob/main/CodingTest/Code_plus/%EC%BD%94%EB%94%A9%20%ED%85%8C%EC%8A%A4%ED%8A%B8%20%EC%A4%80%EB%B9%84%20-%20%EA%B8%B0%EC%B4%88/%EB%8B%A4%EC%9D%B4%EB%82%98%EB%AF%B9%20%ED%94%84%EB%A1%9C%EA%B7%B8%EB%9E%98%EB%B0%8D/14002.ipynb\" target=\"_parent\"><img src=\"https://colab.research.google.com/assets/colab-badge.svg\" alt=\"Open In Colab\"/></a>"
      ]
    },
    {
      "cell_type": "code",
      "execution_count": 26,
      "metadata": {
        "colab": {
          "base_uri": "https://localhost:8080/"
        },
        "id": "8tLrijLryLXx",
        "outputId": "e42d8594-eb79-4a4f-ef77-b4298b0285b7"
      },
      "outputs": [
        {
          "output_type": "stream",
          "name": "stdout",
          "text": [
            "6\n",
            "10 20 10 30 20 50\n",
            "4\n",
            "10 20 30 50 "
          ]
        }
      ],
      "source": [
        "n = int(input())\n",
        "data = list(map(int, input().split()))\n",
        "\n",
        "arr = [0] * n\n",
        "store = [-1] * n\n",
        "\n",
        "for i in range(n):\n",
        "    for j in range(i):\n",
        "        if data[i] > data[j] and arr[i] < arr[j]:\n",
        "            arr[i] = arr[j]\n",
        "            store[i] = j\n",
        "    arr[i] += 1\n",
        "\n",
        "ans = []\n",
        "s = arr.index(max(arr))\n",
        "while True:\n",
        "    ans.append(s)\n",
        "    if store[s] == -1:\n",
        "        break\n",
        "    s = store[s]\n",
        "\n",
        "print(max(arr))\n",
        "for i in ans[::-1]:\n",
        "    print(data[i], end = \" \")"
      ]
    }
  ]
}