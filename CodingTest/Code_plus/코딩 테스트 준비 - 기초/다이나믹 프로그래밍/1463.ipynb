{
  "nbformat": 4,
  "nbformat_minor": 0,
  "metadata": {
    "colab": {
      "name": "1463.ipynb",
      "provenance": [],
      "collapsed_sections": [],
      "authorship_tag": "ABX9TyN3RzpkkSr+LckGuNz4BJgp",
      "include_colab_link": true
    },
    "kernelspec": {
      "name": "python3",
      "display_name": "Python 3"
    },
    "language_info": {
      "name": "python"
    }
  },
  "cells": [
    {
      "cell_type": "markdown",
      "metadata": {
        "id": "view-in-github",
        "colab_type": "text"
      },
      "source": [
        "<a href=\"https://colab.research.google.com/github/catssci/TIL/blob/main/CodingTest/Code_plus/%EC%BD%94%EB%94%A9%20%ED%85%8C%EC%8A%A4%ED%8A%B8%20%EC%A4%80%EB%B9%84%20-%20%EA%B8%B0%EC%B4%88/%EB%8B%A4%EC%9D%B4%EB%82%98%EB%AF%B9%20%ED%94%84%EB%A1%9C%EA%B7%B8%EB%9E%98%EB%B0%8D/1463.ipynb\" target=\"_parent\"><img src=\"https://colab.research.google.com/assets/colab-badge.svg\" alt=\"Open In Colab\"/></a>"
      ]
    },
    {
      "cell_type": "code",
      "execution_count": 9,
      "metadata": {
        "colab": {
          "base_uri": "https://localhost:8080/"
        },
        "id": "CYFEX3jg7f1h",
        "outputId": "59bffe09-050b-41b8-8770-3dafcfe07805"
      },
      "outputs": [
        {
          "output_type": "stream",
          "name": "stdout",
          "text": [
            "10\n",
            "3\n"
          ]
        }
      ],
      "source": [
        "x = int(input())\n",
        "\n",
        "arr = [0] * (x + 1)\n",
        "\n",
        "for i in range(x - 1, 0, -1):\n",
        "    L = []\n",
        "    for p in [i + 1, 2 * i, 3 * i]:\n",
        "        if 0 < p <= x:\n",
        "            L.append(arr[p] + 1)\n",
        "    arr[i] = min(L)\n",
        "\n",
        "print(arr[1])"
      ]
    },
    {
      "cell_type": "code",
      "source": [
        "n = int(input())\n",
        "\n",
        "array = [0] * 1000001\n",
        "array[2] = 1\n",
        "array[3] = 1\n",
        "\n",
        "for i in range(4, n + 1):\n",
        "    candidate = [array[i-1]]\n",
        "    if i % 2 == 0:\n",
        "        candidate.append(array[i // 2])\n",
        "    if i % 3 == 0:\n",
        "        candidate.append(array[i // 3])\n",
        "    \n",
        "    array[i] = min(candidate) + 1\n",
        "\n",
        "print(array[n])"
      ],
      "metadata": {
        "colab": {
          "base_uri": "https://localhost:8080/"
        },
        "id": "4OiBYf1j8AYb",
        "outputId": "ce3e8969-f976-4c64-e2b6-3e6a3930c204"
      },
      "execution_count": 10,
      "outputs": [
        {
          "output_type": "stream",
          "name": "stdout",
          "text": [
            "10\n",
            "3\n"
          ]
        }
      ]
    }
  ]
}