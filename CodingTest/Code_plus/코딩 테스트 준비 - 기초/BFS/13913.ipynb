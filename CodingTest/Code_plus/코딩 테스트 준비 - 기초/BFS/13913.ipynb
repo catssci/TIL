{
  "nbformat": 4,
  "nbformat_minor": 0,
  "metadata": {
    "colab": {
      "name": "13913.ipynb",
      "provenance": [],
      "authorship_tag": "ABX9TyMUviObLTfIIxPldm2Lqj84",
      "include_colab_link": true
    },
    "kernelspec": {
      "name": "python3",
      "display_name": "Python 3"
    },
    "language_info": {
      "name": "python"
    }
  },
  "cells": [
    {
      "cell_type": "markdown",
      "metadata": {
        "id": "view-in-github",
        "colab_type": "text"
      },
      "source": [
        "<a href=\"https://colab.research.google.com/github/catssci/TIL/blob/main/CodingTest/Code_plus/BFS/13913.ipynb\" target=\"_parent\"><img src=\"https://colab.research.google.com/assets/colab-badge.svg\" alt=\"Open In Colab\"/></a>"
      ]
    },
    {
      "cell_type": "code",
      "execution_count": null,
      "metadata": {
        "colab": {
          "base_uri": "https://localhost:8080/"
        },
        "id": "F8mWqf54FK0r",
        "outputId": "e899be50-3241-450c-ca00-1cd76031a5ac"
      },
      "outputs": [
        {
          "output_type": "stream",
          "name": "stdout",
          "text": [
            "17 5\n",
            "12\n",
            "17 16 15 14 13 12 11 10 9 8 7 6 5\n"
          ]
        }
      ],
      "source": [
        "from collections import deque\n",
        "\n",
        "n, k = map(int, input().split())\n",
        "\n",
        "q = deque([n])\n",
        "dist = [0] * 100001\n",
        "move = [0] * 100001\n",
        "\n",
        "def path(x):\n",
        "    arr = []\n",
        "    temp = x\n",
        "    for _ in range(dist[x]+1):\n",
        "        arr.append(temp)\n",
        "        temp = move[temp]\n",
        "    print(' '.join(map(str, arr[::-1])))\n",
        "\n",
        "while q:\n",
        "    x = q.popleft()\n",
        "    if x == k:\n",
        "        print(dist[x])\n",
        "        path(x)\n",
        "        break\n",
        "\n",
        "    for nx in (x - 1, x + 1, 2 * x):        \n",
        "        if 0 <= nx <= 100000 and dist[nx] == 0:\n",
        "            q.append(nx)\n",
        "            dist[nx] = dist[x] + 1\n",
        "            move[nx] = x"
      ]
    }
  ]
}