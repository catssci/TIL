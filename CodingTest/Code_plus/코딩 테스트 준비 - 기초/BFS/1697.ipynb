{
  "nbformat": 4,
  "nbformat_minor": 0,
  "metadata": {
    "colab": {
      "name": "1697.ipynb",
      "provenance": [],
      "collapsed_sections": [],
      "authorship_tag": "ABX9TyNXgR/G/d35U1IItYXZCx+w",
      "include_colab_link": true
    },
    "kernelspec": {
      "name": "python3",
      "display_name": "Python 3"
    },
    "language_info": {
      "name": "python"
    }
  },
  "cells": [
    {
      "cell_type": "markdown",
      "metadata": {
        "id": "view-in-github",
        "colab_type": "text"
      },
      "source": [
        "<a href=\"https://colab.research.google.com/github/catssci/TIL/blob/main/CodingTest/Code_plus/BFS/1697.ipynb\" target=\"_parent\"><img src=\"https://colab.research.google.com/assets/colab-badge.svg\" alt=\"Open In Colab\"/></a>"
      ]
    },
    {
      "cell_type": "code",
      "execution_count": 1,
      "metadata": {
        "colab": {
          "base_uri": "https://localhost:8080/"
        },
        "id": "wNQrmLKR_RMO",
        "outputId": "27af251a-8e9f-498e-d46e-0e5812e1b309"
      },
      "outputs": [
        {
          "output_type": "stream",
          "name": "stdout",
          "text": [
            "5 17\n",
            "4\n"
          ]
        }
      ],
      "source": [
        "from collections import deque\n",
        "\n",
        "n, k = map(int, input().split())\n",
        "\n",
        "arr = [-1] * 100001\n",
        "\n",
        "q = deque([n])\n",
        "arr[n] = 0\n",
        "while q:\n",
        "    n = q.popleft()\n",
        "    if n == k:\n",
        "        print(arr[n])\n",
        "        break\n",
        "    \n",
        "    for i in [2*n, n + 1, n - 1]:\n",
        "        if 0 <= i <= 100000:\n",
        "            if arr[i] == -1:\n",
        "                q.append(i)\n",
        "                arr[i] = arr[n] + 1"
      ]
    }
  ]
}