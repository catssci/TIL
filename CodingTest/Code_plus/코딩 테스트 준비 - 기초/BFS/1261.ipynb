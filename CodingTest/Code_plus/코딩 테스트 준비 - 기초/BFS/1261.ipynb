{
  "nbformat": 4,
  "nbformat_minor": 0,
  "metadata": {
    "colab": {
      "name": "1261.ipynb",
      "provenance": [],
      "collapsed_sections": [],
      "authorship_tag": "ABX9TyP/zz1Q8XHfWRhO0PiEBvDN",
      "include_colab_link": true
    },
    "kernelspec": {
      "name": "python3",
      "display_name": "Python 3"
    },
    "language_info": {
      "name": "python"
    }
  },
  "cells": [
    {
      "cell_type": "markdown",
      "metadata": {
        "id": "view-in-github",
        "colab_type": "text"
      },
      "source": [
        "<a href=\"https://colab.research.google.com/github/catssci/TIL/blob/main/CodingTest/Code_plus/BFS/1261.ipynb\" target=\"_parent\"><img src=\"https://colab.research.google.com/assets/colab-badge.svg\" alt=\"Open In Colab\"/></a>"
      ]
    },
    {
      "cell_type": "code",
      "execution_count": 30,
      "metadata": {
        "colab": {
          "base_uri": "https://localhost:8080/"
        },
        "id": "9qls_Xqp1fBW",
        "outputId": "d4ac251f-2c67-48b8-9d72-8eb94d05bc66"
      },
      "outputs": [
        {
          "output_type": "stream",
          "name": "stdout",
          "text": [
            "4 2\n",
            "0001\n",
            "1000\n",
            "0\n"
          ]
        }
      ],
      "source": [
        "from collections import deque\n",
        "\n",
        "n, m = map(int, input().split())\n",
        "\n",
        "arr = []\n",
        "for _ in range(m):\n",
        "    s = list(map(int, input()))\n",
        "    arr.append(s)\n",
        "\n",
        "visited = [[False] * n for _ in range(m)]\n",
        "\n",
        "dx = [1, -1, 0, 0]\n",
        "dy = [0, 0, 1, -1]\n",
        "\n",
        "q = deque([[0, 0]])\n",
        "visited[0][0] = True\n",
        "while q:\n",
        "    x, y = q.popleft()\n",
        "    \n",
        "    for i in range(4):\n",
        "        nx = x + dx[i]\n",
        "        ny = y + dy[i]\n",
        "        \n",
        "        if 0 <= nx < m and 0 <= ny < n and visited[nx][ny] == False:\n",
        "            if arr[nx][ny] == 0:\n",
        "                arr[nx][ny] = arr[x][y]\n",
        "                q.appendleft([nx, ny])    # 우선 순위를 정해준다.!!\n",
        "            elif arr[nx][ny] == 1:\n",
        "                arr[nx][ny] = arr[x][y] + 1\n",
        "                q.append([nx, ny])\n",
        "            visited[nx][ny] = True\n",
        "                \n",
        "print(arr[m-1][n-1])"
      ]
    }
  ]
}