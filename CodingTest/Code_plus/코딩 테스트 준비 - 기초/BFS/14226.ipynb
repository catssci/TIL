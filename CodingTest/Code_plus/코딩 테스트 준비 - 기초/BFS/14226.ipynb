{
  "nbformat": 4,
  "nbformat_minor": 0,
  "metadata": {
    "colab": {
      "name": "Untitled0.ipynb",
      "provenance": [],
      "collapsed_sections": [],
      "authorship_tag": "ABX9TyO4dAMUiNTsoCQoBP4REcpk",
      "include_colab_link": true
    },
    "kernelspec": {
      "name": "python3",
      "display_name": "Python 3"
    },
    "language_info": {
      "name": "python"
    }
  },
  "cells": [
    {
      "cell_type": "markdown",
      "metadata": {
        "id": "view-in-github",
        "colab_type": "text"
      },
      "source": [
        "<a href=\"https://colab.research.google.com/github/catssci/TIL/blob/main/CodingTest/Code_plus/BFS/14226.ipynb\" target=\"_parent\"><img src=\"https://colab.research.google.com/assets/colab-badge.svg\" alt=\"Open In Colab\"/></a>"
      ]
    },
    {
      "cell_type": "code",
      "execution_count": 24,
      "metadata": {
        "colab": {
          "base_uri": "https://localhost:8080/"
        },
        "id": "8s0LLJ6Kht3O",
        "outputId": "41088089-7022-443d-828e-22e4dbcbfd54"
      },
      "outputs": [
        {
          "output_type": "stream",
          "name": "stdout",
          "text": [
            "18\n",
            "8\n"
          ]
        }
      ],
      "source": [
        "from collections import deque\n",
        "\n",
        "n = int(input())\n",
        "\n",
        "q = deque()\n",
        "s, c = [1, 0]   # [현재 이모티콘 개수, 클립보드 이모티콘 개수]\n",
        "q.append([s, c])\n",
        "visited = dict()\n",
        "visited[(1, 0)] = 0\n",
        "\n",
        "while q:\n",
        "    s, c = q.popleft()\n",
        "    if s == n:\n",
        "        print(visited[(s, c)])\n",
        "        break\n",
        "    \n",
        "    # 1. 이모티콘 복사\n",
        "    if (s, s) not in visited.keys():\n",
        "        visited[(s, s)] = visited[(s, c)] + 1\n",
        "        q.append([s, s])\n",
        "    # 2. 화면에 있는 모든 이모티콘 중 1개 삭제\n",
        "    if s > 0 and (s-1, c) not in visited.keys():\n",
        "        visited[(s-1, c)] = visited[(s, c)] + 1\n",
        "        q.append([s-1, c])\n",
        "    # 3. 클립보드에 있는 이모티콘을 붙여넣기\n",
        "    if (s+c, c) not in visited.keys():\n",
        "        visited[(s+c, c)] = visited[(s, c)] + 1\n",
        "        q.append([s+c, c])"
      ]
    }
  ]
}