{
  "nbformat": 4,
  "nbformat_minor": 0,
  "metadata": {
    "colab": {
      "name": "1655.ipynb",
      "provenance": [],
      "collapsed_sections": [],
      "authorship_tag": "ABX9TyMo9apz3J+wI2l+f1+70Y5t",
      "include_colab_link": true
    },
    "kernelspec": {
      "name": "python3",
      "display_name": "Python 3"
    },
    "language_info": {
      "name": "python"
    }
  },
  "cells": [
    {
      "cell_type": "markdown",
      "metadata": {
        "id": "view-in-github",
        "colab_type": "text"
      },
      "source": [
        "<a href=\"https://colab.research.google.com/github/catssci/TIL/blob/main/CodingTest/%EB%AC%B8%EC%A0%9C%EC%A7%91%3A%20%EB%8B%A8%EA%B8%B0%EA%B0%84%20%EC%84%B1%EC%9E%A5/1655.ipynb\" target=\"_parent\"><img src=\"https://colab.research.google.com/assets/colab-badge.svg\" alt=\"Open In Colab\"/></a>"
      ]
    },
    {
      "cell_type": "markdown",
      "source": [
        "## 가운데를 말해요\n",
        "- https://www.acmicpc.net/problem/1655"
      ],
      "metadata": {
        "id": "bKdG45wloBUI"
      }
    },
    {
      "cell_type": "markdown",
      "source": [
        "참고 자료\n",
        "- https://hongcoding.tistory.com/93"
      ],
      "metadata": {
        "id": "XPNeFZXYHZ2q"
      }
    },
    {
      "cell_type": "code",
      "source": [
        "# maxheap과 minheap을 이용하여 문제를 푼다.\n",
        "import sys\n",
        "import heapq\n",
        "\n",
        "n = int(input())\n",
        "\n",
        "min_heap = []\n",
        "max_heap = []\n",
        "for i in range(n):\n",
        "    data = int(sys.stdin.readline())\n",
        "    if i % 2 == 0:\n",
        "        heapq.heappush(max_heap, (-data, data))\n",
        "    else:\n",
        "        heapq.heappush(min_heap, (data, data))\n",
        "        \n",
        "    # 두 원소를 교환 시 pop 후에 push를 하여 다시 heap을 구축해야 함\n",
        "    if len(min_heap) > 0 and max_heap[0][1] > min_heap[0][1]:\n",
        "        v1, v2 = heapq.heappop(max_heap)\n",
        "        v3, v4 = heapq.heappop(min_heap)\n",
        "        \n",
        "        heapq.heappush(max_heap, (-v3, v4))\n",
        "        heapq.heappush(min_heap, (-v1, v2))\n",
        "        \n",
        "    print(max_heap[0][1])"
      ],
      "metadata": {
        "id": "TJGx9XVIG6nT"
      },
      "execution_count": null,
      "outputs": []
    }
  ]
}