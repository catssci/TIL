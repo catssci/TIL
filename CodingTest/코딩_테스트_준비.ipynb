{
  "nbformat": 4,
  "nbformat_minor": 0,
  "metadata": {
    "colab": {
      "name": "코딩 테스트 준비.ipynb",
      "provenance": [],
      "collapsed_sections": [],
      "authorship_tag": "ABX9TyPA/Ms74dEvb6e1lsWZE7DU",
      "include_colab_link": true
    },
    "kernelspec": {
      "name": "python3",
      "display_name": "Python 3"
    },
    "language_info": {
      "name": "python"
    }
  },
  "cells": [
    {
      "cell_type": "markdown",
      "metadata": {
        "id": "view-in-github",
        "colab_type": "text"
      },
      "source": [
        "<a href=\"https://colab.research.google.com/github/catssci/TIL/blob/main/CodingTest/%EC%BD%94%EB%94%A9_%ED%85%8C%EC%8A%A4%ED%8A%B8_%EC%A4%80%EB%B9%84.ipynb\" target=\"_parent\"><img src=\"https://colab.research.google.com/assets/colab-badge.svg\" alt=\"Open In Colab\"/></a>"
      ]
    },
    {
      "cell_type": "markdown",
      "source": [
        "목적: 코딩 테스트를 최대한 빠르게 복습하여 빠르게 익히기\n",
        "- 참고자료: \"이것이 코딩 테스트다\""
      ],
      "metadata": {
        "id": "5R0cGBXRDdv-"
      }
    },
    {
      "cell_type": "markdown",
      "source": [
        "# 그리디"
      ],
      "metadata": {
        "id": "oNbenCcZDt9c"
      }
    },
    {
      "cell_type": "markdown",
      "source": [
        "## 01. 모험가 길드"
      ],
      "metadata": {
        "id": "qlrZAfO1Dvw2"
      }
    },
    {
      "cell_type": "code",
      "source": [
        "n = int(input())\n",
        "data = list(map(int, input().split()))\n",
        "data.sort()\n",
        "\n",
        "ans = 0\n",
        "count = 0\n",
        "\n",
        "for i in data:\n",
        "  count += 1\n",
        "  if count >= i:\n",
        "    ans += 1\n",
        "    count = 0\n",
        "\n",
        "print(ans)"
      ],
      "metadata": {
        "colab": {
          "base_uri": "https://localhost:8080/"
        },
        "id": "GboTNJLmENvx",
        "outputId": "b35e2935-c91f-4611-f12e-fff3059cdc67"
      },
      "execution_count": 5,
      "outputs": [
        {
          "output_type": "stream",
          "name": "stdout",
          "text": [
            "5\n",
            "2 3 1 2 2\n",
            "2\n"
          ]
        }
      ]
    },
    {
      "cell_type": "markdown",
      "source": [
        "## 02. 곱하기 혹은 더하기"
      ],
      "metadata": {
        "id": "P-JjkVSkFY63"
      }
    },
    {
      "cell_type": "code",
      "source": [
        "data = input()\n",
        "\n",
        "ans = int(data[0])\n",
        "for i in data[1:]:\n",
        "  if int(i) > 1 and ans > 1:  # if int(i) <= 1 or ans <= 1\n",
        "    ans = ans * int(i)\n",
        "  else:\n",
        "    ans = ans + int(i)\n",
        "\n",
        "print(ans)"
      ],
      "metadata": {
        "colab": {
          "base_uri": "https://localhost:8080/"
        },
        "id": "dKoHJEctGIlZ",
        "outputId": "2f9c8a52-02ab-43fe-c261-fa112b88a93f"
      },
      "execution_count": 6,
      "outputs": [
        {
          "output_type": "stream",
          "name": "stdout",
          "text": [
            "02984\n",
            "576\n"
          ]
        }
      ]
    },
    {
      "cell_type": "markdown",
      "source": [
        "# 03. 문자열 뒤집기"
      ],
      "metadata": {
        "id": "JzBeCg0IHaUL"
      }
    },
    {
      "cell_type": "code",
      "source": [
        "data = input()\n",
        "\n",
        "count = {'0': 0, '1': 0}\n",
        "\n",
        "temp = data[0]\n",
        "count[temp] = 1\n",
        "for i in data[1:]:\n",
        "  if temp != i:\n",
        "    temp = i\n",
        "    count[temp] += 1\n",
        "\n",
        "print(min(count['0'], count['1']))"
      ],
      "metadata": {
        "colab": {
          "base_uri": "https://localhost:8080/"
        },
        "id": "71TGmMfUH5lc",
        "outputId": "9f05f0a0-8a9d-42ba-d164-946f11be2a2b"
      },
      "execution_count": 9,
      "outputs": [
        {
          "output_type": "stream",
          "name": "stdout",
          "text": [
            "0011100101\n",
            "3\n"
          ]
        }
      ]
    },
    {
      "cell_type": "markdown",
      "source": [
        "## 04. 만들 수 없는 금액"
      ],
      "metadata": {
        "id": "dIJPZ24dI2aO"
      }
    },
    {
      "cell_type": "code",
      "source": [
        "N = int(input())\n",
        "data = list(map(int, input().split()))\n",
        "\n",
        "data.sort()\n",
        "\n",
        "target = 1\n",
        "for d in data:\n",
        "  if target < d:\n",
        "    break\n",
        "  target += d\n",
        "\n",
        "print(target)"
      ],
      "metadata": {
        "colab": {
          "base_uri": "https://localhost:8080/"
        },
        "id": "pdgjgT2LI5RI",
        "outputId": "6f2e931f-800e-47ae-caf0-b3b7d1ee17c4"
      },
      "execution_count": 12,
      "outputs": [
        {
          "output_type": "stream",
          "name": "stdout",
          "text": [
            "5\n",
            "1 2 3 4 5\n",
            "16\n"
          ]
        }
      ]
    },
    {
      "cell_type": "markdown",
      "source": [
        "## 05. 볼링공 고르기"
      ],
      "metadata": {
        "id": "Mn4hp9oVKsiE"
      }
    },
    {
      "cell_type": "code",
      "source": [
        "n, m = map(int, input().split())\n",
        "data = list(map(int, input().split()))\n",
        "\n",
        "array = [0] * 11\n",
        "for x in data:\n",
        "  array[x] += 1\n",
        "\n",
        "ans = 0\n",
        "for i in range(1, m + 1):\n",
        "  n -= array[i]\n",
        "  ans += array[i] * n\n",
        "\n",
        "print(ans)"
      ],
      "metadata": {
        "colab": {
          "base_uri": "https://localhost:8080/"
        },
        "id": "Grq4gLnxLpWV",
        "outputId": "1adf7bfe-cbc9-42ea-97e9-5c05fbd9b6ef"
      },
      "execution_count": 16,
      "outputs": [
        {
          "output_type": "stream",
          "name": "stdout",
          "text": [
            "8 5\n",
            "1 5 4 3 2 4 5 2\n",
            "25\n"
          ]
        }
      ]
    },
    {
      "cell_type": "markdown",
      "source": [
        "## 06. 무지의 먹방 라이브"
      ],
      "metadata": {
        "id": "t1HHBIfLMWRU"
      }
    },
    {
      "cell_type": "code",
      "source": [
        "# https://programmers.co.kr/learn/courses/30/lessons/42891"
      ],
      "metadata": {
        "id": "QpYLBuGaNklx"
      },
      "execution_count": 17,
      "outputs": []
    },
    {
      "cell_type": "code",
      "source": [
        ""
      ],
      "metadata": {
        "id": "IBjRT2nWNseA"
      },
      "execution_count": null,
      "outputs": []
    }
  ]
}