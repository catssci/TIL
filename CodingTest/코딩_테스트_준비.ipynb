{
  "nbformat": 4,
  "nbformat_minor": 0,
  "metadata": {
    "colab": {
      "name": "코딩 테스트 준비.ipynb",
      "provenance": [],
      "collapsed_sections": [
        "SVydXT-hTFSi",
        "PrsDhc7fWOS-",
        "s7BAeiNTWTov",
        "aWhn7m6ayxDv",
        "L7Geut9N5oKE",
        "Q5RABmoAXPGf"
      ],
      "authorship_tag": "ABX9TyPosVmRwN7ZTiC1dzrWj+I0",
      "include_colab_link": true
    },
    "kernelspec": {
      "name": "python3",
      "display_name": "Python 3"
    },
    "language_info": {
      "name": "python"
    }
  },
  "cells": [
    {
      "cell_type": "markdown",
      "metadata": {
        "id": "view-in-github",
        "colab_type": "text"
      },
      "source": [
        "<a href=\"https://colab.research.google.com/github/catssci/TIL/blob/main/CodingTest/%EC%BD%94%EB%94%A9_%ED%85%8C%EC%8A%A4%ED%8A%B8_%EC%A4%80%EB%B9%84.ipynb\" target=\"_parent\"><img src=\"https://colab.research.google.com/assets/colab-badge.svg\" alt=\"Open In Colab\"/></a>"
      ]
    },
    {
      "cell_type": "markdown",
      "source": [
        "목적: 코딩 테스트를 최대한 빠르게 복습하여 빠르게 익히기\n",
        "- 참고자료: \"이것이 코딩 테스트다\""
      ],
      "metadata": {
        "id": "5R0cGBXRDdv-"
      }
    },
    {
      "cell_type": "markdown",
      "source": [
        "# 그리디"
      ],
      "metadata": {
        "id": "oNbenCcZDt9c"
      }
    },
    {
      "cell_type": "markdown",
      "source": [
        "## 01. 모험가 길드"
      ],
      "metadata": {
        "id": "qlrZAfO1Dvw2"
      }
    },
    {
      "cell_type": "code",
      "source": [
        "n = int(input())\n",
        "data = list(map(int, input().split()))\n",
        "data.sort()\n",
        "\n",
        "ans = 0\n",
        "count = 0\n",
        "\n",
        "for i in data:\n",
        "  count += 1\n",
        "  if count >= i:\n",
        "    ans += 1\n",
        "    count = 0\n",
        "\n",
        "print(ans)"
      ],
      "metadata": {
        "colab": {
          "base_uri": "https://localhost:8080/"
        },
        "id": "GboTNJLmENvx",
        "outputId": "b35e2935-c91f-4611-f12e-fff3059cdc67"
      },
      "execution_count": null,
      "outputs": [
        {
          "output_type": "stream",
          "name": "stdout",
          "text": [
            "5\n",
            "2 3 1 2 2\n",
            "2\n"
          ]
        }
      ]
    },
    {
      "cell_type": "markdown",
      "source": [
        "## 02. 곱하기 혹은 더하기"
      ],
      "metadata": {
        "id": "P-JjkVSkFY63"
      }
    },
    {
      "cell_type": "code",
      "source": [
        "data = input()\n",
        "\n",
        "ans = int(data[0])\n",
        "for i in data[1:]:\n",
        "  if int(i) > 1 and ans > 1:  # if int(i) <= 1 or ans <= 1\n",
        "    ans = ans * int(i)\n",
        "  else:\n",
        "    ans = ans + int(i)\n",
        "\n",
        "print(ans)"
      ],
      "metadata": {
        "colab": {
          "base_uri": "https://localhost:8080/"
        },
        "id": "dKoHJEctGIlZ",
        "outputId": "2f9c8a52-02ab-43fe-c261-fa112b88a93f"
      },
      "execution_count": null,
      "outputs": [
        {
          "output_type": "stream",
          "name": "stdout",
          "text": [
            "02984\n",
            "576\n"
          ]
        }
      ]
    },
    {
      "cell_type": "markdown",
      "source": [
        "## 03. 문자열 뒤집기"
      ],
      "metadata": {
        "id": "JzBeCg0IHaUL"
      }
    },
    {
      "cell_type": "code",
      "source": [
        "data = input()\n",
        "\n",
        "count = {'0': 0, '1': 0}\n",
        "\n",
        "temp = data[0]\n",
        "count[temp] = 1\n",
        "for i in data[1:]:\n",
        "  if temp != i:\n",
        "    temp = i\n",
        "    count[temp] += 1\n",
        "\n",
        "print(min(count['0'], count['1']))"
      ],
      "metadata": {
        "colab": {
          "base_uri": "https://localhost:8080/"
        },
        "id": "71TGmMfUH5lc",
        "outputId": "9f05f0a0-8a9d-42ba-d164-946f11be2a2b"
      },
      "execution_count": null,
      "outputs": [
        {
          "output_type": "stream",
          "name": "stdout",
          "text": [
            "0011100101\n",
            "3\n"
          ]
        }
      ]
    },
    {
      "cell_type": "markdown",
      "source": [
        "## 04. 만들 수 없는 금액"
      ],
      "metadata": {
        "id": "dIJPZ24dI2aO"
      }
    },
    {
      "cell_type": "code",
      "source": [
        "N = int(input())\n",
        "data = list(map(int, input().split()))\n",
        "\n",
        "data.sort()\n",
        "\n",
        "target = 1\n",
        "for d in data:\n",
        "  if target < d:\n",
        "    break\n",
        "  target += d\n",
        "\n",
        "print(target)"
      ],
      "metadata": {
        "colab": {
          "base_uri": "https://localhost:8080/"
        },
        "id": "pdgjgT2LI5RI",
        "outputId": "6f2e931f-800e-47ae-caf0-b3b7d1ee17c4"
      },
      "execution_count": null,
      "outputs": [
        {
          "output_type": "stream",
          "name": "stdout",
          "text": [
            "5\n",
            "1 2 3 4 5\n",
            "16\n"
          ]
        }
      ]
    },
    {
      "cell_type": "markdown",
      "source": [
        "## 05. 볼링공 고르기"
      ],
      "metadata": {
        "id": "Mn4hp9oVKsiE"
      }
    },
    {
      "cell_type": "code",
      "source": [
        "n, m = map(int, input().split())\n",
        "data = list(map(int, input().split()))\n",
        "\n",
        "array = [0] * 11\n",
        "for x in data:\n",
        "  array[x] += 1\n",
        "\n",
        "ans = 0\n",
        "for i in range(1, m + 1):\n",
        "  n -= array[i]\n",
        "  ans += array[i] * n\n",
        "\n",
        "print(ans)"
      ],
      "metadata": {
        "colab": {
          "base_uri": "https://localhost:8080/"
        },
        "id": "Grq4gLnxLpWV",
        "outputId": "1adf7bfe-cbc9-42ea-97e9-5c05fbd9b6ef"
      },
      "execution_count": null,
      "outputs": [
        {
          "output_type": "stream",
          "name": "stdout",
          "text": [
            "8 5\n",
            "1 5 4 3 2 4 5 2\n",
            "25\n"
          ]
        }
      ]
    },
    {
      "cell_type": "markdown",
      "source": [
        "## 06. 무지의 먹방 라이브"
      ],
      "metadata": {
        "id": "t1HHBIfLMWRU"
      }
    },
    {
      "cell_type": "code",
      "source": [
        "# https://programmers.co.kr/learn/courses/30/lessons/42891"
      ],
      "metadata": {
        "id": "QpYLBuGaNklx"
      },
      "execution_count": null,
      "outputs": []
    },
    {
      "cell_type": "markdown",
      "source": [
        "# 구현 문제\n",
        "- 빠르게 보자!\n",
        "  - 12. **기둥과 보 설치**\n",
        "  - 14. **외벽 점검**"
      ],
      "metadata": {
        "id": "IBjRT2nWNseA"
      }
    },
    {
      "cell_type": "markdown",
      "source": [
        "## 07. 럭키 스트레이트"
      ],
      "metadata": {
        "id": "SVydXT-hTFSi"
      }
    },
    {
      "cell_type": "code",
      "source": [
        "score = input()\n",
        "mid = int(len(score) / 2)\n",
        "\n",
        "left = 0\n",
        "right = 0\n",
        "\n",
        "for s in score[:mid]:\n",
        "  left += int(s)\n",
        "\n",
        "for s in score[mid:]:\n",
        "  right += int(s)\n",
        "\n",
        "if left != right:\n",
        "  print('READY')\n",
        "else:\n",
        "  print('LUCKY')"
      ],
      "metadata": {
        "colab": {
          "base_uri": "https://localhost:8080/"
        },
        "id": "-KBBBJVBTIGT",
        "outputId": "4ad5ef34-961c-4911-a5ed-12ac030bba21"
      },
      "execution_count": null,
      "outputs": [
        {
          "output_type": "stream",
          "name": "stdout",
          "text": [
            "7755\n",
            "READY\n"
          ]
        }
      ]
    },
    {
      "cell_type": "markdown",
      "source": [
        "## 08. 문자열 재정렬"
      ],
      "metadata": {
        "id": "PrsDhc7fWOS-"
      }
    },
    {
      "cell_type": "code",
      "source": [
        "data = input()\n",
        "\n",
        "string = ''\n",
        "number = 0\n",
        "\n",
        "for d in data:\n",
        "  if ord(d) - 65 < 0:\n",
        "    number += int(d)\n",
        "  else:\n",
        "    string += d\n",
        "\n",
        "string = \"\".join(sorted(string))\n",
        "if number > 0:\n",
        "  print(string + str(number))\n",
        "else:\n",
        "  print(string)"
      ],
      "metadata": {
        "colab": {
          "base_uri": "https://localhost:8080/"
        },
        "id": "qUkopzKGWRiz",
        "outputId": "c1f14c41-632a-4bea-c069-43f725a4eaae"
      },
      "execution_count": null,
      "outputs": [
        {
          "output_type": "stream",
          "name": "stdout",
          "text": [
            "K1KA5CB7\n",
            "ABCKK13\n"
          ]
        }
      ]
    },
    {
      "cell_type": "markdown",
      "source": [
        "## 09. 문자열 압축"
      ],
      "metadata": {
        "id": "s7BAeiNTWTov"
      }
    },
    {
      "cell_type": "code",
      "source": [
        "# https://programmers.co.kr/learn/courses/30/lessons/60057"
      ],
      "metadata": {
        "id": "4u8cz-58W4IS"
      },
      "execution_count": null,
      "outputs": []
    },
    {
      "cell_type": "markdown",
      "source": [
        "## 10. 자물쇠와 열쇠"
      ],
      "metadata": {
        "id": "aWhn7m6ayxDv"
      }
    },
    {
      "cell_type": "code",
      "source": [
        "# https://programmers.co.kr/learn/courses/30/lessons/60059"
      ],
      "metadata": {
        "id": "lOD0rDl816JB"
      },
      "execution_count": null,
      "outputs": []
    },
    {
      "cell_type": "markdown",
      "source": [
        "## 11. 뱀"
      ],
      "metadata": {
        "id": "L7Geut9N5oKE"
      }
    },
    {
      "cell_type": "code",
      "source": [
        "# https://www.acmicpc.net/problem/3190"
      ],
      "metadata": {
        "id": "u9LgxxHE5sMD"
      },
      "execution_count": null,
      "outputs": []
    },
    {
      "cell_type": "code",
      "source": [
        "n = int(input())\n",
        "k = int(input())\n",
        "\n",
        "# 맵 구성\n",
        "data = [[0] * (n + 1) for _ in range(n + 1)]\n",
        "for _ in range(k):\n",
        "    x, y = map(int, input().split())\n",
        "    data[x][y] = 1\n",
        "\n",
        "info = []\n",
        "L = int(input())\n",
        "for _ in range(L):\n",
        "    x, c = input().split()\n",
        "    info.append((int(x), c))\n",
        "    \n",
        "dx = [0, 1, 0, -1]\n",
        "dy = [1, 0, -1, 0]\n",
        "\n",
        "def turn(direction, c):\n",
        "    if c == 'L':\n",
        "        direction = (direction - 1) % 4\n",
        "    else:\n",
        "        direction = (direction + 1) % 4\n",
        "    return direction\n",
        "\n",
        "def simulate():\n",
        "    x, y = 1, 1\n",
        "    data[x][y] = 2\n",
        "    direction = 0\n",
        "    time = 0\n",
        "    index = 0\n",
        "    q = [(x, y)]\n",
        "    \n",
        "    while True:\n",
        "        nx = x + dx[direction]\n",
        "        ny = y + dy[direction]\n",
        "        \n",
        "        if 1 <= nx and nx <= n and 1 <= ny and ny <= n and data[nx][ny] != 2:\n",
        "            if data[nx][ny] == 0:\n",
        "                data[nx][ny] = 2\n",
        "                q.append((nx, ny))\n",
        "                px, py = q.pop(0)\n",
        "                data[px][py] = 0\n",
        "            if data[nx][ny] == 1:\n",
        "                data[nx][ny] = 2\n",
        "                q.append((nx, ny))\n",
        "        else:\n",
        "            time += 1\n",
        "            break\n",
        "        x, y = nx, ny\n",
        "        time += 1\n",
        "        if index < L and time == info[index][0]:\n",
        "            direction = turn(direction, info[index][1])\n",
        "            index += 1\n",
        "    return time\n",
        "\n",
        "print(simulate())"
      ],
      "metadata": {
        "colab": {
          "base_uri": "https://localhost:8080/",
          "height": 376
        },
        "id": "Dy6KB1U754Wt",
        "outputId": "bdae073d-3eee-403c-9e6b-60eedb22d0f9"
      },
      "execution_count": null,
      "outputs": [
        {
          "name": "stdout",
          "output_type": "stream",
          "text": [
            "10\n",
            "5\n",
            "1 5\n",
            "1 3\n",
            "1 2\n",
            "1 6\n",
            "1 7\n"
          ]
        },
        {
          "output_type": "error",
          "ename": "IndexError",
          "evalue": "ignored",
          "traceback": [
            "\u001b[0;31m---------------------------------------------------------------------------\u001b[0m",
            "\u001b[0;31mIndexError\u001b[0m                                Traceback (most recent call last)",
            "\u001b[0;32m<ipython-input-58-75d22c56c646>\u001b[0m in \u001b[0;36m<module>\u001b[0;34m()\u001b[0m\n\u001b[1;32m      6\u001b[0m \u001b[0;32mfor\u001b[0m \u001b[0m_\u001b[0m \u001b[0;32min\u001b[0m \u001b[0mrange\u001b[0m\u001b[0;34m(\u001b[0m\u001b[0mk\u001b[0m\u001b[0;34m)\u001b[0m\u001b[0;34m:\u001b[0m\u001b[0;34m\u001b[0m\u001b[0;34m\u001b[0m\u001b[0m\n\u001b[1;32m      7\u001b[0m     \u001b[0mx\u001b[0m\u001b[0;34m,\u001b[0m \u001b[0my\u001b[0m \u001b[0;34m=\u001b[0m \u001b[0mmap\u001b[0m\u001b[0;34m(\u001b[0m\u001b[0mint\u001b[0m\u001b[0;34m,\u001b[0m \u001b[0minput\u001b[0m\u001b[0;34m(\u001b[0m\u001b[0;34m)\u001b[0m\u001b[0;34m.\u001b[0m\u001b[0msplit\u001b[0m\u001b[0;34m(\u001b[0m\u001b[0;34m)\u001b[0m\u001b[0;34m)\u001b[0m\u001b[0;34m\u001b[0m\u001b[0;34m\u001b[0m\u001b[0m\n\u001b[0;32m----> 8\u001b[0;31m     \u001b[0marray\u001b[0m\u001b[0;34m[\u001b[0m\u001b[0mx\u001b[0m\u001b[0;34m]\u001b[0m\u001b[0;34m[\u001b[0m\u001b[0my\u001b[0m\u001b[0;34m]\u001b[0m \u001b[0;34m=\u001b[0m \u001b[0;36m1\u001b[0m\u001b[0;34m\u001b[0m\u001b[0;34m\u001b[0m\u001b[0m\n\u001b[0m\u001b[1;32m      9\u001b[0m \u001b[0;34m\u001b[0m\u001b[0m\n\u001b[1;32m     10\u001b[0m \u001b[0minfo\u001b[0m \u001b[0;34m=\u001b[0m \u001b[0;34m[\u001b[0m\u001b[0;34m]\u001b[0m\u001b[0;34m\u001b[0m\u001b[0;34m\u001b[0m\u001b[0m\n",
            "\u001b[0;31mIndexError\u001b[0m: list assignment index out of range"
          ]
        }
      ]
    },
    {
      "cell_type": "markdown",
      "source": [
        "## 12. 기둥과 보 설치"
      ],
      "metadata": {
        "id": "h1gwl7QR93nb"
      }
    },
    {
      "cell_type": "code",
      "source": [
        "# https://programmers.co.kr/learn/courses/30/lessons/60061"
      ],
      "metadata": {
        "id": "WFM_tFnO-2q_"
      },
      "execution_count": null,
      "outputs": []
    },
    {
      "cell_type": "markdown",
      "source": [
        "## 13. 치킨 배달"
      ],
      "metadata": {
        "id": "Q5RABmoAXPGf"
      }
    },
    {
      "cell_type": "code",
      "source": [
        "from itertools import combinations\n",
        "\n",
        "n, m = map(int, input().split())\n",
        "chicken, house = [], []\n",
        "\n",
        "for r in range(n):\n",
        "    data = list(map(int, input().split()))\n",
        "    for c in range(n):\n",
        "        if data[c] == 1:\n",
        "            house.append((r, c))\n",
        "        elif data[c] == 2:\n",
        "            chicken.append((r, c))\n",
        "            \n",
        "candidates = list(combinations(chicken, m))\n",
        "\n",
        "def get_sum(candidate):\n",
        "    result = 0\n",
        "    \n",
        "    for hx, hy in house:\n",
        "        # 가장 가까운 치킨집 찾기\n",
        "        temp = 1e9\n",
        "        for cx, cy in candidate:\n",
        "            temp = min(temp, abs(hx - cx) + abs(hy - cy))\n",
        "            \n",
        "        result += temp\n",
        "    return result\n",
        "\n",
        "result = 1e9\n",
        "for candidate in candidates:\n",
        "    result = min(result, get_sum(candidate))\n",
        "    \n",
        "print(result)"
      ],
      "metadata": {
        "colab": {
          "base_uri": "https://localhost:8080/"
        },
        "id": "XKC-FPecXRES",
        "outputId": "91b47650-ece6-40fa-e496-ce685b1e73ab"
      },
      "execution_count": null,
      "outputs": [
        {
          "output_type": "stream",
          "name": "stdout",
          "text": [
            "5 3\n",
            "0 0 1 0 0 \n",
            "0 0 2 0 1\n",
            "0 1 2 0 0 \n",
            "0 0 1 0 0\n",
            "0 0 0 0 2\n",
            "5\n"
          ]
        }
      ]
    },
    {
      "cell_type": "markdown",
      "source": [
        "## 14. 외벽 점검"
      ],
      "metadata": {
        "id": "AG7BNMX6Zzux"
      }
    },
    {
      "cell_type": "code",
      "source": [
        "# https://programmers.co.kr/learn/courses/30/lessons/60062"
      ],
      "metadata": {
        "id": "0h4v8uSmaRe-"
      },
      "execution_count": null,
      "outputs": []
    },
    {
      "cell_type": "markdown",
      "source": [
        "# DFS/BFS 문제"
      ],
      "metadata": {
        "id": "Qy97gIPPh84f"
      }
    },
    {
      "cell_type": "markdown",
      "source": [
        "## 15. 특정 거리의 도시 찾기"
      ],
      "metadata": {
        "id": "VhwhsKIpinr_"
      }
    },
    {
      "cell_type": "code",
      "source": [
        "# BFS\n",
        "from collections import deque\n",
        "\n",
        "n, m, k, x = map(int, input().split())\n",
        "graph = [[] for _ in range(n + 1)]\n",
        "\n",
        "for _ in range(m):\n",
        "    a, b = map(int, input().split())\n",
        "    graph[a].append(b)\n",
        "    \n",
        "# 모든 도시에 대한 최단 거리 초기화\n",
        "distance = [-1] * (n + 1)\n",
        "distance[x] = 0             # 출발 도시까지의 거리는 0으로 설정\n",
        "\n",
        "# BFS 수행\n",
        "q = deque([x])\n",
        "while q:\n",
        "    now = q.popleft()\n",
        "    \n",
        "    # 현재 도시에서 이동할 수 있는 모든 도시를 확인\n",
        "    for next_node in graph[now]:\n",
        "        # 아직 방문하지 않은 도시라면\n",
        "        if distance[next_node] == -1:\n",
        "            # 최단 거리 갱신\n",
        "            distance[next_node] = distance[now] + 1\n",
        "            q.append(next_node)\n",
        "            \n",
        "# 최단 거리가 K인 모든 도시의 번호를 오름차순으로 출력\n",
        "check = False\n",
        "for i in range(1, n + 1):\n",
        "    if distance[i] == k:\n",
        "        print(i)\n",
        "        check = True\n",
        "\n",
        "# 만약 최단 거리가 K인 도시가 없다면 -1 출력\n",
        "if check == False:\n",
        "    print(-1)"
      ],
      "metadata": {
        "colab": {
          "base_uri": "https://localhost:8080/"
        },
        "id": "FUTvWPW_iqll",
        "outputId": "a582274e-b650-4887-daa1-13984fd05365"
      },
      "execution_count": null,
      "outputs": [
        {
          "output_type": "stream",
          "name": "stdout",
          "text": [
            "4 4 1 1\n",
            "1 2\n",
            "1 3\n",
            "2 3\n",
            "2 4\n",
            "2\n",
            "3\n"
          ]
        }
      ]
    },
    {
      "cell_type": "markdown",
      "source": [
        "## 16. 연구소"
      ],
      "metadata": {
        "id": "NHPdYdrn3Raw"
      }
    },
    {
      "cell_type": "code",
      "source": [
        "# https://www.acmicpc.net/problem/14502"
      ],
      "metadata": {
        "id": "ugwaKjOu0SsI"
      },
      "execution_count": null,
      "outputs": []
    },
    {
      "cell_type": "code",
      "source": [
        "n, m = map(int, input().split())\n",
        "data = []\n",
        "temp = [[0] * m for _ in range(n)]\n",
        "\n",
        "for _ in range(n):\n",
        "  data.append(list(map(int, input().split())))\n",
        "\n",
        "dx = [-1, 0, 1, 0]\n",
        "dy = [0, 1, 0, -1]\n",
        "\n",
        "result = 0\n",
        "\n",
        "def virus(x, y):\n",
        "  for i in range(4):\n",
        "    nx = x + dx[i]\n",
        "    ny = y + dy[i]\n",
        "\n",
        "    if nx >= 0 and nx < n and ny >= 0 and ny < m:\n",
        "      if temp[nx][ny] == 0:\n",
        "        temp[nx][ny] = 2\n",
        "        virus(nx, ny)\n",
        "\n",
        "def get_score():\n",
        "  score = 0\n",
        "  for i in range(n):\n",
        "    for j in range(m):\n",
        "      if temp[i][j] == 0:\n",
        "        score += 1\n",
        "  return score\n",
        "\n",
        "def dfs(count):\n",
        "  global result\n",
        "\n",
        "  if count == 3:\n",
        "    for i in range(n):\n",
        "      for j in range(m):\n",
        "        temp[i][j] = data[i][j]\n",
        "\n",
        "    for i in range(n):\n",
        "      for j in range(m):\n",
        "        if temp[i][j] == 2:\n",
        "          virus(i, j)\n",
        "\n",
        "    result = max(result, get_score())\n",
        "    return\n",
        "\n",
        "  for i in range(n):\n",
        "    for j in range(m):\n",
        "      if data[i][j] == 0:\n",
        "        data[i][j] = 1\n",
        "        count += 1\n",
        "        dfs(count)\n",
        "        data[i][j] = 0\n",
        "        count -= 1\n",
        "\n",
        "dfs(0)\n",
        "print(result)"
      ],
      "metadata": {
        "id": "qAOqGA6b3YYo",
        "colab": {
          "base_uri": "https://localhost:8080/"
        },
        "outputId": "e22082dd-b119-4553-d3ff-f2ce176c1acf"
      },
      "execution_count": null,
      "outputs": [
        {
          "output_type": "stream",
          "name": "stdout",
          "text": [
            "4 6\n",
            "0 0 0 0 0 0\n",
            "1 0 0 0 0 2\n",
            "1 1 1 0 0 2\n",
            "0 0 0 0 0 2\n",
            "9\n"
          ]
        }
      ]
    },
    {
      "cell_type": "markdown",
      "source": [
        "## 17. 경쟁적 전염"
      ],
      "metadata": {
        "id": "Bp7uoxAHxabY"
      }
    },
    {
      "cell_type": "code",
      "source": [
        "# https://www.acmicpc.net/problem/18405"
      ],
      "metadata": {
        "id": "IGSxDLiY0RnQ"
      },
      "execution_count": null,
      "outputs": []
    },
    {
      "cell_type": "code",
      "source": [
        "from collections import deque\n",
        "\n",
        "n, k = map(int, input().split())\n",
        "\n",
        "graph = []\n",
        "data = []\n",
        "\n",
        "for i in range(n):\n",
        "  graph.append(list(map(int, input().split())))\n",
        "  for j in range(n):\n",
        "    if graph[i][j] > 0:\n",
        "      # 바이러스 종류, 시간, x, y\n",
        "      data.append((graph[i][j], 0, i, j))\n",
        "\n",
        "data.sort()\n",
        "q = deque(data)\n",
        "\n",
        "ts, tx, ty = map(int, input().split())\n",
        "\n",
        "dx = [-1, 0, 1, 0]\n",
        "dy = [0, 1, 0, -1]\n",
        "\n",
        "while q:\n",
        "  virus, s, x, y = q.popleft()\n",
        "  if s == ts:\n",
        "    break\n",
        "\n",
        "  for i in range(4):\n",
        "    nx = x + dx[i]\n",
        "    ny = y + dy[i]\n",
        "\n",
        "    if nx >= 0 and nx < n and ny >= 0 and ny < n:\n",
        "      if graph[nx][ny] == 0:\n",
        "        graph[nx][ny] = virus\n",
        "        q.append((graph[nx][ny], s + 1, nx, ny))\n",
        "\n",
        "print(graph[tx - 1][ty - 1])"
      ],
      "metadata": {
        "colab": {
          "base_uri": "https://localhost:8080/"
        },
        "id": "kSWd-DOy0X0h",
        "outputId": "c191b3e9-08d8-4ae9-f458-5f174ab1c62d"
      },
      "execution_count": null,
      "outputs": [
        {
          "output_type": "stream",
          "name": "stdout",
          "text": [
            "3 3\n",
            "1 0 2\n",
            "0 0 0\n",
            "3 0 0\n",
            "1 2 2\n",
            "0\n"
          ]
        }
      ]
    },
    {
      "cell_type": "markdown",
      "source": [
        "## 18. 괄호 변환"
      ],
      "metadata": {
        "id": "TPKPuWK74OO9"
      }
    },
    {
      "cell_type": "code",
      "source": [
        "# https://programmers.co.kr/learn/courses/30/lessons/60058"
      ],
      "metadata": {
        "id": "RvWQsTP_4a3_"
      },
      "execution_count": null,
      "outputs": []
    },
    {
      "cell_type": "markdown",
      "source": [
        "## 19. 연산자 끼워 넣기"
      ],
      "metadata": {
        "id": "V2iZUQKM4jU2"
      }
    },
    {
      "cell_type": "code",
      "source": [
        "n = int(input())\n",
        "data = list(map(int, input().split()))\n",
        "add, sub, mul, div = map(int, input().split())\n",
        "\n",
        "max_value = -1e9\n",
        "min_value = 1e9\n",
        "\n",
        "def dfs(i, now):\n",
        "  global max_value, min_value, add, sub, mul, div\n",
        "  if i == n:        # 모든 연산 종료 -> 최솟값, 최댓값 업데이트\n",
        "    min_value = min(min_value, now)\n",
        "    max_value = max(max_value, now)\n",
        "  else:\n",
        "    if add > 0:\n",
        "      add -= 1\n",
        "      dfs(i + 1, now + data[i])\n",
        "      add += 1\n",
        "    if sub > 0:\n",
        "      sub -= 1\n",
        "      dfs(i + 1, now - data[i])\n",
        "      sub += 1\n",
        "    if mul > 0:\n",
        "      mul -= 1\n",
        "      dfs(i + 1, now * data[i])\n",
        "      mul += 1\n",
        "    if div > 0:\n",
        "      div -= 1\n",
        "      dfs(i + 1, int(now / data[i]))\n",
        "      div += 1\n",
        "\n",
        "dfs(1, data[0])\n",
        "\n",
        "print(max_value)\n",
        "print(min_value)"
      ],
      "metadata": {
        "id": "XTB4hn9F6V4m",
        "colab": {
          "base_uri": "https://localhost:8080/"
        },
        "outputId": "418e7d5c-f9ee-4a35-d517-5d8b39394c93"
      },
      "execution_count": null,
      "outputs": [
        {
          "output_type": "stream",
          "name": "stdout",
          "text": [
            "6\n",
            "1 2 3 4 5 6\n",
            "2 1 1 1\n",
            "54\n",
            "-24\n"
          ]
        }
      ]
    },
    {
      "cell_type": "code",
      "source": [
        "# 연산자 '/' vs '//' 차이\n",
        "print(-3 / 5)\n",
        "print(int(-3 / 5))\n",
        "print(-3 // 5)"
      ],
      "metadata": {
        "colab": {
          "base_uri": "https://localhost:8080/"
        },
        "id": "W9kUizrgjZyo",
        "outputId": "189c6c41-6371-441d-8010-f6afd33da5a8"
      },
      "execution_count": null,
      "outputs": [
        {
          "output_type": "stream",
          "name": "stdout",
          "text": [
            "-0.6\n",
            "0\n",
            "-1\n"
          ]
        }
      ]
    },
    {
      "cell_type": "markdown",
      "source": [
        "## 20. 감시 피하기"
      ],
      "metadata": {
        "id": "w8wFEtJvjsVb"
      }
    },
    {
      "cell_type": "code",
      "source": [
        ""
      ],
      "metadata": {
        "id": "4x231WB9jx0_"
      },
      "execution_count": null,
      "outputs": []
    },
    {
      "cell_type": "markdown",
      "source": [
        "# 정렬 문제"
      ],
      "metadata": {
        "id": "5g2pm889ONvg"
      }
    },
    {
      "cell_type": "markdown",
      "source": [
        "## 23. 국영수"
      ],
      "metadata": {
        "id": "PpFdFcp3OQMC"
      }
    },
    {
      "cell_type": "code",
      "source": [
        "# https://www.acmicpc.net/problem/10825\n",
        "n = int(input())\n",
        "\n",
        "data = []\n",
        "for _ in range(n):\n",
        "    data.append(input().split())\n",
        "    \n",
        "data.sort(key = lambda x: (-int(x[1]), int(x[2]), -int(x[3]), x[0]))\n",
        "\n",
        "for d in data:\n",
        "    print(d[0])"
      ],
      "metadata": {
        "colab": {
          "base_uri": "https://localhost:8080/"
        },
        "id": "qpt4CqVpOSWM",
        "outputId": "c2c461ec-805b-44e2-d48d-781dc837966f"
      },
      "execution_count": 7,
      "outputs": [
        {
          "output_type": "stream",
          "name": "stdout",
          "text": [
            "Donghyuk\n",
            "Sangkeun\n",
            "Sunyoung\n",
            "nsj\n",
            "Wonseob\n",
            "Sanghyun\n",
            "Sei\n",
            "Kangsoo\n",
            "Haebin\n",
            "Junkyu\n",
            "Soong\n",
            "Taewhan\n"
          ]
        }
      ]
    },
    {
      "cell_type": "markdown",
      "source": [
        "## 24. 안테나"
      ],
      "metadata": {
        "id": "c_MtnmIdPfHR"
      }
    },
    {
      "cell_type": "code",
      "source": [
        "n = int(input())\n",
        "data = list(map(int, input().split()))\n",
        "data.sort()\n",
        "\n",
        "print(data[(n - 1) // 2])"
      ],
      "metadata": {
        "colab": {
          "base_uri": "https://localhost:8080/"
        },
        "id": "pzLpcOrwPuLE",
        "outputId": "8e53376d-41fc-452d-a635-ef93600cf259"
      },
      "execution_count": 8,
      "outputs": [
        {
          "output_type": "stream",
          "name": "stdout",
          "text": [
            "4\n",
            "5 1 7 9\n",
            "5\n"
          ]
        }
      ]
    },
    {
      "cell_type": "markdown",
      "source": [
        "# 이진 탐색 문제"
      ],
      "metadata": {
        "id": "T8gtKW1uRlkU"
      }
    },
    {
      "cell_type": "markdown",
      "source": [
        "## 27. 정렬된 배열에서 특정 수의 개수 구하기"
      ],
      "metadata": {
        "id": "d0MhU5MKRveJ"
      }
    },
    {
      "cell_type": "code",
      "source": [
        "# 정렬된 수열에서 값이 x인 원소의 개수를 세는 메서드\n",
        "def count_by_value(array, x):\n",
        "  # 데이터의 개수\n",
        "  n = len(array)\n",
        "\n",
        "  # x가 처음 등장한 인덱스 계산\n",
        "  a = first(array, x, 0, n - 1)\n",
        "\n",
        "  # 수열에 x가 존재하지 않는 경우\n",
        "  if a == None:\n",
        "    return 0\n",
        "\n",
        "  # x가 마지막 등장한 인덱스 계산\n",
        "  b = last(array, x, 0, n - 1)\n",
        "\n",
        "  return b - a + 1\n",
        "\n",
        "# 처음 위치를 찾는 이진 탐색 메서드\n",
        "def first(array, target, start, end):\n",
        "  if start > end:\n",
        "    return None\n",
        "\n",
        "  mid = (start + end) // 2\n",
        "\n",
        "  # 해당 값을 가지는 원소 중에서 가장 왼쪽에 있는 경우에만 인덱스 반환\n",
        "  if (mid == 0 or target > array[mid - 1]) and array[mid] == target:\n",
        "    return mid\n",
        "  # 중간점의 값 보다 찾고자 하는 값이 작거나 같은 경우 왼쪽 확인\n",
        "  elif array[mid] >= target:\n",
        "    return first(array, target, start, mid - 1)\n",
        "  # 중간점의 값 보다 찾고자 하는 값이 큰 경우 오른쪽 확인\n",
        "  else:\n",
        "    return first(array, target, mid + 1, end)\n",
        "\n",
        "# 마지막 위치를 찾는 이진 탐색 메서드\n",
        "def last(array, target, start, end):\n",
        "  if start > end:\n",
        "    return None\n",
        "  \n",
        "  mid = (start + end) // 2\n",
        "\n",
        "  if (mid == n - 1 or target < array[mid + 1]) and array[mid] == target:\n",
        "    return mid\n",
        "  # 중간점의 값 보다 찾고자 하는 값이 작은 경우 왼쪽 확인\n",
        "  elif array[mid] > target:\n",
        "    return last(array, target, start, mid - 1)\n",
        "  # 중간점의 값 보다 찾고자 하는 값이 큰거나 같은 경우 오른쪽 확인\n",
        "  else:\n",
        "    return last(array, target, mid + 1, end)\n",
        "\n",
        "n, x = map(int, input().split())\n",
        "array = list(map(int, input().split()))\n",
        "\n",
        "count = count_by_value(array, x)\n",
        "\n",
        "if count == 0:\n",
        "  print(-1)\n",
        "else:\n",
        "  print(count)"
      ],
      "metadata": {
        "colab": {
          "base_uri": "https://localhost:8080/"
        },
        "id": "tnZj6xCrR5WH",
        "outputId": "7604fdeb-26c6-402d-fc26-d6dd95fda517"
      },
      "execution_count": 13,
      "outputs": [
        {
          "output_type": "stream",
          "name": "stdout",
          "text": [
            "7 4\n",
            "1 1 2 2 2 2 3\n",
            "-1\n"
          ]
        }
      ]
    },
    {
      "cell_type": "markdown",
      "source": [
        "## 28. 고정점 찾기"
      ],
      "metadata": {
        "id": "iEyFb03KVqxK"
      }
    },
    {
      "cell_type": "code",
      "source": [
        "n = int(input())\n",
        "data = list(map(int, input().split()))\n",
        "\n",
        "def find_index(array, start, end):\n",
        "  if start > end:\n",
        "    return None\n",
        "\n",
        "  mid = (start + end) // 2\n",
        "\n",
        "  if array[mid] == mid:\n",
        "    return mid\n",
        "  elif array[mid] < mid:\n",
        "    return find_index(array, mid + 1, end)\n",
        "  else:\n",
        "    return find_index(array, start, mid - 1)\n",
        "\n",
        "index = find_index(data, 0, n - 1)\n",
        "\n",
        "if index == None:\n",
        "  print(-1)\n",
        "else:\n",
        "  print(index)"
      ],
      "metadata": {
        "colab": {
          "base_uri": "https://localhost:8080/"
        },
        "id": "CM1aJJq2WZXi",
        "outputId": "46c803c9-5b14-44fc-d9df-eb03eccdadf1"
      },
      "execution_count": 16,
      "outputs": [
        {
          "output_type": "stream",
          "name": "stdout",
          "text": [
            "7\n",
            "-15 -4 3 8 9 13 15\n",
            "None\n"
          ]
        }
      ]
    },
    {
      "cell_type": "markdown",
      "source": [
        "# 다이나믹 프로그래밍 문제"
      ],
      "metadata": {
        "id": "aKQH702SXXIY"
      }
    },
    {
      "cell_type": "markdown",
      "source": [
        "## 31. 금광"
      ],
      "metadata": {
        "id": "ppZVAMiBX7eT"
      }
    },
    {
      "cell_type": "code",
      "source": [
        "T = int(input())\n",
        "\n",
        "for _ in range(T):\n",
        "  n, m = map(int, input().split())\n",
        "  array = list(map(int, input().split()))  \n",
        "\n",
        "  dp = []\n",
        "  index = 0\n",
        "  for i in range(n):\n",
        "    dp.append(array[index:index + m])\n",
        "    index += m\n",
        "\n",
        "  # 다이나믹 프로그래밍 진행\n",
        "  for j in range(1, m):\n",
        "    for i in range(n):\n",
        "      # 왼쪽 위에서 오는 경우\n",
        "      if i == 0:\n",
        "        left_up = 0\n",
        "      else:\n",
        "        left_up = dp[i - 1][j - 1]\n",
        "\n",
        "      # 왼쪽 아래에서 오는 경우\n",
        "      if i == n - 1:\n",
        "        left_down = 0\n",
        "      else:\n",
        "        left_down = dp[i + 1][j - 1]\n",
        "\n",
        "      # 왼쪽에서 오는 경우\n",
        "      left = dp[i][j - 1]\n",
        "\n",
        "      dp[i][j] = dp[i][j] + max(left_up, left_down, left)\n",
        "\n",
        "  result = 0\n",
        "  for i in range(n):\n",
        "    result = max(result, dp[i][m - 1])\n",
        "\n",
        "  print(result)"
      ],
      "metadata": {
        "colab": {
          "base_uri": "https://localhost:8080/"
        },
        "id": "GksCJCyWX97K",
        "outputId": "7c0e4f92-389f-4716-aac0-dd9925325573"
      },
      "execution_count": 17,
      "outputs": [
        {
          "output_type": "stream",
          "name": "stdout",
          "text": [
            "2\n",
            "3 4\n",
            "1 3 3 2 2 1 4 1 0 6 4 7\n",
            "19\n",
            "4 4\n",
            "1 3 1 5 2 2 4 1 5 0 2 3 0 6 1 2\n",
            "16\n"
          ]
        }
      ]
    },
    {
      "cell_type": "code",
      "source": [
        ""
      ],
      "metadata": {
        "id": "gkwMPR15Znxu"
      },
      "execution_count": null,
      "outputs": []
    }
  ]
}