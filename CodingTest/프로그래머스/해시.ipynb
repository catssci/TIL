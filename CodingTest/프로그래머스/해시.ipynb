{
  "nbformat": 4,
  "nbformat_minor": 0,
  "metadata": {
    "colab": {
      "name": "해시.ipynb",
      "provenance": [],
      "collapsed_sections": [],
      "authorship_tag": "ABX9TyM4scskyG85VV8S+8mL8Z1F",
      "include_colab_link": true
    },
    "kernelspec": {
      "name": "python3",
      "display_name": "Python 3"
    },
    "language_info": {
      "name": "python"
    }
  },
  "cells": [
    {
      "cell_type": "markdown",
      "metadata": {
        "id": "view-in-github",
        "colab_type": "text"
      },
      "source": [
        "<a href=\"https://colab.research.google.com/github/catssci/TIL/blob/main/CodingTest/%ED%94%84%EB%A1%9C%EA%B7%B8%EB%9E%98%EB%A8%B8%EC%8A%A4/%ED%95%B4%EC%8B%9C.ipynb\" target=\"_parent\"><img src=\"https://colab.research.google.com/assets/colab-badge.svg\" alt=\"Open In Colab\"/></a>"
      ]
    },
    {
      "cell_type": "markdown",
      "source": [
        "# 완주하지 못한 선수"
      ],
      "metadata": {
        "id": "cRaLByO0c7_U"
      }
    },
    {
      "cell_type": "code",
      "execution_count": 5,
      "metadata": {
        "id": "TwrSP0F5ccxH"
      },
      "outputs": [],
      "source": [
        "def solution(participant, completion):\n",
        "    dic = {}\n",
        "    # 참가자 명단을 dictionary에 추가\n",
        "    for part in participant:\n",
        "        if part in dic:\n",
        "            dic[part] += 1\n",
        "        else:\n",
        "            dic[part] = 1\n",
        "    \n",
        "    # 완주자 면단을 dictionary에 빼기\n",
        "    for com in completion:\n",
        "        dic[com] -= 1\n",
        "    \n",
        "    answer = list(dic.keys())[list(dic.values()).index(1)]\n",
        "    return answer"
      ]
    },
    {
      "cell_type": "code",
      "source": [
        "participants = [[\"leo\", \"kiki\", \"eden\"]\t, [\"marina\", \"josipa\", \"nikola\", \"vinko\", \"filipa\"]\t, [\"mislav\", \"stanko\", \"mislav\", \"ana\"]]\n",
        "completions = [[\"eden\", \"kiki\"], [\"josipa\", \"filipa\", \"marina\", \"nikola\"], [\"stanko\", \"ana\", \"mislav\"]]"
      ],
      "metadata": {
        "id": "4LXwA5OIceuL"
      },
      "execution_count": 6,
      "outputs": []
    },
    {
      "cell_type": "code",
      "source": [
        "for participant, completion in zip(participants, completions):\n",
        "  print(solution(participant, completion))"
      ],
      "metadata": {
        "colab": {
          "base_uri": "https://localhost:8080/"
        },
        "id": "TDWY2ECucvPM",
        "outputId": "1e37841d-cc28-4fd1-d1d9-d2afd30226e2"
      },
      "execution_count": 7,
      "outputs": [
        {
          "output_type": "stream",
          "name": "stdout",
          "text": [
            "leo\n",
            "vinko\n",
            "mislav\n"
          ]
        }
      ]
    },
    {
      "cell_type": "code",
      "source": [
        "import collections\n",
        "\n",
        "def solution(participant, completion):\n",
        "  answer = collections.Counter(participant) - collections.Counter(completion)\n",
        "  return list(answer.keys())[0]"
      ],
      "metadata": {
        "id": "AygABZhRc4zB"
      },
      "execution_count": 19,
      "outputs": []
    },
    {
      "cell_type": "code",
      "source": [
        "for participant, completion in zip(participants, completions):\n",
        "  print(solution(participant, completion))"
      ],
      "metadata": {
        "colab": {
          "base_uri": "https://localhost:8080/"
        },
        "id": "WD4Bfn2kdOGv",
        "outputId": "d9c91340-fe6c-4712-db32-aecdd37122cc"
      },
      "execution_count": 20,
      "outputs": [
        {
          "output_type": "stream",
          "name": "stdout",
          "text": [
            "leo\n",
            "vinko\n",
            "mislav\n"
          ]
        }
      ]
    },
    {
      "cell_type": "code",
      "source": [
        "def solution(participant, completion):\n",
        "    answer = ''\n",
        "    temp = 0\n",
        "    dic = {}\n",
        "    for part in participant:\n",
        "        dic[hash(part)] = part\n",
        "        temp += int(hash(part))\n",
        "    for com in completion:\n",
        "        temp -= hash(com)\n",
        "    answer = dic[temp]\n",
        "\n",
        "    return answer"
      ],
      "metadata": {
        "id": "o9IsttuedYrf"
      },
      "execution_count": 27,
      "outputs": []
    },
    {
      "cell_type": "code",
      "source": [
        "for participant, completion in zip(participants, completions):\n",
        "  print(solution(participant, completion))"
      ],
      "metadata": {
        "colab": {
          "base_uri": "https://localhost:8080/"
        },
        "id": "fNP1_LATd7ax",
        "outputId": "1d964f98-a07e-4c4a-da27-44c02fde060a"
      },
      "execution_count": 28,
      "outputs": [
        {
          "output_type": "stream",
          "name": "stdout",
          "text": [
            "leo\n",
            "vinko\n",
            "mislav\n"
          ]
        }
      ]
    },
    {
      "cell_type": "markdown",
      "source": [
        "# 전화번호 목록"
      ],
      "metadata": {
        "id": "o0y3qnIud8ak"
      }
    },
    {
      "cell_type": "code",
      "source": [
        "def solution(phoneBook):\n",
        "    phoneBook = sorted(phoneBook)\n",
        "\n",
        "    for p1, p2 in zip(phoneBook, phoneBook[1:]):\n",
        "        if p2.startswith(p1):\n",
        "            return False\n",
        "    return True"
      ],
      "metadata": {
        "id": "oke0xVbgft6I"
      },
      "execution_count": 35,
      "outputs": []
    },
    {
      "cell_type": "code",
      "source": [
        "phoneBooks = [[\"119\", \"97674223\", \"1195524421\"], [\"123\",\"456\",\"789\"], [\"12\",\"123\",\"1235\",\"567\",\"88\"]]"
      ],
      "metadata": {
        "id": "XNUGBsIof1Vn"
      },
      "execution_count": 36,
      "outputs": []
    },
    {
      "cell_type": "code",
      "source": [
        "for phoneBook in phoneBooks:\n",
        "    print(solution(phoneBook))"
      ],
      "metadata": {
        "colab": {
          "base_uri": "https://localhost:8080/"
        },
        "id": "KZicS3OdgVDy",
        "outputId": "04fbb682-5cc7-4a2f-9d6f-3070c37d1cd1"
      },
      "execution_count": 37,
      "outputs": [
        {
          "output_type": "stream",
          "name": "stdout",
          "text": [
            "False\n",
            "True\n",
            "False\n"
          ]
        }
      ]
    },
    {
      "cell_type": "markdown",
      "source": [
        "## python `startswith`\n",
        "해당 문자열 첫 부분에 입력 문자열 or 튜플 원소의 포함 여부를 리턴해줌"
      ],
      "metadata": {
        "id": "023z_U_uguU3"
      }
    },
    {
      "cell_type": "code",
      "source": [
        "string = \"hello startswith\"\n",
        "print(string.startswith(\"hello\"))"
      ],
      "metadata": {
        "colab": {
          "base_uri": "https://localhost:8080/"
        },
        "id": "ORVJwtiVg_CK",
        "outputId": "1e903a1c-a0e1-4a21-c05a-ba8d30476c15"
      },
      "execution_count": 42,
      "outputs": [
        {
          "output_type": "stream",
          "name": "stdout",
          "text": [
            "True\n"
          ]
        }
      ]
    },
    {
      "cell_type": "code",
      "source": [
        "string = \"hello startswith\"\n",
        "print(string.startswith(\"Hello\"))"
      ],
      "metadata": {
        "colab": {
          "base_uri": "https://localhost:8080/"
        },
        "id": "P5KZ8Sg2hCsG",
        "outputId": "70ac2e1b-5eeb-42da-824b-94c74969dc71"
      },
      "execution_count": 43,
      "outputs": [
        {
          "output_type": "stream",
          "name": "stdout",
          "text": [
            "False\n"
          ]
        }
      ]
    },
    {
      "cell_type": "code",
      "source": [
        "string = \"hello startswith\"\n",
        "tuple_string = (\"hello\", \"bye\")\n",
        "print(string.startswith(tuple_string))"
      ],
      "metadata": {
        "colab": {
          "base_uri": "https://localhost:8080/"
        },
        "id": "cNETCwCZhD8r",
        "outputId": "bd3b2228-24e2-46c3-f17e-a288a6e37488"
      },
      "execution_count": 44,
      "outputs": [
        {
          "output_type": "stream",
          "name": "stdout",
          "text": [
            "True\n"
          ]
        }
      ]
    },
    {
      "cell_type": "code",
      "source": [
        "string = \"hello startswith\"\n",
        "tuple_string = (\"Hello\", \"bye\")\n",
        "print(string.startswith(tuple_string))"
      ],
      "metadata": {
        "colab": {
          "base_uri": "https://localhost:8080/"
        },
        "id": "GcfcqRKshGf2",
        "outputId": "a9d23979-684f-4985-c396-a54c6228cc57"
      },
      "execution_count": 45,
      "outputs": [
        {
          "output_type": "stream",
          "name": "stdout",
          "text": [
            "False\n"
          ]
        }
      ]
    },
    {
      "cell_type": "code",
      "source": [
        "string = \"hello startswith\"\n",
        "tuple_string = (\"Hello\", \"bye\", \"hello\")\n",
        "print(string.startswith(tuple_string))"
      ],
      "metadata": {
        "colab": {
          "base_uri": "https://localhost:8080/"
        },
        "id": "QqJavkJwhJTY",
        "outputId": "e727416a-9dbf-4bb3-ce3a-7cdc6ab029b6"
      },
      "execution_count": 46,
      "outputs": [
        {
          "output_type": "stream",
          "name": "stdout",
          "text": [
            "True\n"
          ]
        }
      ]
    },
    {
      "cell_type": "markdown",
      "source": [
        "# 위장"
      ],
      "metadata": {
        "id": "dtHBzAqZhMqx"
      }
    },
    {
      "cell_type": "code",
      "source": [
        ""
      ],
      "metadata": {
        "id": "O_shCJmsksgN"
      },
      "execution_count": null,
      "outputs": []
    }
  ]
}