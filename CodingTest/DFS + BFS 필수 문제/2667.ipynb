{
  "nbformat": 4,
  "nbformat_minor": 0,
  "metadata": {
    "colab": {
      "name": "2667.ipynb",
      "provenance": [],
      "collapsed_sections": [],
      "authorship_tag": "ABX9TyMrPwFAP4xCRavftnRorma+",
      "include_colab_link": true
    },
    "kernelspec": {
      "name": "python3",
      "display_name": "Python 3"
    },
    "language_info": {
      "name": "python"
    }
  },
  "cells": [
    {
      "cell_type": "markdown",
      "metadata": {
        "id": "view-in-github",
        "colab_type": "text"
      },
      "source": [
        "<a href=\"https://colab.research.google.com/github/catssci/TIL/blob/main/CodingTest/DFS%20%2B%20BFS%20%ED%95%84%EC%88%98%20%EB%AC%B8%EC%A0%9C/2667.ipynb\" target=\"_parent\"><img src=\"https://colab.research.google.com/assets/colab-badge.svg\" alt=\"Open In Colab\"/></a>"
      ]
    },
    {
      "cell_type": "code",
      "execution_count": 9,
      "metadata": {
        "colab": {
          "base_uri": "https://localhost:8080/"
        },
        "id": "FY1g1o_mmqNC",
        "outputId": "b930aa47-0101-4741-a637-bb553716f31c"
      },
      "outputs": [
        {
          "output_type": "stream",
          "name": "stdout",
          "text": [
            "3\n",
            "001\n",
            "011\n",
            "100\n",
            "2\n",
            "1\n",
            "3\n"
          ]
        }
      ],
      "source": [
        "from collections import deque\n",
        "\n",
        "n = int(input())\n",
        "\n",
        "arr = []\n",
        "for _ in range(n):\n",
        "    s = map(int, list(input()))\n",
        "    arr.append(list(s))\n",
        "\n",
        "\n",
        "dx = [0, 1, 0, -1]\n",
        "dy = [1, 0, -1, 0]\n",
        "\n",
        "def bfs(s, e):\n",
        "    q = deque([[s, e]])\n",
        "    arr[s][e] = 0\n",
        "    ans = 1\n",
        "    while q:\n",
        "        x, y = q.popleft()\n",
        "        for i in range(4):\n",
        "            nx = dx[i] + x\n",
        "            ny = dy[i] + y\n",
        "        \n",
        "            if 0 <= nx < n and 0 <= ny < n:\n",
        "                if arr[nx][ny] == 1:\n",
        "                    q.append([nx, ny])\n",
        "                    arr[nx][ny] = 0\n",
        "                    ans += 1\n",
        "    return ans\n",
        "\n",
        "ans = 0\n",
        "answer = []\n",
        "for i in range(n):\n",
        "    for j in range(n):\n",
        "        if arr[i][j] == 1:\n",
        "            answer.append(bfs(i, j))\n",
        "            ans += 1\n",
        "            \n",
        "if len(answer) == 0:\n",
        "    print(0)\n",
        "    print(0)\n",
        "else:\n",
        "    print(len(answer))\n",
        "    answer.sort()\n",
        "    for i in answer:\n",
        "        print(i)"
      ]
    }
  ]
}