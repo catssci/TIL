{
  "nbformat": 4,
  "nbformat_minor": 0,
  "metadata": {
    "colab": {
      "name": "1260.ipynb",
      "provenance": [],
      "collapsed_sections": [],
      "authorship_tag": "ABX9TyO2puvkU89UDfcI4akoluc4",
      "include_colab_link": true
    },
    "kernelspec": {
      "name": "python3",
      "display_name": "Python 3"
    },
    "language_info": {
      "name": "python"
    }
  },
  "cells": [
    {
      "cell_type": "markdown",
      "metadata": {
        "id": "view-in-github",
        "colab_type": "text"
      },
      "source": [
        "<a href=\"https://colab.research.google.com/github/catssci/TIL/blob/main/CodingTest/DFS%20%2B%20BFS%20%ED%95%84%EC%88%98%20%EB%AC%B8%EC%A0%9C/1260.ipynb\" target=\"_parent\"><img src=\"https://colab.research.google.com/assets/colab-badge.svg\" alt=\"Open In Colab\"/></a>"
      ]
    },
    {
      "cell_type": "code",
      "execution_count": 1,
      "metadata": {
        "colab": {
          "base_uri": "https://localhost:8080/"
        },
        "id": "jwtlgNdUaFvK",
        "outputId": "bdb35206-aced-4fc7-e968-83cee33ce6c8"
      },
      "outputs": [
        {
          "output_type": "stream",
          "name": "stdout",
          "text": [
            "4 5 1\n",
            "1 2\n",
            "1 3\n",
            "1 4\n",
            "2 4\n",
            "3 4\n",
            "1 2 4 3 \n",
            "1 2 3 4 "
          ]
        }
      ],
      "source": [
        "from collections import deque\n",
        "\n",
        "n, m, v = map(int, input().split())\n",
        "\n",
        "graph = [[] for i in range(n + 1)]\n",
        "for i in range(m):\n",
        "    s, e = map(int, input().split())\n",
        "    graph[s].append(e)\n",
        "    graph[e].append(s)\n",
        "\n",
        "for i in range(1, n + 1):\n",
        "    graph[i].sort()\n",
        "\n",
        "# DFS\n",
        "def dfs(graph, v, visited):\n",
        "    print(v, end = ' ')\n",
        "    visited[v] = True\n",
        "    for i in graph[v]:\n",
        "        if visited[i] == False:\n",
        "            dfs(graph, i, visited)    \n",
        "\n",
        "# BFS\n",
        "def bfs(graph, v, visited):\n",
        "    queue = deque([v])\n",
        "    visited[v] = True\n",
        "    \n",
        "    while queue:\n",
        "        s = queue.popleft()\n",
        "        print(s, end = ' ')\n",
        "        for i in graph[s]:\n",
        "            if visited[i] == False:\n",
        "                queue.append(i)\n",
        "                visited[i] = True\n",
        "            \n",
        "visited = [False] * (n + 1)\n",
        "dfs(graph, v, visited)\n",
        "print('')\n",
        "\n",
        "visited = [False] * (n + 1)\n",
        "bfs(graph, v, visited)"
      ]
    }
  ]
}