{
  "nbformat": 4,
  "nbformat_minor": 0,
  "metadata": {
    "colab": {
      "name": "7569.ipynb",
      "provenance": [],
      "authorship_tag": "ABX9TyM/qKiyK2L7FgTQfiZuPcby",
      "include_colab_link": true
    },
    "kernelspec": {
      "name": "python3",
      "display_name": "Python 3"
    },
    "language_info": {
      "name": "python"
    }
  },
  "cells": [
    {
      "cell_type": "markdown",
      "metadata": {
        "id": "view-in-github",
        "colab_type": "text"
      },
      "source": [
        "<a href=\"https://colab.research.google.com/github/catssci/TIL/blob/main/CodingTest/DFS%20%2B%20BFS%20%ED%95%84%EC%88%98%20%EB%AC%B8%EC%A0%9C/7569.ipynb\" target=\"_parent\"><img src=\"https://colab.research.google.com/assets/colab-badge.svg\" alt=\"Open In Colab\"/></a>"
      ]
    },
    {
      "cell_type": "code",
      "source": [
        "from collections import deque\n",
        "\n",
        "m, n, h = map(int, input().split())\n",
        "\n",
        "arr = []\n",
        "apple = []\n",
        "for i in range(h):\n",
        "    temp = []\n",
        "    for j in range(n):\n",
        "        s = list(map(int, list(input().split())))\n",
        "        for k in range(m):\n",
        "            if s[k] == 1:\n",
        "                apple.append([i, j, k])\n",
        "        temp.append(s)\n",
        "    arr.append(temp)\n",
        "    \n",
        "dh = [0, 0, 0, 0, 1, -1]\n",
        "dx = [1, -1, 0, 0, 0, 0]\n",
        "dy = [0, 0, 1, -1, 0, 0]\n",
        "\n",
        "q = deque(apple)\n",
        "\n",
        "while q:\n",
        "    H, N, M = q.popleft()\n",
        "    for i in range(6):\n",
        "        nx = N + dx[i]\n",
        "        ny = M + dy[i]\n",
        "        nh = H + dh[i]\n",
        "        \n",
        "        if 0 <= nx < n and 0 <= ny < m and 0 <= nh < h:\n",
        "            if arr[nh][nx][ny] == 0:\n",
        "                arr[nh][nx][ny] = arr[H][N][M] + 1\n",
        "                q.append([nh, nx, ny])\n",
        "\n",
        "P = True\n",
        "ans = 0\n",
        "for i in range(h):\n",
        "    for j in range(n):\n",
        "        for k in range(m):\n",
        "            ans = max(ans, arr[i][j][k])\n",
        "            if arr[i][j][k] == 0:\n",
        "                P = False\n",
        "                break\n",
        "if P:\n",
        "    print(ans - 1)\n",
        "else:\n",
        "    print(-1)"
      ],
      "metadata": {
        "colab": {
          "base_uri": "https://localhost:8080/"
        },
        "id": "_PmoNKA2VOiD",
        "outputId": "74f96953-7fc1-48a4-b689-b4d55b497cbd"
      },
      "execution_count": 28,
      "outputs": [
        {
          "output_type": "stream",
          "name": "stdout",
          "text": [
            "5 3 1\n",
            "0 -1 0 0 0\n",
            "-1 -1 0 1 1\n",
            "0 0 0 1 1\n",
            "-1\n"
          ]
        }
      ]
    }
  ]
}