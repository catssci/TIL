{
  "nbformat": 4,
  "nbformat_minor": 0,
  "metadata": {
    "colab": {
      "name": "2644.ipynb",
      "provenance": [],
      "authorship_tag": "ABX9TyOpbOwzFd1sehATrZTIbwtK",
      "include_colab_link": true
    },
    "kernelspec": {
      "name": "python3",
      "display_name": "Python 3"
    },
    "language_info": {
      "name": "python"
    }
  },
  "cells": [
    {
      "cell_type": "markdown",
      "metadata": {
        "id": "view-in-github",
        "colab_type": "text"
      },
      "source": [
        "<a href=\"https://colab.research.google.com/github/catssci/TIL/blob/main/CodingTest/DFS%20%2B%20BFS%20%ED%95%84%EC%88%98%20%EB%AC%B8%EC%A0%9C/2644.ipynb\" target=\"_parent\"><img src=\"https://colab.research.google.com/assets/colab-badge.svg\" alt=\"Open In Colab\"/></a>"
      ]
    },
    {
      "cell_type": "code",
      "execution_count": 1,
      "metadata": {
        "colab": {
          "base_uri": "https://localhost:8080/"
        },
        "id": "5BduFel5uRx0",
        "outputId": "b854af0b-9f89-47af-bc74-cafdd608eb13"
      },
      "outputs": [
        {
          "output_type": "stream",
          "name": "stdout",
          "text": [
            "9\n",
            "7 3\n",
            "7\n",
            "1 2\n",
            "1 3\n",
            "2 7\n",
            "2 8\n",
            "2 9\n",
            "4 5\n",
            "4 6\n",
            "3\n"
          ]
        }
      ],
      "source": [
        "from collections import deque\n",
        "\n",
        "n = int(input())\n",
        "a, b = map(int, input().split())\n",
        "m = int(input())\n",
        "\n",
        "graph = [[] for i in range(n + 1)]\n",
        "for i in range(m):\n",
        "    s, e = map(int, input().split())\n",
        "    graph[s].append(e)\n",
        "    graph[e].append(s)\n",
        "\n",
        "visited = [False] * (n + 1)\n",
        "answer = [0] * (n + 1)\n",
        "q = deque([a])\n",
        "visited[a] = True\n",
        "while q:\n",
        "    x = q.popleft()\n",
        "    for i in graph[x]:\n",
        "        if visited[i] == False:\n",
        "            q.append(i)\n",
        "            visited[i] = True\n",
        "            answer[i] = answer[x] + 1\n",
        "\n",
        "if answer[b] == 0:\n",
        "    print(-1)\n",
        "else:\n",
        "    print(answer[b])"
      ]
    }
  ]
}