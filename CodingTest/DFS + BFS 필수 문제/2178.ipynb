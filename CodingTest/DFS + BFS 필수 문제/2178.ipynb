{
  "nbformat": 4,
  "nbformat_minor": 0,
  "metadata": {
    "colab": {
      "name": "2178.ipynb",
      "provenance": [],
      "collapsed_sections": [],
      "authorship_tag": "ABX9TyMm85y/pUC9jY6vDGTMozX5",
      "include_colab_link": true
    },
    "kernelspec": {
      "name": "python3",
      "display_name": "Python 3"
    },
    "language_info": {
      "name": "python"
    }
  },
  "cells": [
    {
      "cell_type": "markdown",
      "metadata": {
        "id": "view-in-github",
        "colab_type": "text"
      },
      "source": [
        "<a href=\"https://colab.research.google.com/github/catssci/TIL/blob/main/CodingTest/DFS%20%2B%20BFS%20%ED%95%84%EC%88%98%20%EB%AC%B8%EC%A0%9C/2178.ipynb\" target=\"_parent\"><img src=\"https://colab.research.google.com/assets/colab-badge.svg\" alt=\"Open In Colab\"/></a>"
      ]
    },
    {
      "cell_type": "code",
      "source": [
        "from collections import deque\n",
        "\n",
        "n, m = map(int, input().split())\n",
        "\n",
        "arr = []\n",
        "for _ in range(n):\n",
        "    s = map(int, list(input()))\n",
        "    arr.append(list(s))\n",
        "\n",
        "dx = [0, 1, 0, -1]\n",
        "dy = [1, 0, -1, 0]\n",
        "\n",
        "# BFS\n",
        "q = deque([[0, 0]])\n",
        "while q:\n",
        "    x, y = q.popleft()\n",
        "    for i in range(4):\n",
        "        nx = x + dx[i]\n",
        "        ny = y + dy[i]\n",
        "        \n",
        "        if 0 <= nx < n and 0 <= ny < m:\n",
        "            if arr[nx][ny] == 1:\n",
        "                q.append([nx, ny])\n",
        "                arr[nx][ny] = arr[x][y] + 1\n",
        "                \n",
        "print(arr[n - 1][m - 1])\n",
        "\n",
        "# 0, 0 좌표에서 한번 더 방문하는 과정을 거친다."
      ],
      "metadata": {
        "colab": {
          "base_uri": "https://localhost:8080/"
        },
        "id": "82oHH2v3e5tJ",
        "outputId": "d8d19acf-84bb-41a1-fbf7-8704e53e39f9"
      },
      "execution_count": 11,
      "outputs": [
        {
          "output_type": "stream",
          "name": "stdout",
          "text": [
            "4 6\n",
            "101111\n",
            "101010\n",
            "101011\n",
            "111011\n",
            "15\n"
          ]
        }
      ]
    }
  ]
}