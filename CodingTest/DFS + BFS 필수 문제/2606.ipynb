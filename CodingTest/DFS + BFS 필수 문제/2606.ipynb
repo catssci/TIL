{
  "nbformat": 4,
  "nbformat_minor": 0,
  "metadata": {
    "colab": {
      "name": "2606.ipynb",
      "provenance": [],
      "collapsed_sections": [],
      "authorship_tag": "ABX9TyMJ+dsYDPRFdefouOAWor0E",
      "include_colab_link": true
    },
    "kernelspec": {
      "name": "python3",
      "display_name": "Python 3"
    },
    "language_info": {
      "name": "python"
    }
  },
  "cells": [
    {
      "cell_type": "markdown",
      "metadata": {
        "id": "view-in-github",
        "colab_type": "text"
      },
      "source": [
        "<a href=\"https://colab.research.google.com/github/catssci/TIL/blob/main/CodingTest/DFS%20%2B%20BFS%20%ED%95%84%EC%88%98%20%EB%AC%B8%EC%A0%9C/2606.ipynb\" target=\"_parent\"><img src=\"https://colab.research.google.com/assets/colab-badge.svg\" alt=\"Open In Colab\"/></a>"
      ]
    },
    {
      "cell_type": "code",
      "execution_count": 1,
      "metadata": {
        "colab": {
          "base_uri": "https://localhost:8080/"
        },
        "id": "6yZ7KtZnk7-W",
        "outputId": "0180c0d3-c825-4db2-e328-63160f481058"
      },
      "outputs": [
        {
          "output_type": "stream",
          "name": "stdout",
          "text": [
            "7\n",
            "6\n",
            "1 2\n",
            "2 3\n",
            "1 5\n",
            "5 2\n",
            "5 6\n",
            "4 7\n",
            "4\n"
          ]
        }
      ],
      "source": [
        "from collections import deque\n",
        "\n",
        "c = int(input())\n",
        "n = int(input())\n",
        "\n",
        "graph = [[] for i in range(c + 1)]\n",
        "for i in range(n):\n",
        "    s, e = map(int, input().split())\n",
        "    graph[s].append(e)\n",
        "    graph[e].append(s)\n",
        "\n",
        "visited = [False] * (c + 1)\n",
        "q = deque([1])\n",
        "visited[1] = True\n",
        "ans = 0\n",
        "while q:\n",
        "    v = q.popleft()\n",
        "    for i in graph[v]:\n",
        "        if visited[i] == False:\n",
        "            q.append(i)\n",
        "            visited[i] = True\n",
        "            ans += 1\n",
        "            \n",
        "print(ans)"
      ]
    }
  ]
}