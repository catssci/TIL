{
 "cells": [
  {
   "cell_type": "markdown",
   "id": "eab3b3f1",
   "metadata": {
    "_cell_guid": "b1076dfc-b9ad-4769-8c92-a6c4dae69d19",
    "_uuid": "8f2839f25d086af736a60e9eeb907d3b93b6e0e5",
    "papermill": {
     "duration": 0.024578,
     "end_time": "2022-02-20T11:07:36.564414",
     "exception": false,
     "start_time": "2022-02-20T11:07:36.539836",
     "status": "completed"
    },
    "tags": []
   },
   "source": [
    "- reference: https://www.kaggle.com/robikscube/fast-data-loading-and-low-mem-with-parquet-files"
   ]
  },
  {
   "cell_type": "markdown",
   "id": "79c7b0bb",
   "metadata": {
    "papermill": {
     "duration": 0.022018,
     "end_time": "2022-02-20T11:07:36.610192",
     "exception": false,
     "start_time": "2022-02-20T11:07:36.588174",
     "status": "completed"
    },
    "tags": []
   },
   "source": [
    "# Speed Up Loading The Data By Importing from the Parquet Dataset\n",
    "> [parquet info link](https://databricks.com/glossary/what-is-parquet)"
   ]
  },
  {
   "cell_type": "markdown",
   "id": "a45326b6",
   "metadata": {
    "execution": {
     "iopub.execute_input": "2022-02-20T10:33:31.579344Z",
     "iopub.status.busy": "2022-02-20T10:33:31.578960Z",
     "iopub.status.idle": "2022-02-20T10:33:31.607228Z",
     "shell.execute_reply": "2022-02-20T10:33:31.606229Z",
     "shell.execute_reply.started": "2022-02-20T10:33:31.579243Z"
    },
    "papermill": {
     "duration": 0.022619,
     "end_time": "2022-02-20T11:07:36.655916",
     "exception": false,
     "start_time": "2022-02-20T11:07:36.633297",
     "status": "completed"
    },
    "tags": []
   },
   "source": [
    "> **What is Parquet?**\n",
    "> \n",
    "> Parquet is an `open source file format` available to any project in the `Hadoop ecosystem`. Apache Parquet is designed for efficient as well as performant flat columnar storage format of data compared to row based files like `CSV` or `TSV` files.\n",
    "> \n",
    "> Parquet uses the record shredding and assembly algorithm which is superior to simple flattening of nested namespaces. Parquet is optimized to work with complex data in bulk and features different ways for efficient data compression and encoding types. This approach is best especially for those queries that need to read certain columns from a large table. Parquet can only read the needed columns therefore greatly minimizing the IO."
   ]
  },
  {
   "cell_type": "code",
   "execution_count": 1,
   "id": "44971552",
   "metadata": {
    "execution": {
     "iopub.execute_input": "2022-02-20T11:07:36.710828Z",
     "iopub.status.busy": "2022-02-20T11:07:36.709829Z",
     "iopub.status.idle": "2022-02-20T11:07:36.714288Z",
     "shell.execute_reply": "2022-02-20T11:07:36.714787Z",
     "shell.execute_reply.started": "2022-02-20T10:59:04.616003Z"
    },
    "papermill": {
     "duration": 0.036525,
     "end_time": "2022-02-20T11:07:36.715099",
     "exception": false,
     "start_time": "2022-02-20T11:07:36.678574",
     "status": "completed"
    },
    "tags": []
   },
   "outputs": [],
   "source": [
    "import pandas as pd\n",
    "import numpy as np\n",
    "import gc"
   ]
  },
  {
   "cell_type": "markdown",
   "id": "49e09430",
   "metadata": {
    "papermill": {
     "duration": 0.02326,
     "end_time": "2022-02-20T11:07:36.761226",
     "exception": false,
     "start_time": "2022-02-20T11:07:36.737966",
     "status": "completed"
    },
    "tags": []
   },
   "source": [
    "# Reading as CSV (slow ver)"
   ]
  },
  {
   "cell_type": "markdown",
   "id": "43fe01a1",
   "metadata": {
    "papermill": {
     "duration": 0.022115,
     "end_time": "2022-02-20T11:07:36.806823",
     "exception": false,
     "start_time": "2022-02-20T11:07:36.784708",
     "status": "completed"
    },
    "tags": []
   },
   "source": [
    "- **18GB in size**\n",
    "- Don't Do this. It may cause the kaggle notebooks to crash."
   ]
  },
  {
   "cell_type": "code",
   "execution_count": 2,
   "id": "70e085b4",
   "metadata": {
    "execution": {
     "iopub.execute_input": "2022-02-20T11:07:36.859193Z",
     "iopub.status.busy": "2022-02-20T11:07:36.858422Z",
     "iopub.status.idle": "2022-02-20T11:07:36.861699Z",
     "shell.execute_reply": "2022-02-20T11:07:36.862257Z"
    },
    "papermill": {
     "duration": 0.033197,
     "end_time": "2022-02-20T11:07:36.862428",
     "exception": false,
     "start_time": "2022-02-20T11:07:36.829231",
     "status": "completed"
    },
    "tags": []
   },
   "outputs": [
    {
     "name": "stdout",
     "output_type": "stream",
     "text": [
      "CPU times: user 3 µs, sys: 0 ns, total: 3 µs\n",
      "Wall time: 7.39 µs\n"
     ]
    }
   ],
   "source": [
    "%%time\n",
    "if False:\n",
    "    train = pd.read_csv('../input/ubiquant-market-prediction/train.csv')"
   ]
  },
  {
   "cell_type": "code",
   "execution_count": 3,
   "id": "4db2eb0b",
   "metadata": {
    "execution": {
     "iopub.execute_input": "2022-02-20T11:07:36.914392Z",
     "iopub.status.busy": "2022-02-20T11:07:36.913675Z",
     "iopub.status.idle": "2022-02-20T11:07:36.916769Z",
     "shell.execute_reply": "2022-02-20T11:07:36.917332Z",
     "shell.execute_reply.started": "2022-02-20T10:59:09.770341Z"
    },
    "papermill": {
     "duration": 0.030045,
     "end_time": "2022-02-20T11:07:36.917499",
     "exception": false,
     "start_time": "2022-02-20T11:07:36.887454",
     "status": "completed"
    },
    "tags": []
   },
   "outputs": [],
   "source": [
    "# train.info()"
   ]
  },
  {
   "cell_type": "markdown",
   "id": "68c0798a",
   "metadata": {
    "papermill": {
     "duration": 0.022805,
     "end_time": "2022-02-20T11:07:36.963788",
     "exception": false,
     "start_time": "2022-02-20T11:07:36.940983",
     "status": "completed"
    },
    "tags": []
   },
   "source": [
    "# Reading as Parquet (Fast ver)"
   ]
  },
  {
   "cell_type": "markdown",
   "id": "2345b3b0",
   "metadata": {
    "papermill": {
     "duration": 0.022513,
     "end_time": "2022-02-20T11:07:37.009214",
     "exception": false,
     "start_time": "2022-02-20T11:07:36.986701",
     "status": "completed"
    },
    "tags": []
   },
   "source": [
    "- **5.5GB in size**\n",
    "- This is faster and keeps the dtypes of the original dataset."
   ]
  },
  {
   "cell_type": "code",
   "execution_count": 4,
   "id": "7c303e20",
   "metadata": {
    "execution": {
     "iopub.execute_input": "2022-02-20T11:07:37.061273Z",
     "iopub.status.busy": "2022-02-20T11:07:37.060525Z",
     "iopub.status.idle": "2022-02-20T11:08:39.129433Z",
     "shell.execute_reply": "2022-02-20T11:08:39.129976Z",
     "shell.execute_reply.started": "2022-02-20T10:59:11.246676Z"
    },
    "papermill": {
     "duration": 62.098232,
     "end_time": "2022-02-20T11:08:39.130187",
     "exception": false,
     "start_time": "2022-02-20T11:07:37.031955",
     "status": "completed"
    },
    "tags": []
   },
   "outputs": [
    {
     "name": "stdout",
     "output_type": "stream",
     "text": [
      "CPU times: user 23.9 s, sys: 21.7 s, total: 45.6 s\n",
      "Wall time: 1min 2s\n"
     ]
    }
   ],
   "source": [
    "%%time\n",
    "if True:\n",
    "    train = pd.read_parquet('../input/ubiquant-parquet/train.parquet')"
   ]
  },
  {
   "cell_type": "code",
   "execution_count": 5,
   "id": "e201a5eb",
   "metadata": {
    "execution": {
     "iopub.execute_input": "2022-02-20T11:08:39.182595Z",
     "iopub.status.busy": "2022-02-20T11:08:39.181969Z",
     "iopub.status.idle": "2022-02-20T11:08:39.213992Z",
     "shell.execute_reply": "2022-02-20T11:08:39.214567Z",
     "shell.execute_reply.started": "2022-02-20T11:00:07.266166Z"
    },
    "papermill": {
     "duration": 0.060653,
     "end_time": "2022-02-20T11:08:39.214765",
     "exception": false,
     "start_time": "2022-02-20T11:08:39.154112",
     "status": "completed"
    },
    "tags": []
   },
   "outputs": [
    {
     "name": "stdout",
     "output_type": "stream",
     "text": [
      "<class 'pandas.core.frame.DataFrame'>\n",
      "RangeIndex: 3141410 entries, 0 to 3141409\n",
      "Columns: 304 entries, row_id to f_299\n",
      "dtypes: float64(301), int64(2), object(1)\n",
      "memory usage: 7.1+ GB\n"
     ]
    }
   ],
   "source": [
    "train.info()"
   ]
  },
  {
   "cell_type": "code",
   "execution_count": 6,
   "id": "821189e2",
   "metadata": {
    "execution": {
     "iopub.execute_input": "2022-02-20T11:08:39.268107Z",
     "iopub.status.busy": "2022-02-20T11:08:39.267417Z",
     "iopub.status.idle": "2022-02-20T11:08:39.278164Z",
     "shell.execute_reply": "2022-02-20T11:08:39.277514Z",
     "shell.execute_reply.started": "2022-02-20T11:00:07.303047Z"
    },
    "papermill": {
     "duration": 0.038272,
     "end_time": "2022-02-20T11:08:39.278322",
     "exception": false,
     "start_time": "2022-02-20T11:08:39.240050",
     "status": "completed"
    },
    "tags": []
   },
   "outputs": [
    {
     "data": {
      "text/plain": [
       "row_id            object\n",
       "time_id            int64\n",
       "investment_id      int64\n",
       "target           float64\n",
       "f_0              float64\n",
       "                  ...   \n",
       "f_295            float64\n",
       "f_296            float64\n",
       "f_297            float64\n",
       "f_298            float64\n",
       "f_299            float64\n",
       "Length: 304, dtype: object"
      ]
     },
     "execution_count": 6,
     "metadata": {},
     "output_type": "execute_result"
    }
   ],
   "source": [
    "train.dtypes"
   ]
  },
  {
   "cell_type": "code",
   "execution_count": 7,
   "id": "54b16396",
   "metadata": {
    "execution": {
     "iopub.execute_input": "2022-02-20T11:08:39.332180Z",
     "iopub.status.busy": "2022-02-20T11:08:39.331507Z",
     "iopub.status.idle": "2022-02-20T11:08:39.559861Z",
     "shell.execute_reply": "2022-02-20T11:08:39.559318Z",
     "shell.execute_reply.started": "2022-02-20T11:00:07.320341Z"
    },
    "papermill": {
     "duration": 0.255586,
     "end_time": "2022-02-20T11:08:39.560002",
     "exception": false,
     "start_time": "2022-02-20T11:08:39.304416",
     "status": "completed"
    },
    "tags": []
   },
   "outputs": [
    {
     "data": {
      "text/plain": [
       "42"
      ]
     },
     "execution_count": 7,
     "metadata": {},
     "output_type": "execute_result"
    }
   ],
   "source": [
    "del train\n",
    "gc.collect()"
   ]
  },
  {
   "cell_type": "markdown",
   "id": "93ac35c3",
   "metadata": {
    "papermill": {
     "duration": 0.025298,
     "end_time": "2022-02-20T11:08:39.614334",
     "exception": false,
     "start_time": "2022-02-20T11:08:39.589036",
     "status": "completed"
    },
    "tags": []
   },
   "source": [
    "# Reading as Parquet Low Memory (Fast and Low Memory Use)"
   ]
  },
  {
   "cell_type": "markdown",
   "id": "756ef1c3",
   "metadata": {
    "papermill": {
     "duration": 0.031263,
     "end_time": "2022-02-20T11:08:39.670198",
     "exception": false,
     "start_time": "2022-02-20T11:08:39.638935",
     "status": "completed"
    },
    "tags": []
   },
   "source": [
    "- **3.63GB in size**\n",
    "- Even better! Uses less memory and loads even faster!"
   ]
  },
  {
   "cell_type": "code",
   "execution_count": 8,
   "id": "b5d0eb8b",
   "metadata": {
    "execution": {
     "iopub.execute_input": "2022-02-20T11:08:39.745059Z",
     "iopub.status.busy": "2022-02-20T11:08:39.744391Z",
     "iopub.status.idle": "2022-02-20T11:09:15.134824Z",
     "shell.execute_reply": "2022-02-20T11:09:15.135617Z",
     "shell.execute_reply.started": "2022-02-20T11:00:07.551993Z"
    },
    "papermill": {
     "duration": 35.430442,
     "end_time": "2022-02-20T11:09:15.135860",
     "exception": false,
     "start_time": "2022-02-20T11:08:39.705418",
     "status": "completed"
    },
    "tags": []
   },
   "outputs": [
    {
     "name": "stdout",
     "output_type": "stream",
     "text": [
      "CPU times: user 9.92 s, sys: 12.6 s, total: 22.6 s\n",
      "Wall time: 35.4 s\n"
     ]
    }
   ],
   "source": [
    "%%time\n",
    "train = pd.read_parquet('../input/ubiquant-parquet/train_low_mem.parquet')"
   ]
  },
  {
   "cell_type": "code",
   "execution_count": 9,
   "id": "1e7a9f5e",
   "metadata": {
    "execution": {
     "iopub.execute_input": "2022-02-20T11:09:15.209978Z",
     "iopub.status.busy": "2022-02-20T11:09:15.208836Z",
     "iopub.status.idle": "2022-02-20T11:09:15.218564Z",
     "shell.execute_reply": "2022-02-20T11:09:15.219069Z",
     "shell.execute_reply.started": "2022-02-20T11:00:43.532492Z"
    },
    "papermill": {
     "duration": 0.051793,
     "end_time": "2022-02-20T11:09:15.219266",
     "exception": false,
     "start_time": "2022-02-20T11:09:15.167473",
     "status": "completed"
    },
    "tags": []
   },
   "outputs": [
    {
     "name": "stdout",
     "output_type": "stream",
     "text": [
      "<class 'pandas.core.frame.DataFrame'>\n",
      "RangeIndex: 3141410 entries, 0 to 3141409\n",
      "Columns: 304 entries, row_id to f_299\n",
      "dtypes: float32(301), object(1), uint16(2)\n",
      "memory usage: 3.6+ GB\n"
     ]
    }
   ],
   "source": [
    "train.info()"
   ]
  },
  {
   "cell_type": "code",
   "execution_count": 10,
   "id": "ac56f1b7",
   "metadata": {
    "execution": {
     "iopub.execute_input": "2022-02-20T11:09:15.278895Z",
     "iopub.status.busy": "2022-02-20T11:09:15.278077Z",
     "iopub.status.idle": "2022-02-20T11:09:15.281445Z",
     "shell.execute_reply": "2022-02-20T11:09:15.282010Z",
     "shell.execute_reply.started": "2022-02-20T11:00:43.562324Z"
    },
    "papermill": {
     "duration": 0.037524,
     "end_time": "2022-02-20T11:09:15.282198",
     "exception": false,
     "start_time": "2022-02-20T11:09:15.244674",
     "status": "completed"
    },
    "tags": []
   },
   "outputs": [
    {
     "data": {
      "text/plain": [
       "row_id            object\n",
       "time_id           uint16\n",
       "investment_id     uint16\n",
       "target           float32\n",
       "f_0              float32\n",
       "                  ...   \n",
       "f_295            float32\n",
       "f_296            float32\n",
       "f_297            float32\n",
       "f_298            float32\n",
       "f_299            float32\n",
       "Length: 304, dtype: object"
      ]
     },
     "execution_count": 10,
     "metadata": {},
     "output_type": "execute_result"
    }
   ],
   "source": [
    "train.dtypes"
   ]
  },
  {
   "cell_type": "markdown",
   "id": "b922cacb",
   "metadata": {
    "papermill": {
     "duration": 0.026994,
     "end_time": "2022-02-20T11:09:15.335561",
     "exception": false,
     "start_time": "2022-02-20T11:09:15.308567",
     "status": "completed"
    },
    "tags": []
   },
   "source": [
    "# Read just a single (investment_id)"
   ]
  },
  {
   "cell_type": "markdown",
   "id": "108482d4",
   "metadata": {
    "papermill": {
     "duration": 0.032399,
     "end_time": "2022-02-20T11:09:15.393720",
     "exception": false,
     "start_time": "2022-02-20T11:09:15.361321",
     "status": "completed"
    },
    "tags": []
   },
   "source": [
    "- If you only want to work with a single transaction load them like this.\n",
    "- format: `../investment_ids/****.parquet`"
   ]
  },
  {
   "cell_type": "code",
   "execution_count": 11,
   "id": "027ee21f",
   "metadata": {
    "execution": {
     "iopub.execute_input": "2022-02-20T11:09:15.452711Z",
     "iopub.status.busy": "2022-02-20T11:09:15.451928Z",
     "iopub.status.idle": "2022-02-20T11:09:15.457787Z",
     "shell.execute_reply": "2022-02-20T11:09:15.456074Z",
     "shell.execute_reply.started": "2022-02-20T11:00:52.984221Z"
    },
    "papermill": {
     "duration": 0.035259,
     "end_time": "2022-02-20T11:09:15.458202",
     "exception": true,
     "start_time": "2022-02-20T11:09:15.422943",
     "status": "failed"
    },
    "tags": []
   },
   "outputs": [
    {
     "name": "stderr",
     "output_type": "stream",
     "text": [
      "UsageError: Line magic function `%%time` not found.\n"
     ]
    }
   ],
   "source": [
    "# want investment_id: 529\n",
    "%%time\n",
    "example = pd.read_parquet('../input/ubiquant-parquet/investment_ids/529.parquet')"
   ]
  },
  {
   "cell_type": "code",
   "execution_count": null,
   "id": "eee30a10",
   "metadata": {
    "execution": {
     "iopub.execute_input": "2022-02-20T11:00:53.760727Z",
     "iopub.status.busy": "2022-02-20T11:00:53.760235Z",
     "iopub.status.idle": "2022-02-20T11:00:53.788703Z",
     "shell.execute_reply": "2022-02-20T11:00:53.787782Z",
     "shell.execute_reply.started": "2022-02-20T11:00:53.760692Z"
    },
    "papermill": {
     "duration": null,
     "end_time": null,
     "exception": null,
     "start_time": null,
     "status": "pending"
    },
    "tags": []
   },
   "outputs": [],
   "source": [
    "example.info()"
   ]
  },
  {
   "cell_type": "markdown",
   "id": "dbcfbc55",
   "metadata": {
    "papermill": {
     "duration": null,
     "end_time": null,
     "exception": null,
     "start_time": null,
     "status": "pending"
    },
    "tags": []
   },
   "source": [
    "# Reading a subset of Columns"
   ]
  },
  {
   "cell_type": "code",
   "execution_count": null,
   "id": "dae24098",
   "metadata": {
    "execution": {
     "iopub.execute_input": "2022-02-20T11:05:48.517771Z",
     "iopub.status.busy": "2022-02-20T11:05:48.516625Z",
     "iopub.status.idle": "2022-02-20T11:05:49.253597Z",
     "shell.execute_reply": "2022-02-20T11:05:49.252811Z",
     "shell.execute_reply.started": "2022-02-20T11:05:48.517725Z"
    },
    "papermill": {
     "duration": null,
     "end_time": null,
     "exception": null,
     "start_time": null,
     "status": "pending"
    },
    "tags": []
   },
   "outputs": [],
   "source": [
    "%%time\n",
    "col_subset = ['time_id', 'investment_id', 'target', 'f_1', 'f_2']\n",
    "train = pd.read_parquet('../input/ubiquant-parquet/train.parquet', columns = col_subset)"
   ]
  },
  {
   "cell_type": "code",
   "execution_count": null,
   "id": "150b3e96",
   "metadata": {
    "execution": {
     "iopub.execute_input": "2022-02-20T11:05:52.713655Z",
     "iopub.status.busy": "2022-02-20T11:05:52.713269Z",
     "iopub.status.idle": "2022-02-20T11:05:52.725601Z",
     "shell.execute_reply": "2022-02-20T11:05:52.724664Z",
     "shell.execute_reply.started": "2022-02-20T11:05:52.713609Z"
    },
    "papermill": {
     "duration": null,
     "end_time": null,
     "exception": null,
     "start_time": null,
     "status": "pending"
    },
    "tags": []
   },
   "outputs": [],
   "source": [
    "train.info()"
   ]
  },
  {
   "cell_type": "markdown",
   "id": "2621f80a",
   "metadata": {
    "papermill": {
     "duration": null,
     "end_time": null,
     "exception": null,
     "start_time": null,
     "status": "pending"
    },
    "tags": []
   },
   "source": [
    "# "
   ]
  }
 ],
 "metadata": {
  "kernelspec": {
   "display_name": "Python 3",
   "language": "python",
   "name": "python3"
  },
  "language_info": {
   "codemirror_mode": {
    "name": "ipython",
    "version": 3
   },
   "file_extension": ".py",
   "mimetype": "text/x-python",
   "name": "python",
   "nbconvert_exporter": "python",
   "pygments_lexer": "ipython3",
   "version": "3.7.12"
  },
  "papermill": {
   "default_parameters": {},
   "duration": 111.032067,
   "end_time": "2022-02-20T11:09:16.700115",
   "environment_variables": {},
   "exception": true,
   "input_path": "__notebook__.ipynb",
   "output_path": "__notebook__.ipynb",
   "parameters": {},
   "start_time": "2022-02-20T11:07:25.668048",
   "version": "2.3.3"
  }
 },
 "nbformat": 4,
 "nbformat_minor": 5
}
