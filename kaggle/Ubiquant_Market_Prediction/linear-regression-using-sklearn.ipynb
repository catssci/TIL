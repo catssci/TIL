{
 "cells": [
  {
   "cell_type": "code",
   "execution_count": 1,
   "id": "bf0fbeb5",
   "metadata": {
    "_cell_guid": "b1076dfc-b9ad-4769-8c92-a6c4dae69d19",
    "_uuid": "8f2839f25d086af736a60e9eeb907d3b93b6e0e5",
    "execution": {
     "iopub.execute_input": "2022-02-22T11:00:03.781428Z",
     "iopub.status.busy": "2022-02-22T11:00:03.780801Z",
     "iopub.status.idle": "2022-02-22T11:00:04.783297Z",
     "shell.execute_reply": "2022-02-22T11:00:04.782508Z",
     "shell.execute_reply.started": "2022-02-22T10:52:00.062271Z"
    },
    "papermill": {
     "duration": 1.036014,
     "end_time": "2022-02-22T11:00:04.783502",
     "exception": false,
     "start_time": "2022-02-22T11:00:03.747488",
     "status": "completed"
    },
    "tags": []
   },
   "outputs": [],
   "source": [
    "import os\n",
    "import gc\n",
    "\n",
    "import pandas as pd\n",
    "import numpy as np\n",
    "\n",
    "import matplotlib.pyplot as plt\n",
    "%matplotlib inline\n",
    "plt.style.use('ggplot')\n",
    "import seaborn as sns\n",
    "\n",
    "import warnings\n",
    "warnings.filterwarnings('ignore')"
   ]
  },
  {
   "cell_type": "markdown",
   "id": "6faaf3ab",
   "metadata": {
    "papermill": {
     "duration": 0.020248,
     "end_time": "2022-02-22T11:00:04.825203",
     "exception": false,
     "start_time": "2022-02-22T11:00:04.804955",
     "status": "completed"
    },
    "tags": []
   },
   "source": [
    "# The goal of this notebook\n",
    "1. Understanding competition\n",
    "2. Understanding data\n",
    "3. Understanding Evaluation"
   ]
  },
  {
   "cell_type": "markdown",
   "id": "c48092c4",
   "metadata": {
    "papermill": {
     "duration": 0.021061,
     "end_time": "2022-02-22T11:00:04.867392",
     "exception": false,
     "start_time": "2022-02-22T11:00:04.846331",
     "status": "completed"
    },
    "tags": []
   },
   "source": [
    "# 1. The goal of Competition"
   ]
  },
  {
   "cell_type": "markdown",
   "id": "2e2a8bdf",
   "metadata": {
    "papermill": {
     "duration": 0.020216,
     "end_time": "2022-02-22T11:00:04.907945",
     "exception": false,
     "start_time": "2022-02-22T11:00:04.887729",
     "status": "completed"
    },
    "tags": []
   },
   "source": [
    "Goal: Build a model that forecasts an investment's return rate"
   ]
  },
  {
   "cell_type": "markdown",
   "id": "a500f890",
   "metadata": {
    "papermill": {
     "duration": 0.020996,
     "end_time": "2022-02-22T11:00:04.950804",
     "exception": false,
     "start_time": "2022-02-22T11:00:04.929808",
     "status": "completed"
    },
    "tags": []
   },
   "source": [
    "# 2. Data"
   ]
  },
  {
   "cell_type": "code",
   "execution_count": 2,
   "id": "0ce3fc76",
   "metadata": {
    "execution": {
     "iopub.execute_input": "2022-02-22T11:00:04.998549Z",
     "iopub.status.busy": "2022-02-22T11:00:04.997567Z",
     "iopub.status.idle": "2022-02-22T11:00:41.347066Z",
     "shell.execute_reply": "2022-02-22T11:00:41.347611Z",
     "shell.execute_reply.started": "2022-02-22T10:24:22.974044Z"
    },
    "papermill": {
     "duration": 36.375793,
     "end_time": "2022-02-22T11:00:41.347813",
     "exception": false,
     "start_time": "2022-02-22T11:00:04.972020",
     "status": "completed"
    },
    "tags": []
   },
   "outputs": [],
   "source": [
    "# Using Low mem and fast data\n",
    "df = pd.read_parquet('../input/ubiquant-parquet/train_low_mem.parquet')"
   ]
  },
  {
   "cell_type": "markdown",
   "id": "1b85f14b",
   "metadata": {
    "papermill": {
     "duration": 0.020858,
     "end_time": "2022-02-22T11:00:41.390450",
     "exception": false,
     "start_time": "2022-02-22T11:00:41.369592",
     "status": "completed"
    },
    "tags": []
   },
   "source": [
    "### Data information"
   ]
  },
  {
   "cell_type": "code",
   "execution_count": 3,
   "id": "09dc0d35",
   "metadata": {
    "execution": {
     "iopub.execute_input": "2022-02-22T11:00:41.435826Z",
     "iopub.status.busy": "2022-02-22T11:00:41.434954Z",
     "iopub.status.idle": "2022-02-22T11:00:41.463281Z",
     "shell.execute_reply": "2022-02-22T11:00:41.464000Z",
     "shell.execute_reply.started": "2022-02-22T10:25:13.960705Z"
    },
    "papermill": {
     "duration": 0.052856,
     "end_time": "2022-02-22T11:00:41.464220",
     "exception": false,
     "start_time": "2022-02-22T11:00:41.411364",
     "status": "completed"
    },
    "tags": []
   },
   "outputs": [
    {
     "name": "stdout",
     "output_type": "stream",
     "text": [
      "<class 'pandas.core.frame.DataFrame'>\n",
      "RangeIndex: 3141410 entries, 0 to 3141409\n",
      "Columns: 304 entries, row_id to f_299\n",
      "dtypes: float32(301), object(1), uint16(2)\n",
      "memory usage: 3.6+ GB\n"
     ]
    }
   ],
   "source": [
    "df.info()"
   ]
  },
  {
   "cell_type": "code",
   "execution_count": 4,
   "id": "13d2a389",
   "metadata": {
    "execution": {
     "iopub.execute_input": "2022-02-22T11:00:41.512326Z",
     "iopub.status.busy": "2022-02-22T11:00:41.511742Z",
     "iopub.status.idle": "2022-02-22T11:00:41.542556Z",
     "shell.execute_reply": "2022-02-22T11:00:41.543043Z",
     "shell.execute_reply.started": "2022-02-22T10:25:59.006155Z"
    },
    "papermill": {
     "duration": 0.055648,
     "end_time": "2022-02-22T11:00:41.543200",
     "exception": false,
     "start_time": "2022-02-22T11:00:41.487552",
     "status": "completed"
    },
    "tags": []
   },
   "outputs": [
    {
     "data": {
      "text/html": [
       "<div>\n",
       "<style scoped>\n",
       "    .dataframe tbody tr th:only-of-type {\n",
       "        vertical-align: middle;\n",
       "    }\n",
       "\n",
       "    .dataframe tbody tr th {\n",
       "        vertical-align: top;\n",
       "    }\n",
       "\n",
       "    .dataframe thead th {\n",
       "        text-align: right;\n",
       "    }\n",
       "</style>\n",
       "<table border=\"1\" class=\"dataframe\">\n",
       "  <thead>\n",
       "    <tr style=\"text-align: right;\">\n",
       "      <th></th>\n",
       "      <th>row_id</th>\n",
       "      <th>time_id</th>\n",
       "      <th>investment_id</th>\n",
       "      <th>target</th>\n",
       "      <th>f_0</th>\n",
       "      <th>f_1</th>\n",
       "      <th>f_2</th>\n",
       "      <th>f_3</th>\n",
       "      <th>f_4</th>\n",
       "      <th>f_5</th>\n",
       "      <th>...</th>\n",
       "      <th>f_290</th>\n",
       "      <th>f_291</th>\n",
       "      <th>f_292</th>\n",
       "      <th>f_293</th>\n",
       "      <th>f_294</th>\n",
       "      <th>f_295</th>\n",
       "      <th>f_296</th>\n",
       "      <th>f_297</th>\n",
       "      <th>f_298</th>\n",
       "      <th>f_299</th>\n",
       "    </tr>\n",
       "  </thead>\n",
       "  <tbody>\n",
       "    <tr>\n",
       "      <th>0</th>\n",
       "      <td>0_1</td>\n",
       "      <td>0</td>\n",
       "      <td>1</td>\n",
       "      <td>-0.300875</td>\n",
       "      <td>0.932573</td>\n",
       "      <td>0.113691</td>\n",
       "      <td>-0.402206</td>\n",
       "      <td>0.378386</td>\n",
       "      <td>-0.203938</td>\n",
       "      <td>-0.413469</td>\n",
       "      <td>...</td>\n",
       "      <td>0.366028</td>\n",
       "      <td>-1.095620</td>\n",
       "      <td>0.200075</td>\n",
       "      <td>0.819155</td>\n",
       "      <td>0.941183</td>\n",
       "      <td>-0.086764</td>\n",
       "      <td>-1.087009</td>\n",
       "      <td>-1.044826</td>\n",
       "      <td>-0.287605</td>\n",
       "      <td>0.321566</td>\n",
       "    </tr>\n",
       "    <tr>\n",
       "      <th>1</th>\n",
       "      <td>0_2</td>\n",
       "      <td>0</td>\n",
       "      <td>2</td>\n",
       "      <td>-0.231040</td>\n",
       "      <td>0.810802</td>\n",
       "      <td>-0.514115</td>\n",
       "      <td>0.742368</td>\n",
       "      <td>-0.616673</td>\n",
       "      <td>-0.194255</td>\n",
       "      <td>1.771210</td>\n",
       "      <td>...</td>\n",
       "      <td>-0.154193</td>\n",
       "      <td>0.912726</td>\n",
       "      <td>-0.734579</td>\n",
       "      <td>0.819155</td>\n",
       "      <td>0.941183</td>\n",
       "      <td>-0.387617</td>\n",
       "      <td>-1.087009</td>\n",
       "      <td>-0.929529</td>\n",
       "      <td>-0.974060</td>\n",
       "      <td>-0.343624</td>\n",
       "    </tr>\n",
       "    <tr>\n",
       "      <th>2</th>\n",
       "      <td>0_6</td>\n",
       "      <td>0</td>\n",
       "      <td>6</td>\n",
       "      <td>0.568807</td>\n",
       "      <td>0.393974</td>\n",
       "      <td>0.615937</td>\n",
       "      <td>0.567806</td>\n",
       "      <td>-0.607963</td>\n",
       "      <td>0.068883</td>\n",
       "      <td>-1.083155</td>\n",
       "      <td>...</td>\n",
       "      <td>-0.138020</td>\n",
       "      <td>0.912726</td>\n",
       "      <td>-0.551904</td>\n",
       "      <td>-1.220772</td>\n",
       "      <td>-1.060166</td>\n",
       "      <td>-0.219097</td>\n",
       "      <td>-1.087009</td>\n",
       "      <td>-0.612428</td>\n",
       "      <td>-0.113944</td>\n",
       "      <td>0.243608</td>\n",
       "    </tr>\n",
       "    <tr>\n",
       "      <th>3</th>\n",
       "      <td>0_7</td>\n",
       "      <td>0</td>\n",
       "      <td>7</td>\n",
       "      <td>-1.064780</td>\n",
       "      <td>-2.343535</td>\n",
       "      <td>-0.011870</td>\n",
       "      <td>1.874606</td>\n",
       "      <td>-0.606346</td>\n",
       "      <td>-0.586827</td>\n",
       "      <td>-0.815737</td>\n",
       "      <td>...</td>\n",
       "      <td>0.382201</td>\n",
       "      <td>0.912726</td>\n",
       "      <td>-0.266359</td>\n",
       "      <td>-1.220772</td>\n",
       "      <td>0.941183</td>\n",
       "      <td>-0.609113</td>\n",
       "      <td>0.104928</td>\n",
       "      <td>-0.783423</td>\n",
       "      <td>1.151730</td>\n",
       "      <td>-0.773309</td>\n",
       "    </tr>\n",
       "    <tr>\n",
       "      <th>4</th>\n",
       "      <td>0_8</td>\n",
       "      <td>0</td>\n",
       "      <td>8</td>\n",
       "      <td>-0.531940</td>\n",
       "      <td>0.842057</td>\n",
       "      <td>-0.262993</td>\n",
       "      <td>2.330030</td>\n",
       "      <td>-0.583422</td>\n",
       "      <td>-0.618392</td>\n",
       "      <td>-0.742814</td>\n",
       "      <td>...</td>\n",
       "      <td>-0.170365</td>\n",
       "      <td>0.912726</td>\n",
       "      <td>-0.741355</td>\n",
       "      <td>-1.220772</td>\n",
       "      <td>0.941183</td>\n",
       "      <td>-0.588445</td>\n",
       "      <td>0.104928</td>\n",
       "      <td>0.753279</td>\n",
       "      <td>1.345611</td>\n",
       "      <td>-0.737624</td>\n",
       "    </tr>\n",
       "  </tbody>\n",
       "</table>\n",
       "<p>5 rows × 304 columns</p>\n",
       "</div>"
      ],
      "text/plain": [
       "  row_id  time_id  investment_id    target       f_0       f_1       f_2  \\\n",
       "0    0_1        0              1 -0.300875  0.932573  0.113691 -0.402206   \n",
       "1    0_2        0              2 -0.231040  0.810802 -0.514115  0.742368   \n",
       "2    0_6        0              6  0.568807  0.393974  0.615937  0.567806   \n",
       "3    0_7        0              7 -1.064780 -2.343535 -0.011870  1.874606   \n",
       "4    0_8        0              8 -0.531940  0.842057 -0.262993  2.330030   \n",
       "\n",
       "        f_3       f_4       f_5  ...     f_290     f_291     f_292     f_293  \\\n",
       "0  0.378386 -0.203938 -0.413469  ...  0.366028 -1.095620  0.200075  0.819155   \n",
       "1 -0.616673 -0.194255  1.771210  ... -0.154193  0.912726 -0.734579  0.819155   \n",
       "2 -0.607963  0.068883 -1.083155  ... -0.138020  0.912726 -0.551904 -1.220772   \n",
       "3 -0.606346 -0.586827 -0.815737  ...  0.382201  0.912726 -0.266359 -1.220772   \n",
       "4 -0.583422 -0.618392 -0.742814  ... -0.170365  0.912726 -0.741355 -1.220772   \n",
       "\n",
       "      f_294     f_295     f_296     f_297     f_298     f_299  \n",
       "0  0.941183 -0.086764 -1.087009 -1.044826 -0.287605  0.321566  \n",
       "1  0.941183 -0.387617 -1.087009 -0.929529 -0.974060 -0.343624  \n",
       "2 -1.060166 -0.219097 -1.087009 -0.612428 -0.113944  0.243608  \n",
       "3  0.941183 -0.609113  0.104928 -0.783423  1.151730 -0.773309  \n",
       "4  0.941183 -0.588445  0.104928  0.753279  1.345611 -0.737624  \n",
       "\n",
       "[5 rows x 304 columns]"
      ]
     },
     "execution_count": 4,
     "metadata": {},
     "output_type": "execute_result"
    }
   ],
   "source": [
    "df.head()"
   ]
  },
  {
   "cell_type": "code",
   "execution_count": 5,
   "id": "54a6d85f",
   "metadata": {
    "execution": {
     "iopub.execute_input": "2022-02-22T11:00:41.594040Z",
     "iopub.status.busy": "2022-02-22T11:00:41.593109Z",
     "iopub.status.idle": "2022-02-22T11:00:41.596670Z",
     "shell.execute_reply": "2022-02-22T11:00:41.596093Z",
     "shell.execute_reply.started": "2022-02-22T10:33:23.348650Z"
    },
    "papermill": {
     "duration": 0.031161,
     "end_time": "2022-02-22T11:00:41.596804",
     "exception": false,
     "start_time": "2022-02-22T11:00:41.565643",
     "status": "completed"
    },
    "tags": []
   },
   "outputs": [
    {
     "name": "stdout",
     "output_type": "stream",
     "text": [
      "each column info\n",
      "row_id: unique row id\n",
      "time_id: The ID code for the time the data was gathered.\n",
      "investment_id: investment id\n",
      "target: target feature\n",
      "f_0 ~ f_299: 300 of feature\n"
     ]
    }
   ],
   "source": [
    "print('each column info')\n",
    "\n",
    "print('row_id: unique row id')\n",
    "print('time_id: The ID code for the time the data was gathered.')\n",
    "print('investment_id: investment id')\n",
    "print('target: target feature')\n",
    "print('f_0 ~ f_299: 300 of feature')"
   ]
  },
  {
   "cell_type": "code",
   "execution_count": 6,
   "id": "912665f1",
   "metadata": {
    "execution": {
     "iopub.execute_input": "2022-02-22T11:00:41.645783Z",
     "iopub.status.busy": "2022-02-22T11:00:41.644827Z",
     "iopub.status.idle": "2022-02-22T11:00:43.544293Z",
     "shell.execute_reply": "2022-02-22T11:00:43.543790Z",
     "shell.execute_reply.started": "2022-02-22T10:36:37.207635Z"
    },
    "papermill": {
     "duration": 1.924027,
     "end_time": "2022-02-22T11:00:43.544460",
     "exception": false,
     "start_time": "2022-02-22T11:00:41.620433",
     "status": "completed"
    },
    "tags": []
   },
   "outputs": [
    {
     "name": "stdout",
     "output_type": "stream",
     "text": [
      "Length of unique row_id: 3141410\n",
      "start: 0_1, end: 1219_3773\n"
     ]
    }
   ],
   "source": [
    "# row_id\n",
    "# row_id: \"row_id\" + \"_\" + \"investment_id\" !!\n",
    "print(f\"Length of unique row_id: {len(df['row_id'].unique())}\")\n",
    "print(f\"start: {list(df['row_id'])[0]}, end: {list(df['row_id'])[-1]}\")"
   ]
  },
  {
   "cell_type": "code",
   "execution_count": 7,
   "id": "b63c9ae4",
   "metadata": {
    "execution": {
     "iopub.execute_input": "2022-02-22T11:00:43.596069Z",
     "iopub.status.busy": "2022-02-22T11:00:43.595503Z",
     "iopub.status.idle": "2022-02-22T11:00:44.548215Z",
     "shell.execute_reply": "2022-02-22T11:00:44.548720Z",
     "shell.execute_reply.started": "2022-02-22T10:39:34.367564Z"
    },
    "papermill": {
     "duration": 0.979206,
     "end_time": "2022-02-22T11:00:44.548898",
     "exception": false,
     "start_time": "2022-02-22T11:00:43.569692",
     "status": "completed"
    },
    "tags": []
   },
   "outputs": [
    {
     "name": "stdout",
     "output_type": "stream",
     "text": [
      "Length of unique time_id: 1211\n",
      "start: 0, end: 1219\n"
     ]
    }
   ],
   "source": [
    "# time_id\n",
    "print(f\"Length of unique time_id: {len(df['time_id'].unique())}\")\n",
    "print(f\"start: {list(df['time_id'])[0]}, end: {list(df['time_id'])[-1]}\")"
   ]
  },
  {
   "cell_type": "code",
   "execution_count": 8,
   "id": "ac4ce743",
   "metadata": {
    "execution": {
     "iopub.execute_input": "2022-02-22T11:00:44.600065Z",
     "iopub.status.busy": "2022-02-22T11:00:44.599111Z",
     "iopub.status.idle": "2022-02-22T11:00:45.577100Z",
     "shell.execute_reply": "2022-02-22T11:00:45.576605Z",
     "shell.execute_reply.started": "2022-02-22T10:40:01.563141Z"
    },
    "papermill": {
     "duration": 1.004909,
     "end_time": "2022-02-22T11:00:45.577239",
     "exception": false,
     "start_time": "2022-02-22T11:00:44.572330",
     "status": "completed"
    },
    "tags": []
   },
   "outputs": [
    {
     "name": "stdout",
     "output_type": "stream",
     "text": [
      "Length of unique investment_id: 3579\n",
      "start: 1, end: 3773\n"
     ]
    }
   ],
   "source": [
    "# investment_id\n",
    "print(f\"Length of unique investment_id: {len(df['investment_id'].unique())}\")\n",
    "print(f\"start: {list(df['investment_id'])[0]}, end: {list(df['investment_id'])[-1]}\")"
   ]
  },
  {
   "cell_type": "code",
   "execution_count": 9,
   "id": "40a34b84",
   "metadata": {
    "execution": {
     "iopub.execute_input": "2022-02-22T11:00:45.630217Z",
     "iopub.status.busy": "2022-02-22T11:00:45.629331Z",
     "iopub.status.idle": "2022-02-22T11:00:53.229289Z",
     "shell.execute_reply": "2022-02-22T11:00:53.228763Z",
     "shell.execute_reply.started": "2022-02-22T10:42:50.408564Z"
    },
    "papermill": {
     "duration": 7.627523,
     "end_time": "2022-02-22T11:00:53.229454",
     "exception": false,
     "start_time": "2022-02-22T11:00:45.601931",
     "status": "completed"
    },
    "tags": []
   },
   "outputs": [],
   "source": [
    "check_row_id = df['time_id'].astype(str) + \"_\" + df['investment_id'].astype(str)"
   ]
  },
  {
   "cell_type": "code",
   "execution_count": 10,
   "id": "8664c7be",
   "metadata": {
    "execution": {
     "iopub.execute_input": "2022-02-22T11:00:53.281457Z",
     "iopub.status.busy": "2022-02-22T11:00:53.280897Z",
     "iopub.status.idle": "2022-02-22T11:00:53.973003Z",
     "shell.execute_reply": "2022-02-22T11:00:53.973737Z",
     "shell.execute_reply.started": "2022-02-22T10:47:20.078153Z"
    },
    "papermill": {
     "duration": 0.719786,
     "end_time": "2022-02-22T11:00:53.973948",
     "exception": false,
     "start_time": "2022-02-22T11:00:53.254162",
     "status": "completed"
    },
    "tags": []
   },
   "outputs": [
    {
     "name": "stdout",
     "output_type": "stream",
     "text": [
      "row_id assumption is True\n"
     ]
    }
   ],
   "source": [
    "# Check the row_id assumption\n",
    "if (df['row_id'] == check_row_id).sum() == df.shape[0]:\n",
    "    print('row_id assumption is True')\n",
    "else:\n",
    "    print('row_id assumption is False')"
   ]
  },
  {
   "cell_type": "code",
   "execution_count": 11,
   "id": "cbde77c4",
   "metadata": {
    "execution": {
     "iopub.execute_input": "2022-02-22T11:00:54.027297Z",
     "iopub.status.busy": "2022-02-22T11:00:54.026633Z",
     "iopub.status.idle": "2022-02-22T11:00:54.143926Z",
     "shell.execute_reply": "2022-02-22T11:00:54.143402Z",
     "shell.execute_reply.started": "2022-02-22T10:49:45.769784Z"
    },
    "papermill": {
     "duration": 0.144459,
     "end_time": "2022-02-22T11:00:54.144060",
     "exception": false,
     "start_time": "2022-02-22T11:00:53.999601",
     "status": "completed"
    },
    "tags": []
   },
   "outputs": [
    {
     "data": {
      "text/plain": [
       "count    3.141410e+06\n",
       "mean    -2.109159e-02\n",
       "std      9.176629e-01\n",
       "min     -9.419646e+00\n",
       "25%     -5.004572e-01\n",
       "50%     -9.717009e-02\n",
       "75%      3.572908e-01\n",
       "max      1.203861e+01\n",
       "Name: target, dtype: float64"
      ]
     },
     "execution_count": 11,
     "metadata": {},
     "output_type": "execute_result"
    }
   ],
   "source": [
    "# target info\n",
    "df['target'].describe()"
   ]
  },
  {
   "cell_type": "code",
   "execution_count": 12,
   "id": "766fa601",
   "metadata": {
    "execution": {
     "iopub.execute_input": "2022-02-22T11:00:54.196508Z",
     "iopub.status.busy": "2022-02-22T11:00:54.195940Z",
     "iopub.status.idle": "2022-02-22T11:00:57.873259Z",
     "shell.execute_reply": "2022-02-22T11:00:57.872744Z",
     "shell.execute_reply.started": "2022-02-22T10:53:06.835444Z"
    },
    "papermill": {
     "duration": 3.704534,
     "end_time": "2022-02-22T11:00:57.873409",
     "exception": false,
     "start_time": "2022-02-22T11:00:54.168875",
     "status": "completed"
    },
    "tags": []
   },
   "outputs": [
    {
     "data": {
      "text/plain": [
       "<AxesSubplot:xlabel='target', ylabel='Count'>"
      ]
     },
     "execution_count": 12,
     "metadata": {},
     "output_type": "execute_result"
    },
    {
     "data": {
      "image/png": "[encoded data removed]",
      "text/plain": [
       "<Figure size 1296x504 with 1 Axes>"
      ]
     },
     "metadata": {},
     "output_type": "display_data"
    }
   ],
   "source": [
    "plt.figure(figsize = (18, 7))\n",
    "sns.histplot(df['target'], bins = 500)"
   ]
  },
  {
   "cell_type": "code",
   "execution_count": 13,
   "id": "bf3fb1fe",
   "metadata": {
    "execution": {
     "iopub.execute_input": "2022-02-22T11:00:59.485554Z",
     "iopub.status.busy": "2022-02-22T11:00:59.484529Z",
     "iopub.status.idle": "2022-02-22T11:00:59.486561Z",
     "shell.execute_reply": "2022-02-22T11:00:59.487004Z",
     "shell.execute_reply.started": "2022-02-22T10:55:43.588379Z"
    },
    "papermill": {
     "duration": 1.586922,
     "end_time": "2022-02-22T11:00:59.487176",
     "exception": false,
     "start_time": "2022-02-22T11:00:57.900254",
     "status": "completed"
    },
    "tags": []
   },
   "outputs": [],
   "source": [
    "# f_0 ~ f_299 info\n",
    "feature_df = df.drop(['row_id', 'time_id', 'investment_id', 'target'], axis=1)"
   ]
  },
  {
   "cell_type": "code",
   "execution_count": 14,
   "id": "a26f7972",
   "metadata": {
    "execution": {
     "iopub.execute_input": "2022-02-22T11:01:03.204914Z",
     "iopub.status.busy": "2022-02-22T11:01:03.203717Z",
     "iopub.status.idle": "2022-02-22T11:01:32.984103Z",
     "shell.execute_reply": "2022-02-22T11:01:32.984594Z",
     "shell.execute_reply.started": "2022-02-22T10:56:22.383152Z"
    },
    "papermill": {
     "duration": 33.470846,
     "end_time": "2022-02-22T11:01:32.984767",
     "exception": false,
     "start_time": "2022-02-22T11:00:59.513921",
     "status": "completed"
    },
    "tags": []
   },
   "outputs": [
    {
     "data": {
      "text/html": [
       "<div>\n",
       "<style scoped>\n",
       "    .dataframe tbody tr th:only-of-type {\n",
       "        vertical-align: middle;\n",
       "    }\n",
       "\n",
       "    .dataframe tbody tr th {\n",
       "        vertical-align: top;\n",
       "    }\n",
       "\n",
       "    .dataframe thead th {\n",
       "        text-align: right;\n",
       "    }\n",
       "</style>\n",
       "<table border=\"1\" class=\"dataframe\">\n",
       "  <thead>\n",
       "    <tr style=\"text-align: right;\">\n",
       "      <th></th>\n",
       "      <th>f_0</th>\n",
       "      <th>f_1</th>\n",
       "      <th>f_2</th>\n",
       "      <th>f_3</th>\n",
       "      <th>f_4</th>\n",
       "      <th>f_5</th>\n",
       "      <th>f_6</th>\n",
       "      <th>f_7</th>\n",
       "      <th>f_8</th>\n",
       "      <th>f_9</th>\n",
       "      <th>...</th>\n",
       "      <th>f_290</th>\n",
       "      <th>f_291</th>\n",
       "      <th>f_292</th>\n",
       "      <th>f_293</th>\n",
       "      <th>f_294</th>\n",
       "      <th>f_295</th>\n",
       "      <th>f_296</th>\n",
       "      <th>f_297</th>\n",
       "      <th>f_298</th>\n",
       "      <th>f_299</th>\n",
       "    </tr>\n",
       "  </thead>\n",
       "  <tbody>\n",
       "    <tr>\n",
       "      <th>count</th>\n",
       "      <td>3.141410e+06</td>\n",
       "      <td>3.141410e+06</td>\n",
       "      <td>3.141410e+06</td>\n",
       "      <td>3.141410e+06</td>\n",
       "      <td>3.141410e+06</td>\n",
       "      <td>3.141410e+06</td>\n",
       "      <td>3.141410e+06</td>\n",
       "      <td>3.141410e+06</td>\n",
       "      <td>3.141410e+06</td>\n",
       "      <td>3.141410e+06</td>\n",
       "      <td>...</td>\n",
       "      <td>3.141410e+06</td>\n",
       "      <td>3.141410e+06</td>\n",
       "      <td>3.141410e+06</td>\n",
       "      <td>3.141410e+06</td>\n",
       "      <td>3.141410e+06</td>\n",
       "      <td>3.141410e+06</td>\n",
       "      <td>3.141410e+06</td>\n",
       "      <td>3.141410e+06</td>\n",
       "      <td>3.141410e+06</td>\n",
       "      <td>3.141410e+06</td>\n",
       "    </tr>\n",
       "    <tr>\n",
       "      <th>mean</th>\n",
       "      <td>1.637057e-03</td>\n",
       "      <td>-1.257678e-02</td>\n",
       "      <td>8.514749e-03</td>\n",
       "      <td>-2.003703e-02</td>\n",
       "      <td>-5.416438e-03</td>\n",
       "      <td>-3.034008e-03</td>\n",
       "      <td>1.934330e-03</td>\n",
       "      <td>5.898536e-03</td>\n",
       "      <td>1.277584e-02</td>\n",
       "      <td>-3.174983e-03</td>\n",
       "      <td>...</td>\n",
       "      <td>1.256709e-02</td>\n",
       "      <td>9.002053e-04</td>\n",
       "      <td>-6.509154e-03</td>\n",
       "      <td>2.851608e-03</td>\n",
       "      <td>-4.730820e-03</td>\n",
       "      <td>-2.773806e-02</td>\n",
       "      <td>-1.517383e-03</td>\n",
       "      <td>-7.057928e-03</td>\n",
       "      <td>-4.216896e-03</td>\n",
       "      <td>-4.319488e-03</td>\n",
       "    </tr>\n",
       "    <tr>\n",
       "      <th>std</th>\n",
       "      <td>1.079721e+00</td>\n",
       "      <td>1.030980e+00</td>\n",
       "      <td>1.030281e+00</td>\n",
       "      <td>9.602916e-01</td>\n",
       "      <td>9.895188e-01</td>\n",
       "      <td>1.104578e+00</td>\n",
       "      <td>1.067755e+00</td>\n",
       "      <td>1.004578e+00</td>\n",
       "      <td>1.073568e+00</td>\n",
       "      <td>1.145388e+00</td>\n",
       "      <td>...</td>\n",
       "      <td>1.084496e+00</td>\n",
       "      <td>1.114387e+00</td>\n",
       "      <td>1.070176e+00</td>\n",
       "      <td>1.101158e+00</td>\n",
       "      <td>1.144516e+00</td>\n",
       "      <td>9.592550e-01</td>\n",
       "      <td>1.140459e+00</td>\n",
       "      <td>1.108097e+00</td>\n",
       "      <td>1.051252e+00</td>\n",
       "      <td>1.008220e+00</td>\n",
       "    </tr>\n",
       "    <tr>\n",
       "      <th>min</th>\n",
       "      <td>-1.765789e+01</td>\n",
       "      <td>-6.579473e+00</td>\n",
       "      <td>-8.644268e+00</td>\n",
       "      <td>-1.800427e+01</td>\n",
       "      <td>-4.000015e+00</td>\n",
       "      <td>-8.833704e+00</td>\n",
       "      <td>-6.384251e+00</td>\n",
       "      <td>-1.394807e+01</td>\n",
       "      <td>-3.344916e+01</td>\n",
       "      <td>-7.782067e+00</td>\n",
       "      <td>...</td>\n",
       "      <td>-9.271487e+00</td>\n",
       "      <td>-6.359966e+00</td>\n",
       "      <td>-8.183732e+00</td>\n",
       "      <td>-2.399478e+01</td>\n",
       "      <td>-1.497270e+01</td>\n",
       "      <td>-9.348986e+00</td>\n",
       "      <td>-7.366648e+00</td>\n",
       "      <td>-7.579406e+00</td>\n",
       "      <td>-6.707284e+00</td>\n",
       "      <td>-1.028264e+01</td>\n",
       "    </tr>\n",
       "    <tr>\n",
       "      <th>25%</th>\n",
       "      <td>-4.071441e-01</td>\n",
       "      <td>-6.813878e-01</td>\n",
       "      <td>-6.530838e-01</td>\n",
       "      <td>-4.496046e-01</td>\n",
       "      <td>-3.532303e-01</td>\n",
       "      <td>-7.070855e-01</td>\n",
       "      <td>-7.911198e-01</td>\n",
       "      <td>-6.300225e-01</td>\n",
       "      <td>1.063952e-01</td>\n",
       "      <td>-8.624281e-01</td>\n",
       "      <td>...</td>\n",
       "      <td>-6.037326e-01</td>\n",
       "      <td>-8.355157e-01</td>\n",
       "      <td>-6.981400e-01</td>\n",
       "      <td>-1.377131e-01</td>\n",
       "      <td>-9.397985e-01</td>\n",
       "      <td>-5.147926e-01</td>\n",
       "      <td>-9.573807e-01</td>\n",
       "      <td>-7.239380e-01</td>\n",
       "      <td>-8.165390e-01</td>\n",
       "      <td>-5.080143e-01</td>\n",
       "    </tr>\n",
       "    <tr>\n",
       "      <th>50%</th>\n",
       "      <td>2.431158e-01</td>\n",
       "      <td>-4.867587e-02</td>\n",
       "      <td>4.350941e-02</td>\n",
       "      <td>-2.639937e-01</td>\n",
       "      <td>-1.908876e-01</td>\n",
       "      <td>-2.144796e-02</td>\n",
       "      <td>1.437945e-02</td>\n",
       "      <td>-5.882107e-02</td>\n",
       "      <td>1.590251e-01</td>\n",
       "      <td>1.512278e-02</td>\n",
       "      <td>...</td>\n",
       "      <td>6.086323e-02</td>\n",
       "      <td>-2.023181e-01</td>\n",
       "      <td>-1.910102e-01</td>\n",
       "      <td>2.164071e-01</td>\n",
       "      <td>2.087202e-01</td>\n",
       "      <td>-2.907780e-01</td>\n",
       "      <td>6.955573e-03</td>\n",
       "      <td>-1.650222e-01</td>\n",
       "      <td>2.300689e-02</td>\n",
       "      <td>-2.824031e-01</td>\n",
       "    </tr>\n",
       "    <tr>\n",
       "      <th>75%</th>\n",
       "      <td>6.649507e-01</td>\n",
       "      <td>6.086557e-01</td>\n",
       "      <td>6.587324e-01</td>\n",
       "      <td>7.763371e-02</td>\n",
       "      <td>2.784694e-02</td>\n",
       "      <td>6.835684e-01</td>\n",
       "      <td>8.008306e-01</td>\n",
       "      <td>6.883256e-01</td>\n",
       "      <td>2.333343e-01</td>\n",
       "      <td>8.511353e-01</td>\n",
       "      <td>...</td>\n",
       "      <td>6.882384e-01</td>\n",
       "      <td>9.035954e-01</td>\n",
       "      <td>4.841421e-01</td>\n",
       "      <td>5.088849e-01</td>\n",
       "      <td>8.616266e-01</td>\n",
       "      <td>1.275946e-01</td>\n",
       "      <td>9.503851e-01</td>\n",
       "      <td>6.098197e-01</td>\n",
       "      <td>7.984827e-01</td>\n",
       "      <td>1.411301e-01</td>\n",
       "    </tr>\n",
       "    <tr>\n",
       "      <th>max</th>\n",
       "      <td>7.845261e+00</td>\n",
       "      <td>8.707207e+00</td>\n",
       "      <td>8.009340e+00</td>\n",
       "      <td>4.706333e+01</td>\n",
       "      <td>7.662866e+01</td>\n",
       "      <td>7.646200e+00</td>\n",
       "      <td>6.778142e+00</td>\n",
       "      <td>5.721995e+00</td>\n",
       "      <td>1.549887e+01</td>\n",
       "      <td>7.320475e+00</td>\n",
       "      <td>...</td>\n",
       "      <td>9.298274e+00</td>\n",
       "      <td>9.725060e+00</td>\n",
       "      <td>2.231185e+01</td>\n",
       "      <td>6.587691e+00</td>\n",
       "      <td>6.978151e+00</td>\n",
       "      <td>6.140367e+01</td>\n",
       "      <td>7.679950e+00</td>\n",
       "      <td>1.241804e+01</td>\n",
       "      <td>7.003982e+00</td>\n",
       "      <td>4.337021e+01</td>\n",
       "    </tr>\n",
       "  </tbody>\n",
       "</table>\n",
       "<p>8 rows × 300 columns</p>\n",
       "</div>"
      ],
      "text/plain": [
       "                f_0           f_1           f_2           f_3           f_4  \\\n",
       "count  3.141410e+06  3.141410e+06  3.141410e+06  3.141410e+06  3.141410e+06   \n",
       "mean   1.637057e-03 -1.257678e-02  8.514749e-03 -2.003703e-02 -5.416438e-03   \n",
       "std    1.079721e+00  1.030980e+00  1.030281e+00  9.602916e-01  9.895188e-01   \n",
       "min   -1.765789e+01 -6.579473e+00 -8.644268e+00 -1.800427e+01 -4.000015e+00   \n",
       "25%   -4.071441e-01 -6.813878e-01 -6.530838e-01 -4.496046e-01 -3.532303e-01   \n",
       "50%    2.431158e-01 -4.867587e-02  4.350941e-02 -2.639937e-01 -1.908876e-01   \n",
       "75%    6.649507e-01  6.086557e-01  6.587324e-01  7.763371e-02  2.784694e-02   \n",
       "max    7.845261e+00  8.707207e+00  8.009340e+00  4.706333e+01  7.662866e+01   \n",
       "\n",
       "                f_5           f_6           f_7           f_8           f_9  \\\n",
       "count  3.141410e+06  3.141410e+06  3.141410e+06  3.141410e+06  3.141410e+06   \n",
       "mean  -3.034008e-03  1.934330e-03  5.898536e-03  1.277584e-02 -3.174983e-03   \n",
       "std    1.104578e+00  1.067755e+00  1.004578e+00  1.073568e+00  1.145388e+00   \n",
       "min   -8.833704e+00 -6.384251e+00 -1.394807e+01 -3.344916e+01 -7.782067e+00   \n",
       "25%   -7.070855e-01 -7.911198e-01 -6.300225e-01  1.063952e-01 -8.624281e-01   \n",
       "50%   -2.144796e-02  1.437945e-02 -5.882107e-02  1.590251e-01  1.512278e-02   \n",
       "75%    6.835684e-01  8.008306e-01  6.883256e-01  2.333343e-01  8.511353e-01   \n",
       "max    7.646200e+00  6.778142e+00  5.721995e+00  1.549887e+01  7.320475e+00   \n",
       "\n",
       "       ...         f_290         f_291         f_292         f_293  \\\n",
       "count  ...  3.141410e+06  3.141410e+06  3.141410e+06  3.141410e+06   \n",
       "mean   ...  1.256709e-02  9.002053e-04 -6.509154e-03  2.851608e-03   \n",
       "std    ...  1.084496e+00  1.114387e+00  1.070176e+00  1.101158e+00   \n",
       "min    ... -9.271487e+00 -6.359966e+00 -8.183732e+00 -2.399478e+01   \n",
       "25%    ... -6.037326e-01 -8.355157e-01 -6.981400e-01 -1.377131e-01   \n",
       "50%    ...  6.086323e-02 -2.023181e-01 -1.910102e-01  2.164071e-01   \n",
       "75%    ...  6.882384e-01  9.035954e-01  4.841421e-01  5.088849e-01   \n",
       "max    ...  9.298274e+00  9.725060e+00  2.231185e+01  6.587691e+00   \n",
       "\n",
       "              f_294         f_295         f_296         f_297         f_298  \\\n",
       "count  3.141410e+06  3.141410e+06  3.141410e+06  3.141410e+06  3.141410e+06   \n",
       "mean  -4.730820e-03 -2.773806e-02 -1.517383e-03 -7.057928e-03 -4.216896e-03   \n",
       "std    1.144516e+00  9.592550e-01  1.140459e+00  1.108097e+00  1.051252e+00   \n",
       "min   -1.497270e+01 -9.348986e+00 -7.366648e+00 -7.579406e+00 -6.707284e+00   \n",
       "25%   -9.397985e-01 -5.147926e-01 -9.573807e-01 -7.239380e-01 -8.165390e-01   \n",
       "50%    2.087202e-01 -2.907780e-01  6.955573e-03 -1.650222e-01  2.300689e-02   \n",
       "75%    8.616266e-01  1.275946e-01  9.503851e-01  6.098197e-01  7.984827e-01   \n",
       "max    6.978151e+00  6.140367e+01  7.679950e+00  1.241804e+01  7.003982e+00   \n",
       "\n",
       "              f_299  \n",
       "count  3.141410e+06  \n",
       "mean  -4.319488e-03  \n",
       "std    1.008220e+00  \n",
       "min   -1.028264e+01  \n",
       "25%   -5.080143e-01  \n",
       "50%   -2.824031e-01  \n",
       "75%    1.411301e-01  \n",
       "max    4.337021e+01  \n",
       "\n",
       "[8 rows x 300 columns]"
      ]
     },
     "execution_count": 14,
     "metadata": {},
     "output_type": "execute_result"
    }
   ],
   "source": [
    "feature_df.describe()"
   ]
  },
  {
   "cell_type": "code",
   "execution_count": 15,
   "id": "3948b50a",
   "metadata": {
    "execution": {
     "iopub.execute_input": "2022-02-22T11:01:33.046443Z",
     "iopub.status.busy": "2022-02-22T11:01:33.045745Z",
     "iopub.status.idle": "2022-02-22T11:01:51.167778Z",
     "shell.execute_reply": "2022-02-22T11:01:51.168367Z",
     "shell.execute_reply.started": "2022-02-22T10:58:46.933215Z"
    },
    "papermill": {
     "duration": 18.156228,
     "end_time": "2022-02-22T11:01:51.168547",
     "exception": false,
     "start_time": "2022-02-22T11:01:33.012319",
     "status": "completed"
    },
    "tags": []
   },
   "outputs": [
    {
     "data": {
      "image/png": "[encoded data removed]",
      "text/plain": [
       "<Figure size 864x360 with 1 Axes>"
      ]
     },
     "metadata": {},
     "output_type": "display_data"
    },
    {
     "data": {
      "image/png": "[encoded data removed]",
      "text/plain": [
       "<Figure size 864x360 with 1 Axes>"
      ]
     },
     "metadata": {},
     "output_type": "display_data"
    },
    {
     "data": {
      "image/png": "[encoded data removed]",
      "text/plain": [
       "<Figure size 864x360 with 1 Axes>"
      ]
     },
     "metadata": {},
     "output_type": "display_data"
    },
    {
     "data": {
      "image/png": "[encoded data removed]",
      "text/plain": [
       "<Figure size 864x360 with 1 Axes>"
      ]
     },
     "metadata": {},
     "output_type": "display_data"
    },
    {
     "data": {
      "image/png": "[encoded data removed]",
      "text/plain": [
       "<Figure size 864x360 with 1 Axes>"
      ]
     },
     "metadata": {},
     "output_type": "display_data"
    }
   ],
   "source": [
    "for col in feature_df.columns[:5]:\n",
    "    plt.figure(figsize = (12, 5))\n",
    "    sns.histplot(df[col], bins = 500)"
   ]
  },
  {
   "cell_type": "code",
   "execution_count": null,
   "id": "f869690c",
   "metadata": {
    "papermill": {
     "duration": 0.031683,
     "end_time": "2022-02-22T11:01:51.232415",
     "exception": false,
     "start_time": "2022-02-22T11:01:51.200732",
     "status": "completed"
    },
    "tags": []
   },
   "outputs": [],
   "source": []
  },
  {
   "cell_type": "code",
   "execution_count": null,
   "id": "3244f9fa",
   "metadata": {
    "papermill": {
     "duration": 0.031383,
     "end_time": "2022-02-22T11:01:51.295528",
     "exception": false,
     "start_time": "2022-02-22T11:01:51.264145",
     "status": "completed"
    },
    "tags": []
   },
   "outputs": [],
   "source": []
  },
  {
   "cell_type": "code",
   "execution_count": null,
   "id": "931c1e39",
   "metadata": {
    "papermill": {
     "duration": 0.031851,
     "end_time": "2022-02-22T11:01:51.359275",
     "exception": false,
     "start_time": "2022-02-22T11:01:51.327424",
     "status": "completed"
    },
    "tags": []
   },
   "outputs": [],
   "source": []
  },
  {
   "cell_type": "code",
   "execution_count": null,
   "id": "da685fef",
   "metadata": {
    "papermill": {
     "duration": 0.031902,
     "end_time": "2022-02-22T11:01:51.422902",
     "exception": false,
     "start_time": "2022-02-22T11:01:51.391000",
     "status": "completed"
    },
    "tags": []
   },
   "outputs": [],
   "source": []
  }
 ],
 "metadata": {
  "kernelspec": {
   "display_name": "Python 3",
   "language": "python",
   "name": "python3"
  },
  "language_info": {
   "codemirror_mode": {
    "name": "ipython",
    "version": 3
   },
   "file_extension": ".py",
   "mimetype": "text/x-python",
   "name": "python",
   "nbconvert_exporter": "python",
   "pygments_lexer": "ipython3",
   "version": "3.7.12"
  },
  "papermill": {
   "default_parameters": {},
   "duration": 118.057284,
   "end_time": "2022-02-22T11:01:52.666186",
   "environment_variables": {},
   "exception": null,
   "input_path": "__notebook__.ipynb",
   "output_path": "__notebook__.ipynb",
   "parameters": {},
   "start_time": "2022-02-22T10:59:54.608902",
   "version": "2.3.3"
  }
 },
 "nbformat": 4,
 "nbformat_minor": 5
}
