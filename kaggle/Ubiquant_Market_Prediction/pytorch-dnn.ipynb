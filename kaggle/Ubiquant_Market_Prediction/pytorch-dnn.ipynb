{
 "cells": [
  {
   "cell_type": "markdown",
   "id": "c803eb31",
   "metadata": {
    "_cell_guid": "b1076dfc-b9ad-4769-8c92-a6c4dae69d19",
    "_uuid": "8f2839f25d086af736a60e9eeb907d3b93b6e0e5",
    "papermill": {
     "duration": 0.038133,
     "end_time": "2022-02-20T14:25:33.760104",
     "exception": false,
     "start_time": "2022-02-20T14:25:33.721971",
     "status": "completed"
    },
    "tags": []
   },
   "source": [
    "- reference: https://www.kaggle.com/sahil112/whyonlykeras-easy-pytorch-competitive-dnn"
   ]
  },
  {
   "cell_type": "markdown",
   "id": "91a2fe43",
   "metadata": {
    "papermill": {
     "duration": 0.032848,
     "end_time": "2022-02-20T14:25:33.826593",
     "exception": false,
     "start_time": "2022-02-20T14:25:33.793745",
     "status": "completed"
    },
    "tags": []
   },
   "source": [
    "# Point to take care of now onwards\n",
    "1. Add PCA components\n",
    "2. Search how to make the NN deeper\n",
    "3. Get it on the GPU\n",
    "4. Plot training losses with the validation losses\n",
    "5. use K-fold CV"
   ]
  },
  {
   "cell_type": "markdown",
   "id": "efbe4bc0",
   "metadata": {
    "papermill": {
     "duration": 0.032967,
     "end_time": "2022-02-20T14:25:33.895188",
     "exception": false,
     "start_time": "2022-02-20T14:25:33.862221",
     "status": "completed"
    },
    "tags": []
   },
   "source": [
    "# Import"
   ]
  },
  {
   "cell_type": "code",
   "execution_count": 1,
   "id": "f7a7fd18",
   "metadata": {
    "execution": {
     "iopub.execute_input": "2022-02-20T14:25:33.972709Z",
     "iopub.status.busy": "2022-02-20T14:25:33.971768Z",
     "iopub.status.idle": "2022-02-20T14:25:36.223585Z",
     "shell.execute_reply": "2022-02-20T14:25:36.223047Z"
    },
    "papermill": {
     "duration": 2.295303,
     "end_time": "2022-02-20T14:25:36.223723",
     "exception": false,
     "start_time": "2022-02-20T14:25:33.928420",
     "status": "completed"
    },
    "tags": []
   },
   "outputs": [],
   "source": [
    "import os\n",
    "import pandas as pd\n",
    "import numpy as np\n",
    "import gc\n",
    "\n",
    "import matplotlib.pyplot as plt\n",
    "from scipy import stats\n",
    "\n",
    "import torch\n",
    "import torchvision\n",
    "import torch.nn as nn\n",
    "import torch.nn.functional as F\n",
    "from torch.utils.data import DataLoader, TensorDataset, random_split"
   ]
  },
  {
   "cell_type": "code",
   "execution_count": 2,
   "id": "a226afc9",
   "metadata": {
    "execution": {
     "iopub.execute_input": "2022-02-20T14:25:36.296792Z",
     "iopub.status.busy": "2022-02-20T14:25:36.295925Z",
     "iopub.status.idle": "2022-02-20T14:25:36.298286Z",
     "shell.execute_reply": "2022-02-20T14:25:36.297836Z"
    },
    "papermill": {
     "duration": 0.040967,
     "end_time": "2022-02-20T14:25:36.298404",
     "exception": false,
     "start_time": "2022-02-20T14:25:36.257437",
     "status": "completed"
    },
    "tags": []
   },
   "outputs": [],
   "source": [
    "# for dirname, _, filenames in os.walk('/kaggle/input'):\n",
    "#     for filename in filenames:\n",
    "#         print(os.path.join(dirname, filename))"
   ]
  },
  {
   "cell_type": "markdown",
   "id": "9dc4c502",
   "metadata": {
    "papermill": {
     "duration": 0.033194,
     "end_time": "2022-02-20T14:25:36.365045",
     "exception": false,
     "start_time": "2022-02-20T14:25:36.331851",
     "status": "completed"
    },
    "tags": []
   },
   "source": [
    "# Load Dataset"
   ]
  },
  {
   "cell_type": "code",
   "execution_count": 3,
   "id": "46ca9c4c",
   "metadata": {
    "execution": {
     "iopub.execute_input": "2022-02-20T14:25:36.436595Z",
     "iopub.status.busy": "2022-02-20T14:25:36.434316Z",
     "iopub.status.idle": "2022-02-20T14:26:16.590289Z",
     "shell.execute_reply": "2022-02-20T14:26:16.590766Z"
    },
    "papermill": {
     "duration": 40.192076,
     "end_time": "2022-02-20T14:26:16.590933",
     "exception": false,
     "start_time": "2022-02-20T14:25:36.398857",
     "status": "completed"
    },
    "tags": []
   },
   "outputs": [],
   "source": [
    "n_features = 300\n",
    "features = [f\"f_{i}\" for i in range(n_features)]\n",
    "train = pd.read_parquet('../input/ubiquant-parquet/train_low_mem.parquet')"
   ]
  },
  {
   "cell_type": "code",
   "execution_count": 4,
   "id": "300c38e4",
   "metadata": {
    "execution": {
     "iopub.execute_input": "2022-02-20T14:26:16.675442Z",
     "iopub.status.busy": "2022-02-20T14:26:16.674441Z",
     "iopub.status.idle": "2022-02-20T14:26:16.698905Z",
     "shell.execute_reply": "2022-02-20T14:26:16.699361Z"
    },
    "papermill": {
     "duration": 0.069914,
     "end_time": "2022-02-20T14:26:16.699510",
     "exception": false,
     "start_time": "2022-02-20T14:26:16.629596",
     "status": "completed"
    },
    "tags": []
   },
   "outputs": [
    {
     "data": {
      "text/html": [
       "<div>\n",
       "<style scoped>\n",
       "    .dataframe tbody tr th:only-of-type {\n",
       "        vertical-align: middle;\n",
       "    }\n",
       "\n",
       "    .dataframe tbody tr th {\n",
       "        vertical-align: top;\n",
       "    }\n",
       "\n",
       "    .dataframe thead th {\n",
       "        text-align: right;\n",
       "    }\n",
       "</style>\n",
       "<table border=\"1\" class=\"dataframe\">\n",
       "  <thead>\n",
       "    <tr style=\"text-align: right;\">\n",
       "      <th></th>\n",
       "      <th>row_id</th>\n",
       "      <th>time_id</th>\n",
       "      <th>investment_id</th>\n",
       "      <th>target</th>\n",
       "      <th>f_0</th>\n",
       "      <th>f_1</th>\n",
       "      <th>f_2</th>\n",
       "      <th>f_3</th>\n",
       "      <th>f_4</th>\n",
       "      <th>f_5</th>\n",
       "      <th>...</th>\n",
       "      <th>f_290</th>\n",
       "      <th>f_291</th>\n",
       "      <th>f_292</th>\n",
       "      <th>f_293</th>\n",
       "      <th>f_294</th>\n",
       "      <th>f_295</th>\n",
       "      <th>f_296</th>\n",
       "      <th>f_297</th>\n",
       "      <th>f_298</th>\n",
       "      <th>f_299</th>\n",
       "    </tr>\n",
       "  </thead>\n",
       "  <tbody>\n",
       "    <tr>\n",
       "      <th>0</th>\n",
       "      <td>0_1</td>\n",
       "      <td>0</td>\n",
       "      <td>1</td>\n",
       "      <td>-0.300875</td>\n",
       "      <td>0.932573</td>\n",
       "      <td>0.113691</td>\n",
       "      <td>-0.402206</td>\n",
       "      <td>0.378386</td>\n",
       "      <td>-0.203938</td>\n",
       "      <td>-0.413469</td>\n",
       "      <td>...</td>\n",
       "      <td>0.366028</td>\n",
       "      <td>-1.095620</td>\n",
       "      <td>0.200075</td>\n",
       "      <td>0.819155</td>\n",
       "      <td>0.941183</td>\n",
       "      <td>-0.086764</td>\n",
       "      <td>-1.087009</td>\n",
       "      <td>-1.044826</td>\n",
       "      <td>-0.287605</td>\n",
       "      <td>0.321566</td>\n",
       "    </tr>\n",
       "    <tr>\n",
       "      <th>1</th>\n",
       "      <td>0_2</td>\n",
       "      <td>0</td>\n",
       "      <td>2</td>\n",
       "      <td>-0.231040</td>\n",
       "      <td>0.810802</td>\n",
       "      <td>-0.514115</td>\n",
       "      <td>0.742368</td>\n",
       "      <td>-0.616673</td>\n",
       "      <td>-0.194255</td>\n",
       "      <td>1.771210</td>\n",
       "      <td>...</td>\n",
       "      <td>-0.154193</td>\n",
       "      <td>0.912726</td>\n",
       "      <td>-0.734579</td>\n",
       "      <td>0.819155</td>\n",
       "      <td>0.941183</td>\n",
       "      <td>-0.387617</td>\n",
       "      <td>-1.087009</td>\n",
       "      <td>-0.929529</td>\n",
       "      <td>-0.974060</td>\n",
       "      <td>-0.343624</td>\n",
       "    </tr>\n",
       "    <tr>\n",
       "      <th>2</th>\n",
       "      <td>0_6</td>\n",
       "      <td>0</td>\n",
       "      <td>6</td>\n",
       "      <td>0.568807</td>\n",
       "      <td>0.393974</td>\n",
       "      <td>0.615937</td>\n",
       "      <td>0.567806</td>\n",
       "      <td>-0.607963</td>\n",
       "      <td>0.068883</td>\n",
       "      <td>-1.083155</td>\n",
       "      <td>...</td>\n",
       "      <td>-0.138020</td>\n",
       "      <td>0.912726</td>\n",
       "      <td>-0.551904</td>\n",
       "      <td>-1.220772</td>\n",
       "      <td>-1.060166</td>\n",
       "      <td>-0.219097</td>\n",
       "      <td>-1.087009</td>\n",
       "      <td>-0.612428</td>\n",
       "      <td>-0.113944</td>\n",
       "      <td>0.243608</td>\n",
       "    </tr>\n",
       "    <tr>\n",
       "      <th>3</th>\n",
       "      <td>0_7</td>\n",
       "      <td>0</td>\n",
       "      <td>7</td>\n",
       "      <td>-1.064780</td>\n",
       "      <td>-2.343535</td>\n",
       "      <td>-0.011870</td>\n",
       "      <td>1.874606</td>\n",
       "      <td>-0.606346</td>\n",
       "      <td>-0.586827</td>\n",
       "      <td>-0.815737</td>\n",
       "      <td>...</td>\n",
       "      <td>0.382201</td>\n",
       "      <td>0.912726</td>\n",
       "      <td>-0.266359</td>\n",
       "      <td>-1.220772</td>\n",
       "      <td>0.941183</td>\n",
       "      <td>-0.609113</td>\n",
       "      <td>0.104928</td>\n",
       "      <td>-0.783423</td>\n",
       "      <td>1.151730</td>\n",
       "      <td>-0.773309</td>\n",
       "    </tr>\n",
       "    <tr>\n",
       "      <th>4</th>\n",
       "      <td>0_8</td>\n",
       "      <td>0</td>\n",
       "      <td>8</td>\n",
       "      <td>-0.531940</td>\n",
       "      <td>0.842057</td>\n",
       "      <td>-0.262993</td>\n",
       "      <td>2.330030</td>\n",
       "      <td>-0.583422</td>\n",
       "      <td>-0.618392</td>\n",
       "      <td>-0.742814</td>\n",
       "      <td>...</td>\n",
       "      <td>-0.170365</td>\n",
       "      <td>0.912726</td>\n",
       "      <td>-0.741355</td>\n",
       "      <td>-1.220772</td>\n",
       "      <td>0.941183</td>\n",
       "      <td>-0.588445</td>\n",
       "      <td>0.104928</td>\n",
       "      <td>0.753279</td>\n",
       "      <td>1.345611</td>\n",
       "      <td>-0.737624</td>\n",
       "    </tr>\n",
       "  </tbody>\n",
       "</table>\n",
       "<p>5 rows × 304 columns</p>\n",
       "</div>"
      ],
      "text/plain": [
       "  row_id  time_id  investment_id    target       f_0       f_1       f_2  \\\n",
       "0    0_1        0              1 -0.300875  0.932573  0.113691 -0.402206   \n",
       "1    0_2        0              2 -0.231040  0.810802 -0.514115  0.742368   \n",
       "2    0_6        0              6  0.568807  0.393974  0.615937  0.567806   \n",
       "3    0_7        0              7 -1.064780 -2.343535 -0.011870  1.874606   \n",
       "4    0_8        0              8 -0.531940  0.842057 -0.262993  2.330030   \n",
       "\n",
       "        f_3       f_4       f_5  ...     f_290     f_291     f_292     f_293  \\\n",
       "0  0.378386 -0.203938 -0.413469  ...  0.366028 -1.095620  0.200075  0.819155   \n",
       "1 -0.616673 -0.194255  1.771210  ... -0.154193  0.912726 -0.734579  0.819155   \n",
       "2 -0.607963  0.068883 -1.083155  ... -0.138020  0.912726 -0.551904 -1.220772   \n",
       "3 -0.606346 -0.586827 -0.815737  ...  0.382201  0.912726 -0.266359 -1.220772   \n",
       "4 -0.583422 -0.618392 -0.742814  ... -0.170365  0.912726 -0.741355 -1.220772   \n",
       "\n",
       "      f_294     f_295     f_296     f_297     f_298     f_299  \n",
       "0  0.941183 -0.086764 -1.087009 -1.044826 -0.287605  0.321566  \n",
       "1  0.941183 -0.387617 -1.087009 -0.929529 -0.974060 -0.343624  \n",
       "2 -1.060166 -0.219097 -1.087009 -0.612428 -0.113944  0.243608  \n",
       "3  0.941183 -0.609113  0.104928 -0.783423  1.151730 -0.773309  \n",
       "4  0.941183 -0.588445  0.104928  0.753279  1.345611 -0.737624  \n",
       "\n",
       "[5 rows x 304 columns]"
      ]
     },
     "execution_count": 4,
     "metadata": {},
     "output_type": "execute_result"
    }
   ],
   "source": [
    "train.head()"
   ]
  },
  {
   "cell_type": "code",
   "execution_count": 5,
   "id": "9f057655",
   "metadata": {
    "execution": {
     "iopub.execute_input": "2022-02-20T14:26:16.781549Z",
     "iopub.status.busy": "2022-02-20T14:26:16.780919Z",
     "iopub.status.idle": "2022-02-20T14:26:16.903763Z",
     "shell.execute_reply": "2022-02-20T14:26:16.904248Z"
    },
    "papermill": {
     "duration": 0.166193,
     "end_time": "2022-02-20T14:26:16.904410",
     "exception": false,
     "start_time": "2022-02-20T14:26:16.738217",
     "status": "completed"
    },
    "tags": []
   },
   "outputs": [
    {
     "name": "stdout",
     "output_type": "stream",
     "text": [
      "<class 'pandas.core.frame.DataFrame'>\n",
      "RangeIndex: 3141410 entries, 0 to 3141409\n",
      "Columns: 304 entries, row_id to f_299\n",
      "dtypes: float32(301), object(1), uint16(2)\n",
      "memory usage: 3.6+ GB\n"
     ]
    }
   ],
   "source": [
    "train.info()"
   ]
  },
  {
   "cell_type": "code",
   "execution_count": 6,
   "id": "375b9412",
   "metadata": {
    "execution": {
     "iopub.execute_input": "2022-02-20T14:26:16.983801Z",
     "iopub.status.busy": "2022-02-20T14:26:16.982623Z",
     "iopub.status.idle": "2022-02-20T14:26:23.773834Z",
     "shell.execute_reply": "2022-02-20T14:26:23.774283Z"
    },
    "papermill": {
     "duration": 6.833986,
     "end_time": "2022-02-20T14:26:23.774455",
     "exception": false,
     "start_time": "2022-02-20T14:26:16.940469",
     "status": "completed"
    },
    "tags": []
   },
   "outputs": [],
   "source": [
    "inputs = train.drop(['row_id', 'target'], axis = 1).values\n",
    "targets = train[['target']].values"
   ]
  },
  {
   "cell_type": "code",
   "execution_count": 7,
   "id": "5b424903",
   "metadata": {
    "execution": {
     "iopub.execute_input": "2022-02-20T14:26:23.850580Z",
     "iopub.status.busy": "2022-02-20T14:26:23.849893Z",
     "iopub.status.idle": "2022-02-20T14:26:23.853057Z",
     "shell.execute_reply": "2022-02-20T14:26:23.853460Z"
    },
    "papermill": {
     "duration": 0.043556,
     "end_time": "2022-02-20T14:26:23.853582",
     "exception": false,
     "start_time": "2022-02-20T14:26:23.810026",
     "status": "completed"
    },
    "tags": []
   },
   "outputs": [
    {
     "name": "stdout",
     "output_type": "stream",
     "text": [
      "inputs shape: (3141410, 302)\n",
      "targets shape: (3141410, 1)\n"
     ]
    }
   ],
   "source": [
    "print(f\"inputs shape: {inputs.shape}\")\n",
    "print(f\"targets shape: {targets.shape}\")"
   ]
  },
  {
   "cell_type": "code",
   "execution_count": 8,
   "id": "e91bceff",
   "metadata": {
    "execution": {
     "iopub.execute_input": "2022-02-20T14:26:23.928844Z",
     "iopub.status.busy": "2022-02-20T14:26:23.926124Z",
     "iopub.status.idle": "2022-02-20T14:26:23.932234Z",
     "shell.execute_reply": "2022-02-20T14:26:23.931743Z"
    },
    "papermill": {
     "duration": 0.043557,
     "end_time": "2022-02-20T14:26:23.932341",
     "exception": false,
     "start_time": "2022-02-20T14:26:23.888784",
     "status": "completed"
    },
    "tags": []
   },
   "outputs": [
    {
     "name": "stdout",
     "output_type": "stream",
     "text": [
      "80% split data train#: 2513128, val#: 628282\n"
     ]
    }
   ],
   "source": [
    "# split 80% split\n",
    "val_1 = int(0.8*inputs.shape[0])\n",
    "val_2 = int(inputs.shape[0] - val_1)\n",
    "\n",
    "print(f\"80% split data train#: {val_1}, val#: {val_2}\")"
   ]
  },
  {
   "cell_type": "code",
   "execution_count": 9,
   "id": "2e4414e9",
   "metadata": {
    "execution": {
     "iopub.execute_input": "2022-02-20T14:26:24.008375Z",
     "iopub.status.busy": "2022-02-20T14:26:24.007667Z",
     "iopub.status.idle": "2022-02-20T14:26:24.010173Z",
     "shell.execute_reply": "2022-02-20T14:26:24.009687Z"
    },
    "papermill": {
     "duration": 0.041584,
     "end_time": "2022-02-20T14:26:24.010281",
     "exception": false,
     "start_time": "2022-02-20T14:26:23.968697",
     "status": "completed"
    },
    "tags": []
   },
   "outputs": [],
   "source": [
    "# Hyperparameters setting\n",
    "batch_size = 2048\n",
    "TARGET_COLUMN = \"target\"\n",
    "\n",
    "input_size = 302\n",
    "output_size = 1"
   ]
  },
  {
   "cell_type": "code",
   "execution_count": 10,
   "id": "78af0666",
   "metadata": {
    "execution": {
     "iopub.execute_input": "2022-02-20T14:26:24.187823Z",
     "iopub.status.busy": "2022-02-20T14:26:24.187077Z",
     "iopub.status.idle": "2022-02-20T14:26:24.192869Z",
     "shell.execute_reply": "2022-02-20T14:26:24.193299Z"
    },
    "papermill": {
     "duration": 0.146596,
     "end_time": "2022-02-20T14:26:24.193452",
     "exception": false,
     "start_time": "2022-02-20T14:26:24.046856",
     "status": "completed"
    },
    "tags": []
   },
   "outputs": [
    {
     "data": {
      "text/plain": [
       "105"
      ]
     },
     "execution_count": 10,
     "metadata": {},
     "output_type": "execute_result"
    }
   ],
   "source": [
    "# gc\n",
    "del train\n",
    "gc.collect()"
   ]
  },
  {
   "cell_type": "markdown",
   "id": "e42bcad4",
   "metadata": {
    "papermill": {
     "duration": 0.036715,
     "end_time": "2022-02-20T14:26:24.266961",
     "exception": false,
     "start_time": "2022-02-20T14:26:24.230246",
     "status": "completed"
    },
    "tags": []
   },
   "source": [
    "# Convert to PyTorch Dataset (DataLoader)"
   ]
  },
  {
   "cell_type": "code",
   "execution_count": 11,
   "id": "48ce3a2b",
   "metadata": {
    "execution": {
     "iopub.execute_input": "2022-02-20T14:26:24.349857Z",
     "iopub.status.busy": "2022-02-20T14:26:24.349341Z",
     "iopub.status.idle": "2022-02-20T14:26:26.854020Z",
     "shell.execute_reply": "2022-02-20T14:26:26.854522Z"
    },
    "papermill": {
     "duration": 2.551203,
     "end_time": "2022-02-20T14:26:26.854690",
     "exception": false,
     "start_time": "2022-02-20T14:26:24.303487",
     "status": "completed"
    },
    "tags": []
   },
   "outputs": [],
   "source": [
    "dataset = TensorDataset(torch.tensor(inputs, dtype = torch.float32), torch.tensor(targets, dtype = torch.float32))\n",
    "train_ds, val_ds = random_split(dataset, [val_1, val_2])\n",
    "\n",
    "train_loader = DataLoader(train_ds, batch_size, shuffle = False)\n",
    "val_loader = DataLoader(val_ds, batch_size * 2)"
   ]
  },
  {
   "cell_type": "code",
   "execution_count": 12,
   "id": "fd308191",
   "metadata": {
    "execution": {
     "iopub.execute_input": "2022-02-20T14:26:27.189267Z",
     "iopub.status.busy": "2022-02-20T14:26:27.188400Z",
     "iopub.status.idle": "2022-02-20T14:26:27.191623Z",
     "shell.execute_reply": "2022-02-20T14:26:27.192056Z"
    },
    "papermill": {
     "duration": 0.299779,
     "end_time": "2022-02-20T14:26:27.192201",
     "exception": false,
     "start_time": "2022-02-20T14:26:26.892422",
     "status": "completed"
    },
    "tags": []
   },
   "outputs": [
    {
     "data": {
      "text/plain": [
       "42"
      ]
     },
     "execution_count": 12,
     "metadata": {},
     "output_type": "execute_result"
    }
   ],
   "source": [
    "del train_ds, val_ds, dataset, inputs, targets\n",
    "gc.collect()"
   ]
  },
  {
   "cell_type": "markdown",
   "id": "57782a6a",
   "metadata": {
    "papermill": {
     "duration": 0.037079,
     "end_time": "2022-02-20T14:26:27.266690",
     "exception": false,
     "start_time": "2022-02-20T14:26:27.229611",
     "status": "completed"
    },
    "tags": []
   },
   "source": [
    "# GPU Utilities\n",
    "> these will help later to get our models/dataloaders on the GPU!"
   ]
  },
  {
   "cell_type": "code",
   "execution_count": 13,
   "id": "22c8dbc9",
   "metadata": {
    "execution": {
     "iopub.execute_input": "2022-02-20T14:26:27.346864Z",
     "iopub.status.busy": "2022-02-20T14:26:27.346170Z",
     "iopub.status.idle": "2022-02-20T14:26:27.348641Z",
     "shell.execute_reply": "2022-02-20T14:26:27.348225Z"
    },
    "papermill": {
     "duration": 0.045179,
     "end_time": "2022-02-20T14:26:27.348739",
     "exception": false,
     "start_time": "2022-02-20T14:26:27.303560",
     "status": "completed"
    },
    "tags": []
   },
   "outputs": [],
   "source": [
    "def get_default_device():\n",
    "    \"\"\"\n",
    "        Pick GPU if available, else CPU\n",
    "    \"\"\"\n",
    "    if torch.cuda.is_available():\n",
    "        return torch.device('cuda')\n",
    "    else:\n",
    "        return torch.device('cpu')\n",
    "    \n",
    "def to_device(data, device):\n",
    "    \"\"\"\n",
    "        Move tensor to chosen device\n",
    "    \"\"\"\n",
    "    if isinstance(data, (list, tuple)):\n",
    "        return [to_device(x, device) for x in data]\n",
    "    return data.to(device, non_blocking = True)"
   ]
  },
  {
   "cell_type": "code",
   "execution_count": 14,
   "id": "ba366306",
   "metadata": {
    "execution": {
     "iopub.execute_input": "2022-02-20T14:26:27.429113Z",
     "iopub.status.busy": "2022-02-20T14:26:27.428339Z",
     "iopub.status.idle": "2022-02-20T14:26:27.430727Z",
     "shell.execute_reply": "2022-02-20T14:26:27.430315Z"
    },
    "papermill": {
     "duration": 0.044972,
     "end_time": "2022-02-20T14:26:27.430821",
     "exception": false,
     "start_time": "2022-02-20T14:26:27.385849",
     "status": "completed"
    },
    "tags": []
   },
   "outputs": [],
   "source": [
    "class DeviceDataLoader():\n",
    "    \"\"\"\n",
    "        Wrap a dataloader to move data to a device\n",
    "    \"\"\"\n",
    "    def __init__(self, dl, device):\n",
    "        self.dl = dl\n",
    "        self.device = device\n",
    "        \n",
    "    def __iter__(self):\n",
    "        \"\"\"\n",
    "            Yield a batch of data after moving it to device\n",
    "        \"\"\"\n",
    "        for b in self.dl:\n",
    "            yield to_device(b, self.device)\n",
    "            \n",
    "    def __len__(self):\n",
    "        \"\"\"\n",
    "            Number of batches\n",
    "        \"\"\"\n",
    "        return len(self.dl)"
   ]
  },
  {
   "cell_type": "code",
   "execution_count": 15,
   "id": "6daa6c82",
   "metadata": {
    "execution": {
     "iopub.execute_input": "2022-02-20T14:26:27.562584Z",
     "iopub.status.busy": "2022-02-20T14:26:27.561857Z",
     "iopub.status.idle": "2022-02-20T14:26:27.567585Z",
     "shell.execute_reply": "2022-02-20T14:26:27.567038Z"
    },
    "papermill": {
     "duration": 0.099939,
     "end_time": "2022-02-20T14:26:27.567693",
     "exception": false,
     "start_time": "2022-02-20T14:26:27.467754",
     "status": "completed"
    },
    "tags": []
   },
   "outputs": [
    {
     "data": {
      "text/plain": [
       "True"
      ]
     },
     "execution_count": 15,
     "metadata": {},
     "output_type": "execute_result"
    }
   ],
   "source": [
    "# Check if GPU is avaliable\n",
    "torch.cuda.is_available()"
   ]
  },
  {
   "cell_type": "code",
   "execution_count": 16,
   "id": "2e113055",
   "metadata": {
    "execution": {
     "iopub.execute_input": "2022-02-20T14:26:27.647150Z",
     "iopub.status.busy": "2022-02-20T14:26:27.646551Z",
     "iopub.status.idle": "2022-02-20T14:26:27.649207Z",
     "shell.execute_reply": "2022-02-20T14:26:27.649598Z"
    },
    "papermill": {
     "duration": 0.044264,
     "end_time": "2022-02-20T14:26:27.649710",
     "exception": false,
     "start_time": "2022-02-20T14:26:27.605446",
     "status": "completed"
    },
    "tags": []
   },
   "outputs": [
    {
     "name": "stdout",
     "output_type": "stream",
     "text": [
      "cuda\n"
     ]
    }
   ],
   "source": [
    "device = get_default_device()\n",
    "print(device)"
   ]
  },
  {
   "cell_type": "markdown",
   "id": "4ac77e3e",
   "metadata": {
    "papermill": {
     "duration": 0.037893,
     "end_time": "2022-02-20T14:26:27.725628",
     "exception": false,
     "start_time": "2022-02-20T14:26:27.687735",
     "status": "completed"
    },
    "tags": []
   },
   "source": [
    "### Push to the GPU"
   ]
  },
  {
   "cell_type": "code",
   "execution_count": 17,
   "id": "b66a3467",
   "metadata": {
    "execution": {
     "iopub.execute_input": "2022-02-20T14:26:27.805828Z",
     "iopub.status.busy": "2022-02-20T14:26:27.805092Z",
     "iopub.status.idle": "2022-02-20T14:26:27.807536Z",
     "shell.execute_reply": "2022-02-20T14:26:27.807085Z"
    },
    "papermill": {
     "duration": 0.043891,
     "end_time": "2022-02-20T14:26:27.807648",
     "exception": false,
     "start_time": "2022-02-20T14:26:27.763757",
     "status": "completed"
    },
    "tags": []
   },
   "outputs": [],
   "source": [
    "train_loader = DeviceDataLoader(train_loader, device)\n",
    "val_loader = DeviceDataLoader(val_loader, device)"
   ]
  },
  {
   "cell_type": "markdown",
   "id": "e4127737",
   "metadata": {
    "papermill": {
     "duration": 0.038182,
     "end_time": "2022-02-20T14:26:27.884033",
     "exception": false,
     "start_time": "2022-02-20T14:26:27.845851",
     "status": "completed"
    },
    "tags": []
   },
   "source": [
    "# This is the heart of the Neural Network"
   ]
  },
  {
   "cell_type": "code",
   "execution_count": 18,
   "id": "4e0d8070",
   "metadata": {
    "execution": {
     "iopub.execute_input": "2022-02-20T14:26:27.978416Z",
     "iopub.status.busy": "2022-02-20T14:26:27.977775Z",
     "iopub.status.idle": "2022-02-20T14:26:27.996023Z",
     "shell.execute_reply": "2022-02-20T14:26:27.996414Z"
    },
    "papermill": {
     "duration": 0.073747,
     "end_time": "2022-02-20T14:26:27.996535",
     "exception": false,
     "start_time": "2022-02-20T14:26:27.922788",
     "status": "completed"
    },
    "tags": []
   },
   "outputs": [],
   "source": [
    "class My_Kaggle_Model(nn.Module):\n",
    "    def __init__(self):\n",
    "        super().__init__()\n",
    "        self.layers = nn.Sequential(nn.Linear(input_size, 256),\n",
    "                                    nn.BatchNorm1d(256),\n",
    "                                    nn.SiLU(),\n",
    "                                    \n",
    "                                    nn.Linear(256, 128),\n",
    "                                    nn.BatchNorm1d(128),\n",
    "                                    nn.SiLU(), # nn.LeakyReLU(0.1)\n",
    "                                    nn.Dropout(0.4),\n",
    "                                    \n",
    "                                    nn.Linear(128, 64),\n",
    "                                    nn.BatchNorm1d(64),\n",
    "                                    nn.SiLU(), # nn.LeakyReLU(0.1)\n",
    "                                    nn.Dropout(0.4),\n",
    "                                    \n",
    "                                    nn.Linear(64, 32),\n",
    "                                    nn.BatchNorm1d(32),\n",
    "                                    nn.SiLU(), # nn.LeakyReLU(0.1)\n",
    "                                    nn.Dropout(0.4),\n",
    "                                    \n",
    "                                    nn.Linear(32, 16),\n",
    "                                    nn.BatchNorm1d(16),\n",
    "                                    nn.SiLU(), # nn.LeakyReLU(0.1)\n",
    "                                    nn.Dropout(0.4),\n",
    "                                    \n",
    "                                    nn.Linear(16, 8),\n",
    "                                    nn.BatchNorm1d(8),\n",
    "                                    nn.SiLU(), # nn.LeakyReLU(0.1)\n",
    "                                    nn.Dropout(0.4),\n",
    "                                    \n",
    "                                    nn.Linear(8, 1)\n",
    "                                   )\n",
    "        \n",
    "    def forward(self, x):\n",
    "        return self.layers(x)\n",
    "    \n",
    "    def training_step(self, batch):\n",
    "        torch.cuda.empty_cache()\n",
    "        inputs, targets = batch\n",
    "        inputs.to(device)\n",
    "        targets.to(device)\n",
    "        \n",
    "        output = self(inputs)\n",
    "        loss = F.mse_loss(output, targets)\n",
    "        return loss\n",
    "    \n",
    "    def validation_step(self, batch):\n",
    "        torch.cuda.empty_cache()\n",
    "        inputs, targets = batch\n",
    "        inputs.to(device)\n",
    "        targets.to(device)\n",
    "        \n",
    "        output = self(inputs)\n",
    "        loss = F.mse_loss(output, targets)\n",
    "        return {'val_loss': loss.detach()}\n",
    "    \n",
    "    def validation_epoch_end(self, outputs):\n",
    "        batch_losses = [x['val_loss'] for x in outputs]\n",
    "        epoch_loss = torch.stack(batch_losses).mean()\n",
    "        return {'val_loss': epoch_loss.item()}\n",
    "    \n",
    "    def epoch_end(self, epoch, result):\n",
    "        print(\"Epoch [{}], train_loss: {:.4f}, val_loss: {:.4f}\".format(epoch, result['train_loss'], result['val_loss']))\n",
    "        \n",
    "model = My_Kaggle_Model()"
   ]
  },
  {
   "cell_type": "code",
   "execution_count": 19,
   "id": "6f1c9e40",
   "metadata": {
    "execution": {
     "iopub.execute_input": "2022-02-20T14:26:28.080444Z",
     "iopub.status.busy": "2022-02-20T14:26:28.079862Z",
     "iopub.status.idle": "2022-02-20T14:26:30.745718Z",
     "shell.execute_reply": "2022-02-20T14:26:30.745236Z"
    },
    "papermill": {
     "duration": 2.710436,
     "end_time": "2022-02-20T14:26:30.745850",
     "exception": false,
     "start_time": "2022-02-20T14:26:28.035414",
     "status": "completed"
    },
    "tags": []
   },
   "outputs": [],
   "source": [
    "# shift model to GPU\n",
    "model = to_device(model, device)"
   ]
  },
  {
   "cell_type": "markdown",
   "id": "bfb6cc73",
   "metadata": {
    "papermill": {
     "duration": 0.038672,
     "end_time": "2022-02-20T14:26:30.823629",
     "exception": false,
     "start_time": "2022-02-20T14:26:30.784957",
     "status": "completed"
    },
    "tags": []
   },
   "source": [
    "### Simple functions for evaluating and fitting"
   ]
  },
  {
   "cell_type": "code",
   "execution_count": 20,
   "id": "bfb563fe",
   "metadata": {
    "execution": {
     "iopub.execute_input": "2022-02-20T14:26:30.906993Z",
     "iopub.status.busy": "2022-02-20T14:26:30.905437Z",
     "iopub.status.idle": "2022-02-20T14:26:30.907586Z",
     "shell.execute_reply": "2022-02-20T14:26:30.908006Z"
    },
    "papermill": {
     "duration": 0.045812,
     "end_time": "2022-02-20T14:26:30.908134",
     "exception": false,
     "start_time": "2022-02-20T14:26:30.862322",
     "status": "completed"
    },
    "tags": []
   },
   "outputs": [],
   "source": [
    "def evaluate(model, val_loader):\n",
    "    # Setting to \"eval mode\"\n",
    "    # make sure that dropouts are \"frozen\"\n",
    "    model.eval()\n",
    "    outputs = [model.validation_step(batch) for batch in val_loader]\n",
    "    return model.validation_epoch_end(outputs)"
   ]
  },
  {
   "cell_type": "code",
   "execution_count": 21,
   "id": "27219906",
   "metadata": {
    "execution": {
     "iopub.execute_input": "2022-02-20T14:26:31.001952Z",
     "iopub.status.busy": "2022-02-20T14:26:31.001198Z",
     "iopub.status.idle": "2022-02-20T14:26:31.003706Z",
     "shell.execute_reply": "2022-02-20T14:26:31.003285Z"
    },
    "papermill": {
     "duration": 0.056172,
     "end_time": "2022-02-20T14:26:31.003814",
     "exception": false,
     "start_time": "2022-02-20T14:26:30.947642",
     "status": "completed"
    },
    "tags": []
   },
   "outputs": [],
   "source": [
    "def fit(epochs, lr, model, train_loader, val_loader, opt_func = torch.optim.SGD):\n",
    "    history = []\n",
    "    optimizer = opt_func(model.parameters(), lr)\n",
    "    \n",
    "    for epoch in range(epochs):\n",
    "        # Train Phase\n",
    "        # Setting to \"train mode\"\n",
    "        model.train()\n",
    "        train_losses = []\n",
    "        \n",
    "        for (i, batch) in enumerate(train_loader):\n",
    "            torch.cuda.empty_cache()\n",
    "            loss = model.training_step(batch)\n",
    "            train_losses.append(loss)\n",
    "            loss.backward()\n",
    "            optimizer.step()\n",
    "            optimizer.zero_grad()\n",
    "            if (i%200 == 0):\n",
    "                print(f\"batch number -- {i}\")\n",
    "                \n",
    "        # Validation Phase\n",
    "        result = evaluate(model, val_loader)\n",
    "        result['train_loss'] = torch.stack(train_losses).mean().item()\n",
    "        model.epoch_end(epoch, result)\n",
    "        history.append(result)\n",
    "        \n",
    "        # Early Stopping\n",
    "        ####\n",
    "        \n",
    "    return history"
   ]
  },
  {
   "cell_type": "code",
   "execution_count": 22,
   "id": "63e1aa09",
   "metadata": {
    "execution": {
     "iopub.execute_input": "2022-02-20T14:26:31.092765Z",
     "iopub.status.busy": "2022-02-20T14:26:31.092209Z",
     "iopub.status.idle": "2022-02-20T14:26:31.094967Z",
     "shell.execute_reply": "2022-02-20T14:26:31.095460Z"
    },
    "papermill": {
     "duration": 0.049521,
     "end_time": "2022-02-20T14:26:31.095588",
     "exception": false,
     "start_time": "2022-02-20T14:26:31.046067",
     "status": "completed"
    },
    "tags": []
   },
   "outputs": [
    {
     "name": "stdout",
     "output_type": "stream",
     "text": [
      "cuda\n",
      "cuda\n",
      "<class '__main__.My_Kaggle_Model'>\n"
     ]
    }
   ],
   "source": [
    "# Checking if everthing is on the GPU\n",
    "print(train_loader.device)\n",
    "print(val_loader.device)\n",
    "\n",
    "print(type(model))"
   ]
  },
  {
   "cell_type": "code",
   "execution_count": 23,
   "id": "a9c33491",
   "metadata": {
    "execution": {
     "iopub.execute_input": "2022-02-20T14:26:31.184766Z",
     "iopub.status.busy": "2022-02-20T14:26:31.184127Z",
     "iopub.status.idle": "2022-02-20T14:26:31.252914Z",
     "shell.execute_reply": "2022-02-20T14:26:31.252447Z"
    },
    "papermill": {
     "duration": 0.115178,
     "end_time": "2022-02-20T14:26:31.253061",
     "exception": false,
     "start_time": "2022-02-20T14:26:31.137883",
     "status": "completed"
    },
    "tags": []
   },
   "outputs": [
    {
     "data": {
      "text/plain": [
       "tensor([[-0.0466, -0.0071,  0.0550,  ..., -0.0531, -0.0016,  0.0285],\n",
       "        [ 0.0484,  0.0468,  0.0426,  ..., -0.0418, -0.0531, -0.0438],\n",
       "        [ 0.0390, -0.0383,  0.0335,  ...,  0.0368, -0.0198, -0.0019],\n",
       "        ...,\n",
       "        [-0.0471, -0.0073, -0.0520,  ...,  0.0369,  0.0488, -0.0115],\n",
       "        [ 0.0482,  0.0486,  0.0439,  ...,  0.0558,  0.0552,  0.0280],\n",
       "        [ 0.0153, -0.0389, -0.0099,  ..., -0.0267,  0.0238, -0.0293]],\n",
       "       device='cuda:0')"
      ]
     },
     "execution_count": 23,
     "metadata": {},
     "output_type": "execute_result"
    }
   ],
   "source": [
    "model.state_dict()['layers.0.weight']"
   ]
  },
  {
   "cell_type": "markdown",
   "id": "41564218",
   "metadata": {
    "papermill": {
     "duration": 0.043795,
     "end_time": "2022-02-20T14:26:31.340500",
     "exception": false,
     "start_time": "2022-02-20T14:26:31.296705",
     "status": "completed"
    },
    "tags": []
   },
   "source": [
    "# Train"
   ]
  },
  {
   "cell_type": "code",
   "execution_count": 24,
   "id": "93123b11",
   "metadata": {
    "execution": {
     "iopub.execute_input": "2022-02-20T14:26:31.427654Z",
     "iopub.status.busy": "2022-02-20T14:26:31.426878Z",
     "iopub.status.idle": "2022-02-20T14:26:31.428787Z",
     "shell.execute_reply": "2022-02-20T14:26:31.429201Z"
    },
    "papermill": {
     "duration": 0.045796,
     "end_time": "2022-02-20T14:26:31.429312",
     "exception": false,
     "start_time": "2022-02-20T14:26:31.383516",
     "status": "completed"
    },
    "tags": []
   },
   "outputs": [],
   "source": [
    "learning_rate = 1e-1"
   ]
  },
  {
   "cell_type": "code",
   "execution_count": 25,
   "id": "221ca581",
   "metadata": {
    "execution": {
     "iopub.execute_input": "2022-02-20T14:26:31.517314Z",
     "iopub.status.busy": "2022-02-20T14:26:31.516765Z",
     "iopub.status.idle": "2022-02-20T14:37:15.864922Z",
     "shell.execute_reply": "2022-02-20T14:37:15.865485Z"
    },
    "papermill": {
     "duration": 644.393719,
     "end_time": "2022-02-20T14:37:15.865656",
     "exception": false,
     "start_time": "2022-02-20T14:26:31.471937",
     "status": "completed"
    },
    "tags": []
   },
   "outputs": [
    {
     "name": "stdout",
     "output_type": "stream",
     "text": [
      "batch number -- 0\n",
      "batch number -- 200\n",
      "batch number -- 400\n",
      "batch number -- 600\n",
      "batch number -- 800\n",
      "batch number -- 1000\n",
      "batch number -- 1200\n",
      "Epoch [0], train_loss: 0.8468, val_loss: 0.8480\n",
      "batch number -- 0\n",
      "batch number -- 200\n",
      "batch number -- 400\n",
      "batch number -- 600\n",
      "batch number -- 800\n",
      "batch number -- 1000\n",
      "batch number -- 1200\n",
      "Epoch [1], train_loss: 0.8463, val_loss: 0.8507\n",
      "batch number -- 0\n",
      "batch number -- 200\n",
      "batch number -- 400\n",
      "batch number -- 600\n",
      "batch number -- 800\n",
      "batch number -- 1000\n",
      "batch number -- 1200\n",
      "Epoch [2], train_loss: 0.8464, val_loss: 0.8480\n",
      "batch number -- 0\n",
      "batch number -- 200\n",
      "batch number -- 400\n",
      "batch number -- 600\n",
      "batch number -- 800\n",
      "batch number -- 1000\n",
      "batch number -- 1200\n",
      "Epoch [3], train_loss: 0.8463, val_loss: 0.8514\n",
      "batch number -- 0\n",
      "batch number -- 200\n",
      "batch number -- 400\n",
      "batch number -- 600\n",
      "batch number -- 800\n",
      "batch number -- 1000\n",
      "batch number -- 1200\n",
      "Epoch [4], train_loss: 0.8464, val_loss: 0.8509\n",
      "batch number -- 0\n",
      "batch number -- 200\n",
      "batch number -- 400\n",
      "batch number -- 600\n",
      "batch number -- 800\n",
      "batch number -- 1000\n",
      "batch number -- 1200\n",
      "Epoch [5], train_loss: 0.8464, val_loss: 0.8520\n",
      "batch number -- 0\n",
      "batch number -- 200\n",
      "batch number -- 400\n",
      "batch number -- 600\n",
      "batch number -- 800\n",
      "batch number -- 1000\n",
      "batch number -- 1200\n",
      "Epoch [6], train_loss: 0.8464, val_loss: 0.8495\n",
      "batch number -- 0\n",
      "batch number -- 200\n",
      "batch number -- 400\n",
      "batch number -- 600\n",
      "batch number -- 800\n",
      "batch number -- 1000\n",
      "batch number -- 1200\n",
      "Epoch [7], train_loss: 0.8464, val_loss: 0.8509\n",
      "batch number -- 0\n",
      "batch number -- 200\n",
      "batch number -- 400\n",
      "batch number -- 600\n",
      "batch number -- 800\n",
      "batch number -- 1000\n",
      "batch number -- 1200\n",
      "Epoch [8], train_loss: 0.8463, val_loss: 0.8479\n",
      "batch number -- 0\n",
      "batch number -- 200\n",
      "batch number -- 400\n",
      "batch number -- 600\n",
      "batch number -- 800\n",
      "batch number -- 1000\n",
      "batch number -- 1200\n",
      "Epoch [9], train_loss: 0.8463, val_loss: 0.8502\n"
     ]
    }
   ],
   "source": [
    "history = fit(10, learning_rate, model, train_loader, val_loader, opt_func = torch.optim.Adam)"
   ]
  },
  {
   "cell_type": "code",
   "execution_count": 26,
   "id": "5e4b817c",
   "metadata": {
    "execution": {
     "iopub.execute_input": "2022-02-20T14:37:15.996379Z",
     "iopub.status.busy": "2022-02-20T14:37:15.995594Z",
     "iopub.status.idle": "2022-02-20T14:37:15.997647Z",
     "shell.execute_reply": "2022-02-20T14:37:15.998047Z"
    },
    "papermill": {
     "duration": 0.070049,
     "end_time": "2022-02-20T14:37:15.998186",
     "exception": false,
     "start_time": "2022-02-20T14:37:15.928137",
     "status": "completed"
    },
    "tags": []
   },
   "outputs": [],
   "source": [
    "def plot_losses(history):\n",
    "    train_losses = [x.get('train_loss') for x in history]\n",
    "    val_losses = [x['val_loss'] for x in history]\n",
    "    plt.plot(train_losses, '-bx')\n",
    "    plt.plot(val_losses, '-rx')\n",
    "    plt.xlabel('epoch')\n",
    "    plt.ylabel('loss')\n",
    "    plt.legend(['Training', 'Validation'])\n",
    "    plt.title('Loss vs No. of epochs')"
   ]
  },
  {
   "cell_type": "code",
   "execution_count": 27,
   "id": "82cc8a9f",
   "metadata": {
    "execution": {
     "iopub.execute_input": "2022-02-20T14:37:16.124512Z",
     "iopub.status.busy": "2022-02-20T14:37:16.123733Z",
     "iopub.status.idle": "2022-02-20T14:47:51.816677Z",
     "shell.execute_reply": "2022-02-20T14:47:51.816234Z"
    },
    "papermill": {
     "duration": 635.757043,
     "end_time": "2022-02-20T14:47:51.816804",
     "exception": false,
     "start_time": "2022-02-20T14:37:16.059761",
     "status": "completed"
    },
    "tags": []
   },
   "outputs": [
    {
     "name": "stdout",
     "output_type": "stream",
     "text": [
      "batch number -- 0\n",
      "batch number -- 200\n",
      "batch number -- 400\n",
      "batch number -- 600\n",
      "batch number -- 800\n",
      "batch number -- 1000\n",
      "batch number -- 1200\n",
      "Epoch [0], train_loss: 0.8456, val_loss: 0.8482\n",
      "batch number -- 0\n",
      "batch number -- 200\n",
      "batch number -- 400\n",
      "batch number -- 600\n",
      "batch number -- 800\n",
      "batch number -- 1000\n",
      "batch number -- 1200\n",
      "Epoch [1], train_loss: 0.8456, val_loss: 0.8482\n",
      "batch number -- 0\n",
      "batch number -- 200\n",
      "batch number -- 400\n",
      "batch number -- 600\n",
      "batch number -- 800\n",
      "batch number -- 1000\n",
      "batch number -- 1200\n",
      "Epoch [2], train_loss: 0.8456, val_loss: 0.8481\n",
      "batch number -- 0\n",
      "batch number -- 200\n",
      "batch number -- 400\n",
      "batch number -- 600\n",
      "batch number -- 800\n",
      "batch number -- 1000\n",
      "batch number -- 1200\n",
      "Epoch [3], train_loss: 0.8456, val_loss: 0.8481\n",
      "batch number -- 0\n",
      "batch number -- 200\n",
      "batch number -- 400\n",
      "batch number -- 600\n",
      "batch number -- 800\n",
      "batch number -- 1000\n",
      "batch number -- 1200\n",
      "Epoch [4], train_loss: 0.8456, val_loss: 0.8482\n",
      "batch number -- 0\n",
      "batch number -- 200\n",
      "batch number -- 400\n",
      "batch number -- 600\n",
      "batch number -- 800\n",
      "batch number -- 1000\n",
      "batch number -- 1200\n",
      "Epoch [5], train_loss: 0.8456, val_loss: 0.8482\n",
      "batch number -- 0\n",
      "batch number -- 200\n",
      "batch number -- 400\n",
      "batch number -- 600\n",
      "batch number -- 800\n",
      "batch number -- 1000\n",
      "batch number -- 1200\n",
      "Epoch [6], train_loss: 0.8456, val_loss: 0.8481\n",
      "batch number -- 0\n",
      "batch number -- 200\n",
      "batch number -- 400\n",
      "batch number -- 600\n",
      "batch number -- 800\n",
      "batch number -- 1000\n",
      "batch number -- 1200\n",
      "Epoch [7], train_loss: 0.8456, val_loss: 0.8482\n",
      "batch number -- 0\n",
      "batch number -- 200\n",
      "batch number -- 400\n",
      "batch number -- 600\n",
      "batch number -- 800\n",
      "batch number -- 1000\n",
      "batch number -- 1200\n",
      "Epoch [8], train_loss: 0.8456, val_loss: 0.8482\n",
      "batch number -- 0\n",
      "batch number -- 200\n",
      "batch number -- 400\n",
      "batch number -- 600\n",
      "batch number -- 800\n",
      "batch number -- 1000\n",
      "batch number -- 1200\n",
      "Epoch [9], train_loss: 0.8456, val_loss: 0.8483\n"
     ]
    }
   ],
   "source": [
    "# train for more with lower learning rate\n",
    "history2 = fit(10, 5e-3, model, train_loader, val_loader, opt_func = torch.optim.Adam)"
   ]
  },
  {
   "cell_type": "code",
   "execution_count": 28,
   "id": "d5bde1cc",
   "metadata": {
    "execution": {
     "iopub.execute_input": "2022-02-20T14:47:51.997781Z",
     "iopub.status.busy": "2022-02-20T14:47:51.988781Z",
     "iopub.status.idle": "2022-02-20T14:58:24.770353Z",
     "shell.execute_reply": "2022-02-20T14:58:24.770867Z"
    },
    "papermill": {
     "duration": 632.870393,
     "end_time": "2022-02-20T14:58:24.771061",
     "exception": false,
     "start_time": "2022-02-20T14:47:51.900668",
     "status": "completed"
    },
    "tags": []
   },
   "outputs": [
    {
     "name": "stdout",
     "output_type": "stream",
     "text": [
      "batch number -- 0\n",
      "batch number -- 200\n",
      "batch number -- 400\n",
      "batch number -- 600\n",
      "batch number -- 800\n",
      "batch number -- 1000\n",
      "batch number -- 1200\n",
      "Epoch [0], train_loss: 0.8456, val_loss: 0.8478\n",
      "batch number -- 0\n",
      "batch number -- 200\n",
      "batch number -- 400\n",
      "batch number -- 600\n",
      "batch number -- 800\n",
      "batch number -- 1000\n",
      "batch number -- 1200\n",
      "Epoch [1], train_loss: 0.8455, val_loss: 0.8478\n",
      "batch number -- 0\n",
      "batch number -- 200\n",
      "batch number -- 400\n",
      "batch number -- 600\n",
      "batch number -- 800\n",
      "batch number -- 1000\n",
      "batch number -- 1200\n",
      "Epoch [2], train_loss: 0.8455, val_loss: 0.8478\n",
      "batch number -- 0\n",
      "batch number -- 200\n",
      "batch number -- 400\n",
      "batch number -- 600\n",
      "batch number -- 800\n",
      "batch number -- 1000\n",
      "batch number -- 1200\n",
      "Epoch [3], train_loss: 0.8455, val_loss: 0.8478\n",
      "batch number -- 0\n",
      "batch number -- 200\n",
      "batch number -- 400\n",
      "batch number -- 600\n",
      "batch number -- 800\n",
      "batch number -- 1000\n",
      "batch number -- 1200\n",
      "Epoch [4], train_loss: 0.8455, val_loss: 0.8478\n",
      "batch number -- 0\n",
      "batch number -- 200\n",
      "batch number -- 400\n",
      "batch number -- 600\n",
      "batch number -- 800\n",
      "batch number -- 1000\n",
      "batch number -- 1200\n",
      "Epoch [5], train_loss: 0.8455, val_loss: 0.8478\n",
      "batch number -- 0\n",
      "batch number -- 200\n",
      "batch number -- 400\n",
      "batch number -- 600\n",
      "batch number -- 800\n",
      "batch number -- 1000\n",
      "batch number -- 1200\n",
      "Epoch [6], train_loss: 0.8455, val_loss: 0.8478\n",
      "batch number -- 0\n",
      "batch number -- 200\n",
      "batch number -- 400\n",
      "batch number -- 600\n",
      "batch number -- 800\n",
      "batch number -- 1000\n",
      "batch number -- 1200\n",
      "Epoch [7], train_loss: 0.8455, val_loss: 0.8478\n",
      "batch number -- 0\n",
      "batch number -- 200\n",
      "batch number -- 400\n",
      "batch number -- 600\n",
      "batch number -- 800\n",
      "batch number -- 1000\n",
      "batch number -- 1200\n",
      "Epoch [8], train_loss: 0.8455, val_loss: 0.8478\n",
      "batch number -- 0\n",
      "batch number -- 200\n",
      "batch number -- 400\n",
      "batch number -- 600\n",
      "batch number -- 800\n",
      "batch number -- 1000\n",
      "batch number -- 1200\n",
      "Epoch [9], train_loss: 0.8455, val_loss: 0.8478\n"
     ]
    }
   ],
   "source": [
    "# train for more with lower learning rate\n",
    "history3 = fit(10, 5e-5, model, train_loader, val_loader, opt_func = torch.optim.Adam)"
   ]
  },
  {
   "cell_type": "code",
   "execution_count": 29,
   "id": "570d2469",
   "metadata": {
    "execution": {
     "iopub.execute_input": "2022-02-20T14:58:25.035608Z",
     "iopub.status.busy": "2022-02-20T14:58:25.034788Z",
     "iopub.status.idle": "2022-02-20T14:58:25.275899Z",
     "shell.execute_reply": "2022-02-20T14:58:25.276377Z"
    },
    "papermill": {
     "duration": 0.394509,
     "end_time": "2022-02-20T14:58:25.276539",
     "exception": false,
     "start_time": "2022-02-20T14:58:24.882030",
     "status": "completed"
    },
    "tags": []
   },
   "outputs": [
    {
     "data": {
      "image/png": "[encoded data removed]",
      "text/plain": [
       "<Figure size 432x288 with 1 Axes>"
      ]
     },
     "metadata": {
      "needs_background": "light"
     },
     "output_type": "display_data"
    }
   ],
   "source": [
    "plot_losses(history)"
   ]
  },
  {
   "cell_type": "code",
   "execution_count": 30,
   "id": "b5ea2150",
   "metadata": {
    "execution": {
     "iopub.execute_input": "2022-02-20T14:58:25.503769Z",
     "iopub.status.busy": "2022-02-20T14:58:25.499583Z",
     "iopub.status.idle": "2022-02-20T14:58:25.693008Z",
     "shell.execute_reply": "2022-02-20T14:58:25.692577Z"
    },
    "papermill": {
     "duration": 0.310788,
     "end_time": "2022-02-20T14:58:25.693129",
     "exception": false,
     "start_time": "2022-02-20T14:58:25.382341",
     "status": "completed"
    },
    "tags": []
   },
   "outputs": [
    {
     "data": {
      "image/png": "[encoded data removed]",
      "text/plain": [
       "<Figure size 432x288 with 1 Axes>"
      ]
     },
     "metadata": {
      "needs_background": "light"
     },
     "output_type": "display_data"
    }
   ],
   "source": [
    "plot_losses(history2)"
   ]
  },
  {
   "cell_type": "code",
   "execution_count": 31,
   "id": "edf30e71",
   "metadata": {
    "execution": {
     "iopub.execute_input": "2022-02-20T14:58:25.924054Z",
     "iopub.status.busy": "2022-02-20T14:58:25.923248Z",
     "iopub.status.idle": "2022-02-20T14:58:26.199640Z",
     "shell.execute_reply": "2022-02-20T14:58:26.200678Z"
    },
    "papermill": {
     "duration": 0.400983,
     "end_time": "2022-02-20T14:58:26.200890",
     "exception": false,
     "start_time": "2022-02-20T14:58:25.799907",
     "status": "completed"
    },
    "tags": []
   },
   "outputs": [
    {
     "data": {
      "image/png": "[encoded data removed]",
      "text/plain": [
       "<Figure size 432x288 with 1 Axes>"
      ]
     },
     "metadata": {
      "needs_background": "light"
     },
     "output_type": "display_data"
    }
   ],
   "source": [
    "plot_losses(history3)"
   ]
  },
  {
   "cell_type": "code",
   "execution_count": null,
   "id": "c28b37a6",
   "metadata": {
    "papermill": {
     "duration": 0.175522,
     "end_time": "2022-02-20T14:58:26.578213",
     "exception": false,
     "start_time": "2022-02-20T14:58:26.402691",
     "status": "completed"
    },
    "tags": []
   },
   "outputs": [],
   "source": []
  },
  {
   "cell_type": "code",
   "execution_count": null,
   "id": "30d7a460",
   "metadata": {
    "papermill": {
     "duration": 0.112588,
     "end_time": "2022-02-20T14:58:26.798808",
     "exception": false,
     "start_time": "2022-02-20T14:58:26.686220",
     "status": "completed"
    },
    "tags": []
   },
   "outputs": [],
   "source": []
  },
  {
   "cell_type": "code",
   "execution_count": null,
   "id": "b0a1a073",
   "metadata": {
    "papermill": {
     "duration": 0.106627,
     "end_time": "2022-02-20T14:58:27.012355",
     "exception": false,
     "start_time": "2022-02-20T14:58:26.905728",
     "status": "completed"
    },
    "tags": []
   },
   "outputs": [],
   "source": []
  },
  {
   "cell_type": "code",
   "execution_count": null,
   "id": "22577ed4",
   "metadata": {
    "papermill": {
     "duration": 0.118085,
     "end_time": "2022-02-20T14:58:27.238802",
     "exception": false,
     "start_time": "2022-02-20T14:58:27.120717",
     "status": "completed"
    },
    "tags": []
   },
   "outputs": [],
   "source": []
  },
  {
   "cell_type": "code",
   "execution_count": null,
   "id": "33005b7d",
   "metadata": {
    "papermill": {
     "duration": 0.113118,
     "end_time": "2022-02-20T14:58:27.469503",
     "exception": false,
     "start_time": "2022-02-20T14:58:27.356385",
     "status": "completed"
    },
    "tags": []
   },
   "outputs": [],
   "source": []
  },
  {
   "cell_type": "code",
   "execution_count": null,
   "id": "357d2b99",
   "metadata": {
    "papermill": {
     "duration": 0.109917,
     "end_time": "2022-02-20T14:58:27.688710",
     "exception": false,
     "start_time": "2022-02-20T14:58:27.578793",
     "status": "completed"
    },
    "tags": []
   },
   "outputs": [],
   "source": []
  },
  {
   "cell_type": "code",
   "execution_count": null,
   "id": "9c176209",
   "metadata": {
    "papermill": {
     "duration": 0.106591,
     "end_time": "2022-02-20T14:58:27.902368",
     "exception": false,
     "start_time": "2022-02-20T14:58:27.795777",
     "status": "completed"
    },
    "tags": []
   },
   "outputs": [],
   "source": []
  },
  {
   "cell_type": "code",
   "execution_count": null,
   "id": "ef559dd1",
   "metadata": {
    "papermill": {
     "duration": 0.106912,
     "end_time": "2022-02-20T14:58:28.116022",
     "exception": false,
     "start_time": "2022-02-20T14:58:28.009110",
     "status": "completed"
    },
    "tags": []
   },
   "outputs": [],
   "source": []
  },
  {
   "cell_type": "code",
   "execution_count": null,
   "id": "a5363daf",
   "metadata": {
    "papermill": {
     "duration": 0.106695,
     "end_time": "2022-02-20T14:58:28.345995",
     "exception": false,
     "start_time": "2022-02-20T14:58:28.239300",
     "status": "completed"
    },
    "tags": []
   },
   "outputs": [],
   "source": []
  },
  {
   "cell_type": "code",
   "execution_count": null,
   "id": "2785c35f",
   "metadata": {
    "papermill": {
     "duration": 0.106938,
     "end_time": "2022-02-20T14:58:28.560253",
     "exception": false,
     "start_time": "2022-02-20T14:58:28.453315",
     "status": "completed"
    },
    "tags": []
   },
   "outputs": [],
   "source": []
  },
  {
   "cell_type": "code",
   "execution_count": null,
   "id": "7f1f7ebc",
   "metadata": {
    "papermill": {
     "duration": 0.116824,
     "end_time": "2022-02-20T14:58:28.784769",
     "exception": false,
     "start_time": "2022-02-20T14:58:28.667945",
     "status": "completed"
    },
    "tags": []
   },
   "outputs": [],
   "source": []
  },
  {
   "cell_type": "code",
   "execution_count": null,
   "id": "b750faa6",
   "metadata": {
    "papermill": {
     "duration": 0.109281,
     "end_time": "2022-02-20T14:58:29.003788",
     "exception": false,
     "start_time": "2022-02-20T14:58:28.894507",
     "status": "completed"
    },
    "tags": []
   },
   "outputs": [],
   "source": []
  }
 ],
 "metadata": {
  "kernelspec": {
   "display_name": "Python 3",
   "language": "python",
   "name": "python3"
  },
  "language_info": {
   "codemirror_mode": {
    "name": "ipython",
    "version": 3
   },
   "file_extension": ".py",
   "mimetype": "text/x-python",
   "name": "python",
   "nbconvert_exporter": "python",
   "pygments_lexer": "ipython3",
   "version": "3.7.12"
  },
  "papermill": {
   "default_parameters": {},
   "duration": 1984.924621,
   "end_time": "2022-02-20T14:58:30.831151",
   "environment_variables": {},
   "exception": null,
   "input_path": "__notebook__.ipynb",
   "output_path": "__notebook__.ipynb",
   "parameters": {},
   "start_time": "2022-02-20T14:25:25.906530",
   "version": "2.3.3"
  }
 },
 "nbformat": 4,
 "nbformat_minor": 5
}
