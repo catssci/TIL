{
 "cells": [
  {
   "cell_type": "code",
   "execution_count": 1,
   "id": "b98e3876",
   "metadata": {
    "_cell_guid": "b1076dfc-b9ad-4769-8c92-a6c4dae69d19",
    "_uuid": "8f2839f25d086af736a60e9eeb907d3b93b6e0e5",
    "execution": {
     "iopub.execute_input": "2022-03-01T14:17:16.046917Z",
     "iopub.status.busy": "2022-03-01T14:17:16.046095Z",
     "iopub.status.idle": "2022-03-01T14:17:17.305185Z",
     "shell.execute_reply": "2022-03-01T14:17:17.304407Z",
     "shell.execute_reply.started": "2022-03-01T13:47:36.848279Z"
    },
    "papermill": {
     "duration": 1.283159,
     "end_time": "2022-03-01T14:17:17.305395",
     "exception": false,
     "start_time": "2022-03-01T14:17:16.022236",
     "status": "completed"
    },
    "tags": []
   },
   "outputs": [],
   "source": [
    "import os\n",
    "import gc\n",
    "from tqdm import tqdm\n",
    "\n",
    "import pandas as pd\n",
    "import numpy as np\n",
    "import random\n",
    "import math\n",
    "\n",
    "import warnings\n",
    "warnings.filterwarnings('ignore')\n",
    "\n",
    "from sklearn.model_selection import train_test_split\n",
    "from sklearn.metrics import mean_squared_error as rmse_score\n",
    "\n",
    "import xgboost as xgb\n",
    "\n",
    "from hyperopt import STATUS_OK, Trials, fmin, hp, tpe"
   ]
  },
  {
   "cell_type": "code",
   "execution_count": 2,
   "id": "52a7d21a",
   "metadata": {
    "execution": {
     "iopub.execute_input": "2022-03-01T14:17:17.345894Z",
     "iopub.status.busy": "2022-03-01T14:17:17.345131Z",
     "iopub.status.idle": "2022-03-01T14:21:00.368447Z",
     "shell.execute_reply": "2022-03-01T14:21:00.368909Z",
     "shell.execute_reply.started": "2022-03-01T13:47:39.975845Z"
    },
    "papermill": {
     "duration": 223.049439,
     "end_time": "2022-03-01T14:21:00.369082",
     "exception": false,
     "start_time": "2022-03-01T14:17:17.319643",
     "status": "completed"
    },
    "tags": []
   },
   "outputs": [
    {
     "name": "stdout",
     "output_type": "stream",
     "text": [
      "Memory usage of dataframe is 3642.99 MB\n"
     ]
    },
    {
     "name": "stderr",
     "output_type": "stream",
     "text": [
      "100%|██████████| 304/304 [03:04<00:00,  1.65it/s]"
     ]
    },
    {
     "name": "stdout",
     "output_type": "stream",
     "text": [
      "Memory usage after optimization is: 1915.96 MB\n",
      "Decreased by 47.4%\n",
      "CPU times: user 1min 31s, sys: 1min 52s, total: 3min 24s\n",
      "Wall time: 3min 43s\n"
     ]
    },
    {
     "name": "stderr",
     "output_type": "stream",
     "text": [
      "\n"
     ]
    }
   ],
   "source": [
    "%%time\n",
    "\n",
    "# from https://www.kaggle.com/valleyzw/ubiquant-lgbm-baseline\n",
    "def reduce_mem_usage(df):\n",
    "    \"\"\" iterate through all the columns of a dataframe and modify the data type\n",
    "        to reduce memory usage.        \n",
    "    \"\"\"\n",
    "    start_mem = df.memory_usage().sum() / 1024 ** 2\n",
    "    print('Memory usage of dataframe is {:.2f} MB'.format(start_mem))\n",
    "    \n",
    "    for col in tqdm(df.columns):\n",
    "        col_type = df[col].dtype\n",
    "        \n",
    "        if col_type != object:\n",
    "            c_min = df[col].min()\n",
    "            c_max = df[col].max()\n",
    "            if str(col_type)[:3] == 'int':\n",
    "                if c_min > np.iinfo(np.int8).min and c_max < np.iinfo(np.int8).max:\n",
    "                    df[col] = df[col].astype(np.int8)\n",
    "                elif c_min > np.iinfo(np.int16).min and c_max < np.iinfo(np.int16).max:\n",
    "                    df[col] = df[col].astype(np.int16)\n",
    "                elif c_min > np.iinfo(np.int32).min and c_max < np.iinfo(np.int32).max:\n",
    "                    df[col] = df[col].astype(np.int32)\n",
    "                elif c_min > np.iinfo(np.int64).min and c_max < np.iinfo(np.int64).max:\n",
    "                    df[col] = df[col].astype(np.int64)  \n",
    "            else:\n",
    "                if c_min > np.finfo(np.float16).min and c_max < np.finfo(np.float16).max:\n",
    "                    df[col] = df[col].astype(np.float16)\n",
    "                elif c_min > np.finfo(np.float32).min and c_max < np.finfo(np.float32).max:\n",
    "                    df[col] = df[col].astype(np.float32)\n",
    "                else:\n",
    "                    df[col] = df[col].astype(np.float64)\n",
    "        else:\n",
    "            df[col] = df[col].astype('category')\n",
    "\n",
    "    end_mem = df.memory_usage().sum() / 1024 ** 2\n",
    "    print('Memory usage after optimization is: {:.2f} MB'.format(end_mem))\n",
    "    print('Decreased by {:.1f}%'.format(100 * (start_mem - end_mem) / start_mem))\n",
    "    \n",
    "    return df\n",
    "\n",
    "\n",
    "train = reduce_mem_usage(pd.read_parquet('../input/ubiquant-parquet/train_low_mem.parquet'))\n",
    "\n",
    "for col in ['time_id', 'investment_id']:\n",
    "    train[col] = train[col].astype(int)"
   ]
  },
  {
   "cell_type": "code",
   "execution_count": 3,
   "id": "1a15cf2f",
   "metadata": {
    "execution": {
     "iopub.execute_input": "2022-03-01T14:21:00.589255Z",
     "iopub.status.busy": "2022-03-01T14:21:00.588312Z",
     "iopub.status.idle": "2022-03-01T14:21:15.210348Z",
     "shell.execute_reply": "2022-03-01T14:21:15.209831Z",
     "shell.execute_reply.started": "2022-03-01T13:51:20.473410Z"
    },
    "papermill": {
     "duration": 14.73573,
     "end_time": "2022-03-01T14:21:15.210489",
     "exception": false,
     "start_time": "2022-03-01T14:21:00.474759",
     "status": "completed"
    },
    "tags": []
   },
   "outputs": [],
   "source": [
    "train.drop(['row_id', 'time_id'], axis = 1, inplace = True)\n",
    "X = train.drop(['target'], axis = 1)\n",
    "y = train['target']\n",
    "del train\n",
    "\n",
    "X_train, X_valid, y_train, y_valid = train_test_split(X, y, test_size = 0.3, random_state = 42, shuffle = False)\n",
    "\n",
    "del X\n",
    "del y"
   ]
  },
  {
   "cell_type": "code",
   "execution_count": 4,
   "id": "61c6ca21",
   "metadata": {
    "execution": {
     "iopub.execute_input": "2022-03-01T14:21:15.522969Z",
     "iopub.status.busy": "2022-03-01T14:21:15.522151Z",
     "iopub.status.idle": "2022-03-01T14:21:15.525556Z",
     "shell.execute_reply": "2022-03-01T14:21:15.525949Z",
     "shell.execute_reply.started": "2022-03-01T13:51:34.944098Z"
    },
    "papermill": {
     "duration": 0.21385,
     "end_time": "2022-03-01T14:21:15.526113",
     "exception": false,
     "start_time": "2022-03-01T14:21:15.312263",
     "status": "completed"
    },
    "tags": []
   },
   "outputs": [
    {
     "data": {
      "text/plain": [
       "21"
      ]
     },
     "execution_count": 4,
     "metadata": {},
     "output_type": "execute_result"
    }
   ],
   "source": [
    "gc.collect()"
   ]
  },
  {
   "cell_type": "markdown",
   "id": "004106f4",
   "metadata": {
    "papermill": {
     "duration": 0.102014,
     "end_time": "2022-03-01T14:21:15.731728",
     "exception": false,
     "start_time": "2022-03-01T14:21:15.629714",
     "status": "completed"
    },
    "tags": []
   },
   "source": [
    "# 목적\n",
    "1. xgboost tuning\n",
    "2. data reduction"
   ]
  },
  {
   "cell_type": "code",
   "execution_count": 5,
   "id": "1b463268",
   "metadata": {
    "execution": {
     "iopub.execute_input": "2022-03-01T14:21:15.943364Z",
     "iopub.status.busy": "2022-03-01T14:21:15.942546Z",
     "iopub.status.idle": "2022-03-01T14:21:15.944897Z",
     "shell.execute_reply": "2022-03-01T14:21:15.944489Z",
     "shell.execute_reply.started": "2022-03-01T13:51:35.063987Z"
    },
    "papermill": {
     "duration": 0.111737,
     "end_time": "2022-03-01T14:21:15.945006",
     "exception": false,
     "start_time": "2022-03-01T14:21:15.833269",
     "status": "completed"
    },
    "tags": []
   },
   "outputs": [],
   "source": [
    "space={'max_depth': hp.quniform(\"max_depth\", 3, 18, 1),\n",
    "        'gamma': hp.uniform ('gamma', 1,9),\n",
    "        'reg_alpha' : hp.quniform('reg_alpha', 40,180,1),\n",
    "        'reg_lambda' : hp.uniform('reg_lambda', 0,1),\n",
    "        'colsample_bytree' : hp.uniform('colsample_bytree', 0.5,1),\n",
    "        'min_child_weight' : hp.quniform('min_child_weight', 0, 10, 1),\n",
    "        'n_estimators': 180,\n",
    "        'subsample': 0.9,\n",
    "        'seed': 42\n",
    "    }"
   ]
  },
  {
   "cell_type": "code",
   "execution_count": 6,
   "id": "7ea5e9a8",
   "metadata": {
    "execution": {
     "iopub.execute_input": "2022-03-01T14:21:16.190553Z",
     "iopub.status.busy": "2022-03-01T14:21:16.189508Z",
     "iopub.status.idle": "2022-03-01T14:21:16.191489Z",
     "shell.execute_reply": "2022-03-01T14:21:16.191971Z",
     "shell.execute_reply.started": "2022-03-01T13:51:35.074529Z"
    },
    "papermill": {
     "duration": 0.13159,
     "end_time": "2022-03-01T14:21:16.192137",
     "exception": false,
     "start_time": "2022-03-01T14:21:16.060547",
     "status": "completed"
    },
    "tags": []
   },
   "outputs": [],
   "source": [
    "def objective(space):\n",
    "    clf = xgb.XGBRegressor(n_estimators = space['n_estimators'],\n",
    "                           subsample = space['subsample'],\n",
    "                           max_depth = int(space['max_depth']),\n",
    "                           gamma = space['gamma'],\n",
    "                           reg_alpha = int(space['reg_alpha']),\n",
    "                           reg_lambda = int(space['reg_lambda']),\n",
    "                           colsample_bytree = int(space['colsample_bytree']),\n",
    "                           min_child_weight = int(space['min_child_weight']),\n",
    "                           random_state = space['seed'],\n",
    "                           tree_method = 'gpu_hist'\n",
    "                          )\n",
    "    evaluation = [(X_train, y_train), (X_valid, y_valid)]\n",
    "    \n",
    "    clf.fit(X_train, y_train, eval_set = evaluation,\n",
    "            eval_metric = 'rmse', early_stopping_rounds = 10,\n",
    "            verbose = 0)\n",
    "    \n",
    "    pred = clf.predict(X_valid)\n",
    "    rmse = rmse_score(y_valid, pred)\n",
    "    print(f\"Score: {rmse}\")\n",
    "    \n",
    "    return {'loss': rmse, 'status': STATUS_OK}"
   ]
  },
  {
   "cell_type": "code",
   "execution_count": 7,
   "id": "fcd5fd33",
   "metadata": {
    "execution": {
     "iopub.execute_input": "2022-03-01T14:21:16.426328Z",
     "iopub.status.busy": "2022-03-01T14:21:16.425760Z",
     "iopub.status.idle": "2022-03-01T15:48:34.241651Z",
     "shell.execute_reply": "2022-03-01T15:48:34.237849Z",
     "shell.execute_reply.started": "2022-03-01T13:51:35.088109Z"
    },
    "papermill": {
     "duration": 5237.936837,
     "end_time": "2022-03-01T15:48:34.241780",
     "exception": false,
     "start_time": "2022-03-01T14:21:16.304943",
     "status": "completed"
    },
    "tags": []
   },
   "outputs": [
    {
     "name": "stdout",
     "output_type": "stream",
     "text": [
      "Score: 0.8280236124992371\n",
      "Score: 0.8278078436851501\n",
      "Score: 0.8279695510864258\n",
      "Score: 0.8271894454956055\n",
      "Score: 0.8278506398200989\n",
      "Score: 0.8279497623443604\n",
      "Score: 0.8277723789215088\n",
      "Score: 0.8279606699943542\n",
      "Score: 0.8280506134033203\n",
      "Score: 0.827303409576416\n",
      "Score: 0.8279312252998352\n",
      "Score: 0.8278653621673584\n",
      "Score: 0.8278455138206482\n",
      "Score: 0.8278038501739502\n",
      "Score: 0.8273518085479736\n",
      "Score: 0.8278404474258423\n",
      "Score: 0.8279592394828796\n",
      "Score: 0.8273292779922485\n",
      "Score: 0.8278650045394897\n",
      "Score: 0.8279038071632385\n",
      "Score: 0.8271316885948181\n",
      "Score: 0.8277272582054138\n",
      "Score: 0.827908992767334\n",
      "Score: 0.8272759318351746\n",
      "Score: 0.8278388977050781\n",
      "Score: 0.8272711038589478\n",
      "Score: 0.8278904557228088\n",
      "Score: 0.8277806639671326\n",
      "Score: 0.827834963798523\n",
      "Score: 0.8279440402984619\n",
      "Score: 0.8277619481086731\n",
      "Score: 0.8278400301933289\n",
      "Score: 0.8278200626373291\n",
      "Score: 0.8272761702537537\n",
      "Score: 0.8278729319572449\n",
      "Score: 0.8278120756149292\n",
      "Score: 0.8273395299911499\n",
      "Score: 0.8277384638786316\n",
      "Score: 0.8279146552085876\n",
      "Score: 0.8278617262840271\n",
      "Score: 0.8279221653938293\n",
      "Score: 0.8278417587280273\n",
      "Score: 0.8278592228889465\n",
      "Score: 0.8279207944869995\n",
      "Score: 0.8277613520622253\n",
      "Score: 0.8272055387496948\n",
      "Score: 0.8278639316558838\n",
      "Score: 0.8280299305915833\n",
      "Score: 0.8277204036712646\n",
      "Score: 0.8279399275779724\n",
      "Score: 0.827816903591156\n",
      "Score: 0.8274491429328918\n",
      "Score: 0.8273872137069702\n",
      "Score: 0.8278844356536865\n",
      "Score: 0.8272059559822083\n",
      "Score: 0.8272630572319031\n",
      "Score: 0.8278782963752747\n",
      "Score: 0.8277921080589294\n",
      "Score: 0.8279609680175781\n",
      "Score: 0.8272954821586609\n",
      "Score: 0.8279613852500916\n",
      "Score: 0.8277629613876343\n",
      "Score: 0.8277629613876343\n",
      "Score: 0.827949583530426\n",
      "Score: 0.8280495405197144\n",
      "Score: 0.8272066116333008\n",
      "Score: 0.8279151916503906\n",
      "Score: 0.8277837038040161\n",
      "Score: 0.8278168439865112\n",
      "Score: 0.8278509378433228\n",
      "Score: 0.8278476595878601\n",
      "Score: 0.8272132277488708\n",
      "Score: 0.8278688192367554\n",
      "Score: 0.8277625441551208\n",
      "Score: 0.8279398679733276\n",
      "Score: 0.8272085189819336\n",
      "Score: 0.8278171420097351\n",
      "Score: 0.8271639943122864\n",
      "Score: 0.8279200196266174\n",
      "Score: 0.8278293609619141\n",
      "Score: 0.8277828097343445\n",
      "Score: 0.8278157711029053\n",
      "Score: 0.8277302384376526\n",
      "Score: 0.8279366493225098\n",
      "Score: 0.827140212059021\n",
      "Score: 0.8279481530189514\n",
      "Score: 0.8273381590843201\n",
      "Score: 0.8271821737289429\n",
      "Score: 0.8278206586837769\n",
      "Score: 0.8279415369033813\n",
      "Score: 0.8278149366378784\n",
      "Score: 0.8279469609260559\n",
      "Score: 0.8278887271881104\n",
      "Score: 0.8278549909591675\n",
      "Score: 0.827754020690918\n",
      "Score: 0.827196478843689\n",
      "Score: 0.8271197080612183\n",
      "Score: 0.8271077871322632\n",
      "Score: 0.8271973133087158\n",
      "Score: 0.8279083371162415\n",
      "100%|██████████| 100/100 [1:27:17<00:00, 52.38s/trial, best loss: 0.8271077871322632]\n"
     ]
    }
   ],
   "source": [
    "trials = Trials()\n",
    "\n",
    "best_hyperparams = fmin(fn = objective,\n",
    "                        space = space,\n",
    "                        algo = tpe.suggest,\n",
    "                        max_evals = 100,\n",
    "                        trials = trials)"
   ]
  },
  {
   "cell_type": "code",
   "execution_count": 8,
   "id": "69a4172f",
   "metadata": {
    "execution": {
     "iopub.execute_input": "2022-03-01T15:48:34.694035Z",
     "iopub.status.busy": "2022-03-01T15:48:34.693302Z",
     "iopub.status.idle": "2022-03-01T15:48:34.696170Z",
     "shell.execute_reply": "2022-03-01T15:48:34.696652Z",
     "shell.execute_reply.started": "2022-03-01T14:16:17.932110Z"
    },
    "papermill": {
     "duration": 0.232018,
     "end_time": "2022-03-01T15:48:34.696779",
     "exception": false,
     "start_time": "2022-03-01T15:48:34.464761",
     "status": "completed"
    },
    "tags": []
   },
   "outputs": [
    {
     "name": "stdout",
     "output_type": "stream",
     "text": [
      "The best hyperparameters are :  \n",
      "\n",
      "{'colsample_bytree': 0.9865590388194095, 'gamma': 2.963042414478359, 'max_depth': 3.0, 'min_child_weight': 10.0, 'reg_alpha': 42.0, 'reg_lambda': 0.8851654205895558}\n"
     ]
    }
   ],
   "source": [
    "print(\"The best hyperparameters are : \",\"\\n\")\n",
    "print(best_hyperparams)"
   ]
  },
  {
   "cell_type": "code",
   "execution_count": 9,
   "id": "7c682b53",
   "metadata": {
    "execution": {
     "iopub.execute_input": "2022-03-01T15:48:35.149370Z",
     "iopub.status.busy": "2022-03-01T15:48:35.148470Z",
     "iopub.status.idle": "2022-03-01T15:48:35.150342Z",
     "shell.execute_reply": "2022-03-01T15:48:35.150736Z",
     "shell.execute_reply.started": "2022-03-01T14:16:17.933923Z"
    },
    "papermill": {
     "duration": 0.230662,
     "end_time": "2022-03-01T15:48:35.150859",
     "exception": false,
     "start_time": "2022-03-01T15:48:34.920197",
     "status": "completed"
    },
    "tags": []
   },
   "outputs": [],
   "source": [
    "model = xgb.XGBRegressor(best_hyperparams)"
   ]
  },
  {
   "cell_type": "code",
   "execution_count": 10,
   "id": "b693af22",
   "metadata": {
    "execution": {
     "iopub.execute_input": "2022-03-01T15:48:35.610986Z",
     "iopub.status.busy": "2022-03-01T15:48:35.610008Z",
     "iopub.status.idle": "2022-03-01T15:49:05.432360Z",
     "shell.execute_reply": "2022-03-01T15:49:05.431789Z",
     "shell.execute_reply.started": "2022-03-01T14:16:17.935641Z"
    },
    "papermill": {
     "duration": 30.057557,
     "end_time": "2022-03-01T15:49:05.432607",
     "exception": true,
     "start_time": "2022-03-01T15:48:35.375050",
     "status": "failed"
    },
    "tags": []
   },
   "outputs": [
    {
     "ename": "XGBoostError",
     "evalue": "[15:49:05] ../src/objective/objective.cc:26: Unknown objective function: `{'colsample_bytree': 0.9865590388194095, 'gamma': 2.963042414478359, 'max_depth': 3.0, 'min_child_weight': 10.0, 'reg_alpha': 42.0, 'reg_lambda': 0.8851654205895558}`\nObjective candidate: survival:aft\nObjective candidate: binary:hinge\nObjective candidate: multi:softmax\nObjective candidate: multi:softprob\nObjective candidate: rank:pairwise\nObjective candidate: rank:ndcg\nObjective candidate: rank:map\nObjective candidate: reg:squarederror\nObjective candidate: reg:squaredlogerror\nObjective candidate: reg:logistic\nObjective candidate: reg:pseudohubererror\nObjective candidate: binary:logistic\nObjective candidate: binary:logitraw\nObjective candidate: reg:linear\nObjective candidate: count:poisson\nObjective candidate: survival:cox\nObjective candidate: reg:gamma\nObjective candidate: reg:tweedie\n\nStack trace:\n  [bt] (0) /opt/conda/lib/python3.7/site-packages/xgboost/lib/libxgboost.so(+0x21da6d) [0x7fd6dceaba6d]\n  [bt] (1) /opt/conda/lib/python3.7/site-packages/xgboost/lib/libxgboost.so(+0x21e0c9) [0x7fd6dceac0c9]\n  [bt] (2) /opt/conda/lib/python3.7/site-packages/xgboost/lib/libxgboost.so(+0x1b2522) [0x7fd6dce40522]\n  [bt] (3) /opt/conda/lib/python3.7/site-packages/xgboost/lib/libxgboost.so(+0x1b9e5d) [0x7fd6dce47e5d]\n  [bt] (4) /opt/conda/lib/python3.7/site-packages/xgboost/lib/libxgboost.so(XGBoosterBoostedRounds+0x31) [0x7fd6dcd266e1]\n  [bt] (5) /opt/conda/lib/python3.7/lib-dynload/../../libffi.so.8(+0x6a4a) [0x7fd750483a4a]\n  [bt] (6) /opt/conda/lib/python3.7/lib-dynload/../../libffi.so.8(+0x5fea) [0x7fd750482fea]\n  [bt] (7) /opt/conda/lib/python3.7/lib-dynload/_ctypes.cpython-37m-x86_64-linux-gnu.so(_ctypes_callproc+0x2f4) [0x7fd750499784]\n  [bt] (8) /opt/conda/lib/python3.7/lib-dynload/_ctypes.cpython-37m-x86_64-linux-gnu.so(+0x10ff8) [0x7fd750499ff8]\n\n",
     "output_type": "error",
     "traceback": [
      "\u001b[0;31m---------------------------------------------------------------------------\u001b[0m",
      "\u001b[0;31mXGBoostError\u001b[0m                              Traceback (most recent call last)",
      "\u001b[0;32m/tmp/ipykernel_24/653107974.py\u001b[0m in \u001b[0;36m<module>\u001b[0;34m\u001b[0m\n\u001b[1;32m      1\u001b[0m model.fit(X_train, y_train, early_stopping_rounds = 10,\n\u001b[0;32m----> 2\u001b[0;31m           eval_set = [(X_valid, y_valid)], verbose = 1)\n\u001b[0m",
      "\u001b[0;32m/opt/conda/lib/python3.7/site-packages/xgboost/core.py\u001b[0m in \u001b[0;36minner_f\u001b[0;34m(*args, **kwargs)\u001b[0m\n\u001b[1;32m    504\u001b[0m         \u001b[0;32mfor\u001b[0m \u001b[0mk\u001b[0m\u001b[0;34m,\u001b[0m \u001b[0marg\u001b[0m \u001b[0;32min\u001b[0m \u001b[0mzip\u001b[0m\u001b[0;34m(\u001b[0m\u001b[0msig\u001b[0m\u001b[0;34m.\u001b[0m\u001b[0mparameters\u001b[0m\u001b[0;34m,\u001b[0m \u001b[0margs\u001b[0m\u001b[0;34m)\u001b[0m\u001b[0;34m:\u001b[0m\u001b[0;34m\u001b[0m\u001b[0;34m\u001b[0m\u001b[0m\n\u001b[1;32m    505\u001b[0m             \u001b[0mkwargs\u001b[0m\u001b[0;34m[\u001b[0m\u001b[0mk\u001b[0m\u001b[0;34m]\u001b[0m \u001b[0;34m=\u001b[0m \u001b[0marg\u001b[0m\u001b[0;34m\u001b[0m\u001b[0;34m\u001b[0m\u001b[0m\n\u001b[0;32m--> 506\u001b[0;31m         \u001b[0;32mreturn\u001b[0m \u001b[0mf\u001b[0m\u001b[0;34m(\u001b[0m\u001b[0;34m**\u001b[0m\u001b[0mkwargs\u001b[0m\u001b[0;34m)\u001b[0m\u001b[0;34m\u001b[0m\u001b[0;34m\u001b[0m\u001b[0m\n\u001b[0m\u001b[1;32m    507\u001b[0m \u001b[0;34m\u001b[0m\u001b[0m\n\u001b[1;32m    508\u001b[0m     \u001b[0;32mreturn\u001b[0m \u001b[0minner_f\u001b[0m\u001b[0;34m\u001b[0m\u001b[0;34m\u001b[0m\u001b[0m\n",
      "\u001b[0;32m/opt/conda/lib/python3.7/site-packages/xgboost/sklearn.py\u001b[0m in \u001b[0;36mfit\u001b[0;34m(self, X, y, sample_weight, base_margin, eval_set, eval_metric, early_stopping_rounds, verbose, xgb_model, sample_weight_eval_set, base_margin_eval_set, feature_weights, callbacks)\u001b[0m\n\u001b[1;32m    798\u001b[0m             \u001b[0mverbose_eval\u001b[0m\u001b[0;34m=\u001b[0m\u001b[0mverbose\u001b[0m\u001b[0;34m,\u001b[0m\u001b[0;34m\u001b[0m\u001b[0;34m\u001b[0m\u001b[0m\n\u001b[1;32m    799\u001b[0m             \u001b[0mxgb_model\u001b[0m\u001b[0;34m=\u001b[0m\u001b[0mmodel\u001b[0m\u001b[0;34m,\u001b[0m\u001b[0;34m\u001b[0m\u001b[0;34m\u001b[0m\u001b[0m\n\u001b[0;32m--> 800\u001b[0;31m             \u001b[0mcallbacks\u001b[0m\u001b[0;34m=\u001b[0m\u001b[0mcallbacks\u001b[0m\u001b[0;34m,\u001b[0m\u001b[0;34m\u001b[0m\u001b[0;34m\u001b[0m\u001b[0m\n\u001b[0m\u001b[1;32m    801\u001b[0m         )\n\u001b[1;32m    802\u001b[0m \u001b[0;34m\u001b[0m\u001b[0m\n",
      "\u001b[0;32m/opt/conda/lib/python3.7/site-packages/xgboost/training.py\u001b[0m in \u001b[0;36mtrain\u001b[0;34m(params, dtrain, num_boost_round, evals, obj, feval, maximize, early_stopping_rounds, evals_result, verbose_eval, xgb_model, callbacks)\u001b[0m\n\u001b[1;32m    194\u001b[0m                           \u001b[0mevals_result\u001b[0m\u001b[0;34m=\u001b[0m\u001b[0mevals_result\u001b[0m\u001b[0;34m,\u001b[0m\u001b[0;34m\u001b[0m\u001b[0;34m\u001b[0m\u001b[0m\n\u001b[1;32m    195\u001b[0m                           \u001b[0mmaximize\u001b[0m\u001b[0;34m=\u001b[0m\u001b[0mmaximize\u001b[0m\u001b[0;34m,\u001b[0m\u001b[0;34m\u001b[0m\u001b[0;34m\u001b[0m\u001b[0m\n\u001b[0;32m--> 196\u001b[0;31m                           early_stopping_rounds=early_stopping_rounds)\n\u001b[0m\u001b[1;32m    197\u001b[0m     \u001b[0;32mreturn\u001b[0m \u001b[0mbst\u001b[0m\u001b[0;34m\u001b[0m\u001b[0;34m\u001b[0m\u001b[0m\n\u001b[1;32m    198\u001b[0m \u001b[0;34m\u001b[0m\u001b[0m\n",
      "\u001b[0;32m/opt/conda/lib/python3.7/site-packages/xgboost/training.py\u001b[0m in \u001b[0;36m_train_internal\u001b[0;34m(params, dtrain, num_boost_round, evals, obj, feval, xgb_model, callbacks, evals_result, maximize, verbose_eval, early_stopping_rounds)\u001b[0m\n\u001b[1;32m     74\u001b[0m             show_stdv=False, cvfolds=None)\n\u001b[1;32m     75\u001b[0m \u001b[0;34m\u001b[0m\u001b[0m\n\u001b[0;32m---> 76\u001b[0;31m     \u001b[0mbst\u001b[0m \u001b[0;34m=\u001b[0m \u001b[0mcallbacks\u001b[0m\u001b[0;34m.\u001b[0m\u001b[0mbefore_training\u001b[0m\u001b[0;34m(\u001b[0m\u001b[0mbst\u001b[0m\u001b[0;34m)\u001b[0m\u001b[0;34m\u001b[0m\u001b[0;34m\u001b[0m\u001b[0m\n\u001b[0m\u001b[1;32m     77\u001b[0m \u001b[0;34m\u001b[0m\u001b[0m\n\u001b[1;32m     78\u001b[0m     \u001b[0;32mfor\u001b[0m \u001b[0mi\u001b[0m \u001b[0;32min\u001b[0m \u001b[0mrange\u001b[0m\u001b[0;34m(\u001b[0m\u001b[0mstart_iteration\u001b[0m\u001b[0;34m,\u001b[0m \u001b[0mnum_boost_round\u001b[0m\u001b[0;34m)\u001b[0m\u001b[0;34m:\u001b[0m\u001b[0;34m\u001b[0m\u001b[0;34m\u001b[0m\u001b[0m\n",
      "\u001b[0;32m/opt/conda/lib/python3.7/site-packages/xgboost/callback.py\u001b[0m in \u001b[0;36mbefore_training\u001b[0;34m(self, model)\u001b[0m\n\u001b[1;32m    376\u001b[0m         \u001b[0;34m'''Function called before training.'''\u001b[0m\u001b[0;34m\u001b[0m\u001b[0;34m\u001b[0m\u001b[0m\n\u001b[1;32m    377\u001b[0m         \u001b[0;32mfor\u001b[0m \u001b[0mc\u001b[0m \u001b[0;32min\u001b[0m \u001b[0mself\u001b[0m\u001b[0;34m.\u001b[0m\u001b[0mcallbacks\u001b[0m\u001b[0;34m:\u001b[0m\u001b[0;34m\u001b[0m\u001b[0;34m\u001b[0m\u001b[0m\n\u001b[0;32m--> 378\u001b[0;31m             \u001b[0mmodel\u001b[0m \u001b[0;34m=\u001b[0m \u001b[0mc\u001b[0m\u001b[0;34m.\u001b[0m\u001b[0mbefore_training\u001b[0m\u001b[0;34m(\u001b[0m\u001b[0mmodel\u001b[0m\u001b[0;34m=\u001b[0m\u001b[0mmodel\u001b[0m\u001b[0;34m)\u001b[0m\u001b[0;34m\u001b[0m\u001b[0;34m\u001b[0m\u001b[0m\n\u001b[0m\u001b[1;32m    379\u001b[0m             \u001b[0mmsg\u001b[0m \u001b[0;34m=\u001b[0m \u001b[0;34m'before_training should return the model'\u001b[0m\u001b[0;34m\u001b[0m\u001b[0;34m\u001b[0m\u001b[0m\n\u001b[1;32m    380\u001b[0m             \u001b[0;32mif\u001b[0m \u001b[0mself\u001b[0m\u001b[0;34m.\u001b[0m\u001b[0mis_cv\u001b[0m\u001b[0;34m:\u001b[0m\u001b[0;34m\u001b[0m\u001b[0;34m\u001b[0m\u001b[0m\n",
      "\u001b[0;32m/opt/conda/lib/python3.7/site-packages/xgboost/callback.py\u001b[0m in \u001b[0;36mbefore_training\u001b[0;34m(self, model)\u001b[0m\n\u001b[1;32m    536\u001b[0m \u001b[0;34m\u001b[0m\u001b[0m\n\u001b[1;32m    537\u001b[0m     \u001b[0;32mdef\u001b[0m \u001b[0mbefore_training\u001b[0m\u001b[0;34m(\u001b[0m\u001b[0mself\u001b[0m\u001b[0;34m,\u001b[0m \u001b[0mmodel\u001b[0m\u001b[0;34m)\u001b[0m\u001b[0;34m:\u001b[0m\u001b[0;34m\u001b[0m\u001b[0;34m\u001b[0m\u001b[0m\n\u001b[0;32m--> 538\u001b[0;31m         \u001b[0mself\u001b[0m\u001b[0;34m.\u001b[0m\u001b[0mstarting_round\u001b[0m \u001b[0;34m=\u001b[0m \u001b[0mmodel\u001b[0m\u001b[0;34m.\u001b[0m\u001b[0mnum_boosted_rounds\u001b[0m\u001b[0;34m(\u001b[0m\u001b[0;34m)\u001b[0m\u001b[0;34m\u001b[0m\u001b[0;34m\u001b[0m\u001b[0m\n\u001b[0m\u001b[1;32m    539\u001b[0m         \u001b[0;32mreturn\u001b[0m \u001b[0mmodel\u001b[0m\u001b[0;34m\u001b[0m\u001b[0;34m\u001b[0m\u001b[0m\n\u001b[1;32m    540\u001b[0m \u001b[0;34m\u001b[0m\u001b[0m\n",
      "\u001b[0;32m/opt/conda/lib/python3.7/site-packages/xgboost/core.py\u001b[0m in \u001b[0;36mnum_boosted_rounds\u001b[0;34m(self)\u001b[0m\n\u001b[1;32m   2192\u001b[0m         \u001b[0mrounds\u001b[0m \u001b[0;34m=\u001b[0m \u001b[0mctypes\u001b[0m\u001b[0;34m.\u001b[0m\u001b[0mc_int\u001b[0m\u001b[0;34m(\u001b[0m\u001b[0;34m)\u001b[0m\u001b[0;34m\u001b[0m\u001b[0;34m\u001b[0m\u001b[0m\n\u001b[1;32m   2193\u001b[0m         \u001b[0;32massert\u001b[0m \u001b[0mself\u001b[0m\u001b[0;34m.\u001b[0m\u001b[0mhandle\u001b[0m \u001b[0;32mis\u001b[0m \u001b[0;32mnot\u001b[0m \u001b[0;32mNone\u001b[0m\u001b[0;34m\u001b[0m\u001b[0;34m\u001b[0m\u001b[0m\n\u001b[0;32m-> 2194\u001b[0;31m         \u001b[0m_check_call\u001b[0m\u001b[0;34m(\u001b[0m\u001b[0m_LIB\u001b[0m\u001b[0;34m.\u001b[0m\u001b[0mXGBoosterBoostedRounds\u001b[0m\u001b[0;34m(\u001b[0m\u001b[0mself\u001b[0m\u001b[0;34m.\u001b[0m\u001b[0mhandle\u001b[0m\u001b[0;34m,\u001b[0m \u001b[0mctypes\u001b[0m\u001b[0;34m.\u001b[0m\u001b[0mbyref\u001b[0m\u001b[0;34m(\u001b[0m\u001b[0mrounds\u001b[0m\u001b[0;34m)\u001b[0m\u001b[0;34m)\u001b[0m\u001b[0;34m)\u001b[0m\u001b[0;34m\u001b[0m\u001b[0;34m\u001b[0m\u001b[0m\n\u001b[0m\u001b[1;32m   2195\u001b[0m         \u001b[0;32mreturn\u001b[0m \u001b[0mrounds\u001b[0m\u001b[0;34m.\u001b[0m\u001b[0mvalue\u001b[0m\u001b[0;34m\u001b[0m\u001b[0;34m\u001b[0m\u001b[0m\n\u001b[1;32m   2196\u001b[0m \u001b[0;34m\u001b[0m\u001b[0m\n",
      "\u001b[0;32m/opt/conda/lib/python3.7/site-packages/xgboost/core.py\u001b[0m in \u001b[0;36m_check_call\u001b[0;34m(ret)\u001b[0m\n\u001b[1;32m    216\u001b[0m     \"\"\"\n\u001b[1;32m    217\u001b[0m     \u001b[0;32mif\u001b[0m \u001b[0mret\u001b[0m \u001b[0;34m!=\u001b[0m \u001b[0;36m0\u001b[0m\u001b[0;34m:\u001b[0m\u001b[0;34m\u001b[0m\u001b[0;34m\u001b[0m\u001b[0m\n\u001b[0;32m--> 218\u001b[0;31m         \u001b[0;32mraise\u001b[0m \u001b[0mXGBoostError\u001b[0m\u001b[0;34m(\u001b[0m\u001b[0mpy_str\u001b[0m\u001b[0;34m(\u001b[0m\u001b[0m_LIB\u001b[0m\u001b[0;34m.\u001b[0m\u001b[0mXGBGetLastError\u001b[0m\u001b[0;34m(\u001b[0m\u001b[0;34m)\u001b[0m\u001b[0;34m)\u001b[0m\u001b[0;34m)\u001b[0m\u001b[0;34m\u001b[0m\u001b[0;34m\u001b[0m\u001b[0m\n\u001b[0m\u001b[1;32m    219\u001b[0m \u001b[0;34m\u001b[0m\u001b[0m\n\u001b[1;32m    220\u001b[0m \u001b[0;34m\u001b[0m\u001b[0m\n",
      "\u001b[0;31mXGBoostError\u001b[0m: [15:49:05] ../src/objective/objective.cc:26: Unknown objective function: `{'colsample_bytree': 0.9865590388194095, 'gamma': 2.963042414478359, 'max_depth': 3.0, 'min_child_weight': 10.0, 'reg_alpha': 42.0, 'reg_lambda': 0.8851654205895558}`\nObjective candidate: survival:aft\nObjective candidate: binary:hinge\nObjective candidate: multi:softmax\nObjective candidate: multi:softprob\nObjective candidate: rank:pairwise\nObjective candidate: rank:ndcg\nObjective candidate: rank:map\nObjective candidate: reg:squarederror\nObjective candidate: reg:squaredlogerror\nObjective candidate: reg:logistic\nObjective candidate: reg:pseudohubererror\nObjective candidate: binary:logistic\nObjective candidate: binary:logitraw\nObjective candidate: reg:linear\nObjective candidate: count:poisson\nObjective candidate: survival:cox\nObjective candidate: reg:gamma\nObjective candidate: reg:tweedie\n\nStack trace:\n  [bt] (0) /opt/conda/lib/python3.7/site-packages/xgboost/lib/libxgboost.so(+0x21da6d) [0x7fd6dceaba6d]\n  [bt] (1) /opt/conda/lib/python3.7/site-packages/xgboost/lib/libxgboost.so(+0x21e0c9) [0x7fd6dceac0c9]\n  [bt] (2) /opt/conda/lib/python3.7/site-packages/xgboost/lib/libxgboost.so(+0x1b2522) [0x7fd6dce40522]\n  [bt] (3) /opt/conda/lib/python3.7/site-packages/xgboost/lib/libxgboost.so(+0x1b9e5d) [0x7fd6dce47e5d]\n  [bt] (4) /opt/conda/lib/python3.7/site-packages/xgboost/lib/libxgboost.so(XGBoosterBoostedRounds+0x31) [0x7fd6dcd266e1]\n  [bt] (5) /opt/conda/lib/python3.7/lib-dynload/../../libffi.so.8(+0x6a4a) [0x7fd750483a4a]\n  [bt] (6) /opt/conda/lib/python3.7/lib-dynload/../../libffi.so.8(+0x5fea) [0x7fd750482fea]\n  [bt] (7) /opt/conda/lib/python3.7/lib-dynload/_ctypes.cpython-37m-x86_64-linux-gnu.so(_ctypes_callproc+0x2f4) [0x7fd750499784]\n  [bt] (8) /opt/conda/lib/python3.7/lib-dynload/_ctypes.cpython-37m-x86_64-linux-gnu.so(+0x10ff8) [0x7fd750499ff8]\n\n"
     ]
    }
   ],
   "source": [
    "model.fit(X_train, y_train, early_stopping_rounds = 10,\n",
    "          eval_set = [(X_valid, y_valid)], verbose = 1)"
   ]
  },
  {
   "cell_type": "code",
   "execution_count": null,
   "id": "cd404c6c",
   "metadata": {
    "execution": {
     "iopub.status.busy": "2022-03-01T14:16:17.937012Z",
     "iopub.status.idle": "2022-03-01T14:16:17.937598Z",
     "shell.execute_reply": "2022-03-01T14:16:17.937374Z",
     "shell.execute_reply.started": "2022-03-01T14:16:17.937337Z"
    },
    "papermill": {
     "duration": null,
     "end_time": null,
     "exception": null,
     "start_time": null,
     "status": "pending"
    },
    "tags": []
   },
   "outputs": [],
   "source": [
    "import ubiquant\n",
    "env = ubiquant.make_env()  \n",
    "iter_test = env.iter_test()\n",
    "for (test_df, sample_prediction_df) in iter_test:\n",
    "    test_df.drop(['row_id'], axis=1, inplace=True)\n",
    "    pred = model.predict(test_df)\n",
    "    sample_prediction_df['target'] = pred\n",
    "    env.predict(sample_prediction_df) "
   ]
  },
  {
   "cell_type": "markdown",
   "id": "2f798981",
   "metadata": {
    "papermill": {
     "duration": null,
     "end_time": null,
     "exception": null,
     "start_time": null,
     "status": "pending"
    },
    "tags": []
   },
   "source": [
    "# Reference"
   ]
  },
  {
   "cell_type": "markdown",
   "id": "b3c7ec29",
   "metadata": {
    "papermill": {
     "duration": null,
     "end_time": null,
     "exception": null,
     "start_time": null,
     "status": "pending"
    },
    "tags": []
   },
   "source": [
    "- [A Guide on XGBoost hyperparameters tuning](https://www.kaggle.com/prashant111/a-guide-on-xgboost-hyperparameters-tuning)\n",
    "- [xgboost regressor parameter](https://xgboost.readthedocs.io/en/stable/parameter.html)"
   ]
  },
  {
   "cell_type": "code",
   "execution_count": null,
   "id": "cd37c331",
   "metadata": {
    "papermill": {
     "duration": null,
     "end_time": null,
     "exception": null,
     "start_time": null,
     "status": "pending"
    },
    "tags": []
   },
   "outputs": [],
   "source": []
  }
 ],
 "metadata": {
  "kernelspec": {
   "display_name": "Python 3",
   "language": "python",
   "name": "python3"
  },
  "language_info": {
   "codemirror_mode": {
    "name": "ipython",
    "version": 3
   },
   "file_extension": ".py",
   "mimetype": "text/x-python",
   "name": "python",
   "nbconvert_exporter": "python",
   "pygments_lexer": "ipython3",
   "version": "3.7.12"
  },
  "papermill": {
   "default_parameters": {},
   "duration": 5520.109683,
   "end_time": "2022-03-01T15:49:07.913728",
   "environment_variables": {},
   "exception": true,
   "input_path": "__notebook__.ipynb",
   "output_path": "__notebook__.ipynb",
   "parameters": {},
   "start_time": "2022-03-01T14:17:07.804045",
   "version": "2.3.3"
  }
 },
 "nbformat": 4,
 "nbformat_minor": 5
}
