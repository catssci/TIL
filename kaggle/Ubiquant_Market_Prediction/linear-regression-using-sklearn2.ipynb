{
 "cells": [
  {
   "cell_type": "code",
   "execution_count": 1,
   "id": "90dc4af0",
   "metadata": {
    "_cell_guid": "b1076dfc-b9ad-4769-8c92-a6c4dae69d19",
    "_uuid": "8f2839f25d086af736a60e9eeb907d3b93b6e0e5",
    "execution": {
     "iopub.execute_input": "2022-02-25T11:14:04.706748Z",
     "iopub.status.busy": "2022-02-25T11:14:04.705533Z",
     "iopub.status.idle": "2022-02-25T11:14:05.845696Z",
     "shell.execute_reply": "2022-02-25T11:14:05.846246Z",
     "shell.execute_reply.started": "2022-02-25T10:02:04.944127Z"
    },
    "papermill": {
     "duration": 1.175522,
     "end_time": "2022-02-25T11:14:05.846562",
     "exception": false,
     "start_time": "2022-02-25T11:14:04.671040",
     "status": "completed"
    },
    "tags": []
   },
   "outputs": [],
   "source": [
    "import os\n",
    "import gc\n",
    "from tqdm.notebook import tqdm\n",
    "\n",
    "import pandas as pd\n",
    "import numpy as np\n",
    "\n",
    "import matplotlib.pyplot as plt\n",
    "%matplotlib inline\n",
    "plt.style.use('ggplot')\n",
    "import seaborn as sns\n",
    "\n",
    "import warnings\n",
    "warnings.filterwarnings('ignore')"
   ]
  },
  {
   "cell_type": "markdown",
   "id": "8f533975",
   "metadata": {
    "papermill": {
     "duration": 0.02723,
     "end_time": "2022-02-25T11:14:05.903181",
     "exception": false,
     "start_time": "2022-02-25T11:14:05.875951",
     "status": "completed"
    },
    "tags": []
   },
   "source": [
    "# The goal of this notebook\n",
    "1. Understanding competition\n",
    "2. Understanding data\n",
    "3. Understanding Evaluation"
   ]
  },
  {
   "cell_type": "markdown",
   "id": "3bc07bca",
   "metadata": {
    "papermill": {
     "duration": 0.028269,
     "end_time": "2022-02-25T11:14:05.960216",
     "exception": false,
     "start_time": "2022-02-25T11:14:05.931947",
     "status": "completed"
    },
    "tags": []
   },
   "source": [
    "# 1. The goal of Competition"
   ]
  },
  {
   "cell_type": "markdown",
   "id": "e67087bb",
   "metadata": {
    "papermill": {
     "duration": 0.028065,
     "end_time": "2022-02-25T11:14:06.015891",
     "exception": false,
     "start_time": "2022-02-25T11:14:05.987826",
     "status": "completed"
    },
    "tags": []
   },
   "source": [
    "Goal: Build a model that forecasts an investment's return rate"
   ]
  },
  {
   "cell_type": "markdown",
   "id": "2860f1e8",
   "metadata": {
    "papermill": {
     "duration": 0.027625,
     "end_time": "2022-02-25T11:14:06.070590",
     "exception": false,
     "start_time": "2022-02-25T11:14:06.042965",
     "status": "completed"
    },
    "tags": []
   },
   "source": [
    "# 2. Data"
   ]
  },
  {
   "cell_type": "code",
   "execution_count": 2,
   "id": "c0251d73",
   "metadata": {
    "execution": {
     "iopub.execute_input": "2022-02-25T11:14:06.128851Z",
     "iopub.status.busy": "2022-02-25T11:14:06.128131Z",
     "iopub.status.idle": "2022-02-25T11:18:16.892399Z",
     "shell.execute_reply": "2022-02-25T11:18:16.892955Z",
     "shell.execute_reply.started": "2022-02-25T10:02:21.28921Z"
    },
    "papermill": {
     "duration": 250.794818,
     "end_time": "2022-02-25T11:18:16.893216",
     "exception": false,
     "start_time": "2022-02-25T11:14:06.098398",
     "status": "completed"
    },
    "tags": []
   },
   "outputs": [
    {
     "name": "stdout",
     "output_type": "stream",
     "text": [
      "Memory usage of dataframe is 3642.99 MB\n"
     ]
    },
    {
     "data": {
      "application/vnd.jupyter.widget-view+json": {
       "model_id": "33607504152642938063c42d4ff9f4e8",
       "version_major": 2,
       "version_minor": 0
      },
      "text/plain": [
       "  0%|          | 0/304 [00:00<?, ?it/s]"
      ]
     },
     "metadata": {},
     "output_type": "display_data"
    },
    {
     "name": "stdout",
     "output_type": "stream",
     "text": [
      "Memory usage after optimization is: 1915.96 MB\n",
      "Decreased by 47.4%\n",
      "CPU times: user 1min 46s, sys: 2min 21s, total: 4min 8s\n",
      "Wall time: 4min 10s\n"
     ]
    }
   ],
   "source": [
    "%%time\n",
    "\n",
    "# from https://www.kaggle.com/valleyzw/ubiquant-lgbm-baseline\n",
    "def reduce_mem_usage(df):\n",
    "    \"\"\" iterate through all the columns of a dataframe and modify the data type\n",
    "        to reduce memory usage.        \n",
    "    \"\"\"\n",
    "    start_mem = df.memory_usage().sum() / 1024 ** 2\n",
    "    print('Memory usage of dataframe is {:.2f} MB'.format(start_mem))\n",
    "    \n",
    "    for col in tqdm(df.columns):\n",
    "        col_type = df[col].dtype\n",
    "        \n",
    "        if col_type != object:\n",
    "            c_min = df[col].min()\n",
    "            c_max = df[col].max()\n",
    "            if str(col_type)[:3] == 'int':\n",
    "                if c_min > np.iinfo(np.int8).min and c_max < np.iinfo(np.int8).max:\n",
    "                    df[col] = df[col].astype(np.int8)\n",
    "                elif c_min > np.iinfo(np.int16).min and c_max < np.iinfo(np.int16).max:\n",
    "                    df[col] = df[col].astype(np.int16)\n",
    "                elif c_min > np.iinfo(np.int32).min and c_max < np.iinfo(np.int32).max:\n",
    "                    df[col] = df[col].astype(np.int32)\n",
    "                elif c_min > np.iinfo(np.int64).min and c_max < np.iinfo(np.int64).max:\n",
    "                    df[col] = df[col].astype(np.int64)  \n",
    "            else:\n",
    "                if c_min > np.finfo(np.float16).min and c_max < np.finfo(np.float16).max:\n",
    "                    df[col] = df[col].astype(np.float16)\n",
    "                elif c_min > np.finfo(np.float32).min and c_max < np.finfo(np.float32).max:\n",
    "                    df[col] = df[col].astype(np.float32)\n",
    "                else:\n",
    "                    df[col] = df[col].astype(np.float64)\n",
    "        else:\n",
    "            df[col] = df[col].astype('category')\n",
    "\n",
    "    end_mem = df.memory_usage().sum() / 1024 ** 2\n",
    "    print('Memory usage after optimization is: {:.2f} MB'.format(end_mem))\n",
    "    print('Decreased by {:.1f}%'.format(100 * (start_mem - end_mem) / start_mem))\n",
    "    \n",
    "    return df\n",
    "\n",
    "\n",
    "train = reduce_mem_usage(pd.read_parquet('../input/ubiquant-parquet/train_low_mem.parquet'))\n",
    "\n",
    "for col in ['time_id', 'investment_id']:\n",
    "    train[col] = train[col].astype(int)"
   ]
  },
  {
   "cell_type": "code",
   "execution_count": 3,
   "id": "797c63be",
   "metadata": {
    "execution": {
     "iopub.execute_input": "2022-02-25T11:18:16.966125Z",
     "iopub.status.busy": "2022-02-25T11:18:16.965156Z",
     "iopub.status.idle": "2022-02-25T11:18:18.486194Z",
     "shell.execute_reply": "2022-02-25T11:18:18.486843Z",
     "shell.execute_reply.started": "2022-02-25T10:07:34.145857Z"
    },
    "papermill": {
     "duration": 1.563755,
     "end_time": "2022-02-25T11:18:18.487020",
     "exception": false,
     "start_time": "2022-02-25T11:18:16.923265",
     "status": "completed"
    },
    "tags": []
   },
   "outputs": [
    {
     "name": "stdout",
     "output_type": "stream",
     "text": [
      "<class 'pandas.core.frame.DataFrame'>\n",
      "RangeIndex: 3141410 entries, 0 to 3141409\n",
      "Columns: 304 entries, row_id to f_299\n",
      "dtypes: category(1), float16(301), int64(2)\n",
      "memory usage: 1.9 GB\n"
     ]
    }
   ],
   "source": [
    "train.info()"
   ]
  },
  {
   "cell_type": "markdown",
   "id": "c6ba95e9",
   "metadata": {
    "papermill": {
     "duration": 0.030054,
     "end_time": "2022-02-25T11:18:18.547131",
     "exception": false,
     "start_time": "2022-02-25T11:18:18.517077",
     "status": "completed"
    },
    "tags": []
   },
   "source": [
    "### Data information"
   ]
  },
  {
   "cell_type": "code",
   "execution_count": 4,
   "id": "12fb73e9",
   "metadata": {
    "execution": {
     "iopub.execute_input": "2022-02-25T11:18:18.608488Z",
     "iopub.status.busy": "2022-02-25T11:18:18.607828Z",
     "iopub.status.idle": "2022-02-25T11:18:18.625743Z",
     "shell.execute_reply": "2022-02-25T11:18:18.625200Z",
     "shell.execute_reply.started": "2022-02-25T09:29:19.546199Z"
    },
    "papermill": {
     "duration": 0.049776,
     "end_time": "2022-02-25T11:18:18.625889",
     "exception": false,
     "start_time": "2022-02-25T11:18:18.576113",
     "status": "completed"
    },
    "tags": []
   },
   "outputs": [
    {
     "name": "stdout",
     "output_type": "stream",
     "text": [
      "<class 'pandas.core.frame.DataFrame'>\n",
      "RangeIndex: 3141410 entries, 0 to 3141409\n",
      "Columns: 304 entries, row_id to f_299\n",
      "dtypes: category(1), float16(301), int64(2)\n",
      "memory usage: 1.9 GB\n"
     ]
    }
   ],
   "source": [
    "train.info()"
   ]
  },
  {
   "cell_type": "code",
   "execution_count": 5,
   "id": "af6c0cf1",
   "metadata": {
    "execution": {
     "iopub.execute_input": "2022-02-25T11:18:18.695425Z",
     "iopub.status.busy": "2022-02-25T11:18:18.694757Z",
     "iopub.status.idle": "2022-02-25T11:18:18.730050Z",
     "shell.execute_reply": "2022-02-25T11:18:18.729501Z"
    },
    "papermill": {
     "duration": 0.07377,
     "end_time": "2022-02-25T11:18:18.730219",
     "exception": false,
     "start_time": "2022-02-25T11:18:18.656449",
     "status": "completed"
    },
    "tags": []
   },
   "outputs": [
    {
     "data": {
      "text/html": [
       "<div>\n",
       "<style scoped>\n",
       "    .dataframe tbody tr th:only-of-type {\n",
       "        vertical-align: middle;\n",
       "    }\n",
       "\n",
       "    .dataframe tbody tr th {\n",
       "        vertical-align: top;\n",
       "    }\n",
       "\n",
       "    .dataframe thead th {\n",
       "        text-align: right;\n",
       "    }\n",
       "</style>\n",
       "<table border=\"1\" class=\"dataframe\">\n",
       "  <thead>\n",
       "    <tr style=\"text-align: right;\">\n",
       "      <th></th>\n",
       "      <th>row_id</th>\n",
       "      <th>time_id</th>\n",
       "      <th>investment_id</th>\n",
       "      <th>target</th>\n",
       "      <th>f_0</th>\n",
       "      <th>f_1</th>\n",
       "      <th>f_2</th>\n",
       "      <th>f_3</th>\n",
       "      <th>f_4</th>\n",
       "      <th>f_5</th>\n",
       "      <th>...</th>\n",
       "      <th>f_290</th>\n",
       "      <th>f_291</th>\n",
       "      <th>f_292</th>\n",
       "      <th>f_293</th>\n",
       "      <th>f_294</th>\n",
       "      <th>f_295</th>\n",
       "      <th>f_296</th>\n",
       "      <th>f_297</th>\n",
       "      <th>f_298</th>\n",
       "      <th>f_299</th>\n",
       "    </tr>\n",
       "  </thead>\n",
       "  <tbody>\n",
       "    <tr>\n",
       "      <th>0</th>\n",
       "      <td>0_1</td>\n",
       "      <td>0</td>\n",
       "      <td>1</td>\n",
       "      <td>-0.300781</td>\n",
       "      <td>0.932617</td>\n",
       "      <td>0.113708</td>\n",
       "      <td>-0.402100</td>\n",
       "      <td>0.378418</td>\n",
       "      <td>-0.203979</td>\n",
       "      <td>-0.413574</td>\n",
       "      <td>...</td>\n",
       "      <td>0.365967</td>\n",
       "      <td>-1.095703</td>\n",
       "      <td>0.200073</td>\n",
       "      <td>0.819336</td>\n",
       "      <td>0.941406</td>\n",
       "      <td>-0.086792</td>\n",
       "      <td>-1.086914</td>\n",
       "      <td>-1.044922</td>\n",
       "      <td>-0.287598</td>\n",
       "      <td>0.321533</td>\n",
       "    </tr>\n",
       "    <tr>\n",
       "      <th>1</th>\n",
       "      <td>0_2</td>\n",
       "      <td>0</td>\n",
       "      <td>2</td>\n",
       "      <td>-0.231079</td>\n",
       "      <td>0.811035</td>\n",
       "      <td>-0.514160</td>\n",
       "      <td>0.742188</td>\n",
       "      <td>-0.616699</td>\n",
       "      <td>-0.194214</td>\n",
       "      <td>1.771484</td>\n",
       "      <td>...</td>\n",
       "      <td>-0.154175</td>\n",
       "      <td>0.912598</td>\n",
       "      <td>-0.734375</td>\n",
       "      <td>0.819336</td>\n",
       "      <td>0.941406</td>\n",
       "      <td>-0.387695</td>\n",
       "      <td>-1.086914</td>\n",
       "      <td>-0.929688</td>\n",
       "      <td>-0.974121</td>\n",
       "      <td>-0.343506</td>\n",
       "    </tr>\n",
       "    <tr>\n",
       "      <th>2</th>\n",
       "      <td>0_6</td>\n",
       "      <td>0</td>\n",
       "      <td>6</td>\n",
       "      <td>0.568848</td>\n",
       "      <td>0.394043</td>\n",
       "      <td>0.615723</td>\n",
       "      <td>0.567871</td>\n",
       "      <td>-0.607910</td>\n",
       "      <td>0.068909</td>\n",
       "      <td>-1.083008</td>\n",
       "      <td>...</td>\n",
       "      <td>-0.138062</td>\n",
       "      <td>0.912598</td>\n",
       "      <td>-0.551758</td>\n",
       "      <td>-1.220703</td>\n",
       "      <td>-1.060547</td>\n",
       "      <td>-0.219116</td>\n",
       "      <td>-1.086914</td>\n",
       "      <td>-0.612305</td>\n",
       "      <td>-0.113953</td>\n",
       "      <td>0.243652</td>\n",
       "    </tr>\n",
       "    <tr>\n",
       "      <th>3</th>\n",
       "      <td>0_7</td>\n",
       "      <td>0</td>\n",
       "      <td>7</td>\n",
       "      <td>-1.064453</td>\n",
       "      <td>-2.343750</td>\n",
       "      <td>-0.011871</td>\n",
       "      <td>1.875000</td>\n",
       "      <td>-0.606445</td>\n",
       "      <td>-0.586914</td>\n",
       "      <td>-0.815918</td>\n",
       "      <td>...</td>\n",
       "      <td>0.382080</td>\n",
       "      <td>0.912598</td>\n",
       "      <td>-0.266357</td>\n",
       "      <td>-1.220703</td>\n",
       "      <td>0.941406</td>\n",
       "      <td>-0.608887</td>\n",
       "      <td>0.104919</td>\n",
       "      <td>-0.783203</td>\n",
       "      <td>1.151367</td>\n",
       "      <td>-0.773438</td>\n",
       "    </tr>\n",
       "    <tr>\n",
       "      <th>4</th>\n",
       "      <td>0_8</td>\n",
       "      <td>0</td>\n",
       "      <td>8</td>\n",
       "      <td>-0.531738</td>\n",
       "      <td>0.842285</td>\n",
       "      <td>-0.262939</td>\n",
       "      <td>2.330078</td>\n",
       "      <td>-0.583496</td>\n",
       "      <td>-0.618164</td>\n",
       "      <td>-0.742676</td>\n",
       "      <td>...</td>\n",
       "      <td>-0.170410</td>\n",
       "      <td>0.912598</td>\n",
       "      <td>-0.741211</td>\n",
       "      <td>-1.220703</td>\n",
       "      <td>0.941406</td>\n",
       "      <td>-0.588379</td>\n",
       "      <td>0.104919</td>\n",
       "      <td>0.753418</td>\n",
       "      <td>1.345703</td>\n",
       "      <td>-0.737793</td>\n",
       "    </tr>\n",
       "  </tbody>\n",
       "</table>\n",
       "<p>5 rows × 304 columns</p>\n",
       "</div>"
      ],
      "text/plain": [
       "  row_id  time_id  investment_id    target       f_0       f_1       f_2  \\\n",
       "0    0_1        0              1 -0.300781  0.932617  0.113708 -0.402100   \n",
       "1    0_2        0              2 -0.231079  0.811035 -0.514160  0.742188   \n",
       "2    0_6        0              6  0.568848  0.394043  0.615723  0.567871   \n",
       "3    0_7        0              7 -1.064453 -2.343750 -0.011871  1.875000   \n",
       "4    0_8        0              8 -0.531738  0.842285 -0.262939  2.330078   \n",
       "\n",
       "        f_3       f_4       f_5  ...     f_290     f_291     f_292     f_293  \\\n",
       "0  0.378418 -0.203979 -0.413574  ...  0.365967 -1.095703  0.200073  0.819336   \n",
       "1 -0.616699 -0.194214  1.771484  ... -0.154175  0.912598 -0.734375  0.819336   \n",
       "2 -0.607910  0.068909 -1.083008  ... -0.138062  0.912598 -0.551758 -1.220703   \n",
       "3 -0.606445 -0.586914 -0.815918  ...  0.382080  0.912598 -0.266357 -1.220703   \n",
       "4 -0.583496 -0.618164 -0.742676  ... -0.170410  0.912598 -0.741211 -1.220703   \n",
       "\n",
       "      f_294     f_295     f_296     f_297     f_298     f_299  \n",
       "0  0.941406 -0.086792 -1.086914 -1.044922 -0.287598  0.321533  \n",
       "1  0.941406 -0.387695 -1.086914 -0.929688 -0.974121 -0.343506  \n",
       "2 -1.060547 -0.219116 -1.086914 -0.612305 -0.113953  0.243652  \n",
       "3  0.941406 -0.608887  0.104919 -0.783203  1.151367 -0.773438  \n",
       "4  0.941406 -0.588379  0.104919  0.753418  1.345703 -0.737793  \n",
       "\n",
       "[5 rows x 304 columns]"
      ]
     },
     "execution_count": 5,
     "metadata": {},
     "output_type": "execute_result"
    }
   ],
   "source": [
    "train.head()"
   ]
  },
  {
   "cell_type": "code",
   "execution_count": 6,
   "id": "db14d32f",
   "metadata": {
    "execution": {
     "iopub.execute_input": "2022-02-25T11:18:18.796832Z",
     "iopub.status.busy": "2022-02-25T11:18:18.796130Z",
     "iopub.status.idle": "2022-02-25T11:18:18.801149Z",
     "shell.execute_reply": "2022-02-25T11:18:18.800443Z"
    },
    "papermill": {
     "duration": 0.040556,
     "end_time": "2022-02-25T11:18:18.801377",
     "exception": false,
     "start_time": "2022-02-25T11:18:18.760821",
     "status": "completed"
    },
    "tags": []
   },
   "outputs": [
    {
     "name": "stdout",
     "output_type": "stream",
     "text": [
      "each column info\n",
      "row_id: unique row id\n",
      "time_id: The ID code for the time the data was gathered.\n",
      "investment_id: investment id\n",
      "target: target feature\n",
      "f_0 ~ f_299: 300 of feature\n"
     ]
    }
   ],
   "source": [
    "print('each column info')\n",
    "\n",
    "print('row_id: unique row id')\n",
    "print('time_id: The ID code for the time the data was gathered.')\n",
    "print('investment_id: investment id')\n",
    "print('target: target feature')\n",
    "print('f_0 ~ f_299: 300 of feature')"
   ]
  },
  {
   "cell_type": "code",
   "execution_count": 7,
   "id": "c09d3649",
   "metadata": {
    "execution": {
     "iopub.execute_input": "2022-02-25T11:18:18.873938Z",
     "iopub.status.busy": "2022-02-25T11:18:18.873178Z",
     "iopub.status.idle": "2022-02-25T11:18:19.452207Z",
     "shell.execute_reply": "2022-02-25T11:18:19.451430Z"
    },
    "papermill": {
     "duration": 0.618251,
     "end_time": "2022-02-25T11:18:19.452449",
     "exception": false,
     "start_time": "2022-02-25T11:18:18.834198",
     "status": "completed"
    },
    "tags": []
   },
   "outputs": [
    {
     "name": "stdout",
     "output_type": "stream",
     "text": [
      "Length of unique row_id: 3141410\n",
      "start: 0_1, end: 1219_3773\n"
     ]
    }
   ],
   "source": [
    "# row_id\n",
    "# row_id: \"row_id\" + \"_\" + \"investment_id\" !!\n",
    "print(f\"Length of unique row_id: {len(train['row_id'].unique())}\")\n",
    "print(f\"start: {list(train['row_id'])[0]}, end: {list(train['row_id'])[-1]}\")"
   ]
  },
  {
   "cell_type": "code",
   "execution_count": 8,
   "id": "02836efe",
   "metadata": {
    "execution": {
     "iopub.execute_input": "2022-02-25T11:18:19.525219Z",
     "iopub.status.busy": "2022-02-25T11:18:19.524555Z",
     "iopub.status.idle": "2022-02-25T11:18:20.510168Z",
     "shell.execute_reply": "2022-02-25T11:18:20.510811Z"
    },
    "papermill": {
     "duration": 1.024031,
     "end_time": "2022-02-25T11:18:20.510984",
     "exception": false,
     "start_time": "2022-02-25T11:18:19.486953",
     "status": "completed"
    },
    "tags": []
   },
   "outputs": [
    {
     "name": "stdout",
     "output_type": "stream",
     "text": [
      "Length of unique time_id: 1211\n",
      "start: 0, end: 1219\n"
     ]
    }
   ],
   "source": [
    "# time_id\n",
    "print(f\"Length of unique time_id: {len(train['time_id'].unique())}\")\n",
    "print(f\"start: {list(train['time_id'])[0]}, end: {list(train['time_id'])[-1]}\")"
   ]
  },
  {
   "cell_type": "code",
   "execution_count": 9,
   "id": "677cccaa",
   "metadata": {
    "execution": {
     "iopub.execute_input": "2022-02-25T11:18:20.580238Z",
     "iopub.status.busy": "2022-02-25T11:18:20.579226Z",
     "iopub.status.idle": "2022-02-25T11:18:21.596781Z",
     "shell.execute_reply": "2022-02-25T11:18:21.597490Z"
    },
    "papermill": {
     "duration": 1.054016,
     "end_time": "2022-02-25T11:18:21.597734",
     "exception": false,
     "start_time": "2022-02-25T11:18:20.543718",
     "status": "completed"
    },
    "tags": []
   },
   "outputs": [
    {
     "name": "stdout",
     "output_type": "stream",
     "text": [
      "Length of unique investment_id: 2788\n",
      "start: 1, end: 3772\n"
     ]
    }
   ],
   "source": [
    "# investment_id\n",
    "print(f\"Length of unique investment_id: {len(train['investment_id'].unique())}\")\n",
    "print(f\"start: {list(train['investment_id'])[0]}, end: {list(train['investment_id'])[-1]}\")"
   ]
  },
  {
   "cell_type": "code",
   "execution_count": 10,
   "id": "945f76ed",
   "metadata": {
    "execution": {
     "iopub.execute_input": "2022-02-25T11:18:21.669238Z",
     "iopub.status.busy": "2022-02-25T11:18:21.668216Z",
     "iopub.status.idle": "2022-02-25T11:18:29.466983Z",
     "shell.execute_reply": "2022-02-25T11:18:29.466303Z"
    },
    "papermill": {
     "duration": 7.835202,
     "end_time": "2022-02-25T11:18:29.467140",
     "exception": false,
     "start_time": "2022-02-25T11:18:21.631938",
     "status": "completed"
    },
    "tags": []
   },
   "outputs": [],
   "source": [
    "check_row_id = train['time_id'].astype(str) + \"_\" + train['investment_id'].astype(str)"
   ]
  },
  {
   "cell_type": "code",
   "execution_count": 11,
   "id": "c91674c2",
   "metadata": {
    "execution": {
     "iopub.execute_input": "2022-02-25T11:18:29.544013Z",
     "iopub.status.busy": "2022-02-25T11:18:29.541964Z",
     "iopub.status.idle": "2022-02-25T11:18:29.885271Z",
     "shell.execute_reply": "2022-02-25T11:18:29.885811Z"
    },
    "papermill": {
     "duration": 0.384944,
     "end_time": "2022-02-25T11:18:29.886002",
     "exception": false,
     "start_time": "2022-02-25T11:18:29.501058",
     "status": "completed"
    },
    "tags": []
   },
   "outputs": [
    {
     "name": "stdout",
     "output_type": "stream",
     "text": [
      "row_id assumption is False\n"
     ]
    }
   ],
   "source": [
    "# Check the row_id assumption\n",
    "if (train['row_id'] == check_row_id).sum() == train.shape[0]:\n",
    "    print('row_id assumption is True')\n",
    "else:\n",
    "    print('row_id assumption is False')"
   ]
  },
  {
   "cell_type": "code",
   "execution_count": 12,
   "id": "07c48a04",
   "metadata": {
    "execution": {
     "iopub.execute_input": "2022-02-25T11:18:29.957780Z",
     "iopub.status.busy": "2022-02-25T11:18:29.957113Z",
     "iopub.status.idle": "2022-02-25T11:18:30.563145Z",
     "shell.execute_reply": "2022-02-25T11:18:30.562622Z"
    },
    "papermill": {
     "duration": 0.642888,
     "end_time": "2022-02-25T11:18:30.563293",
     "exception": false,
     "start_time": "2022-02-25T11:18:29.920405",
     "status": "completed"
    },
    "tags": []
   },
   "outputs": [
    {
     "data": {
      "text/plain": [
       "count    3.141410e+06\n",
       "mean              NaN\n",
       "std      0.000000e+00\n",
       "min     -9.421875e+00\n",
       "25%     -5.004883e-01\n",
       "50%     -9.716797e-02\n",
       "75%      3.571777e-01\n",
       "max      1.203906e+01\n",
       "Name: target, dtype: float64"
      ]
     },
     "execution_count": 12,
     "metadata": {},
     "output_type": "execute_result"
    }
   ],
   "source": [
    "# target info\n",
    "train['target'].describe()"
   ]
  },
  {
   "cell_type": "code",
   "execution_count": 13,
   "id": "b634e397",
   "metadata": {
    "execution": {
     "iopub.execute_input": "2022-02-25T11:18:30.642718Z",
     "iopub.status.busy": "2022-02-25T11:18:30.642041Z",
     "iopub.status.idle": "2022-02-25T11:18:34.579549Z",
     "shell.execute_reply": "2022-02-25T11:18:34.578728Z"
    },
    "papermill": {
     "duration": 3.979589,
     "end_time": "2022-02-25T11:18:34.579767",
     "exception": false,
     "start_time": "2022-02-25T11:18:30.600178",
     "status": "completed"
    },
    "tags": []
   },
   "outputs": [
    {
     "data": {
      "text/plain": [
       "<AxesSubplot:xlabel='target', ylabel='Count'>"
      ]
     },
     "execution_count": 13,
     "metadata": {},
     "output_type": "execute_result"
    },
    {
     "data": {
      "image/png": "[encoded data removed]",
      "text/plain": [
       "<Figure size 1296x504 with 1 Axes>"
      ]
     },
     "metadata": {},
     "output_type": "display_data"
    }
   ],
   "source": [
    "plt.figure(figsize = (18, 7))\n",
    "sns.histplot(train['target'], bins = 500)"
   ]
  },
  {
   "cell_type": "code",
   "execution_count": 14,
   "id": "de78c04b",
   "metadata": {
    "execution": {
     "iopub.execute_input": "2022-02-25T11:18:34.663974Z",
     "iopub.status.busy": "2022-02-25T11:18:34.663230Z",
     "iopub.status.idle": "2022-02-25T11:18:34.665322Z",
     "shell.execute_reply": "2022-02-25T11:18:34.665808Z",
     "shell.execute_reply.started": "2022-02-25T10:07:43.261258Z"
    },
    "papermill": {
     "duration": 0.045679,
     "end_time": "2022-02-25T11:18:34.666001",
     "exception": false,
     "start_time": "2022-02-25T11:18:34.620322",
     "status": "completed"
    },
    "tags": []
   },
   "outputs": [],
   "source": [
    "# f_0 ~ f_299 info\n",
    "# feature_df = train.drop(['row_id', 'time_id', 'investment_id', 'target'], axis=1)\n",
    "features = [f'f_{i}' for i in range(300)]"
   ]
  },
  {
   "cell_type": "code",
   "execution_count": 15,
   "id": "6e7386e5",
   "metadata": {
    "execution": {
     "iopub.execute_input": "2022-02-25T11:18:34.743948Z",
     "iopub.status.busy": "2022-02-25T11:18:34.742979Z",
     "iopub.status.idle": "2022-02-25T11:18:34.746779Z",
     "shell.execute_reply": "2022-02-25T11:18:34.747296Z"
    },
    "papermill": {
     "duration": 0.045072,
     "end_time": "2022-02-25T11:18:34.747494",
     "exception": false,
     "start_time": "2022-02-25T11:18:34.702422",
     "status": "completed"
    },
    "tags": []
   },
   "outputs": [],
   "source": [
    "# feature_df.describe()"
   ]
  },
  {
   "cell_type": "code",
   "execution_count": 16,
   "id": "a853af4d",
   "metadata": {
    "execution": {
     "iopub.execute_input": "2022-02-25T11:18:34.829790Z",
     "iopub.status.busy": "2022-02-25T11:18:34.829056Z",
     "iopub.status.idle": "2022-02-25T11:18:34.832191Z",
     "shell.execute_reply": "2022-02-25T11:18:34.832775Z"
    },
    "papermill": {
     "duration": 0.045423,
     "end_time": "2022-02-25T11:18:34.832955",
     "exception": false,
     "start_time": "2022-02-25T11:18:34.787532",
     "status": "completed"
    },
    "tags": []
   },
   "outputs": [],
   "source": [
    "# for col in feature_df.columns[:5]:\n",
    "#     plt.figure(figsize = (12, 5))\n",
    "#     sns.histplot(df[col], bins = 500)"
   ]
  },
  {
   "cell_type": "code",
   "execution_count": 17,
   "id": "ef28fd77",
   "metadata": {
    "execution": {
     "iopub.execute_input": "2022-02-25T11:18:34.963284Z",
     "iopub.status.busy": "2022-02-25T11:18:34.962587Z",
     "iopub.status.idle": "2022-02-25T11:18:34.970148Z",
     "shell.execute_reply": "2022-02-25T11:18:34.969590Z"
    },
    "papermill": {
     "duration": 0.09926,
     "end_time": "2022-02-25T11:18:34.970293",
     "exception": false,
     "start_time": "2022-02-25T11:18:34.871033",
     "status": "completed"
    },
    "tags": []
   },
   "outputs": [
    {
     "data": {
      "text/plain": [
       "2752    3576\n",
       "3052    3528\n",
       "3304    3516\n",
       "2356    3514\n",
       "2712    3510\n",
       "        ... \n",
       "85         8\n",
       "905        8\n",
       "2558       8\n",
       "3662       7\n",
       "1415       2\n",
       "Name: investment_id, Length: 2788, dtype: int64"
      ]
     },
     "execution_count": 17,
     "metadata": {},
     "output_type": "execute_result"
    }
   ],
   "source": [
    "# add EDA\n",
    "train['investment_id'].value_counts()"
   ]
  },
  {
   "cell_type": "code",
   "execution_count": null,
   "id": "abedcd8b",
   "metadata": {
    "papermill": {
     "duration": 0.036589,
     "end_time": "2022-02-25T11:18:35.044828",
     "exception": false,
     "start_time": "2022-02-25T11:18:35.008239",
     "status": "completed"
    },
    "tags": []
   },
   "outputs": [],
   "source": []
  },
  {
   "cell_type": "markdown",
   "id": "cc6080d7",
   "metadata": {
    "papermill": {
     "duration": 0.03763,
     "end_time": "2022-02-25T11:18:35.121091",
     "exception": false,
     "start_time": "2022-02-25T11:18:35.083461",
     "status": "completed"
    },
    "tags": []
   },
   "source": [
    "# Model\n",
    "Linear Regression model Using sklearn "
   ]
  },
  {
   "cell_type": "code",
   "execution_count": 18,
   "id": "655ce546",
   "metadata": {
    "execution": {
     "iopub.execute_input": "2022-02-25T11:18:35.200865Z",
     "iopub.status.busy": "2022-02-25T11:18:35.199980Z",
     "iopub.status.idle": "2022-02-25T11:18:35.614728Z",
     "shell.execute_reply": "2022-02-25T11:18:35.614104Z",
     "shell.execute_reply.started": "2022-02-25T10:07:49.085593Z"
    },
    "papermill": {
     "duration": 0.456783,
     "end_time": "2022-02-25T11:18:35.614881",
     "exception": false,
     "start_time": "2022-02-25T11:18:35.158098",
     "status": "completed"
    },
    "tags": []
   },
   "outputs": [],
   "source": [
    "from sklearn.model_selection import GroupKFold\n",
    "from sklearn import linear_model\n",
    "from sklearn import metrics\n",
    "from scipy.stats import pearsonr"
   ]
  },
  {
   "cell_type": "code",
   "execution_count": 19,
   "id": "15f5e3d4",
   "metadata": {
    "execution": {
     "iopub.execute_input": "2022-02-25T11:18:35.822393Z",
     "iopub.status.busy": "2022-02-25T11:18:35.821418Z",
     "iopub.status.idle": "2022-02-25T11:18:35.827175Z",
     "shell.execute_reply": "2022-02-25T11:18:35.826548Z",
     "shell.execute_reply.started": "2022-02-25T10:07:50.253095Z"
    },
    "papermill": {
     "duration": 0.174782,
     "end_time": "2022-02-25T11:18:35.827317",
     "exception": false,
     "start_time": "2022-02-25T11:18:35.652535",
     "status": "completed"
    },
    "tags": []
   },
   "outputs": [
    {
     "data": {
      "text/plain": [
       "21"
      ]
     },
     "execution_count": 19,
     "metadata": {},
     "output_type": "execute_result"
    }
   ],
   "source": [
    "gc.collect()"
   ]
  },
  {
   "cell_type": "code",
   "execution_count": 20,
   "id": "ccb24525",
   "metadata": {
    "execution": {
     "iopub.execute_input": "2022-02-25T11:18:35.917058Z",
     "iopub.status.busy": "2022-02-25T11:18:35.916329Z",
     "iopub.status.idle": "2022-02-25T11:24:27.357140Z",
     "shell.execute_reply": "2022-02-25T11:24:27.357710Z",
     "shell.execute_reply.started": "2022-02-25T10:08:16.742321Z"
    },
    "papermill": {
     "duration": 351.491425,
     "end_time": "2022-02-25T11:24:27.357933",
     "exception": false,
     "start_time": "2022-02-25T11:18:35.866508",
     "status": "completed"
    },
    "tags": []
   },
   "outputs": [
    {
     "name": "stdout",
     "output_type": "stream",
     "text": [
      "FOLD: 0\n",
      "Pearson: 0.12683630680178548\n",
      "RMSE: 0.9123466\n",
      "R2: 0.016044360683544534\n",
      "\n",
      "FOLD: 1\n",
      "Pearson: 0.12751198925313467\n",
      "RMSE: 0.91326505\n",
      "R2: 0.016194646980616234\n",
      "\n",
      "FOLD: 2\n",
      "Pearson: 0.14243329074538724\n",
      "RMSE: 0.9099416\n",
      "R2: 0.020168929363318933\n",
      "\n",
      "FOLD: 3\n",
      "Pearson: 0.12142262445130798\n",
      "RMSE: 0.9115411\n",
      "R2: 0.014429833012276183\n",
      "\n",
      "FOLD: 4\n",
      "Pearson: 0.12866240252409275\n",
      "RMSE: 0.91291666\n",
      "R2: 0.01659375523611273\n",
      "\n",
      "------------------------------\n",
      "Mean: 0.12937332275514163\n",
      "Std: 0.006988315782118249\n",
      "CPU times: user 9min 49s, sys: 1min 24s, total: 11min 13s\n",
      "Wall time: 5min 51s\n"
     ]
    }
   ],
   "source": [
    "%%time\n",
    "\n",
    "pearsons = []\n",
    "models = []\n",
    "\n",
    "FOLDS = 5\n",
    "kf = GroupKFold(n_splits=FOLDS)\n",
    "for fold, (tr, val) in enumerate(kf.split(train[features], train['target'], train['time_id'])):\n",
    "    gc.collect()\n",
    "    print('FOLD:', fold)\n",
    "    X_train = train.loc[tr, features]\n",
    "    y_train = train.loc[tr, 'target']\n",
    "    X_val = train.loc[val, features]\n",
    "    y_val = train.loc[val, 'target']\n",
    "    \n",
    "    # fit\n",
    "    model = linear_model.LinearRegression(n_jobs=-1)\n",
    "    model.fit(X_train, y_train)\n",
    "    models.append(model)\n",
    "    \n",
    "    # predict\n",
    "    preds = model.predict(X_val)\n",
    "    \n",
    "    # metrics\n",
    "    pearson = pearsonr(y_val, preds)[0]\n",
    "    rmse = metrics.mean_squared_error(y_val, preds, squared=False)\n",
    "    r2 = metrics.r2_score(y_val, preds)\n",
    "    print('Pearson:', pearson)\n",
    "    print('RMSE:', rmse)\n",
    "    print('R2:', r2)\n",
    "    print()\n",
    "    pearsons.append(pearson)\n",
    "    \n",
    "print('-' * 30)\n",
    "print('Mean:', np.mean(pearsons))\n",
    "print('Std:', np.std(pearsons))"
   ]
  },
  {
   "cell_type": "markdown",
   "id": "a8670536",
   "metadata": {
    "papermill": {
     "duration": 0.045067,
     "end_time": "2022-02-25T11:24:27.445913",
     "exception": false,
     "start_time": "2022-02-25T11:24:27.400846",
     "status": "completed"
    },
    "tags": []
   },
   "source": [
    "# Pearson\n",
    "Using `from scipy.stats import pearsonr`"
   ]
  },
  {
   "cell_type": "markdown",
   "id": "a7121d9f",
   "metadata": {
    "papermill": {
     "duration": 0.039767,
     "end_time": "2022-02-25T11:24:27.525886",
     "exception": false,
     "start_time": "2022-02-25T11:24:27.486119",
     "status": "completed"
    },
    "tags": []
   },
   "source": [
    "return: `Pearson’s correlation coefficient`, `Two-tailed p-value`"
   ]
  },
  {
   "cell_type": "markdown",
   "id": "6cb91dea",
   "metadata": {
    "papermill": {
     "duration": 0.040847,
     "end_time": "2022-02-25T11:24:27.606858",
     "exception": false,
     "start_time": "2022-02-25T11:24:27.566011",
     "status": "completed"
    },
    "tags": []
   },
   "source": [
    "# Submission\n"
   ]
  },
  {
   "cell_type": "code",
   "execution_count": 21,
   "id": "a560234c",
   "metadata": {
    "execution": {
     "iopub.execute_input": "2022-02-25T11:24:27.695185Z",
     "iopub.status.busy": "2022-02-25T11:24:27.694131Z",
     "iopub.status.idle": "2022-02-25T11:24:27.909239Z",
     "shell.execute_reply": "2022-02-25T11:24:27.908623Z",
     "shell.execute_reply.started": "2022-02-25T10:21:10.542554Z"
    },
    "papermill": {
     "duration": 0.26038,
     "end_time": "2022-02-25T11:24:27.909419",
     "exception": false,
     "start_time": "2022-02-25T11:24:27.649039",
     "status": "completed"
    },
    "tags": []
   },
   "outputs": [
    {
     "name": "stdout",
     "output_type": "stream",
     "text": [
      "This version of the API is not optimized and should not be used to estimate the runtime of your code on the hidden test set.\n"
     ]
    },
    {
     "data": {
      "text/html": [
       "<div>\n",
       "<style scoped>\n",
       "    .dataframe tbody tr th:only-of-type {\n",
       "        vertical-align: middle;\n",
       "    }\n",
       "\n",
       "    .dataframe tbody tr th {\n",
       "        vertical-align: top;\n",
       "    }\n",
       "\n",
       "    .dataframe thead th {\n",
       "        text-align: right;\n",
       "    }\n",
       "</style>\n",
       "<table border=\"1\" class=\"dataframe\">\n",
       "  <thead>\n",
       "    <tr style=\"text-align: right;\">\n",
       "      <th></th>\n",
       "      <th>row_id</th>\n",
       "      <th>target</th>\n",
       "    </tr>\n",
       "  </thead>\n",
       "  <tbody>\n",
       "    <tr>\n",
       "      <th>0</th>\n",
       "      <td>1220_1</td>\n",
       "      <td>-0.140507</td>\n",
       "    </tr>\n",
       "    <tr>\n",
       "      <th>1</th>\n",
       "      <td>1220_2</td>\n",
       "      <td>0.001794</td>\n",
       "    </tr>\n",
       "  </tbody>\n",
       "</table>\n",
       "</div>"
      ],
      "text/plain": [
       "   row_id    target\n",
       "0  1220_1 -0.140507\n",
       "1  1220_2  0.001794"
      ]
     },
     "metadata": {},
     "output_type": "display_data"
    },
    {
     "data": {
      "text/html": [
       "<div>\n",
       "<style scoped>\n",
       "    .dataframe tbody tr th:only-of-type {\n",
       "        vertical-align: middle;\n",
       "    }\n",
       "\n",
       "    .dataframe tbody tr th {\n",
       "        vertical-align: top;\n",
       "    }\n",
       "\n",
       "    .dataframe thead th {\n",
       "        text-align: right;\n",
       "    }\n",
       "</style>\n",
       "<table border=\"1\" class=\"dataframe\">\n",
       "  <thead>\n",
       "    <tr style=\"text-align: right;\">\n",
       "      <th></th>\n",
       "      <th>row_id</th>\n",
       "      <th>target</th>\n",
       "    </tr>\n",
       "  </thead>\n",
       "  <tbody>\n",
       "    <tr>\n",
       "      <th>0</th>\n",
       "      <td>1221_0</td>\n",
       "      <td>-0.096201</td>\n",
       "    </tr>\n",
       "    <tr>\n",
       "      <th>1</th>\n",
       "      <td>1221_1</td>\n",
       "      <td>-0.067178</td>\n",
       "    </tr>\n",
       "    <tr>\n",
       "      <th>2</th>\n",
       "      <td>1221_2</td>\n",
       "      <td>-0.099584</td>\n",
       "    </tr>\n",
       "  </tbody>\n",
       "</table>\n",
       "</div>"
      ],
      "text/plain": [
       "   row_id    target\n",
       "0  1221_0 -0.096201\n",
       "1  1221_1 -0.067178\n",
       "2  1221_2 -0.099584"
      ]
     },
     "metadata": {},
     "output_type": "display_data"
    },
    {
     "data": {
      "text/html": [
       "<div>\n",
       "<style scoped>\n",
       "    .dataframe tbody tr th:only-of-type {\n",
       "        vertical-align: middle;\n",
       "    }\n",
       "\n",
       "    .dataframe tbody tr th {\n",
       "        vertical-align: top;\n",
       "    }\n",
       "\n",
       "    .dataframe thead th {\n",
       "        text-align: right;\n",
       "    }\n",
       "</style>\n",
       "<table border=\"1\" class=\"dataframe\">\n",
       "  <thead>\n",
       "    <tr style=\"text-align: right;\">\n",
       "      <th></th>\n",
       "      <th>row_id</th>\n",
       "      <th>target</th>\n",
       "    </tr>\n",
       "  </thead>\n",
       "  <tbody>\n",
       "    <tr>\n",
       "      <th>0</th>\n",
       "      <td>1222_0</td>\n",
       "      <td>-0.088224</td>\n",
       "    </tr>\n",
       "    <tr>\n",
       "      <th>1</th>\n",
       "      <td>1222_1</td>\n",
       "      <td>-0.058137</td>\n",
       "    </tr>\n",
       "    <tr>\n",
       "      <th>2</th>\n",
       "      <td>1222_2</td>\n",
       "      <td>-0.152480</td>\n",
       "    </tr>\n",
       "  </tbody>\n",
       "</table>\n",
       "</div>"
      ],
      "text/plain": [
       "   row_id    target\n",
       "0  1222_0 -0.088224\n",
       "1  1222_1 -0.058137\n",
       "2  1222_2 -0.152480"
      ]
     },
     "metadata": {},
     "output_type": "display_data"
    },
    {
     "data": {
      "text/html": [
       "<div>\n",
       "<style scoped>\n",
       "    .dataframe tbody tr th:only-of-type {\n",
       "        vertical-align: middle;\n",
       "    }\n",
       "\n",
       "    .dataframe tbody tr th {\n",
       "        vertical-align: top;\n",
       "    }\n",
       "\n",
       "    .dataframe thead th {\n",
       "        text-align: right;\n",
       "    }\n",
       "</style>\n",
       "<table border=\"1\" class=\"dataframe\">\n",
       "  <thead>\n",
       "    <tr style=\"text-align: right;\">\n",
       "      <th></th>\n",
       "      <th>row_id</th>\n",
       "      <th>target</th>\n",
       "    </tr>\n",
       "  </thead>\n",
       "  <tbody>\n",
       "    <tr>\n",
       "      <th>0</th>\n",
       "      <td>1223_0</td>\n",
       "      <td>-0.049501</td>\n",
       "    </tr>\n",
       "  </tbody>\n",
       "</table>\n",
       "</div>"
      ],
      "text/plain": [
       "   row_id    target\n",
       "0  1223_0 -0.049501"
      ]
     },
     "metadata": {},
     "output_type": "display_data"
    }
   ],
   "source": [
    "import ubiquant\n",
    "\n",
    "env = ubiquant.make_env()   # initialize the environment\n",
    "iter_test = env.iter_test()    # an iterator which loops over the test set and sample submission\n",
    "\n",
    "for (test_df, sample_prediction_df) in iter_test:\n",
    "    final_pred = [models[fold].predict(test_df[features]) for fold in range(FOLDS)]\n",
    "    sample_prediction_df['target'] = np.mean(np.stack(final_pred), axis=0) # make your predictions here\n",
    "    env.predict(sample_prediction_df)   # register your predictions\n",
    "    display(sample_prediction_df)"
   ]
  },
  {
   "cell_type": "code",
   "execution_count": null,
   "id": "f6c0bfb8",
   "metadata": {
    "papermill": {
     "duration": 0.043071,
     "end_time": "2022-02-25T11:24:27.996537",
     "exception": false,
     "start_time": "2022-02-25T11:24:27.953466",
     "status": "completed"
    },
    "tags": []
   },
   "outputs": [],
   "source": []
  },
  {
   "cell_type": "code",
   "execution_count": null,
   "id": "41651339",
   "metadata": {
    "papermill": {
     "duration": 0.043215,
     "end_time": "2022-02-25T11:24:28.083189",
     "exception": false,
     "start_time": "2022-02-25T11:24:28.039974",
     "status": "completed"
    },
    "tags": []
   },
   "outputs": [],
   "source": []
  }
 ],
 "metadata": {
  "kernelspec": {
   "display_name": "Python 3",
   "language": "python",
   "name": "python3"
  },
  "language_info": {
   "codemirror_mode": {
    "name": "ipython",
    "version": 3
   },
   "file_extension": ".py",
   "mimetype": "text/x-python",
   "name": "python",
   "nbconvert_exporter": "python",
   "pygments_lexer": "ipython3",
   "version": "3.7.12"
  },
  "papermill": {
   "default_parameters": {},
   "duration": 635.541391,
   "end_time": "2022-02-25T11:24:29.441840",
   "environment_variables": {},
   "exception": null,
   "input_path": "__notebook__.ipynb",
   "output_path": "__notebook__.ipynb",
   "parameters": {},
   "start_time": "2022-02-25T11:13:53.900449",
   "version": "2.3.3"
  },
  "widgets": {
   "application/vnd.jupyter.widget-state+json": {
    "state": {
     "0d64846c575d423196cee278edce1edb": {
      "model_module": "@jupyter-widgets/controls",
      "model_module_version": "1.5.0",
      "model_name": "DescriptionStyleModel",
      "state": {
       "_model_module": "@jupyter-widgets/controls",
       "_model_module_version": "1.5.0",
       "_model_name": "DescriptionStyleModel",
       "_view_count": null,
       "_view_module": "@jupyter-widgets/base",
       "_view_module_version": "1.2.0",
       "_view_name": "StyleView",
       "description_width": ""
      }
     },
     "14caef41276843349089f1d7e1805400": {
      "model_module": "@jupyter-widgets/controls",
      "model_module_version": "1.5.0",
      "model_name": "FloatProgressModel",
      "state": {
       "_dom_classes": [],
       "_model_module": "@jupyter-widgets/controls",
       "_model_module_version": "1.5.0",
       "_model_name": "FloatProgressModel",
       "_view_count": null,
       "_view_module": "@jupyter-widgets/controls",
       "_view_module_version": "1.5.0",
       "_view_name": "ProgressView",
       "bar_style": "success",
       "description": "",
       "description_tooltip": null,
       "layout": "IPY_MODEL_37684b405b5c405cac40b3b2de8f0563",
       "max": 304.0,
       "min": 0.0,
       "orientation": "horizontal",
       "style": "IPY_MODEL_f32df015e3fb43578df481e7e50b64bd",
       "value": 304.0
      }
     },
     "1771c60f8d3f4a39beff3a094920ffc3": {
      "model_module": "@jupyter-widgets/controls",
      "model_module_version": "1.5.0",
      "model_name": "HTMLModel",
      "state": {
       "_dom_classes": [],
       "_model_module": "@jupyter-widgets/controls",
       "_model_module_version": "1.5.0",
       "_model_name": "HTMLModel",
       "_view_count": null,
       "_view_module": "@jupyter-widgets/controls",
       "_view_module_version": "1.5.0",
       "_view_name": "HTMLView",
       "description": "",
       "description_tooltip": null,
       "layout": "IPY_MODEL_17e8bda03e2f4a33ae3ffd7e9f51a915",
       "placeholder": "​",
       "style": "IPY_MODEL_0d64846c575d423196cee278edce1edb",
       "value": "100%"
      }
     },
     "17e8bda03e2f4a33ae3ffd7e9f51a915": {
      "model_module": "@jupyter-widgets/base",
      "model_module_version": "1.2.0",
      "model_name": "LayoutModel",
      "state": {
       "_model_module": "@jupyter-widgets/base",
       "_model_module_version": "1.2.0",
       "_model_name": "LayoutModel",
       "_view_count": null,
       "_view_module": "@jupyter-widgets/base",
       "_view_module_version": "1.2.0",
       "_view_name": "LayoutView",
       "align_content": null,
       "align_items": null,
       "align_self": null,
       "border": null,
       "bottom": null,
       "display": null,
       "flex": null,
       "flex_flow": null,
       "grid_area": null,
       "grid_auto_columns": null,
       "grid_auto_flow": null,
       "grid_auto_rows": null,
       "grid_column": null,
       "grid_gap": null,
       "grid_row": null,
       "grid_template_areas": null,
       "grid_template_columns": null,
       "grid_template_rows": null,
       "height": null,
       "justify_content": null,
       "justify_items": null,
       "left": null,
       "margin": null,
       "max_height": null,
       "max_width": null,
       "min_height": null,
       "min_width": null,
       "object_fit": null,
       "object_position": null,
       "order": null,
       "overflow": null,
       "overflow_x": null,
       "overflow_y": null,
       "padding": null,
       "right": null,
       "top": null,
       "visibility": null,
       "width": null
      }
     },
     "235bac92a2124760b50e255ccd8c14d6": {
      "model_module": "@jupyter-widgets/controls",
      "model_module_version": "1.5.0",
      "model_name": "HTMLModel",
      "state": {
       "_dom_classes": [],
       "_model_module": "@jupyter-widgets/controls",
       "_model_module_version": "1.5.0",
       "_model_name": "HTMLModel",
       "_view_count": null,
       "_view_module": "@jupyter-widgets/controls",
       "_view_module_version": "1.5.0",
       "_view_name": "HTMLView",
       "description": "",
       "description_tooltip": null,
       "layout": "IPY_MODEL_8399b9332c644920903dda5e05ec5ffc",
       "placeholder": "​",
       "style": "IPY_MODEL_74e24aad753140cd9f9a19596b1d3e2a",
       "value": " 304/304 [03:31&lt;00:00, 16.46it/s]"
      }
     },
     "33607504152642938063c42d4ff9f4e8": {
      "model_module": "@jupyter-widgets/controls",
      "model_module_version": "1.5.0",
      "model_name": "HBoxModel",
      "state": {
       "_dom_classes": [],
       "_model_module": "@jupyter-widgets/controls",
       "_model_module_version": "1.5.0",
       "_model_name": "HBoxModel",
       "_view_count": null,
       "_view_module": "@jupyter-widgets/controls",
       "_view_module_version": "1.5.0",
       "_view_name": "HBoxView",
       "box_style": "",
       "children": [
        "IPY_MODEL_1771c60f8d3f4a39beff3a094920ffc3",
        "IPY_MODEL_14caef41276843349089f1d7e1805400",
        "IPY_MODEL_235bac92a2124760b50e255ccd8c14d6"
       ],
       "layout": "IPY_MODEL_ebf34e865fb24d7fa0b141d9b770a3d8"
      }
     },
     "37684b405b5c405cac40b3b2de8f0563": {
      "model_module": "@jupyter-widgets/base",
      "model_module_version": "1.2.0",
      "model_name": "LayoutModel",
      "state": {
       "_model_module": "@jupyter-widgets/base",
       "_model_module_version": "1.2.0",
       "_model_name": "LayoutModel",
       "_view_count": null,
       "_view_module": "@jupyter-widgets/base",
       "_view_module_version": "1.2.0",
       "_view_name": "LayoutView",
       "align_content": null,
       "align_items": null,
       "align_self": null,
       "border": null,
       "bottom": null,
       "display": null,
       "flex": null,
       "flex_flow": null,
       "grid_area": null,
       "grid_auto_columns": null,
       "grid_auto_flow": null,
       "grid_auto_rows": null,
       "grid_column": null,
       "grid_gap": null,
       "grid_row": null,
       "grid_template_areas": null,
       "grid_template_columns": null,
       "grid_template_rows": null,
       "height": null,
       "justify_content": null,
       "justify_items": null,
       "left": null,
       "margin": null,
       "max_height": null,
       "max_width": null,
       "min_height": null,
       "min_width": null,
       "object_fit": null,
       "object_position": null,
       "order": null,
       "overflow": null,
       "overflow_x": null,
       "overflow_y": null,
       "padding": null,
       "right": null,
       "top": null,
       "visibility": null,
       "width": null
      }
     },
     "74e24aad753140cd9f9a19596b1d3e2a": {
      "model_module": "@jupyter-widgets/controls",
      "model_module_version": "1.5.0",
      "model_name": "DescriptionStyleModel",
      "state": {
       "_model_module": "@jupyter-widgets/controls",
       "_model_module_version": "1.5.0",
       "_model_name": "DescriptionStyleModel",
       "_view_count": null,
       "_view_module": "@jupyter-widgets/base",
       "_view_module_version": "1.2.0",
       "_view_name": "StyleView",
       "description_width": ""
      }
     },
     "8399b9332c644920903dda5e05ec5ffc": {
      "model_module": "@jupyter-widgets/base",
      "model_module_version": "1.2.0",
      "model_name": "LayoutModel",
      "state": {
       "_model_module": "@jupyter-widgets/base",
       "_model_module_version": "1.2.0",
       "_model_name": "LayoutModel",
       "_view_count": null,
       "_view_module": "@jupyter-widgets/base",
       "_view_module_version": "1.2.0",
       "_view_name": "LayoutView",
       "align_content": null,
       "align_items": null,
       "align_self": null,
       "border": null,
       "bottom": null,
       "display": null,
       "flex": null,
       "flex_flow": null,
       "grid_area": null,
       "grid_auto_columns": null,
       "grid_auto_flow": null,
       "grid_auto_rows": null,
       "grid_column": null,
       "grid_gap": null,
       "grid_row": null,
       "grid_template_areas": null,
       "grid_template_columns": null,
       "grid_template_rows": null,
       "height": null,
       "justify_content": null,
       "justify_items": null,
       "left": null,
       "margin": null,
       "max_height": null,
       "max_width": null,
       "min_height": null,
       "min_width": null,
       "object_fit": null,
       "object_position": null,
       "order": null,
       "overflow": null,
       "overflow_x": null,
       "overflow_y": null,
       "padding": null,
       "right": null,
       "top": null,
       "visibility": null,
       "width": null
      }
     },
     "ebf34e865fb24d7fa0b141d9b770a3d8": {
      "model_module": "@jupyter-widgets/base",
      "model_module_version": "1.2.0",
      "model_name": "LayoutModel",
      "state": {
       "_model_module": "@jupyter-widgets/base",
       "_model_module_version": "1.2.0",
       "_model_name": "LayoutModel",
       "_view_count": null,
       "_view_module": "@jupyter-widgets/base",
       "_view_module_version": "1.2.0",
       "_view_name": "LayoutView",
       "align_content": null,
       "align_items": null,
       "align_self": null,
       "border": null,
       "bottom": null,
       "display": null,
       "flex": null,
       "flex_flow": null,
       "grid_area": null,
       "grid_auto_columns": null,
       "grid_auto_flow": null,
       "grid_auto_rows": null,
       "grid_column": null,
       "grid_gap": null,
       "grid_row": null,
       "grid_template_areas": null,
       "grid_template_columns": null,
       "grid_template_rows": null,
       "height": null,
       "justify_content": null,
       "justify_items": null,
       "left": null,
       "margin": null,
       "max_height": null,
       "max_width": null,
       "min_height": null,
       "min_width": null,
       "object_fit": null,
       "object_position": null,
       "order": null,
       "overflow": null,
       "overflow_x": null,
       "overflow_y": null,
       "padding": null,
       "right": null,
       "top": null,
       "visibility": null,
       "width": null
      }
     },
     "f32df015e3fb43578df481e7e50b64bd": {
      "model_module": "@jupyter-widgets/controls",
      "model_module_version": "1.5.0",
      "model_name": "ProgressStyleModel",
      "state": {
       "_model_module": "@jupyter-widgets/controls",
       "_model_module_version": "1.5.0",
       "_model_name": "ProgressStyleModel",
       "_view_count": null,
       "_view_module": "@jupyter-widgets/base",
       "_view_module_version": "1.2.0",
       "_view_name": "StyleView",
       "bar_color": null,
       "description_width": ""
      }
     }
    },
    "version_major": 2,
    "version_minor": 0
   }
  }
 },
 "nbformat": 4,
 "nbformat_minor": 5
}
