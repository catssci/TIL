{
 "cells": [
  {
   "cell_type": "markdown",
   "id": "5d2d3d34",
   "metadata": {
    "_cell_guid": "b1076dfc-b9ad-4769-8c92-a6c4dae69d19",
    "_uuid": "8f2839f25d086af736a60e9eeb907d3b93b6e0e5",
    "papermill": {
     "duration": 0.011451,
     "end_time": "2022-02-28T14:26:06.516669",
     "exception": false,
     "start_time": "2022-02-28T14:26:06.505218",
     "status": "completed"
    },
    "tags": []
   },
   "source": [
    "- reference: https://www.kaggle.com/mostafaibrahim17/xgboost-3"
   ]
  },
  {
   "cell_type": "code",
   "execution_count": 1,
   "id": "e2ca0c18",
   "metadata": {
    "execution": {
     "iopub.execute_input": "2022-02-28T14:26:06.549908Z",
     "iopub.status.busy": "2022-02-28T14:26:06.549102Z",
     "iopub.status.idle": "2022-02-28T14:26:07.561446Z",
     "shell.execute_reply": "2022-02-28T14:26:07.560796Z",
     "shell.execute_reply.started": "2022-02-28T14:18:56.342226Z"
    },
    "papermill": {
     "duration": 1.033035,
     "end_time": "2022-02-28T14:26:07.561648",
     "exception": false,
     "start_time": "2022-02-28T14:26:06.528613",
     "status": "completed"
    },
    "tags": []
   },
   "outputs": [],
   "source": [
    "import os\n",
    "import gc\n",
    "from tqdm import tqdm\n",
    "\n",
    "import pandas as pd\n",
    "import numpy as np\n",
    "import random\n",
    "import math\n",
    "\n",
    "import warnings\n",
    "warnings.filterwarnings('ignore')\n",
    "\n",
    "from sklearn.model_selection import train_test_split\n",
    "import xgboost as xgb\n"
   ]
  },
  {
   "cell_type": "code",
   "execution_count": 2,
   "id": "dc5ea1d7",
   "metadata": {
    "execution": {
     "iopub.execute_input": "2022-02-28T14:26:07.593534Z",
     "iopub.status.busy": "2022-02-28T14:26:07.584466Z",
     "iopub.status.idle": "2022-02-28T14:29:47.767043Z",
     "shell.execute_reply": "2022-02-28T14:29:47.767529Z",
     "shell.execute_reply.started": "2022-02-28T14:18:57.304319Z"
    },
    "papermill": {
     "duration": 220.195703,
     "end_time": "2022-02-28T14:29:47.767700",
     "exception": false,
     "start_time": "2022-02-28T14:26:07.571997",
     "status": "completed"
    },
    "tags": []
   },
   "outputs": [
    {
     "name": "stdout",
     "output_type": "stream",
     "text": [
      "Memory usage of dataframe is 3642.99 MB\n"
     ]
    },
    {
     "name": "stderr",
     "output_type": "stream",
     "text": [
      "100%|██████████| 304/304 [03:02<00:00,  1.66it/s]"
     ]
    },
    {
     "name": "stdout",
     "output_type": "stream",
     "text": [
      "Memory usage after optimization is: 1915.96 MB\n",
      "Decreased by 47.4%\n",
      "CPU times: user 1min 21s, sys: 1min 47s, total: 3min 8s\n",
      "Wall time: 3min 40s\n"
     ]
    },
    {
     "name": "stderr",
     "output_type": "stream",
     "text": [
      "\n"
     ]
    }
   ],
   "source": [
    "%%time\n",
    "\n",
    "# from https://www.kaggle.com/valleyzw/ubiquant-lgbm-baseline\n",
    "def reduce_mem_usage(df):\n",
    "    \"\"\" iterate through all the columns of a dataframe and modify the data type\n",
    "        to reduce memory usage.        \n",
    "    \"\"\"\n",
    "    start_mem = df.memory_usage().sum() / 1024 ** 2\n",
    "    print('Memory usage of dataframe is {:.2f} MB'.format(start_mem))\n",
    "    \n",
    "    for col in tqdm(df.columns):\n",
    "        col_type = df[col].dtype\n",
    "        \n",
    "        if col_type != object:\n",
    "            c_min = df[col].min()\n",
    "            c_max = df[col].max()\n",
    "            if str(col_type)[:3] == 'int':\n",
    "                if c_min > np.iinfo(np.int8).min and c_max < np.iinfo(np.int8).max:\n",
    "                    df[col] = df[col].astype(np.int8)\n",
    "                elif c_min > np.iinfo(np.int16).min and c_max < np.iinfo(np.int16).max:\n",
    "                    df[col] = df[col].astype(np.int16)\n",
    "                elif c_min > np.iinfo(np.int32).min and c_max < np.iinfo(np.int32).max:\n",
    "                    df[col] = df[col].astype(np.int32)\n",
    "                elif c_min > np.iinfo(np.int64).min and c_max < np.iinfo(np.int64).max:\n",
    "                    df[col] = df[col].astype(np.int64)  \n",
    "            else:\n",
    "                if c_min > np.finfo(np.float16).min and c_max < np.finfo(np.float16).max:\n",
    "                    df[col] = df[col].astype(np.float16)\n",
    "                elif c_min > np.finfo(np.float32).min and c_max < np.finfo(np.float32).max:\n",
    "                    df[col] = df[col].astype(np.float32)\n",
    "                else:\n",
    "                    df[col] = df[col].astype(np.float64)\n",
    "        else:\n",
    "            df[col] = df[col].astype('category')\n",
    "\n",
    "    end_mem = df.memory_usage().sum() / 1024 ** 2\n",
    "    print('Memory usage after optimization is: {:.2f} MB'.format(end_mem))\n",
    "    print('Decreased by {:.1f}%'.format(100 * (start_mem - end_mem) / start_mem))\n",
    "    \n",
    "    return df\n",
    "\n",
    "\n",
    "train = reduce_mem_usage(pd.read_pickle('../input/ump-train-picklefile/train.pkl'))\n",
    "\n",
    "for col in ['time_id', 'investment_id']:\n",
    "    train[col] = train[col].astype(int)"
   ]
  },
  {
   "cell_type": "code",
   "execution_count": 3,
   "id": "2225669b",
   "metadata": {
    "execution": {
     "iopub.execute_input": "2022-02-28T14:29:47.993868Z",
     "iopub.status.busy": "2022-02-28T14:29:47.979240Z",
     "iopub.status.idle": "2022-02-28T14:29:49.470662Z",
     "shell.execute_reply": "2022-02-28T14:29:49.471553Z",
     "shell.execute_reply.started": "2022-02-28T14:22:45.023356Z"
    },
    "papermill": {
     "duration": 1.604017,
     "end_time": "2022-02-28T14:29:49.471793",
     "exception": false,
     "start_time": "2022-02-28T14:29:47.867776",
     "status": "completed"
    },
    "tags": []
   },
   "outputs": [
    {
     "name": "stdout",
     "output_type": "stream",
     "text": [
      "<class 'pandas.core.frame.DataFrame'>\n",
      "RangeIndex: 3141410 entries, 0 to 3141409\n",
      "Columns: 304 entries, row_id to f_299\n",
      "dtypes: category(1), float16(301), int64(2)\n",
      "memory usage: 1.9 GB\n"
     ]
    }
   ],
   "source": [
    "train.info()"
   ]
  },
  {
   "cell_type": "markdown",
   "id": "f4af879f",
   "metadata": {
    "papermill": {
     "duration": 0.099838,
     "end_time": "2022-02-28T14:29:49.673566",
     "exception": false,
     "start_time": "2022-02-28T14:29:49.573728",
     "status": "completed"
    },
    "tags": []
   },
   "source": [
    "# Train, Valid Split"
   ]
  },
  {
   "cell_type": "code",
   "execution_count": 4,
   "id": "249f15cc",
   "metadata": {
    "execution": {
     "iopub.execute_input": "2022-02-28T14:29:49.882557Z",
     "iopub.status.busy": "2022-02-28T14:29:49.881595Z",
     "iopub.status.idle": "2022-02-28T14:30:04.480793Z",
     "shell.execute_reply": "2022-02-28T14:30:04.480258Z",
     "shell.execute_reply.started": "2022-02-28T14:22:46.305496Z"
    },
    "papermill": {
     "duration": 14.707661,
     "end_time": "2022-02-28T14:30:04.480931",
     "exception": false,
     "start_time": "2022-02-28T14:29:49.773270",
     "status": "completed"
    },
    "tags": []
   },
   "outputs": [],
   "source": [
    "train.drop(['row_id', 'time_id'], axis = 1, inplace = True)\n",
    "X = train.drop(['target'], axis = 1)\n",
    "y = train['target']\n",
    "del train\n",
    "\n",
    "X_train, X_valid, y_train, y_valid = train_test_split(X, y, test_size = 0.3, random_state = 42, shuffle = False)\n",
    "\n",
    "del X\n",
    "del y"
   ]
  },
  {
   "cell_type": "code",
   "execution_count": 5,
   "id": "f1a215f0",
   "metadata": {
    "execution": {
     "iopub.execute_input": "2022-02-28T14:30:04.790137Z",
     "iopub.status.busy": "2022-02-28T14:30:04.787494Z",
     "iopub.status.idle": "2022-02-28T14:30:04.793838Z",
     "shell.execute_reply": "2022-02-28T14:30:04.794271Z",
     "shell.execute_reply.started": "2022-02-28T14:23:00.834183Z"
    },
    "papermill": {
     "duration": 0.211112,
     "end_time": "2022-02-28T14:30:04.794429",
     "exception": false,
     "start_time": "2022-02-28T14:30:04.583317",
     "status": "completed"
    },
    "tags": []
   },
   "outputs": [
    {
     "data": {
      "text/plain": [
       "42"
      ]
     },
     "execution_count": 5,
     "metadata": {},
     "output_type": "execute_result"
    }
   ],
   "source": [
    "gc.collect()"
   ]
  },
  {
   "cell_type": "markdown",
   "id": "98319478",
   "metadata": {
    "papermill": {
     "duration": 0.101218,
     "end_time": "2022-02-28T14:30:04.995185",
     "exception": false,
     "start_time": "2022-02-28T14:30:04.893967",
     "status": "completed"
    },
    "tags": []
   },
   "source": [
    "# Xgboost"
   ]
  },
  {
   "cell_type": "code",
   "execution_count": 6,
   "id": "0c40b351",
   "metadata": {
    "execution": {
     "iopub.execute_input": "2022-02-28T14:30:05.203479Z",
     "iopub.status.busy": "2022-02-28T14:30:05.202708Z",
     "iopub.status.idle": "2022-02-28T14:30:05.204873Z",
     "shell.execute_reply": "2022-02-28T14:30:05.205249Z",
     "shell.execute_reply.started": "2022-02-28T14:23:00.959637Z"
    },
    "papermill": {
     "duration": 0.108781,
     "end_time": "2022-02-28T14:30:05.205400",
     "exception": false,
     "start_time": "2022-02-28T14:30:05.096619",
     "status": "completed"
    },
    "tags": []
   },
   "outputs": [],
   "source": [
    "model = xgb.XGBRegressor(n_estimators = 1000,\n",
    "                         learning_rate = 0.03,\n",
    "                         max_depth = 12,\n",
    "                         subsample = 0.9,\n",
    "                         colsample_bytree = 0.7,\n",
    "                         missing = -999,\n",
    "                         random_state = 1111,\n",
    "                         tree_method = 'gpu_hist')"
   ]
  },
  {
   "cell_type": "code",
   "execution_count": 7,
   "id": "7162863a",
   "metadata": {
    "execution": {
     "iopub.execute_input": "2022-02-28T14:30:05.410152Z",
     "iopub.status.busy": "2022-02-28T14:30:05.408261Z",
     "iopub.status.idle": "2022-02-28T14:32:15.181549Z",
     "shell.execute_reply": "2022-02-28T14:32:15.181989Z",
     "shell.execute_reply.started": "2022-02-28T14:23:00.968216Z"
    },
    "papermill": {
     "duration": 129.876062,
     "end_time": "2022-02-28T14:32:15.182154",
     "exception": false,
     "start_time": "2022-02-28T14:30:05.306092",
     "status": "completed"
    },
    "tags": []
   },
   "outputs": [
    {
     "name": "stdout",
     "output_type": "stream",
     "text": [
      "[0]\tvalidation_0-rmse:1.03888\n",
      "[1]\tvalidation_0-rmse:1.03165\n",
      "[2]\tvalidation_0-rmse:1.02480\n",
      "[3]\tvalidation_0-rmse:1.01824\n",
      "[4]\tvalidation_0-rmse:1.01198\n",
      "[5]\tvalidation_0-rmse:1.00612\n",
      "[6]\tvalidation_0-rmse:1.00056\n",
      "[7]\tvalidation_0-rmse:0.99529\n",
      "[8]\tvalidation_0-rmse:0.99040\n",
      "[9]\tvalidation_0-rmse:0.98578\n",
      "[10]\tvalidation_0-rmse:0.98132\n",
      "[11]\tvalidation_0-rmse:0.97714\n",
      "[12]\tvalidation_0-rmse:0.97315\n",
      "[13]\tvalidation_0-rmse:0.96949\n",
      "[14]\tvalidation_0-rmse:0.96598\n",
      "[15]\tvalidation_0-rmse:0.96265\n",
      "[16]\tvalidation_0-rmse:0.95954\n",
      "[17]\tvalidation_0-rmse:0.95659\n",
      "[18]\tvalidation_0-rmse:0.95380\n",
      "[19]\tvalidation_0-rmse:0.95115\n",
      "[20]\tvalidation_0-rmse:0.94866\n",
      "[21]\tvalidation_0-rmse:0.94634\n",
      "[22]\tvalidation_0-rmse:0.94415\n",
      "[23]\tvalidation_0-rmse:0.94206\n",
      "[24]\tvalidation_0-rmse:0.94009\n",
      "[25]\tvalidation_0-rmse:0.93824\n",
      "[26]\tvalidation_0-rmse:0.93647\n",
      "[27]\tvalidation_0-rmse:0.93484\n",
      "[28]\tvalidation_0-rmse:0.93332\n",
      "[29]\tvalidation_0-rmse:0.93187\n",
      "[30]\tvalidation_0-rmse:0.93052\n",
      "[31]\tvalidation_0-rmse:0.92921\n",
      "[32]\tvalidation_0-rmse:0.92798\n",
      "[33]\tvalidation_0-rmse:0.92684\n",
      "[34]\tvalidation_0-rmse:0.92575\n",
      "[35]\tvalidation_0-rmse:0.92472\n",
      "[36]\tvalidation_0-rmse:0.92376\n",
      "[37]\tvalidation_0-rmse:0.92285\n",
      "[38]\tvalidation_0-rmse:0.92200\n",
      "[39]\tvalidation_0-rmse:0.92122\n",
      "[40]\tvalidation_0-rmse:0.92047\n",
      "[41]\tvalidation_0-rmse:0.91975\n",
      "[42]\tvalidation_0-rmse:0.91906\n",
      "[43]\tvalidation_0-rmse:0.91843\n",
      "[44]\tvalidation_0-rmse:0.91783\n",
      "[45]\tvalidation_0-rmse:0.91728\n",
      "[46]\tvalidation_0-rmse:0.91677\n",
      "[47]\tvalidation_0-rmse:0.91627\n",
      "[48]\tvalidation_0-rmse:0.91579\n",
      "[49]\tvalidation_0-rmse:0.91534\n",
      "[50]\tvalidation_0-rmse:0.91492\n",
      "[51]\tvalidation_0-rmse:0.91455\n",
      "[52]\tvalidation_0-rmse:0.91418\n",
      "[53]\tvalidation_0-rmse:0.91381\n",
      "[54]\tvalidation_0-rmse:0.91349\n",
      "[55]\tvalidation_0-rmse:0.91317\n",
      "[56]\tvalidation_0-rmse:0.91287\n",
      "[57]\tvalidation_0-rmse:0.91260\n",
      "[58]\tvalidation_0-rmse:0.91235\n",
      "[59]\tvalidation_0-rmse:0.91211\n",
      "[60]\tvalidation_0-rmse:0.91188\n",
      "[61]\tvalidation_0-rmse:0.91164\n",
      "[62]\tvalidation_0-rmse:0.91143\n",
      "[63]\tvalidation_0-rmse:0.91124\n",
      "[64]\tvalidation_0-rmse:0.91106\n",
      "[65]\tvalidation_0-rmse:0.91089\n",
      "[66]\tvalidation_0-rmse:0.91075\n",
      "[67]\tvalidation_0-rmse:0.91063\n",
      "[68]\tvalidation_0-rmse:0.91049\n",
      "[69]\tvalidation_0-rmse:0.91036\n",
      "[70]\tvalidation_0-rmse:0.91024\n",
      "[71]\tvalidation_0-rmse:0.91010\n",
      "[72]\tvalidation_0-rmse:0.90999\n",
      "[73]\tvalidation_0-rmse:0.90988\n",
      "[74]\tvalidation_0-rmse:0.90977\n",
      "[75]\tvalidation_0-rmse:0.90970\n",
      "[76]\tvalidation_0-rmse:0.90961\n",
      "[77]\tvalidation_0-rmse:0.90951\n",
      "[78]\tvalidation_0-rmse:0.90946\n",
      "[79]\tvalidation_0-rmse:0.90941\n",
      "[80]\tvalidation_0-rmse:0.90933\n",
      "[81]\tvalidation_0-rmse:0.90926\n",
      "[82]\tvalidation_0-rmse:0.90921\n",
      "[83]\tvalidation_0-rmse:0.90916\n",
      "[84]\tvalidation_0-rmse:0.90911\n",
      "[85]\tvalidation_0-rmse:0.90907\n",
      "[86]\tvalidation_0-rmse:0.90903\n",
      "[87]\tvalidation_0-rmse:0.90898\n",
      "[88]\tvalidation_0-rmse:0.90894\n",
      "[89]\tvalidation_0-rmse:0.90890\n",
      "[90]\tvalidation_0-rmse:0.90888\n",
      "[91]\tvalidation_0-rmse:0.90884\n",
      "[92]\tvalidation_0-rmse:0.90882\n",
      "[93]\tvalidation_0-rmse:0.90877\n",
      "[94]\tvalidation_0-rmse:0.90875\n",
      "[95]\tvalidation_0-rmse:0.90872\n",
      "[96]\tvalidation_0-rmse:0.90870\n",
      "[97]\tvalidation_0-rmse:0.90868\n",
      "[98]\tvalidation_0-rmse:0.90865\n",
      "[99]\tvalidation_0-rmse:0.90863\n",
      "[100]\tvalidation_0-rmse:0.90861\n",
      "[101]\tvalidation_0-rmse:0.90859\n",
      "[102]\tvalidation_0-rmse:0.90858\n",
      "[103]\tvalidation_0-rmse:0.90855\n",
      "[104]\tvalidation_0-rmse:0.90853\n",
      "[105]\tvalidation_0-rmse:0.90851\n",
      "[106]\tvalidation_0-rmse:0.90850\n",
      "[107]\tvalidation_0-rmse:0.90849\n",
      "[108]\tvalidation_0-rmse:0.90849\n",
      "[109]\tvalidation_0-rmse:0.90846\n",
      "[110]\tvalidation_0-rmse:0.90845\n",
      "[111]\tvalidation_0-rmse:0.90845\n",
      "[112]\tvalidation_0-rmse:0.90843\n",
      "[113]\tvalidation_0-rmse:0.90840\n",
      "[114]\tvalidation_0-rmse:0.90840\n",
      "[115]\tvalidation_0-rmse:0.90839\n",
      "[116]\tvalidation_0-rmse:0.90838\n",
      "[117]\tvalidation_0-rmse:0.90838\n",
      "[118]\tvalidation_0-rmse:0.90838\n",
      "[119]\tvalidation_0-rmse:0.90837\n",
      "[120]\tvalidation_0-rmse:0.90836\n",
      "[121]\tvalidation_0-rmse:0.90834\n",
      "[122]\tvalidation_0-rmse:0.90834\n",
      "[123]\tvalidation_0-rmse:0.90833\n",
      "[124]\tvalidation_0-rmse:0.90833\n",
      "[125]\tvalidation_0-rmse:0.90833\n",
      "[126]\tvalidation_0-rmse:0.90833\n",
      "[127]\tvalidation_0-rmse:0.90833\n",
      "[128]\tvalidation_0-rmse:0.90832\n",
      "[129]\tvalidation_0-rmse:0.90832\n",
      "[130]\tvalidation_0-rmse:0.90831\n",
      "[131]\tvalidation_0-rmse:0.90830\n",
      "[132]\tvalidation_0-rmse:0.90830\n",
      "[133]\tvalidation_0-rmse:0.90829\n",
      "[134]\tvalidation_0-rmse:0.90829\n",
      "[135]\tvalidation_0-rmse:0.90829\n",
      "[136]\tvalidation_0-rmse:0.90829\n",
      "[137]\tvalidation_0-rmse:0.90831\n",
      "[138]\tvalidation_0-rmse:0.90830\n",
      "[139]\tvalidation_0-rmse:0.90829\n",
      "[140]\tvalidation_0-rmse:0.90830\n",
      "[141]\tvalidation_0-rmse:0.90831\n",
      "[142]\tvalidation_0-rmse:0.90830\n",
      "[143]\tvalidation_0-rmse:0.90830\n"
     ]
    },
    {
     "data": {
      "text/plain": [
       "XGBRegressor(base_score=0.5, booster='gbtree', colsample_bylevel=1,\n",
       "             colsample_bynode=1, colsample_bytree=0.7, enable_categorical=False,\n",
       "             gamma=0, gpu_id=0, importance_type=None,\n",
       "             interaction_constraints='', learning_rate=0.03, max_delta_step=0,\n",
       "             max_depth=12, min_child_weight=1, missing=-999,\n",
       "             monotone_constraints='()', n_estimators=1000, n_jobs=2,\n",
       "             num_parallel_tree=1, predictor='auto', random_state=1111,\n",
       "             reg_alpha=0, reg_lambda=1, scale_pos_weight=1, subsample=0.9,\n",
       "             tree_method='gpu_hist', validate_parameters=1, verbosity=None)"
      ]
     },
     "execution_count": 7,
     "metadata": {},
     "output_type": "execute_result"
    }
   ],
   "source": [
    "model.fit(X_train, y_train, early_stopping_rounds = 10,\n",
    "          eval_set = [(X_valid, y_valid)], verbose = 1)"
   ]
  },
  {
   "cell_type": "markdown",
   "id": "dcf00e24",
   "metadata": {
    "papermill": {
     "duration": 0.143369,
     "end_time": "2022-02-28T14:32:15.470920",
     "exception": false,
     "start_time": "2022-02-28T14:32:15.327551",
     "status": "completed"
    },
    "tags": []
   },
   "source": [
    "# Submission"
   ]
  },
  {
   "cell_type": "code",
   "execution_count": 8,
   "id": "403a2663",
   "metadata": {
    "execution": {
     "iopub.execute_input": "2022-02-28T14:32:15.762980Z",
     "iopub.status.busy": "2022-02-28T14:32:15.762437Z",
     "iopub.status.idle": "2022-02-28T14:32:15.865793Z",
     "shell.execute_reply": "2022-02-28T14:32:15.866605Z",
     "shell.execute_reply.started": "2022-02-28T14:25:10.473489Z"
    },
    "papermill": {
     "duration": 0.25293,
     "end_time": "2022-02-28T14:32:15.866775",
     "exception": false,
     "start_time": "2022-02-28T14:32:15.613845",
     "status": "completed"
    },
    "tags": []
   },
   "outputs": [
    {
     "name": "stdout",
     "output_type": "stream",
     "text": [
      "This version of the API is not optimized and should not be used to estimate the runtime of your code on the hidden test set.\n"
     ]
    }
   ],
   "source": [
    "import ubiquant\n",
    "env = ubiquant.make_env()  \n",
    "iter_test = env.iter_test()\n",
    "for (test_df, sample_prediction_df) in iter_test:\n",
    "    test_df.drop(['row_id'], axis=1, inplace=True)\n",
    "    pred = model.predict(test_df)\n",
    "    sample_prediction_df['target'] = pred\n",
    "    env.predict(sample_prediction_df) "
   ]
  },
  {
   "cell_type": "code",
   "execution_count": null,
   "id": "35fff6de",
   "metadata": {
    "papermill": {
     "duration": 0.159892,
     "end_time": "2022-02-28T14:32:16.187942",
     "exception": false,
     "start_time": "2022-02-28T14:32:16.028050",
     "status": "completed"
    },
    "tags": []
   },
   "outputs": [],
   "source": []
  }
 ],
 "metadata": {
  "kernelspec": {
   "display_name": "Python 3",
   "language": "python",
   "name": "python3"
  },
  "language_info": {
   "codemirror_mode": {
    "name": "ipython",
    "version": 3
   },
   "file_extension": ".py",
   "mimetype": "text/x-python",
   "name": "python",
   "nbconvert_exporter": "python",
   "pygments_lexer": "ipython3",
   "version": "3.7.12"
  },
  "papermill": {
   "default_parameters": {},
   "duration": 379.184277,
   "end_time": "2022-02-28T14:32:17.649665",
   "environment_variables": {},
   "exception": null,
   "input_path": "__notebook__.ipynb",
   "output_path": "__notebook__.ipynb",
   "parameters": {},
   "start_time": "2022-02-28T14:25:58.465388",
   "version": "2.3.3"
  }
 },
 "nbformat": 4,
 "nbformat_minor": 5
}
