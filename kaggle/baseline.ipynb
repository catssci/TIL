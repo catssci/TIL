{
 "cells": [
  {
   "cell_type": "markdown",
   "id": "234d4db9",
   "metadata": {
    "papermill": {
     "duration": 0.031126,
     "end_time": "2022-02-16T14:21:36.200860",
     "exception": false,
     "start_time": "2022-02-16T14:21:36.169734",
     "status": "completed"
    },
    "tags": []
   },
   "source": [
    "Reference: https://www.kaggle.com/utcarshagrawal/ubiquant-exploration-baseline-w-shap/notebook"
   ]
  },
  {
   "cell_type": "code",
   "execution_count": 1,
   "id": "76b08788",
   "metadata": {
    "execution": {
     "iopub.execute_input": "2022-02-16T14:21:36.248084Z",
     "iopub.status.busy": "2022-02-16T14:21:36.246895Z",
     "iopub.status.idle": "2022-02-16T14:21:48.714757Z",
     "shell.execute_reply": "2022-02-16T14:21:48.713807Z",
     "shell.execute_reply.started": "2022-02-16T13:45:39.830302Z"
    },
    "papermill": {
     "duration": 12.491754,
     "end_time": "2022-02-16T14:21:48.714950",
     "exception": false,
     "start_time": "2022-02-16T14:21:36.223196",
     "status": "completed"
    },
    "tags": []
   },
   "outputs": [
    {
     "name": "stdout",
     "output_type": "stream",
     "text": [
      "\u001b[33mWARNING: Running pip as the 'root' user can result in broken permissions and conflicting behaviour with the system package manager. It is recommended to use a virtual environment instead: https://pip.pypa.io/warnings/venv\u001b[0m\r\n"
     ]
    }
   ],
   "source": [
    "# matplotlib cyberpunk style\n",
    "\n",
    "!pip -q --disable-pip-version-check install mplcyberpunk"
   ]
  },
  {
   "cell_type": "markdown",
   "id": "3b8b6098",
   "metadata": {
    "papermill": {
     "duration": 0.031485,
     "end_time": "2022-02-16T14:21:48.777848",
     "exception": false,
     "start_time": "2022-02-16T14:21:48.746363",
     "status": "completed"
    },
    "tags": []
   },
   "source": [
    "# Importing Libraries"
   ]
  },
  {
   "cell_type": "code",
   "execution_count": 2,
   "id": "96e8b91a",
   "metadata": {
    "execution": {
     "iopub.execute_input": "2022-02-16T14:21:48.848059Z",
     "iopub.status.busy": "2022-02-16T14:21:48.847256Z",
     "iopub.status.idle": "2022-02-16T14:21:50.414569Z",
     "shell.execute_reply": "2022-02-16T14:21:50.413914Z",
     "shell.execute_reply.started": "2022-02-16T13:45:50.780840Z"
    },
    "papermill": {
     "duration": 1.605942,
     "end_time": "2022-02-16T14:21:50.414713",
     "exception": false,
     "start_time": "2022-02-16T14:21:48.808771",
     "status": "completed"
    },
    "tags": []
   },
   "outputs": [],
   "source": [
    "import os\n",
    "import gc\n",
    "import numpy as np\n",
    "import pandas as pd\n",
    "\n",
    "# 그래프 그리기\n",
    "import matplotlib.pyplot as plt\n",
    "%matplotlib inline\n",
    "import seaborn as sns\n",
    "import mplcyberpunk\n",
    "plt.style.use('cyberpunk')\n",
    "\n",
    "import warnings\n",
    "warnings.filterwarnings('ignore')"
   ]
  },
  {
   "cell_type": "markdown",
   "id": "8d49e8f7",
   "metadata": {
    "papermill": {
     "duration": 0.030211,
     "end_time": "2022-02-16T14:21:50.475402",
     "exception": false,
     "start_time": "2022-02-16T14:21:50.445191",
     "status": "completed"
    },
    "tags": []
   },
   "source": [
    "# Reading the data"
   ]
  },
  {
   "cell_type": "code",
   "execution_count": 3,
   "id": "4292b781",
   "metadata": {
    "execution": {
     "iopub.execute_input": "2022-02-16T14:21:50.541551Z",
     "iopub.status.busy": "2022-02-16T14:21:50.538916Z",
     "iopub.status.idle": "2022-02-16T14:22:30.086128Z",
     "shell.execute_reply": "2022-02-16T14:22:30.086641Z",
     "shell.execute_reply.started": "2022-02-16T13:45:52.077717Z"
    },
    "papermill": {
     "duration": 39.581016,
     "end_time": "2022-02-16T14:22:30.086808",
     "exception": false,
     "start_time": "2022-02-16T14:21:50.505792",
     "status": "completed"
    },
    "tags": []
   },
   "outputs": [
    {
     "name": "stdout",
     "output_type": "stream",
     "text": [
      "CPU times: user 6.32 s, sys: 8.41 s, total: 14.7 s\n",
      "Wall time: 39.5 s\n"
     ]
    }
   ],
   "source": [
    "%%time\n",
    "df = pd.read_parquet('../input/ubiquant-parquet/train_low_mem.parquet')"
   ]
  },
  {
   "cell_type": "markdown",
   "id": "d58dd7a5",
   "metadata": {
    "papermill": {
     "duration": 0.030877,
     "end_time": "2022-02-16T14:22:30.148956",
     "exception": false,
     "start_time": "2022-02-16T14:22:30.118079",
     "status": "completed"
    },
    "tags": []
   },
   "source": [
    "### parquet vs csv\n",
    "- parquet이란?\n",
    ">하둡에서 컬럼방식으로 저장한 포맷\n",
    "- 장점\n",
    "> 저장 크기가 작다.  \n",
    "> 저장, 로드 시간 작다.  \n",
    "> 칼럼별 dtype을 다시 지정해줄 필요 X  \n",
    "- parquet >> csv\n",
    "- Q.그럼 pickle과는??"
   ]
  },
  {
   "cell_type": "code",
   "execution_count": 4,
   "id": "fddc8b70",
   "metadata": {
    "execution": {
     "iopub.execute_input": "2022-02-16T14:22:30.217142Z",
     "iopub.status.busy": "2022-02-16T14:22:30.216444Z",
     "iopub.status.idle": "2022-02-16T14:22:30.248909Z",
     "shell.execute_reply": "2022-02-16T14:22:30.249287Z",
     "shell.execute_reply.started": "2022-02-16T13:46:32.492122Z"
    },
    "papermill": {
     "duration": 0.067259,
     "end_time": "2022-02-16T14:22:30.249417",
     "exception": false,
     "start_time": "2022-02-16T14:22:30.182158",
     "status": "completed"
    },
    "tags": []
   },
   "outputs": [
    {
     "data": {
      "text/html": [
       "<div>\n",
       "<style scoped>\n",
       "    .dataframe tbody tr th:only-of-type {\n",
       "        vertical-align: middle;\n",
       "    }\n",
       "\n",
       "    .dataframe tbody tr th {\n",
       "        vertical-align: top;\n",
       "    }\n",
       "\n",
       "    .dataframe thead th {\n",
       "        text-align: right;\n",
       "    }\n",
       "</style>\n",
       "<table border=\"1\" class=\"dataframe\">\n",
       "  <thead>\n",
       "    <tr style=\"text-align: right;\">\n",
       "      <th></th>\n",
       "      <th>row_id</th>\n",
       "      <th>time_id</th>\n",
       "      <th>investment_id</th>\n",
       "      <th>target</th>\n",
       "      <th>f_0</th>\n",
       "      <th>f_1</th>\n",
       "      <th>f_2</th>\n",
       "      <th>f_3</th>\n",
       "      <th>f_4</th>\n",
       "      <th>f_5</th>\n",
       "      <th>...</th>\n",
       "      <th>f_290</th>\n",
       "      <th>f_291</th>\n",
       "      <th>f_292</th>\n",
       "      <th>f_293</th>\n",
       "      <th>f_294</th>\n",
       "      <th>f_295</th>\n",
       "      <th>f_296</th>\n",
       "      <th>f_297</th>\n",
       "      <th>f_298</th>\n",
       "      <th>f_299</th>\n",
       "    </tr>\n",
       "  </thead>\n",
       "  <tbody>\n",
       "    <tr>\n",
       "      <th>0</th>\n",
       "      <td>0_1</td>\n",
       "      <td>0</td>\n",
       "      <td>1</td>\n",
       "      <td>-0.300875</td>\n",
       "      <td>0.932573</td>\n",
       "      <td>0.113691</td>\n",
       "      <td>-0.402206</td>\n",
       "      <td>0.378386</td>\n",
       "      <td>-0.203938</td>\n",
       "      <td>-0.413469</td>\n",
       "      <td>...</td>\n",
       "      <td>0.366028</td>\n",
       "      <td>-1.095620</td>\n",
       "      <td>0.200075</td>\n",
       "      <td>0.819155</td>\n",
       "      <td>0.941183</td>\n",
       "      <td>-0.086764</td>\n",
       "      <td>-1.087009</td>\n",
       "      <td>-1.044826</td>\n",
       "      <td>-0.287605</td>\n",
       "      <td>0.321566</td>\n",
       "    </tr>\n",
       "    <tr>\n",
       "      <th>1</th>\n",
       "      <td>0_2</td>\n",
       "      <td>0</td>\n",
       "      <td>2</td>\n",
       "      <td>-0.231040</td>\n",
       "      <td>0.810802</td>\n",
       "      <td>-0.514115</td>\n",
       "      <td>0.742368</td>\n",
       "      <td>-0.616673</td>\n",
       "      <td>-0.194255</td>\n",
       "      <td>1.771210</td>\n",
       "      <td>...</td>\n",
       "      <td>-0.154193</td>\n",
       "      <td>0.912726</td>\n",
       "      <td>-0.734579</td>\n",
       "      <td>0.819155</td>\n",
       "      <td>0.941183</td>\n",
       "      <td>-0.387617</td>\n",
       "      <td>-1.087009</td>\n",
       "      <td>-0.929529</td>\n",
       "      <td>-0.974060</td>\n",
       "      <td>-0.343624</td>\n",
       "    </tr>\n",
       "    <tr>\n",
       "      <th>2</th>\n",
       "      <td>0_6</td>\n",
       "      <td>0</td>\n",
       "      <td>6</td>\n",
       "      <td>0.568807</td>\n",
       "      <td>0.393974</td>\n",
       "      <td>0.615937</td>\n",
       "      <td>0.567806</td>\n",
       "      <td>-0.607963</td>\n",
       "      <td>0.068883</td>\n",
       "      <td>-1.083155</td>\n",
       "      <td>...</td>\n",
       "      <td>-0.138020</td>\n",
       "      <td>0.912726</td>\n",
       "      <td>-0.551904</td>\n",
       "      <td>-1.220772</td>\n",
       "      <td>-1.060166</td>\n",
       "      <td>-0.219097</td>\n",
       "      <td>-1.087009</td>\n",
       "      <td>-0.612428</td>\n",
       "      <td>-0.113944</td>\n",
       "      <td>0.243608</td>\n",
       "    </tr>\n",
       "    <tr>\n",
       "      <th>3</th>\n",
       "      <td>0_7</td>\n",
       "      <td>0</td>\n",
       "      <td>7</td>\n",
       "      <td>-1.064780</td>\n",
       "      <td>-2.343535</td>\n",
       "      <td>-0.011870</td>\n",
       "      <td>1.874606</td>\n",
       "      <td>-0.606346</td>\n",
       "      <td>-0.586827</td>\n",
       "      <td>-0.815737</td>\n",
       "      <td>...</td>\n",
       "      <td>0.382201</td>\n",
       "      <td>0.912726</td>\n",
       "      <td>-0.266359</td>\n",
       "      <td>-1.220772</td>\n",
       "      <td>0.941183</td>\n",
       "      <td>-0.609113</td>\n",
       "      <td>0.104928</td>\n",
       "      <td>-0.783423</td>\n",
       "      <td>1.151730</td>\n",
       "      <td>-0.773309</td>\n",
       "    </tr>\n",
       "    <tr>\n",
       "      <th>4</th>\n",
       "      <td>0_8</td>\n",
       "      <td>0</td>\n",
       "      <td>8</td>\n",
       "      <td>-0.531940</td>\n",
       "      <td>0.842057</td>\n",
       "      <td>-0.262993</td>\n",
       "      <td>2.330030</td>\n",
       "      <td>-0.583422</td>\n",
       "      <td>-0.618392</td>\n",
       "      <td>-0.742814</td>\n",
       "      <td>...</td>\n",
       "      <td>-0.170365</td>\n",
       "      <td>0.912726</td>\n",
       "      <td>-0.741355</td>\n",
       "      <td>-1.220772</td>\n",
       "      <td>0.941183</td>\n",
       "      <td>-0.588445</td>\n",
       "      <td>0.104928</td>\n",
       "      <td>0.753279</td>\n",
       "      <td>1.345611</td>\n",
       "      <td>-0.737624</td>\n",
       "    </tr>\n",
       "  </tbody>\n",
       "</table>\n",
       "<p>5 rows × 304 columns</p>\n",
       "</div>"
      ],
      "text/plain": [
       "  row_id  time_id  investment_id    target       f_0       f_1       f_2  \\\n",
       "0    0_1        0              1 -0.300875  0.932573  0.113691 -0.402206   \n",
       "1    0_2        0              2 -0.231040  0.810802 -0.514115  0.742368   \n",
       "2    0_6        0              6  0.568807  0.393974  0.615937  0.567806   \n",
       "3    0_7        0              7 -1.064780 -2.343535 -0.011870  1.874606   \n",
       "4    0_8        0              8 -0.531940  0.842057 -0.262993  2.330030   \n",
       "\n",
       "        f_3       f_4       f_5  ...     f_290     f_291     f_292     f_293  \\\n",
       "0  0.378386 -0.203938 -0.413469  ...  0.366028 -1.095620  0.200075  0.819155   \n",
       "1 -0.616673 -0.194255  1.771210  ... -0.154193  0.912726 -0.734579  0.819155   \n",
       "2 -0.607963  0.068883 -1.083155  ... -0.138020  0.912726 -0.551904 -1.220772   \n",
       "3 -0.606346 -0.586827 -0.815737  ...  0.382201  0.912726 -0.266359 -1.220772   \n",
       "4 -0.583422 -0.618392 -0.742814  ... -0.170365  0.912726 -0.741355 -1.220772   \n",
       "\n",
       "      f_294     f_295     f_296     f_297     f_298     f_299  \n",
       "0  0.941183 -0.086764 -1.087009 -1.044826 -0.287605  0.321566  \n",
       "1  0.941183 -0.387617 -1.087009 -0.929529 -0.974060 -0.343624  \n",
       "2 -1.060166 -0.219097 -1.087009 -0.612428 -0.113944  0.243608  \n",
       "3  0.941183 -0.609113  0.104928 -0.783423  1.151730 -0.773309  \n",
       "4  0.941183 -0.588445  0.104928  0.753279  1.345611 -0.737624  \n",
       "\n",
       "[5 rows x 304 columns]"
      ]
     },
     "execution_count": 4,
     "metadata": {},
     "output_type": "execute_result"
    }
   ],
   "source": [
    "df.head()"
   ]
  },
  {
   "cell_type": "code",
   "execution_count": 5,
   "id": "9f9734a3",
   "metadata": {
    "execution": {
     "iopub.execute_input": "2022-02-16T14:22:30.293798Z",
     "iopub.status.busy": "2022-02-16T14:22:30.293161Z",
     "iopub.status.idle": "2022-02-16T14:22:30.327676Z",
     "shell.execute_reply": "2022-02-16T14:22:30.328141Z",
     "shell.execute_reply.started": "2022-02-16T13:46:32.530030Z"
    },
    "papermill": {
     "duration": 0.058259,
     "end_time": "2022-02-16T14:22:30.328305",
     "exception": false,
     "start_time": "2022-02-16T14:22:30.270046",
     "status": "completed"
    },
    "tags": []
   },
   "outputs": [
    {
     "name": "stdout",
     "output_type": "stream",
     "text": [
      "<class 'pandas.core.frame.DataFrame'>\n",
      "RangeIndex: 3141410 entries, 0 to 3141409\n",
      "Columns: 304 entries, row_id to f_299\n",
      "dtypes: float32(301), object(1), uint16(2)\n",
      "memory usage: 3.6+ GB\n"
     ]
    }
   ],
   "source": [
    "df.info()"
   ]
  },
  {
   "cell_type": "markdown",
   "id": "0a533cc2",
   "metadata": {
    "papermill": {
     "duration": 0.030091,
     "end_time": "2022-02-16T14:22:30.379209",
     "exception": false,
     "start_time": "2022-02-16T14:22:30.349118",
     "status": "completed"
    },
    "tags": []
   },
   "source": [
    "# EDA"
   ]
  },
  {
   "cell_type": "markdown",
   "id": "cce66ec0",
   "metadata": {
    "papermill": {
     "duration": 0.031394,
     "end_time": "2022-02-16T14:22:30.442416",
     "exception": false,
     "start_time": "2022-02-16T14:22:30.411022",
     "status": "completed"
    },
    "tags": []
   },
   "source": [
    "### Investment_id Distribution\n",
    "> First of all we will look at the count of samples in each investment id"
   ]
  },
  {
   "cell_type": "code",
   "execution_count": 6,
   "id": "cb5a4634",
   "metadata": {
    "execution": {
     "iopub.execute_input": "2022-02-16T14:22:30.509625Z",
     "iopub.status.busy": "2022-02-16T14:22:30.508975Z",
     "iopub.status.idle": "2022-02-16T14:22:31.288366Z",
     "shell.execute_reply": "2022-02-16T14:22:31.288901Z",
     "shell.execute_reply.started": "2022-02-16T13:46:32.562443Z"
    },
    "papermill": {
     "duration": 0.814397,
     "end_time": "2022-02-16T14:22:31.289100",
     "exception": false,
     "start_time": "2022-02-16T14:22:30.474703",
     "status": "completed"
    },
    "tags": []
   },
   "outputs": [
    {
     "name": "stdout",
     "output_type": "stream",
     "text": [
      "Number of unique investments - 3579\n",
      "Investment id with least number of sample - 1415, Count - 2\n",
      "Investment id with maximum number of sample - 2140, Count - 1211\n"
     ]
    },
    {
     "data": {
      "image/png": "[encoded data removed]",
      "text/plain": [
       "<Figure size 1296x504 with 1 Axes>"
      ]
     },
     "metadata": {},
     "output_type": "display_data"
    }
   ],
   "source": [
    "# 단순 investment 분포 정도를 그래프로 본다.\n",
    "\n",
    "plt.figure(figsize = (18, 7))\n",
    "\n",
    "# investment_id count df\n",
    "df_temp = df.groupby('investment_id')['row_id'].count().reset_index()\n",
    "sns.histplot(x = df_temp['investment_id'], bins = 50)\n",
    "plt.xlabel('Investment_id')\n",
    "plt.ylabel('Count')\n",
    "plt.title('Investment_id Distribution')\n",
    "\n",
    "least_id = int(df_temp[df_temp['row_id'] == df_temp['row_id'].describe()['min']]['investment_id'])\n",
    "max_id = int(df_temp[df_temp['row_id'] == df_temp['row_id'].describe()['max']]['investment_id'])\n",
    "\n",
    "print(f\"Number of unique investments - {len(df_temp)}\")\n",
    "print(f\"Investment id with least number of sample - {least_id}, Count - {int(df_temp['row_id'].describe()['min'])}\")\n",
    "print(f\"Investment id with maximum number of sample - {max_id}, Count - {int(df_temp['row_id'].describe()['max'])}\")\n",
    "\n",
    "plt.show()"
   ]
  },
  {
   "cell_type": "code",
   "execution_count": 7,
   "id": "6e099f28",
   "metadata": {
    "execution": {
     "iopub.execute_input": "2022-02-16T14:22:31.343648Z",
     "iopub.status.busy": "2022-02-16T14:22:31.343160Z",
     "iopub.status.idle": "2022-02-16T14:22:31.346357Z",
     "shell.execute_reply": "2022-02-16T14:22:31.346747Z",
     "shell.execute_reply.started": "2022-02-16T13:46:33.515163Z"
    },
    "papermill": {
     "duration": 0.033628,
     "end_time": "2022-02-16T14:22:31.346933",
     "exception": false,
     "start_time": "2022-02-16T14:22:31.313305",
     "status": "completed"
    },
    "tags": []
   },
   "outputs": [
    {
     "data": {
      "text/html": [
       "<div>\n",
       "<style scoped>\n",
       "    .dataframe tbody tr th:only-of-type {\n",
       "        vertical-align: middle;\n",
       "    }\n",
       "\n",
       "    .dataframe tbody tr th {\n",
       "        vertical-align: top;\n",
       "    }\n",
       "\n",
       "    .dataframe thead th {\n",
       "        text-align: right;\n",
       "    }\n",
       "</style>\n",
       "<table border=\"1\" class=\"dataframe\">\n",
       "  <thead>\n",
       "    <tr style=\"text-align: right;\">\n",
       "      <th></th>\n",
       "      <th>investment_id</th>\n",
       "      <th>row_id</th>\n",
       "    </tr>\n",
       "  </thead>\n",
       "  <tbody>\n",
       "    <tr>\n",
       "      <th>0</th>\n",
       "      <td>0</td>\n",
       "      <td>461</td>\n",
       "    </tr>\n",
       "    <tr>\n",
       "      <th>1</th>\n",
       "      <td>1</td>\n",
       "      <td>1108</td>\n",
       "    </tr>\n",
       "    <tr>\n",
       "      <th>2</th>\n",
       "      <td>2</td>\n",
       "      <td>1003</td>\n",
       "    </tr>\n",
       "    <tr>\n",
       "      <th>3</th>\n",
       "      <td>3</td>\n",
       "      <td>1076</td>\n",
       "    </tr>\n",
       "    <tr>\n",
       "      <th>4</th>\n",
       "      <td>4</td>\n",
       "      <td>316</td>\n",
       "    </tr>\n",
       "  </tbody>\n",
       "</table>\n",
       "</div>"
      ],
      "text/plain": [
       "   investment_id  row_id\n",
       "0              0     461\n",
       "1              1    1108\n",
       "2              2    1003\n",
       "3              3    1076\n",
       "4              4     316"
      ]
     },
     "execution_count": 7,
     "metadata": {},
     "output_type": "execute_result"
    }
   ],
   "source": [
    "df_temp.head()"
   ]
  },
  {
   "cell_type": "code",
   "execution_count": 8,
   "id": "3359db63",
   "metadata": {
    "execution": {
     "iopub.execute_input": "2022-02-16T14:22:31.402159Z",
     "iopub.status.busy": "2022-02-16T14:22:31.401470Z",
     "iopub.status.idle": "2022-02-16T14:22:32.272369Z",
     "shell.execute_reply": "2022-02-16T14:22:32.272886Z",
     "shell.execute_reply.started": "2022-02-16T13:46:33.529562Z"
    },
    "papermill": {
     "duration": 0.899373,
     "end_time": "2022-02-16T14:22:32.273053",
     "exception": false,
     "start_time": "2022-02-16T14:22:31.373680",
     "status": "completed"
    },
    "tags": []
   },
   "outputs": [
    {
     "data": {
      "image/png": "[encoded data removed]",
      "text/plain": [
       "<Figure size 1296x504 with 1 Axes>"
      ]
     },
     "metadata": {},
     "output_type": "display_data"
    }
   ],
   "source": [
    "# investment id의 count 분포를 histogram으로 표현\n",
    "# 개별 count는 df_temp로 기록함\n",
    "# histogram으로 개별 count 경향 보다는 뭉쳐서 나타낸다.\n",
    "\n",
    "plt.figure(figsize = (18, 7))\n",
    "sns.histplot(x = df['investment_id'])\n",
    "plt.xlabel('Investment_id')\n",
    "plt.ylabel('Count')\n",
    "plt.title('Sample count of Investment_id Distribution')\n",
    "plt.show()"
   ]
  },
  {
   "cell_type": "markdown",
   "id": "84e469b3",
   "metadata": {
    "papermill": {
     "duration": 0.034678,
     "end_time": "2022-02-16T14:22:32.342289",
     "exception": false,
     "start_time": "2022-02-16T14:22:32.307611",
     "status": "completed"
    },
    "tags": []
   },
   "source": [
    "- print 에서 따옴표는 조심해야 한다. 작은 따옴표(') 대신 큰 따옴표(\") 사용을 습관화하자"
   ]
  },
  {
   "cell_type": "markdown",
   "id": "989fbb82",
   "metadata": {
    "papermill": {
     "duration": 0.034472,
     "end_time": "2022-02-16T14:22:32.411528",
     "exception": false,
     "start_time": "2022-02-16T14:22:32.377056",
     "status": "completed"
    },
    "tags": []
   },
   "source": [
    "### Time_id Distribution\n",
    "> Now let us look at the count of samples in each time id"
   ]
  },
  {
   "cell_type": "code",
   "execution_count": 9,
   "id": "e3243532",
   "metadata": {
    "execution": {
     "iopub.execute_input": "2022-02-16T14:22:32.484684Z",
     "iopub.status.busy": "2022-02-16T14:22:32.483860Z",
     "iopub.status.idle": "2022-02-16T14:22:33.016722Z",
     "shell.execute_reply": "2022-02-16T14:22:33.016136Z",
     "shell.execute_reply.started": "2022-02-16T13:49:08.205571Z"
    },
    "papermill": {
     "duration": 0.570754,
     "end_time": "2022-02-16T14:22:33.016882",
     "exception": false,
     "start_time": "2022-02-16T14:22:32.446128",
     "status": "completed"
    },
    "tags": []
   },
   "outputs": [
    {
     "data": {
      "image/png": "[encoded data removed]",
      "text/plain": [
       "<Figure size 1224x720 with 2 Axes>"
      ]
     },
     "metadata": {},
     "output_type": "display_data"
    }
   ],
   "source": [
    "fig, ax = plt.subplots(2, 1, figsize = (17, 10))\n",
    "\n",
    "df_temp = df.iloc[:, 0:3]\n",
    "df_temp2 = df_temp.groupby('time_id')['investment_id'].count().reset_index().rename(columns = {'investment_id' : 'Sample_Count'})\n",
    "\n",
    "sns.distplot(x = df_temp2['Sample_Count'], ax = ax[0])\n",
    "sns.scatterplot(x = df_temp2['time_id'], y = df_temp2['Sample_Count'], ax = ax[1])\n",
    "\n",
    "ax[0].set_xlabel('Sample_Count')\n",
    "ax[1].set_xlabel('Time_ID')\n",
    "\n",
    "plt.show()"
   ]
  },
  {
   "cell_type": "code",
   "execution_count": 10,
   "id": "a8dc309b",
   "metadata": {
    "execution": {
     "iopub.execute_input": "2022-02-16T14:22:33.101945Z",
     "iopub.status.busy": "2022-02-16T14:22:33.101078Z",
     "iopub.status.idle": "2022-02-16T14:22:33.110250Z",
     "shell.execute_reply": "2022-02-16T14:22:33.111235Z",
     "shell.execute_reply.started": "2022-02-16T13:53:04.382248Z"
    },
    "papermill": {
     "duration": 0.057224,
     "end_time": "2022-02-16T14:22:33.111542",
     "exception": false,
     "start_time": "2022-02-16T14:22:33.054318",
     "status": "completed"
    },
    "tags": []
   },
   "outputs": [
    {
     "name": "stdout",
     "output_type": "stream",
     "text": [
      "Number of unique time_ids - 1211\n",
      "Time_id with least number of samples - 492, Count - 512\n",
      "Time_id with maximum number of samples - 1214, Count - 3445\n"
     ]
    }
   ],
   "source": [
    "least_id = int(df_temp2[df_temp2['Sample_Count'] == df_temp2['Sample_Count'].describe()['min']]['time_id'])\n",
    "max_id = int(df_temp2[df_temp2['Sample_Count'] == df_temp2['Sample_Count'].describe()['max']]['time_id'])\n",
    "\n",
    "print(f\"Number of unique time_ids - {len(df_temp2)}\")\n",
    "print(f\"Time_id with least number of samples - {least_id}, Count - {int(df_temp2['Sample_Count'].describe()['min'])}\")\n",
    "print(f\"Time_id with maximum number of samples - {max_id}, Count - {int(df_temp2['Sample_Count'].describe()['max'])}\")"
   ]
  },
  {
   "cell_type": "markdown",
   "id": "bcc4de46",
   "metadata": {
    "papermill": {
     "duration": 0.036801,
     "end_time": "2022-02-16T14:22:33.186489",
     "exception": false,
     "start_time": "2022-02-16T14:22:33.149688",
     "status": "completed"
    },
    "tags": []
   },
   "source": [
    "### Target Distribution\n",
    "> Then let's analysis the target distribution"
   ]
  },
  {
   "cell_type": "code",
   "execution_count": 11,
   "id": "b79c53b6",
   "metadata": {
    "execution": {
     "iopub.execute_input": "2022-02-16T14:22:33.264378Z",
     "iopub.status.busy": "2022-02-16T14:22:33.263329Z",
     "iopub.status.idle": "2022-02-16T14:22:58.058211Z",
     "shell.execute_reply": "2022-02-16T14:22:58.058716Z",
     "shell.execute_reply.started": "2022-02-16T13:59:37.060913Z"
    },
    "papermill": {
     "duration": 24.834745,
     "end_time": "2022-02-16T14:22:58.058921",
     "exception": false,
     "start_time": "2022-02-16T14:22:33.224176",
     "status": "completed"
    },
    "tags": []
   },
   "outputs": [
    {
     "name": "stdout",
     "output_type": "stream",
     "text": [
      "Mean of target - -0.021091585978865623\n",
      "Minimum value of target - -9.419646263122559\n",
      "Maximum value of target - 12.038613319396973\n"
     ]
    },
    {
     "data": {
      "image/png": "[encoded data removed]",
      "text/plain": [
       "<Figure size 1080x504 with 1 Axes>"
      ]
     },
     "metadata": {},
     "output_type": "display_data"
    }
   ],
   "source": [
    "plt.figure(figsize = (15, 7))\n",
    "\n",
    "sns.distplot(df['target'])\n",
    "plt.title('Target Distribution')\n",
    "\n",
    "print(f\"Mean of target - {df['target'].describe()['mean']}\")\n",
    "print(f\"Minimum value of target - {df['target'].describe()['min']}\")\n",
    "print(f\"Maximum value of target - {df['target'].describe()['max']}\")"
   ]
  },
  {
   "cell_type": "markdown",
   "id": "ce9e8cd6",
   "metadata": {
    "papermill": {
     "duration": 0.039787,
     "end_time": "2022-02-16T14:22:58.138026",
     "exception": false,
     "start_time": "2022-02-16T14:22:58.098239",
     "status": "completed"
    },
    "tags": []
   },
   "source": [
    "> The `target` is normally distribution with mean of -0.0210... Let us also look the most skewed `target` distribution categorized by `investment_id` ans `time_id` respectively"
   ]
  },
  {
   "cell_type": "code",
   "execution_count": 12,
   "id": "8d851ab6",
   "metadata": {
    "execution": {
     "iopub.execute_input": "2022-02-16T14:22:58.238016Z",
     "iopub.status.busy": "2022-02-16T14:22:58.225189Z",
     "iopub.status.idle": "2022-02-16T14:23:06.704061Z",
     "shell.execute_reply": "2022-02-16T14:23:06.703410Z",
     "shell.execute_reply.started": "2022-02-16T14:14:44.877578Z"
    },
    "papermill": {
     "duration": 8.526644,
     "end_time": "2022-02-16T14:23:06.704193",
     "exception": false,
     "start_time": "2022-02-16T14:22:58.177549",
     "status": "completed"
    },
    "tags": []
   },
   "outputs": [
    {
     "name": "stdout",
     "output_type": "stream",
     "text": [
      "Investment_IDs with most skewed target are - 1495, 2800\n",
      "Time_IDs with most skewed target are - 401, 951\n"
     ]
    },
    {
     "data": {
      "image/png": "[encoded data removed]",
      "text/plain": [
       "<Figure size 1440x720 with 4 Axes>"
      ]
     },
     "metadata": {},
     "output_type": "display_data"
    }
   ],
   "source": [
    "fig, ax = plt.subplots(2, 2, figsize = (20, 10))\n",
    "\n",
    "df_temp = df.iloc[:, 0:4]\n",
    "df_temp1 = df_temp.groupby('investment_id').skew()['target'].reset_index()\n",
    "id_1 = int(df_temp1[df_temp1['target'] == df_temp1['target'].describe()['max']]['investment_id'])\n",
    "id_2 = int(df_temp1[df_temp1['target'] == df_temp1['target'].describe()['min']]['investment_id'])\n",
    "\n",
    "select_1 = df_temp[df_temp['investment_id'] == id_1][['target']]\n",
    "select_2 = df_temp[df_temp['investment_id'] == id_2][['target']]\n",
    "sns.distplot(select_1['target'], ax = ax[0, 0])\n",
    "sns.distplot(select_2['target'], ax = ax[0, 1])\n",
    "print(f\"Investment_IDs with most skewed target are - {id_1}, {id_2}\")\n",
    "\n",
    "df_temp2 = df_temp.groupby('time_id').skew()['target'].reset_index()\n",
    "id_3 = int(df_temp2[df_temp2['target'] == df_temp2['target'].describe()['max']]['time_id'])\n",
    "id_4 = int(df_temp2[df_temp2['target'] == df_temp2['target'].describe()['min']]['time_id'])\n",
    "\n",
    "select_3 = df_temp[df_temp['time_id'] == id_3][['target']]\n",
    "select_4 = df_temp[df_temp['time_id'] == id_4][['target']]\n",
    "sns.distplot(select_3['target'], ax = ax[1, 0])\n",
    "sns.distplot(select_4['target'], ax = ax[1, 1])\n",
    "print(f\"Time_IDs with most skewed target are - {id_3}, {id_4}\")\n",
    "\n",
    "plt.show()"
   ]
  },
  {
   "cell_type": "markdown",
   "id": "e202ec8d",
   "metadata": {
    "papermill": {
     "duration": 0.04147,
     "end_time": "2022-02-16T14:23:06.787181",
     "exception": false,
     "start_time": "2022-02-16T14:23:06.745711",
     "status": "completed"
    },
    "tags": []
   },
   "source": [
    "### Time_id Categorized\n",
    "> I decided to group `time_id` into 5 different categories according to their range, i.e. {(~, 250), (251, 500), (501, 750), (751, 1000), (1000, ~)} to know better about data with time. We will check different things like how many sample counts, missing values per category are there, target distribution across each `time_id` range and later on feature distribution."
   ]
  },
  {
   "cell_type": "code",
   "execution_count": null,
   "id": "01e63685",
   "metadata": {
    "papermill": {
     "duration": 0.041035,
     "end_time": "2022-02-16T14:23:06.869785",
     "exception": false,
     "start_time": "2022-02-16T14:23:06.828750",
     "status": "completed"
    },
    "tags": []
   },
   "outputs": [],
   "source": []
  },
  {
   "cell_type": "code",
   "execution_count": null,
   "id": "522963bf",
   "metadata": {
    "papermill": {
     "duration": 0.040927,
     "end_time": "2022-02-16T14:23:06.952339",
     "exception": false,
     "start_time": "2022-02-16T14:23:06.911412",
     "status": "completed"
    },
    "tags": []
   },
   "outputs": [],
   "source": []
  },
  {
   "cell_type": "code",
   "execution_count": null,
   "id": "40dcfefb",
   "metadata": {
    "papermill": {
     "duration": 0.041182,
     "end_time": "2022-02-16T14:23:07.034935",
     "exception": false,
     "start_time": "2022-02-16T14:23:06.993753",
     "status": "completed"
    },
    "tags": []
   },
   "outputs": [],
   "source": []
  },
  {
   "cell_type": "code",
   "execution_count": null,
   "id": "92cfec13",
   "metadata": {
    "papermill": {
     "duration": 0.043301,
     "end_time": "2022-02-16T14:23:07.120060",
     "exception": false,
     "start_time": "2022-02-16T14:23:07.076759",
     "status": "completed"
    },
    "tags": []
   },
   "outputs": [],
   "source": []
  },
  {
   "cell_type": "code",
   "execution_count": null,
   "id": "f724c346",
   "metadata": {
    "papermill": {
     "duration": 0.028474,
     "end_time": "2022-02-16T14:23:07.176978",
     "exception": false,
     "start_time": "2022-02-16T14:23:07.148504",
     "status": "completed"
    },
    "tags": []
   },
   "outputs": [],
   "source": []
  },
  {
   "cell_type": "code",
   "execution_count": null,
   "id": "039c3ea8",
   "metadata": {
    "papermill": {
     "duration": 0.027768,
     "end_time": "2022-02-16T14:23:07.232859",
     "exception": false,
     "start_time": "2022-02-16T14:23:07.205091",
     "status": "completed"
    },
    "tags": []
   },
   "outputs": [],
   "source": []
  },
  {
   "cell_type": "code",
   "execution_count": null,
   "id": "9211f175",
   "metadata": {
    "papermill": {
     "duration": 0.02864,
     "end_time": "2022-02-16T14:23:07.289903",
     "exception": false,
     "start_time": "2022-02-16T14:23:07.261263",
     "status": "completed"
    },
    "tags": []
   },
   "outputs": [],
   "source": []
  },
  {
   "cell_type": "code",
   "execution_count": null,
   "id": "5eb6b29a",
   "metadata": {
    "papermill": {
     "duration": 0.028189,
     "end_time": "2022-02-16T14:23:07.346766",
     "exception": false,
     "start_time": "2022-02-16T14:23:07.318577",
     "status": "completed"
    },
    "tags": []
   },
   "outputs": [],
   "source": []
  },
  {
   "cell_type": "code",
   "execution_count": null,
   "id": "73730605",
   "metadata": {
    "papermill": {
     "duration": 0.028312,
     "end_time": "2022-02-16T14:23:07.403552",
     "exception": false,
     "start_time": "2022-02-16T14:23:07.375240",
     "status": "completed"
    },
    "tags": []
   },
   "outputs": [],
   "source": []
  },
  {
   "cell_type": "code",
   "execution_count": null,
   "id": "967a7721",
   "metadata": {
    "papermill": {
     "duration": 0.028406,
     "end_time": "2022-02-16T14:23:07.460708",
     "exception": false,
     "start_time": "2022-02-16T14:23:07.432302",
     "status": "completed"
    },
    "tags": []
   },
   "outputs": [],
   "source": []
  },
  {
   "cell_type": "code",
   "execution_count": null,
   "id": "b4087357",
   "metadata": {
    "papermill": {
     "duration": 0.041162,
     "end_time": "2022-02-16T14:23:07.538234",
     "exception": false,
     "start_time": "2022-02-16T14:23:07.497072",
     "status": "completed"
    },
    "tags": []
   },
   "outputs": [],
   "source": []
  },
  {
   "cell_type": "code",
   "execution_count": null,
   "id": "e614d78b",
   "metadata": {
    "papermill": {
     "duration": 0.042051,
     "end_time": "2022-02-16T14:23:07.621993",
     "exception": false,
     "start_time": "2022-02-16T14:23:07.579942",
     "status": "completed"
    },
    "tags": []
   },
   "outputs": [],
   "source": []
  },
  {
   "cell_type": "code",
   "execution_count": null,
   "id": "2f932418",
   "metadata": {
    "papermill": {
     "duration": 0.042545,
     "end_time": "2022-02-16T14:23:07.706507",
     "exception": false,
     "start_time": "2022-02-16T14:23:07.663962",
     "status": "completed"
    },
    "tags": []
   },
   "outputs": [],
   "source": []
  },
  {
   "cell_type": "code",
   "execution_count": null,
   "id": "bb1f94fd",
   "metadata": {
    "papermill": {
     "duration": 0.041027,
     "end_time": "2022-02-16T14:23:07.788576",
     "exception": false,
     "start_time": "2022-02-16T14:23:07.747549",
     "status": "completed"
    },
    "tags": []
   },
   "outputs": [],
   "source": []
  },
  {
   "cell_type": "code",
   "execution_count": null,
   "id": "cb853f39",
   "metadata": {
    "papermill": {
     "duration": 0.041065,
     "end_time": "2022-02-16T14:23:07.871446",
     "exception": false,
     "start_time": "2022-02-16T14:23:07.830381",
     "status": "completed"
    },
    "tags": []
   },
   "outputs": [],
   "source": []
  }
 ],
 "metadata": {
  "kernelspec": {
   "display_name": "Python 3",
   "language": "python",
   "name": "python3"
  },
  "language_info": {
   "codemirror_mode": {
    "name": "ipython",
    "version": 3
   },
   "file_extension": ".py",
   "mimetype": "text/x-python",
   "name": "python",
   "nbconvert_exporter": "python",
   "pygments_lexer": "ipython3",
   "version": "3.7.12"
  },
  "papermill": {
   "default_parameters": {},
   "duration": 105.007084,
   "end_time": "2022-02-16T14:23:08.924068",
   "environment_variables": {},
   "exception": null,
   "input_path": "__notebook__.ipynb",
   "output_path": "__notebook__.ipynb",
   "parameters": {},
   "start_time": "2022-02-16T14:21:23.916984",
   "version": "2.3.3"
  }
 },
 "nbformat": 4,
 "nbformat_minor": 5
}
